{
 "cells": [
  {
   "cell_type": "markdown",
   "id": "6cf7cd0d",
   "metadata": {},
   "source": [
    "\n",
    "### 중간고사 기말고사 점수를 따로 받아 저장하는 클래스를 구현해보세요.\n",
    "\n",
    "* 단, 생성자의 인스턴스는 private으로 선언되어야하며, 데코레이터를 이용해 데이터를 저장하고, 함수를 이용해 평균값을 출력해보세요.\n",
    "- 자료형의 선언과 데코레이터를 이용해보세요.\n"
   ]
  },
  {
   "cell_type": "code",
   "execution_count": 1,
   "id": "5bd68bd4",
   "metadata": {
    "ExecuteTime": {
     "end_time": "2023-01-31T06:49:52.570711Z",
     "start_time": "2023-01-31T06:49:52.553693Z"
    }
   },
   "outputs": [
    {
     "name": "stdout",
     "output_type": "stream",
     "text": [
      "62.5\n"
     ]
    }
   ],
   "source": [
    "class Score():\n",
    "    def __init__(self, mid, final):\n",
    "        self.mid = mid\n",
    "        self.final = final\n",
    "       \n",
    "score = Score(50,75)\n",
    "print((score.mid+score.final)/2)"
   ]
  },
  {
   "cell_type": "markdown",
   "id": "6fdc8bf3",
   "metadata": {},
   "source": [
    "### 다양한 탈 것을 사용하는 게임을 만드는 중입니다. 빠른 구현을 위해서 이미 구현한 Car 클래스를 이용해서 Bike라는 클래스를 새로 제작하려고 합니다. Car 클래스를 상속받아서 새로운 Bike 클래스를 아래와 같이 출력되도록 구성해보세요.\n"
   ]
  },
  {
   "cell_type": "code",
   "execution_count": 3,
   "id": "2078a414",
   "metadata": {
    "ExecuteTime": {
     "end_time": "2023-01-31T06:50:04.358347Z",
     "start_time": "2023-01-31T06:50:04.342168Z"
    }
   },
   "outputs": [
    {
     "name": "stdout",
     "output_type": "stream",
     "text": [
      "gas 2 small\n"
     ]
    }
   ],
   "source": [
    "class Car():\n",
    "    def __init__(self, fuel, wheels):\n",
    "        self.fuel = fuel\n",
    "        self.wheels = wheels\n",
    "        \n",
    "class Bike(Car):\n",
    "    def __init__(self, fuel, wheels, size):\n",
    "        super().__init__(fuel, wheels)\n",
    "        self.size = size\n",
    "    \n",
    "bike = Bike(\"gas\",2,\"small\")\n",
    "print(bike.fuel, bike.wheels, bike.size)"
   ]
  },
  {
   "cell_type": "markdown",
   "id": "f05d3eb7",
   "metadata": {},
   "source": [
    "### 이번 시험 결과에 대한 데이터를 학과 사무실에서 CSV파일로 전달해줬습니다. 우리는 이 파일을 이용해서 데이터 처리를 진행해야 합니다. 파일 입출력을 이용해 파일 데이터를 리스트로 만들어보세요."
   ]
  },
  {
   "cell_type": "code",
   "execution_count": 13,
   "id": "794daa4e",
   "metadata": {
    "ExecuteTime": {
     "end_time": "2023-01-31T07:24:13.913580Z",
     "start_time": "2023-01-31T07:24:13.891929Z"
    }
   },
   "outputs": [
    {
     "name": "stdout",
     "output_type": "stream",
     "text": [
      "[['73', '80', '75', '152'], ['93', '88', '93', '185'], ['89', '91', '90', '180'], ['96', '98', '100', '196'], ['73', '66', '70', '142'], ['53', '46', '55', '101'], ['69', '74', '77', '149'], ['47', '56', '60', '115'], ['87', '79', '90', '175'], ['79', '70', '88', '164'], ['69', '70', '73', '141'], ['70', '65', '74', '141'], ['93', '95', '91', '184'], ['79', '80', '73', '152'], ['70', '73', '78', '148'], ['93', '89', '96', '192'], ['78', '75', '68', '147'], ['81', '90', '93', '183'], ['88', '92', '86', '177'], ['78', '83', '77', '159'], ['82', '86', '90', '177'], ['86', '82', '89', '175'], ['78', '83', '85', '175'], ['76', '83', '71', '149'], ['96', '93', '95', '192']]\n"
     ]
    }
   ],
   "source": [
    "import csv\n",
    "def read_file():\n",
    "    answer_list = []\n",
    "    with open(\"c:/data/data-01-test-score.csv\",\"r\") as f:\n",
    "        frame = csv.reader(f)\n",
    "        for line in frame:\n",
    "            answer_list.append(line)\n",
    "    return(answer_list)\n",
    "\n",
    "print(read_file())"
   ]
  },
  {
   "cell_type": "markdown",
   "id": "b2b9962b",
   "metadata": {},
   "source": [
    "### 우리는 방금 CSV 파일을 읽는 함수를 구현해보았습니다. 하지만 이를 조금 더 효율적으로 사용하기 위해서 클래스로 구성을 진행하려고 합니다. 방금 구현한 함수를 포함한 클래스를 구현해보세요."
   ]
  },
  {
   "cell_type": "code",
   "execution_count": 14,
   "id": "a512f843",
   "metadata": {
    "ExecuteTime": {
     "end_time": "2023-01-31T07:24:16.605570Z",
     "start_time": "2023-01-31T07:24:16.594540Z"
    }
   },
   "outputs": [
    {
     "name": "stdout",
     "output_type": "stream",
     "text": [
      "[[73, 80, 75, 152], [93, 88, 93, 185], [89, 91, 90, 180], [96, 98, 100, 196], [73, 66, 70, 142], [53, 46, 55, 101], [69, 74, 77, 149], [47, 56, 60, 115], [87, 79, 90, 175], [79, 70, 88, 164], [69, 70, 73, 141], [70, 65, 74, 141], [93, 95, 91, 184], [79, 80, 73, 152], [70, 73, 78, 148], [93, 89, 96, 192], [78, 75, 68, 147], [81, 90, 93, 183], [88, 92, 86, 177], [78, 83, 77, 159], [82, 86, 90, 177], [86, 82, 89, 175], [78, 83, 85, 175], [76, 83, 71, 149], [96, 93, 95, 192]]\n",
      "[380, 459, 450, 490, 351, 255, 369, 278, 431, 401, 353, 350, 463, 384, 369, 470, 368, 447, 443, 397, 435, 432, 421, 379, 476]\n"
     ]
    }
   ],
   "source": [
    "file_path = \"c:/data/data-01-test-score.csv\"\n",
    "\n",
    "class ReadCSV():\n",
    "    def __init__(self, file_path):\n",
    "        self.file_path = file_path\n",
    "    \n",
    "    def read_file(self):\n",
    "        file = open(file_path,\"r\")\n",
    "        answer_list = [line.rstrip() for line in file]\n",
    "        \n",
    "        for i in range(len(answer_list)):\n",
    "            answer_list[i] = answer_list[i].split(',')\n",
    "            for j in range(0,4):\n",
    "                answer_list[i][j] = eval(answer_list[i][j])\n",
    "                \n",
    "        return answer_list\n",
    "\n",
    "    def merge_list(self):\n",
    "        file = open(file_path,\"r\")\n",
    "        answer_list = [line.rstrip() for line in file]\n",
    "        \n",
    "        for i in range(len(answer_list)):\n",
    "            answer_list[i] = answer_list[i].split(',')\n",
    "            for j in range(0,4):\n",
    "                answer_list[i][j] = eval(answer_list[i][j])\n",
    "            \n",
    "        merge_list = [sum(j) for j in answer_list]\n",
    "        \n",
    "        return merge_list\n",
    "\n",
    "read_csv = ReadCSV(file_path)\n",
    "print(read_csv.read_file())\n",
    "print(read_csv.merge_list())"
   ]
  },
  {
   "cell_type": "markdown",
   "id": "ffd1339d",
   "metadata": {},
   "source": [
    "### 이전에 구현한 클래스에서 merge_list의 함수 동작을 변경해야합니다. 단순합계가 아닌 평균을 구하는 함수로 변경해보세요."
   ]
  },
  {
   "cell_type": "code",
   "execution_count": 15,
   "id": "507a7baf",
   "metadata": {
    "ExecuteTime": {
     "end_time": "2023-01-31T07:24:38.023286Z",
     "start_time": "2023-01-31T07:24:38.010290Z"
    }
   },
   "outputs": [
    {
     "name": "stdout",
     "output_type": "stream",
     "text": [
      "[63.75, 69.5, 87.5, 87.75, 88.25, 92.0, 92.25, 92.25, 94.75, 95.0, 96.0, 99.25, 100.25, 105.25, 107.75, 108.0, 108.75, 110.75, 111.75, 112.5, 114.75, 115.75, 117.5, 119.0, 122.5]\n"
     ]
    }
   ],
   "source": [
    "file_path = \"c:/data/data-01-test-score.csv\"\n",
    "\n",
    "class ReadCSV():\n",
    "    def __init__(self, file_path):\n",
    "        self.file_path = file_path\n",
    "    \n",
    "    def read_file(self):\n",
    "        file = open(file_path,\"r\")\n",
    "        answer_list = [line.rstrip() for line in file]\n",
    "        \n",
    "        for i in range(len(answer_list)):\n",
    "            answer_list[i] = answer_list[i].split(',')\n",
    "            for j in range(0,4):\n",
    "                answer_list[i][j] = eval(answer_list[i][j])\n",
    "        \n",
    "        return answer_list\n",
    "\n",
    "    def merge_list(self):\n",
    "        file = open(file_path,\"r\")\n",
    "        answer_list = [line.rstrip() for line in file]\n",
    "        \n",
    "        for i in range(len(answer_list)):\n",
    "            answer_list[i] = answer_list[i].split(',')\n",
    "            for j in range(0,4):\n",
    "                answer_list[i][j] = eval(answer_list[i][j])\n",
    "            \n",
    "        merge_list = sorted([(sum(j))/len(j) for j in answer_list])\n",
    "        \n",
    "        return merge_list\n",
    "\n",
    "read_csv = ReadCSV(file_path)\n",
    "print(read_csv.merge_list())"
   ]
  }
 ],
 "metadata": {
  "hide_input": false,
  "kernelspec": {
   "display_name": "Python 3 (ipykernel)",
   "language": "python",
   "name": "python3"
  },
  "language_info": {
   "codemirror_mode": {
    "name": "ipython",
    "version": 3
   },
   "file_extension": ".py",
   "mimetype": "text/x-python",
   "name": "python",
   "nbconvert_exporter": "python",
   "pygments_lexer": "ipython3",
   "version": "3.8.15"
  },
  "toc": {
   "base_numbering": 1,
   "nav_menu": {},
   "number_sections": true,
   "sideBar": true,
   "skip_h1_title": false,
   "title_cell": "Table of Contents",
   "title_sidebar": "Contents",
   "toc_cell": false,
   "toc_position": {},
   "toc_section_display": true,
   "toc_window_display": false
  },
  "varInspector": {
   "cols": {
    "lenName": 16,
    "lenType": 16,
    "lenVar": 40
   },
   "kernels_config": {
    "python": {
     "delete_cmd_postfix": "",
     "delete_cmd_prefix": "del ",
     "library": "var_list.py",
     "varRefreshCmd": "print(var_dic_list())"
    },
    "r": {
     "delete_cmd_postfix": ") ",
     "delete_cmd_prefix": "rm(",
     "library": "var_list.r",
     "varRefreshCmd": "cat(var_dic_list()) "
    }
   },
   "types_to_exclude": [
    "module",
    "function",
    "builtin_function_or_method",
    "instance",
    "_Feature"
   ],
   "window_display": false
  }
 },
 "nbformat": 4,
 "nbformat_minor": 5
}
