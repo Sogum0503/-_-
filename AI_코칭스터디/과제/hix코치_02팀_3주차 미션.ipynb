{
 "cells": [
  {
   "cell_type": "markdown",
   "id": "4e6f7207",
   "metadata": {},
   "source": [
    "### ****본격적으로 Numpy와 친해지기 위해서 다양한 연산을 연습해볼 예정입니다. 무작위의 데이터를 가 진 5x3의 행렬을 가지는 numpy array와 3x2 행렬을 가지는 numpy array를 만든 후 행열곱 연산을 진행해보세요.****"
   ]
  },
  {
   "cell_type": "code",
   "execution_count": 17,
   "id": "1bd5cb32",
   "metadata": {
    "ExecuteTime": {
     "end_time": "2023-02-07T13:36:52.375868Z",
     "start_time": "2023-02-07T13:36:52.353859Z"
    }
   },
   "outputs": [
    {
     "name": "stdout",
     "output_type": "stream",
     "text": [
      "[[0.68389804 0.71027963]\n",
      " [1.28724194 0.97666433]\n",
      " [0.54624578 0.70209574]\n",
      " [0.55928879 0.33729018]\n",
      " [0.38309739 0.65915864]] (5, 2)\n"
     ]
    }
   ],
   "source": [
    "import numpy as np \n",
    "\n",
    "# 행렬 생성\n",
    "array_1 = np.random.rand(5,3) # 5 * 3 \n",
    "array_2 = np.random.rand(3,2) # 3 * 2\n",
    "\n",
    "# 행렬곱 연산\n",
    "dot = np.dot(array_1, array_2) \n",
    "\n",
    "print(dot, dot.shape)"
   ]
  },
  {
   "cell_type": "markdown",
   "id": "423de1c9",
   "metadata": {},
   "source": [
    "### 두번째로는 numpy에서 자주 사용하는 concatenate 연산에 대한 미션을 수행해보겠습니다. 이제 Numpy에서 사용하는 2개의 numpy array가 있을때, 두 numpy array의 concatenate 연산을 구해보세요."
   ]
  },
  {
   "cell_type": "code",
   "execution_count": 18,
   "id": "0cc72dcd",
   "metadata": {
    "ExecuteTime": {
     "end_time": "2023-02-07T13:36:54.195859Z",
     "start_time": "2023-02-07T13:36:54.177854Z"
    }
   },
   "outputs": [
    {
     "name": "stdout",
     "output_type": "stream",
     "text": [
      "[[ 5.  7.]\n",
      " [ 9. 11.]\n",
      " [ 2.  4.]\n",
      " [ 6.  8.]]\n",
      "[[ 5.  7.  2.  4.]\n",
      " [ 9. 11.  6.  8.]]\n"
     ]
    }
   ],
   "source": [
    "import numpy as np\n",
    "\n",
    "arr1 = np.array([[5, 7], [9, 11]], float)\n",
    "arr2 = np.array([[2, 4], [6, 8]], float)\n",
    "\n",
    "concat_1 = np.concatenate((arr1, arr2), axis=0)\n",
    "concat_2 = np.concatenate((arr1, arr2), axis=1)\n",
    "\n",
    "print(concat_1)\n",
    "print(concat_2)"
   ]
  },
  {
   "cell_type": "markdown",
   "id": "0cd715f6",
   "metadata": {},
   "source": [
    "### 3번부터 5번까지의 미션는 Numpy를 이용해서 정답값을 예측해보는 linear regression을 구현해 보는 미션입니다. 첫번째 단계로 데이터를 준비해보도록 하겠습니다. 아래와 같이 데이터가 주어져있을 때, 경사하강법을 위한 데이터를 분리해보세요."
   ]
  },
  {
   "cell_type": "code",
   "execution_count": 19,
   "id": "fcb9c1ef",
   "metadata": {
    "ExecuteTime": {
     "end_time": "2023-02-07T13:36:56.579322Z",
     "start_time": "2023-02-07T13:36:56.555329Z"
    }
   },
   "outputs": [
    {
     "name": "stdout",
     "output_type": "stream",
     "text": [
      "[1. 2. 3. 4. 5. 6.] (6,)\n",
      "[10. 20. 30. 40. 50. 60.] (6,)\n"
     ]
    }
   ],
   "source": [
    "import numpy as np\n",
    "\n",
    "xy = np.array([[1.,2.,3.,4.,5.,6.],[10.,20.,30.,40.,50.,60.]])\n",
    "\n",
    "x_train = xy[0,:]\n",
    "y_train = xy[1,:]\n",
    "\n",
    "print(x_train, x_train.shape)\n",
    "print(y_train, y_train.shape)"
   ]
  },
  {
   "cell_type": "markdown",
   "id": "f52d6a67",
   "metadata": {},
   "source": [
    "### 경사 하강법 구현을 위해서 위에서 분리한 x_train 데이터와 계산될 weight, bias 값을 정의해보세요. 여기서 구현한 weight와 bias 는 linear regression 계산을 진행할시 직선의 기울기와 y 절편의 값이 됩니다."
   ]
  },
  {
   "cell_type": "code",
   "execution_count": 20,
   "id": "363f08d0",
   "metadata": {
    "ExecuteTime": {
     "end_time": "2023-02-07T13:36:58.185233Z",
     "start_time": "2023-02-07T13:36:58.163239Z"
    }
   },
   "outputs": [
    {
     "name": "stdout",
     "output_type": "stream",
     "text": [
      "[0.98106089] [0.81797436]\n"
     ]
    }
   ],
   "source": [
    "beta_gd = np.random.rand(1)\n",
    "bias = np.random.rand(1)\n",
    "\n",
    "print(beta_gd, bias)"
   ]
  },
  {
   "cell_type": "markdown",
   "id": "cfa25278",
   "metadata": {},
   "source": [
    "### ### **이제 최종적으로 linear regression을 경사하강법으로 학습하는 코드를 구현해봅시다. 경사하강법 구현을 위한 학습 Loop를 구현해보세요. 최종적으로 1000회 반복했을 시에 결과를 출력하세요.**\n",
    "\n",
    "- 단, Error는 차이의 제곱을 이용해서 계산해주세요.\n",
    "- Gradient 값은 우리가 예측하는 각 변수에 대한 미분값입니다."
   ]
  },
  {
   "cell_type": "code",
   "execution_count": 21,
   "id": "87e9b424",
   "metadata": {
    "ExecuteTime": {
     "end_time": "2023-02-07T13:37:00.839307Z",
     "start_time": "2023-02-07T13:36:59.727764Z"
    }
   },
   "outputs": [
    {
     "name": "stdout",
     "output_type": "stream",
     "text": [
      "Epoch (         0/1000) error: 115.298016, beta_gd: 0.219901163683956, bias:0.0993934226283902\n",
      "Epoch (       100/1000) error: 115.298015634257, beta_gd: 0.219901163683956, bias:0.0993934226283902\n",
      "Epoch (       200/1000) error: 115.298015634257, beta_gd: 0.219901163683956, bias:0.0993934226283902\n",
      "Epoch (       300/1000) error: 115.298015634257, beta_gd: 0.219901163683956, bias:0.0993934226283902\n",
      "Epoch (       400/1000) error: 115.298015634257, beta_gd: 0.219901163683956, bias:0.0993934226283902\n",
      "Epoch (       500/1000) error: 115.298015634257, beta_gd: 0.219901163683956, bias:0.0993934226283902\n",
      "Epoch (       600/1000) error: 115.298015634257, beta_gd: 0.219901163683956, bias:0.0993934226283902\n",
      "Epoch (       700/1000) error: 115.298015634257, beta_gd: 0.219901163683956, bias:0.0993934226283902\n",
      "Epoch (       800/1000) error: 115.298015634257, beta_gd: 0.219901163683956, bias:0.0993934226283902\n",
      "Epoch (       900/1000) error: 115.298015634257, beta_gd: 0.219901163683956, bias:0.0993934226283902\n"
     ]
    }
   ],
   "source": [
    "import numpy as np\n",
    "import sympy as sym\n",
    "\n",
    "xy = np.array([[1.,2.,3.,4.,5.,6.],[3.,6.,9.,12.,15.,18.]])\n",
    "\n",
    "x_train = xy[0,:]\n",
    "y_train = xy[1,:]\n",
    "\n",
    "beta_gd = np.random.rand(1)\n",
    "bias = np.random.rand(1)\n",
    "\n",
    "learning_rate = 0.01\n",
    "\n",
    "for i in range(1000):\n",
    "    func = beta_gd * x_train + bias\n",
    "    error = ((func - y_train)**2).mean()\n",
    "    w_grad = sym.diff(error, beta_gd)\n",
    "    b_grad = sym.diff(error, bias)\n",
    "    beta_gd = beta_gd - learning_rate * w_grad\n",
    "    bias = bias - learning_rate * b_grad\n",
    "    \n",
    "    if i%100 == 0:\n",
    "        print('Epoch ({:10d}/1000) error: {:10f}, beta_gd: {:10f}, bias:{:10f}'.format(i, error, beta_gd.item(), bias.item()))"
   ]
  }
 ],
 "metadata": {
  "hide_input": false,
  "kernelspec": {
   "display_name": "Python 3 (ipykernel)",
   "language": "python",
   "name": "python3"
  },
  "language_info": {
   "codemirror_mode": {
    "name": "ipython",
    "version": 3
   },
   "file_extension": ".py",
   "mimetype": "text/x-python",
   "name": "python",
   "nbconvert_exporter": "python",
   "pygments_lexer": "ipython3",
   "version": "3.8.15"
  },
  "toc": {
   "base_numbering": 1,
   "nav_menu": {},
   "number_sections": true,
   "sideBar": true,
   "skip_h1_title": false,
   "title_cell": "Table of Contents",
   "title_sidebar": "Contents",
   "toc_cell": false,
   "toc_position": {},
   "toc_section_display": true,
   "toc_window_display": false
  },
  "varInspector": {
   "cols": {
    "lenName": 16,
    "lenType": 16,
    "lenVar": 40
   },
   "kernels_config": {
    "python": {
     "delete_cmd_postfix": "",
     "delete_cmd_prefix": "del ",
     "library": "var_list.py",
     "varRefreshCmd": "print(var_dic_list())"
    },
    "r": {
     "delete_cmd_postfix": ") ",
     "delete_cmd_prefix": "rm(",
     "library": "var_list.r",
     "varRefreshCmd": "cat(var_dic_list()) "
    }
   },
   "types_to_exclude": [
    "module",
    "function",
    "builtin_function_or_method",
    "instance",
    "_Feature"
   ],
   "window_display": false
  }
 },
 "nbformat": 4,
 "nbformat_minor": 5
}
