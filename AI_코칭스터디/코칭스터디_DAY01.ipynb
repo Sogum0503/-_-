{
 "cells": [
  {
   "cell_type": "markdown",
   "id": "24cb084f",
   "metadata": {
    "heading_collapsed": true
   },
   "source": [
    "# 변수의 개요\n",
    "\n",
    "**변수 개요**\n",
    "* 가장 기초적인 프로그래밍 문법 개념\n",
    "* 데이터를 저장하기 위한 메모리 공간의 프로그래밍상 이름\n",
    "- 선언 되는 순간 메모리 특정영역에 물리적인 공간이 할당됨\n",
    "- 변수에는 값이 할당되고 해당 값은 메모리에 저장됨 \n",
    "\n",
    "---------------------------------------------\n",
    "\n",
    "**변수명**\n",
    "- 알파벳, 숫자, 언더스코어로 선언 가능 \n",
    "- 변수명은 의미있는 단어로 표기하는 것이 좋다\n",
    "- 변수명은 대소문자가 구분 된다\n",
    "- 특별한 의미가 있는 예약어는 쓰지 않는다. \n",
    "    - for, if, else.... \n"
   ]
  },
  {
   "cell_type": "markdown",
   "id": "9a057588",
   "metadata": {
    "heading_collapsed": true
   },
   "source": [
    "# 리스트\n",
    "- 시퀀스 자료형, 여러 데이터들의 집합\n",
    "- int, float과 같은 다양한 데이터 타입을 포함함 "
   ]
  },
  {
   "cell_type": "markdown",
   "id": "d0b27edd",
   "metadata": {
    "heading_collapsed": true,
    "hidden": true
   },
   "source": [
    "## 리스트의 특징 \n",
    "- **인덱싱**\n",
    "    - list에 있는 값들을 주소(offset)를 가짐 \n",
    "    - 주소를 사용해 할당된 값을 호출함 \n",
    "  \n",
    "  \n",
    "- 슬라이싱\n",
    "- 리스트 연선\n",
    "- 추가 삭제\n",
    "- 메몰 ㅣ저장 방식 \n",
    "- 다양한 data type이 하나의 list에 들어간"
   ]
  },
  {
   "cell_type": "code",
   "execution_count": 12,
   "id": "21b8ae1b",
   "metadata": {
    "ExecuteTime": {
     "end_time": "2023-01-12T08:34:01.432373Z",
     "start_time": "2023-01-12T08:34:01.411458Z"
    },
    "hidden": true
   },
   "outputs": [
    {
     "data": {
      "text/plain": [
       "'blue'"
      ]
     },
     "execution_count": 12,
     "metadata": {},
     "output_type": "execute_result"
    }
   ],
   "source": [
    "# 인덱싱 \n",
    "colors = [\"red\",\"blue\",'green','yellow']\n",
    "colors[1]"
   ]
  },
  {
   "cell_type": "code",
   "execution_count": 18,
   "id": "663c063b",
   "metadata": {
    "ExecuteTime": {
     "end_time": "2023-01-12T08:34:28.373511Z",
     "start_time": "2023-01-12T08:34:28.362507Z"
    },
    "hidden": true
   },
   "outputs": [
    {
     "data": {
      "text/plain": [
       "['red', 'blue', 'green']"
      ]
     },
     "execution_count": 18,
     "metadata": {},
     "output_type": "execute_result"
    }
   ],
   "source": [
    "# 슬라이싱\n",
    "colors[:-1]"
   ]
  },
  {
   "cell_type": "code",
   "execution_count": 29,
   "id": "0af36c81",
   "metadata": {
    "ExecuteTime": {
     "end_time": "2023-01-12T08:36:33.100595Z",
     "start_time": "2023-01-12T08:36:33.089603Z"
    },
    "hidden": true
   },
   "outputs": [
    {
     "name": "stdout",
     "output_type": "stream",
     "text": [
      "['red', 'green'] AND ['yellow', 'green', 'blue', 'red']\n"
     ]
    }
   ],
   "source": [
    "print(colors[::2] ,\"AND\" , colors[::-1]) # 2칸 단위로, 역 순으로 슬라이싱 "
   ]
  },
  {
   "cell_type": "code",
   "execution_count": 34,
   "id": "4a494cda",
   "metadata": {
    "ExecuteTime": {
     "end_time": "2023-01-12T08:40:07.743141Z",
     "start_time": "2023-01-12T08:40:07.731137Z"
    },
    "hidden": true
   },
   "outputs": [
    {
     "data": {
      "text/plain": [
       "True"
      ]
     },
     "execution_count": 34,
     "metadata": {},
     "output_type": "execute_result"
    }
   ],
   "source": [
    "# 리스트 내에 어떠한게 있는지 출력\n",
    "\"blue\" in colors"
   ]
  },
  {
   "cell_type": "code",
   "execution_count": 33,
   "id": "13aa6276",
   "metadata": {
    "ExecuteTime": {
     "end_time": "2023-01-12T08:39:56.596447Z",
     "start_time": "2023-01-12T08:39:56.572441Z"
    },
    "hidden": true
   },
   "outputs": [
    {
     "data": {
      "text/plain": [
       "['red', 'blue', 'green', 'yellow', 'red', 'blue', 'green', 'yellow']"
      ]
     },
     "execution_count": 33,
     "metadata": {},
     "output_type": "execute_result"
    }
   ],
   "source": [
    "# 리스트가 2번 반복됨 \n",
    "colors * 2 "
   ]
  },
  {
   "cell_type": "code",
   "execution_count": 35,
   "id": "b780cdda",
   "metadata": {
    "ExecuteTime": {
     "end_time": "2023-01-12T08:40:16.000270Z",
     "start_time": "2023-01-12T08:40:15.992267Z"
    },
    "hidden": true
   },
   "outputs": [],
   "source": [
    "# 새로운 값을 추가하기 \n",
    "colors.append(\"white\")"
   ]
  },
  {
   "cell_type": "code",
   "execution_count": 40,
   "id": "a704fe5a",
   "metadata": {
    "ExecuteTime": {
     "end_time": "2023-01-12T08:40:50.387131Z",
     "start_time": "2023-01-12T08:40:50.374124Z"
    },
    "hidden": true,
    "scrolled": true
   },
   "outputs": [
    {
     "data": {
      "text/plain": [
       "['red',\n",
       " 'blue',\n",
       " 'green',\n",
       " 'yellow',\n",
       " 'white',\n",
       " 'black',\n",
       " 'purple',\n",
       " 'black',\n",
       " 'purple',\n",
       " 'black',\n",
       " 'purple',\n",
       " 'black',\n",
       " 'purple',\n",
       " 'black',\n",
       " 'purple']"
      ]
     },
     "execution_count": 40,
     "metadata": {},
     "output_type": "execute_result"
    }
   ],
   "source": [
    "# 새로운 리스트를 합쳐주기\n",
    "colors.extend([\"black\",\"purple\"])\n",
    "colors"
   ]
  },
  {
   "cell_type": "code",
   "execution_count": 42,
   "id": "f95fa558",
   "metadata": {
    "ExecuteTime": {
     "end_time": "2023-01-12T08:41:30.441115Z",
     "start_time": "2023-01-12T08:41:30.399120Z"
    },
    "hidden": true
   },
   "outputs": [
    {
     "ename": "ValueError",
     "evalue": "list.remove(x): x not in list",
     "output_type": "error",
     "traceback": [
      "\u001b[1;31m---------------------------------------------------------------------------\u001b[0m",
      "\u001b[1;31mValueError\u001b[0m                                Traceback (most recent call last)",
      "Cell \u001b[1;32mIn[42], line 2\u001b[0m\n\u001b[0;32m      1\u001b[0m \u001b[38;5;66;03m# 특정한 값 삭제하기\u001b[39;00m\n\u001b[1;32m----> 2\u001b[0m \u001b[43mcolors\u001b[49m\u001b[38;5;241;43m.\u001b[39;49m\u001b[43mremove\u001b[49m\u001b[43m(\u001b[49m\u001b[38;5;124;43m\"\u001b[39;49m\u001b[38;5;124;43mwhite\u001b[39;49m\u001b[38;5;124;43m\"\u001b[39;49m\u001b[43m)\u001b[49m\n\u001b[0;32m      3\u001b[0m colors\n",
      "\u001b[1;31mValueError\u001b[0m: list.remove(x): x not in list"
     ]
    }
   ],
   "source": [
    "# 특정한 값 삭제하기\n",
    "colors.remove(\"white\")\n",
    "colors"
   ]
  },
  {
   "cell_type": "code",
   "execution_count": 46,
   "id": "cbcc3f69",
   "metadata": {
    "ExecuteTime": {
     "end_time": "2023-01-12T08:41:59.745403Z",
     "start_time": "2023-01-12T08:41:59.734096Z"
    },
    "hidden": true
   },
   "outputs": [],
   "source": [
    "# 특정한 값 삭제하기\n",
    "del colors[0]"
   ]
  },
  {
   "cell_type": "code",
   "execution_count": 48,
   "id": "7eb918de",
   "metadata": {
    "ExecuteTime": {
     "end_time": "2023-01-12T08:42:50.014025Z",
     "start_time": "2023-01-12T08:42:49.989027Z"
    },
    "hidden": true
   },
   "outputs": [
    {
     "data": {
      "text/plain": [
       "['color', 1, 2.0]"
      ]
     },
     "execution_count": 48,
     "metadata": {},
     "output_type": "execute_result"
    }
   ],
   "source": [
    "# 다양한 데이터 타입이 리스트에 들어갈 수 있다.\n",
    "a = [\"color\",1,2.0]\n",
    "a"
   ]
  },
  {
   "cell_type": "code",
   "execution_count": 51,
   "id": "fde5055c",
   "metadata": {
    "ExecuteTime": {
     "end_time": "2023-01-12T08:43:13.889155Z",
     "start_time": "2023-01-12T08:43:13.868167Z"
    },
    "hidden": true
   },
   "outputs": [
    {
     "data": {
      "text/plain": [
       "[['green',\n",
       "  'yellow',\n",
       "  'black',\n",
       "  'purple',\n",
       "  'black',\n",
       "  'purple',\n",
       "  'black',\n",
       "  'purple',\n",
       "  'black',\n",
       "  'purple',\n",
       "  'black',\n",
       "  'purple'],\n",
       " 1,\n",
       " 2.0]"
      ]
     },
     "execution_count": 51,
     "metadata": {},
     "output_type": "execute_result"
    }
   ],
   "source": [
    "# 중첩 리스트도 만들 수 있음\n",
    "a[0] = colors\n",
    "a"
   ]
  },
  {
   "cell_type": "markdown",
   "id": "4179eec8",
   "metadata": {},
   "source": [
    "# Function And Console"
   ]
  },
  {
   "cell_type": "markdown",
   "id": "55a96295",
   "metadata": {
    "heading_collapsed": true
   },
   "source": [
    "## Function"
   ]
  },
  {
   "cell_type": "markdown",
   "id": "ba164a15",
   "metadata": {
    "heading_collapsed": true,
    "hidden": true
   },
   "source": [
    "### 함수의 개요 \n",
    "\n",
    "- 어떤 일을 수행하는 코드의 덩어리\n",
    "- 반복적인 수행을 1회만 작성 후 호출\n",
    "- 코드를 논리적인 단위로 분리\n",
    "- 캡슐화 : 인터페이스만 알면 타인의 코드 사용할 수 있음 "
   ]
  },
  {
   "cell_type": "code",
   "execution_count": 3,
   "id": "9adddc33",
   "metadata": {
    "ExecuteTime": {
     "end_time": "2023-01-13T09:41:21.906237Z",
     "start_time": "2023-01-13T09:41:21.888233Z"
    },
    "hidden": true
   },
   "outputs": [
    {
     "data": {
      "text/plain": [
       "60"
      ]
     },
     "execution_count": 3,
     "metadata": {},
     "output_type": "execute_result"
    }
   ],
   "source": [
    "# 사각형의 넓이를 구하는 함수 \n",
    "def calculate_rectangle_area(x,y):\n",
    "    return x * y \n",
    "\n",
    "calculate_rectangle_area(10,6)"
   ]
  },
  {
   "cell_type": "markdown",
   "id": "1b1cbc3d",
   "metadata": {
    "heading_collapsed": true,
    "hidden": true
   },
   "source": [
    "### 함수 선언 문법 \n",
    "- 함수 이름, parameter, indentation, return calue"
   ]
  },
  {
   "cell_type": "code",
   "execution_count": 5,
   "id": "a362df4b",
   "metadata": {
    "ExecuteTime": {
     "end_time": "2023-01-13T09:42:48.015996Z",
     "start_time": "2023-01-13T09:42:47.996978Z"
    },
    "hidden": true
   },
   "outputs": [
    {
     "ename": "SyntaxError",
     "evalue": "invalid syntax (819017544.py, line 2)",
     "output_type": "error",
     "traceback": [
      "\u001b[1;36m  Cell \u001b[1;32mIn[5], line 2\u001b[1;36m\u001b[0m\n\u001b[1;33m    def 함수 이름(parameter,):\u001b[0m\n\u001b[1;37m           ^\u001b[0m\n\u001b[1;31mSyntaxError\u001b[0m\u001b[1;31m:\u001b[0m invalid syntax\n"
     ]
    }
   ],
   "source": [
    "# 기본 형태 \n",
    "def 함수 이름(parameter,):\n",
    "    수행문 #1(statements)\n",
    "    수행문 #2(statements)\n",
    "    return <반환값>"
   ]
  },
  {
   "cell_type": "markdown",
   "id": "dc524ee0",
   "metadata": {
    "hidden": true
   },
   "source": [
    "### 함수 수행 순서 \n",
    "- 함수 부분을 제외한 메인 프로그램부터 시작\n",
    "- 함수 호출 시 함수 부분을 수행 후 되돌아옴"
   ]
  },
  {
   "cell_type": "code",
   "execution_count": 6,
   "id": "b8d8f8d6",
   "metadata": {
    "ExecuteTime": {
     "end_time": "2023-01-13T09:49:30.445354Z",
     "start_time": "2023-01-13T09:49:30.425340Z"
    },
    "hidden": true
   },
   "outputs": [
    {
     "name": "stdout",
     "output_type": "stream",
     "text": [
      "사각형 x의 길이:  10\n",
      "사각형 y의 길이:  20\n",
      "사각형의 넓이:  200\n"
     ]
    }
   ],
   "source": [
    "def calculate_rectangle_area(x,y): # 3 : 함수 수행 \n",
    "    return x * y  \n",
    "\n",
    "rectangle_x = 10\n",
    "rectangle_y = 20\n",
    "print(\"사각형 x의 길이: \", rectangle_x)   # 1 : 메인 프로그램 수행 \n",
    "print(\"사각형 y의 길이: \", rectangle_y)\n",
    "\n",
    "# 넓이를 구하는 함수 호출\n",
    "print(\"사각형의 넓이: \", calculate_rectangle_area(rectangle_x, rectangle_y))\n",
    "                        # 4: 메인 프로그램 수행       #2 : 함수 호출 "
   ]
  },
  {
   "cell_type": "markdown",
   "id": "5f5aa473",
   "metadata": {
    "hidden": true
   },
   "source": [
    "### [참고] 함수 vs 함수 \n",
    "- 프로그래밍의 함수와 수학의 함수는 유사함\n",
    "- 모두 입력 값과 출력 값으로 이루어짐"
   ]
  },
  {
   "cell_type": "code",
   "execution_count": 8,
   "id": "16e87511",
   "metadata": {
    "ExecuteTime": {
     "end_time": "2023-01-13T09:51:27.353684Z",
     "start_time": "2023-01-13T09:51:27.332389Z"
    },
    "hidden": true
   },
   "outputs": [
    {
     "name": "stdout",
     "output_type": "stream",
     "text": [
      "151\n"
     ]
    }
   ],
   "source": [
    "# 예시 \n",
    "\n",
    "def f(x):\n",
    "    return 2 * x + 7 \n",
    "\n",
    "\n",
    "def g(x):\n",
    "    return x ** 2 \n",
    "\n",
    "x = 2 \n",
    "print(f(x) + g(x) + f(g(x)) + g(f(x)))"
   ]
  },
  {
   "cell_type": "markdown",
   "id": "9ad24950",
   "metadata": {
    "hidden": true
   },
   "source": [
    "### parameter vs argument \n",
    "\n",
    "- parameter : 함수의 입력 값 인터페이스 \n",
    "\n",
    "- argument : 실제 Parameter에 대입된 값 "
   ]
  },
  {
   "cell_type": "code",
   "execution_count": 9,
   "id": "94272c63",
   "metadata": {
    "ExecuteTime": {
     "end_time": "2023-01-13T10:02:32.523390Z",
     "start_time": "2023-01-13T10:02:32.501280Z"
    },
    "hidden": true
   },
   "outputs": [
    {
     "name": "stdout",
     "output_type": "stream",
     "text": [
      "11\n"
     ]
    }
   ],
   "source": [
    "def f(x): # parameter \n",
    "    return 2 * x + 7\n",
    "\n",
    "print(f(2)) # argument"
   ]
  },
  {
   "cell_type": "markdown",
   "id": "3c9878d4",
   "metadata": {
    "hidden": true
   },
   "source": [
    "### 함수 형태 \n",
    "- parameter 유무, 반환 값 유무에 따라 함수의 형태가 다름\n",
    "- print와 return을 구별할 필요가 있음\n"
   ]
  },
  {
   "cell_type": "markdown",
   "id": "374dce9e",
   "metadata": {
    "heading_collapsed": true
   },
   "source": [
    "## Console "
   ]
  },
  {
   "cell_type": "markdown",
   "id": "56720dc2",
   "metadata": {
    "hidden": true
   },
   "source": [
    "### 콘솔창 입출력 I - input \n",
    "- input() 함수는 콘솔창에서 문자열을 입력 받는 함수"
   ]
  },
  {
   "cell_type": "code",
   "execution_count": 11,
   "id": "0e8bf827",
   "metadata": {
    "ExecuteTime": {
     "end_time": "2023-01-13T10:16:38.718969Z",
     "start_time": "2023-01-13T10:16:33.896019Z"
    },
    "hidden": true
   },
   "outputs": [
    {
     "name": "stdout",
     "output_type": "stream",
     "text": [
      "Enter your name:\n",
      "gyeongmi kim\n",
      "Hi gyeongmi kim How are you today?\n"
     ]
    }
   ],
   "source": [
    "print(\"Enter your name:\")\n",
    "\n",
    "somebody = input() # 콘솔창에서 입력한 값을 somebody에 저장\n",
    "\n",
    "print(\"Hi\", somebody, \"How are you today?\")"
   ]
  },
  {
   "cell_type": "markdown",
   "id": "d5864ec3",
   "metadata": {
    "heading_collapsed": true,
    "hidden": true
   },
   "source": [
    "### 콘솔창 입출력 II - print\n",
    "- 콤마 사용할 경우 print문이 연결돰\n",
    "- 숫자 입력 받기"
   ]
  },
  {
   "cell_type": "code",
   "execution_count": 13,
   "id": "05e7ec39",
   "metadata": {
    "ExecuteTime": {
     "end_time": "2023-01-13T10:19:18.244822Z",
     "start_time": "2023-01-13T10:19:18.232820Z"
    },
    "hidden": true
   },
   "outputs": [
    {
     "name": "stdout",
     "output_type": "stream",
     "text": [
      "Hi Gyeongmi, How are you today?\n"
     ]
    }
   ],
   "source": [
    "# 콤마를 쓰게되면 한 칸씩 띄워준다 \n",
    "print(\"Hi\",\"Gyeongmi,\",\"How are you today?\")"
   ]
  },
  {
   "cell_type": "code",
   "execution_count": 17,
   "id": "3d8ee355",
   "metadata": {
    "ExecuteTime": {
     "end_time": "2023-01-13T10:20:51.934528Z",
     "start_time": "2023-01-13T10:20:50.772619Z"
    },
    "hidden": true
   },
   "outputs": [
    {
     "name": "stdout",
     "output_type": "stream",
     "text": [
      "온도를 입력하세요: 100\n",
      "온도는  100.0 입니다.\n"
     ]
    }
   ],
   "source": [
    "temperature = float(input(\"온도를 입력하세요: \"))\n",
    "print(\"온도는 \",temperature, \"입니다.\")"
   ]
  },
  {
   "cell_type": "markdown",
   "id": "2d08ebe6",
   "metadata": {
    "heading_collapsed": true,
    "hidden": true
   },
   "source": [
    "### print formatting \n",
    "- 프린트 문은 기본적인 출력 외에 출력 양식의 형식을 지정 가능 \n",
    "\n",
    "1) %string\n",
    "2) format 함수\n",
    "3) fstring <- 가장 많이 사용됨"
   ]
  },
  {
   "cell_type": "code",
   "execution_count": 22,
   "id": "20fe1fa8",
   "metadata": {
    "ExecuteTime": {
     "end_time": "2023-01-13T10:24:38.705610Z",
     "start_time": "2023-01-13T10:24:38.683603Z"
    },
    "hidden": true
   },
   "outputs": [
    {
     "name": "stdout",
     "output_type": "stream",
     "text": [
      "1 2 3\n",
      "a b c\n",
      "1 2 3\n",
      "a b c\n",
      "value is (1, 2, 3)\n"
     ]
    }
   ],
   "source": [
    "print(1,2,3)\n",
    "\n",
    "print(\"a\" + \" \" + \"b\" + \" \"+ \"c\")\n",
    "\n",
    "print(\"%d %d %d\" % (1,2,3))\n",
    "\n",
    "print(\"{} {} {}\".format(\"a\",\"b\",\"c\"))\n",
    "\n",
    "value = 1,2,3\n",
    "print(f\"value is {value}\")"
   ]
  },
  {
   "cell_type": "markdown",
   "id": "afa8b0b6",
   "metadata": {
    "hidden": true
   },
   "source": [
    "**%-format**\n",
    "- \"%datatype\"%(variable)형태로 출력 양식을 표현"
   ]
  },
  {
   "cell_type": "code",
   "execution_count": 25,
   "id": "bea4e690",
   "metadata": {
    "ExecuteTime": {
     "end_time": "2023-01-13T10:27:51.370733Z",
     "start_time": "2023-01-13T10:27:51.357725Z"
    },
    "hidden": true
   },
   "outputs": [
    {
     "name": "stdout",
     "output_type": "stream",
     "text": [
      "I eat 3 apples.\n",
      "I eat five apples.\n"
     ]
    }
   ],
   "source": [
    "print(\"I eat %d apples.\" % 3)\n",
    "print(\"I eat %s apples.\" % \"five\")"
   ]
  },
  {
   "cell_type": "code",
   "execution_count": 33,
   "id": "90bba5cb",
   "metadata": {
    "ExecuteTime": {
     "end_time": "2023-01-13T10:31:00.438768Z",
     "start_time": "2023-01-13T10:31:00.422768Z"
    },
    "hidden": true
   },
   "outputs": [
    {
     "name": "stdout",
     "output_type": "stream",
     "text": [
      "I ate 3 apples. I was sick for three days.\n",
      "Product: Apple, Price per unit: 5.24\n"
     ]
    }
   ],
   "source": [
    "number = 3; day = \"three\"\n",
    "print(\"I ate %d apples. I was sick for %s days.\" %(number,day))\n",
    "\n",
    "print(\"Product: %1s, Price per unit: %0.2f\" % (\"Apple\",5.243))"
   ]
  },
  {
   "cell_type": "code",
   "execution_count": 34,
   "id": "a1323a99",
   "metadata": {
    "ExecuteTime": {
     "end_time": "2023-01-13T10:33:37.662509Z",
     "start_time": "2023-01-13T10:33:37.645505Z"
    },
    "hidden": true
   },
   "outputs": [
    {
     "name": "stdout",
     "output_type": "stream",
     "text": [
      "My name is Gyeongmi Kim and 27 years old\n"
     ]
    }
   ],
   "source": [
    "age = 27\n",
    "name = \"Gyeongmi Kim\"\n",
    "\n",
    "print(\"My name is {0} and {1} years old\".format(name,age))"
   ]
  },
  {
   "cell_type": "markdown",
   "id": "369e92f7",
   "metadata": {
    "hidden": true
   },
   "source": [
    "**padding** \n",
    "- 여유 공간을 지정하여 글자배열 + 소수점 자릿수를 맞춘다 "
   ]
  },
  {
   "cell_type": "code",
   "execution_count": 36,
   "id": "e6808f01",
   "metadata": {
    "ExecuteTime": {
     "end_time": "2023-01-13T10:35:28.485542Z",
     "start_time": "2023-01-13T10:35:28.473539Z"
    },
    "hidden": true,
    "scrolled": true
   },
   "outputs": [
    {
     "name": "stdout",
     "output_type": "stream",
     "text": [
      "Product: Apple     , price per unit:      5.243\n"
     ]
    }
   ],
   "source": [
    "print(\"Product: {0:<10s}, price per unit: {1:10.3f}\".format(\"Apple\",5.243))"
   ]
  },
  {
   "cell_type": "markdown",
   "id": "704fd44c",
   "metadata": {
    "ExecuteTime": {
     "end_time": "2023-01-13T10:35:34.227733Z",
     "start_time": "2023-01-13T10:35:34.216731Z"
    },
    "hidden": true
   },
   "source": [
    "print(\"Product: {0:>10s}, price per unit: {1:10.3f}\".format(\"Apple\",5.243))"
   ]
  },
  {
   "cell_type": "markdown",
   "id": "11ca7551",
   "metadata": {
    "hidden": true
   },
   "source": [
    "### f-string \n",
    "- python 3.6 이후 PEP498에 근거한 formatting 기법"
   ]
  },
  {
   "cell_type": "code",
   "execution_count": 41,
   "id": "2b22eb9a",
   "metadata": {
    "ExecuteTime": {
     "end_time": "2023-01-13T10:39:14.060709Z",
     "start_time": "2023-01-13T10:39:14.043715Z"
    },
    "hidden": true
   },
   "outputs": [
    {
     "name": "stdout",
     "output_type": "stream",
     "text": [
      "Hello, gyoengmi. You are 27.\n",
      "************gyoengmi\n",
      "******gyoengmi******\n"
     ]
    }
   ],
   "source": [
    "name = \"gyoengmi\"\n",
    "age = 27\n",
    "\n",
    "print(f\"Hello, {name}. You are {age}.\")\n",
    "print(f'{name:*>20}') # 별로 채워라 \n",
    "print(f'{name:*^20}') # 중앙 정렬 "
   ]
  },
  {
   "cell_type": "code",
   "execution_count": 43,
   "id": "c197b2a7",
   "metadata": {
    "ExecuteTime": {
     "end_time": "2023-01-13T10:40:24.027187Z",
     "start_time": "2023-01-13T10:40:24.018970Z"
    },
    "hidden": true
   },
   "outputs": [
    {
     "name": "stdout",
     "output_type": "stream",
     "text": [
      "3.14\n"
     ]
    }
   ],
   "source": [
    "number = 3.141592653589793\n",
    "print(f'{number:.2f}')"
   ]
  },
  {
   "cell_type": "markdown",
   "id": "6425bf45",
   "metadata": {},
   "source": [
    "## 섭씨와 화씨 \n",
    "\n",
    "- 아래와 같이 출력되는 프로그램을 만드시오\n",
    "\n",
    "```\n",
    "python fahrenheit.py\n",
    "본 프로그램은 섭씨를 화씨로 변환해주는 프로그램입니다\n",
    "변환하고 싶은 섭씨 온도를 입력해주세요:\n",
    "32.2\n",
    "섭씨온도 : 32.2\n",
    "화씨온도 : 89.96\n",
    "```\n",
    "\n",
    "- 섭씨 온도 변환 공식은 : ((9/5) * 섭씨온도 )"
   ]
  },
  {
   "cell_type": "code",
   "execution_count": 62,
   "id": "b65df919",
   "metadata": {
    "ExecuteTime": {
     "end_time": "2023-01-13T10:48:58.805550Z",
     "start_time": "2023-01-13T10:48:57.390781Z"
    }
   },
   "outputs": [
    {
     "name": "stdout",
     "output_type": "stream",
     "text": [
      "본 프로그램은 섭씨를 화씨로 변환해주는 프로그램입니다\n",
      "변환하고 싶은 섭씨 온도를 입력해 주세요:\n",
      "32.2\n",
      "섭씨온도 : 32.2 \n",
      "화씨온도 : 57.96\n"
     ]
    }
   ],
   "source": [
    "def fahrenheit():\n",
    "    print(\"본 프로그램은 섭씨를 화씨로 변환해주는 프로그램입니다\\n변환하고 싶은 섭씨 온도를 입력해 주세요:\")\n",
    "    cel_value = float(input())\n",
    "    \n",
    "    fah_value = float((float(9/5) * float(cel_value)))\n",
    "\n",
    "    \n",
    "    print(f\"섭씨온도 : {cel_value} \\n화씨온도 : {fah_value:.2f}\")\n",
    "    \n",
    "fahrenheit()"
   ]
  },
  {
   "cell_type": "markdown",
   "id": "3e1e019d",
   "metadata": {},
   "source": [
    "# x "
   ]
  },
  {
   "cell_type": "code",
   "execution_count": null,
   "id": "8fa2cee8",
   "metadata": {},
   "outputs": [],
   "source": []
  },
  {
   "cell_type": "code",
   "execution_count": null,
   "id": "4e302780",
   "metadata": {},
   "outputs": [],
   "source": []
  },
  {
   "cell_type": "code",
   "execution_count": null,
   "id": "3ab8f5ac",
   "metadata": {},
   "outputs": [],
   "source": []
  }
 ],
 "metadata": {
  "hide_input": false,
  "kernelspec": {
   "display_name": "Python 3 (ipykernel)",
   "language": "python",
   "name": "python3"
  },
  "language_info": {
   "codemirror_mode": {
    "name": "ipython",
    "version": 3
   },
   "file_extension": ".py",
   "mimetype": "text/x-python",
   "name": "python",
   "nbconvert_exporter": "python",
   "pygments_lexer": "ipython3",
   "version": "3.8.15"
  },
  "toc": {
   "base_numbering": 1,
   "nav_menu": {},
   "number_sections": true,
   "sideBar": true,
   "skip_h1_title": false,
   "title_cell": "Table of Contents",
   "title_sidebar": "Contents",
   "toc_cell": false,
   "toc_position": {},
   "toc_section_display": true,
   "toc_window_display": false
  },
  "varInspector": {
   "cols": {
    "lenName": 16,
    "lenType": 16,
    "lenVar": 40
   },
   "kernels_config": {
    "python": {
     "delete_cmd_postfix": "",
     "delete_cmd_prefix": "del ",
     "library": "var_list.py",
     "varRefreshCmd": "print(var_dic_list())"
    },
    "r": {
     "delete_cmd_postfix": ") ",
     "delete_cmd_prefix": "rm(",
     "library": "var_list.r",
     "varRefreshCmd": "cat(var_dic_list()) "
    }
   },
   "types_to_exclude": [
    "module",
    "function",
    "builtin_function_or_method",
    "instance",
    "_Feature"
   ],
   "window_display": false
  }
 },
 "nbformat": 4,
 "nbformat_minor": 5
}
