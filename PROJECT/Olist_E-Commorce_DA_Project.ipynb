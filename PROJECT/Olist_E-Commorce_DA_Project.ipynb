{
 "cells": [
  {
   "cell_type": "markdown",
   "id": "1faacc56",
   "metadata": {
    "heading_collapsed": true
   },
   "source": [
    "# 데이터 셋\n",
    "\n",
    "* 데이터 출처 : kaggle의 olist sellers dataset을 사용했습니다 \n",
    "  * url : https://www.kaggle.com/olistbr/brazilian-ecommerce?select=olist_sellers_dataset.csv"
   ]
  },
  {
   "cell_type": "markdown",
   "id": "f2773358",
   "metadata": {},
   "source": [
    "# 분석 목표 \n",
    "* 현재 상황을 파악하여 매출 개선 계획 \n",
    "* 2023년 프로모션 진행은 언제, 어느 카테고리에서 진행하는 것이 좋을까?\n",
    "\n",
    "-----\n",
    "가설 : \n",
    "* 우리 서비스의 매출 상황은 점점 성장하고 있을 것이다.\n",
    "    * 전체적인 구매자 수가 증가했다\n",
    "    * ARPPU가 증가했다\n",
    "    * 장바구니 크기가 증가했다\n",
    "    * 연간 구입 건수가 증가했다\n",
    "\n",
    "* 분기별 매출에서는 4분기 매출이 가장 높을 것이다.\n",
    "    * 연말과 블랙 프라이데이가 집중되어 있는 4분기 매출이 가장 높을 것.\n",
    "\n",
    "* 주말보다 평일에서의 매출이 더 많이 나올 것이다 \n",
    "    * 주말에는 외부 활동이 많아지기 때문에 평일에 구매가 더 많이 일어날 것"
   ]
  },
  {
   "cell_type": "markdown",
   "id": "6aeeeaac",
   "metadata": {},
   "source": [
    "# 데이터 정제 "
   ]
  },
  {
   "cell_type": "markdown",
   "id": "4a741c17",
   "metadata": {
    "heading_collapsed": true
   },
   "source": [
    "## 분석 시 필요한 라이브러리 "
   ]
  },
  {
   "cell_type": "code",
   "execution_count": 4,
   "id": "cf28d2ca",
   "metadata": {
    "ExecuteTime": {
     "end_time": "2022-11-07T10:31:29.612738Z",
     "start_time": "2022-11-07T10:31:29.604737Z"
    },
    "hidden": true
   },
   "outputs": [],
   "source": [
    "import numpy as np\n",
    "import pandas as pd \n",
    "import matplotlib.pyplot as plt\n",
    "from matplotlib import style \n",
    "import seaborn as sns\n",
    "from datetime import datetime,timedelta\n",
    "import warnings \n",
    "warnings.filterwarnings(\"ignore\", category=DeprecationWarning)\n",
    "warnings.simplefilter(\"ignore\")\n",
    "pd.set_option('display.max_columns', 100)"
   ]
  },
  {
   "cell_type": "markdown",
   "id": "2459678c",
   "metadata": {
    "heading_collapsed": true
   },
   "source": [
    "## 데이터 불러오기 \n"
   ]
  },
  {
   "cell_type": "code",
   "execution_count": 5,
   "id": "1d1905bc",
   "metadata": {
    "ExecuteTime": {
     "end_time": "2022-11-07T10:33:25.520786Z",
     "start_time": "2022-11-07T10:33:23.771079Z"
    },
    "hidden": true
   },
   "outputs": [],
   "source": [
    "customers = pd.read_csv(\"c:/data/olist/olist_customers_dataset.csv\")\n",
    "order_items = pd.read_csv('c:/data/olist/olist_order_items_dataset.csv')\n",
    "order_payments = pd.read_csv(\"c:/data/olist/olist_order_payments_dataset.csv\")\n",
    "products = pd.read_csv('c:/data/olist/olist_products_dataset.csv')\n",
    "category_translation = pd.read_csv(\"c:/data/olist/product_category_name_translation.csv\")\n",
    "orders = pd.read_csv('c:/data/olist/olist_orders_dataset.csv')\n"
   ]
  },
  {
   "cell_type": "code",
   "execution_count": 8,
   "id": "a8279d34",
   "metadata": {
    "ExecuteTime": {
     "end_time": "2022-11-07T10:36:32.464105Z",
     "start_time": "2022-11-07T10:36:32.447929Z"
    },
    "hidden": true
   },
   "outputs": [
    {
     "name": "stdout",
     "output_type": "stream",
     "text": [
      "Customers [99441, 5]\n",
      "Order Items [112650, 7]\n",
      "Payments [103886, 5]\n",
      "Orders [99441, 8]\n",
      "Products [32951, 9]\n",
      "Translation [71, 2]\n"
     ]
    }
   ],
   "source": [
    "# displaying data shape \n",
    "dataset = {\n",
    "    'Customers' : customers,\n",
    "    'Order Items' : order_items,\n",
    "    'Payments' : order_payments, \n",
    "    'Orders' : orders,\n",
    "    'Products' : products,\n",
    "    'Translation' : category_translation\n",
    "}\n",
    "\n",
    "# x(총 row수), y(컬럼 수)\n",
    "for x,y in dataset.items():\n",
    "    print(f'{x}', (list(y.shape)))"
   ]
  },
  {
   "cell_type": "code",
   "execution_count": 10,
   "id": "55e02f8b",
   "metadata": {
    "ExecuteTime": {
     "end_time": "2022-11-07T10:37:28.730919Z",
     "start_time": "2022-11-07T10:37:28.722921Z"
    },
    "hidden": true
   },
   "outputs": [
    {
     "name": "stdout",
     "output_type": "stream",
     "text": [
      "Customers ['customer_id', 'customer_unique_id', 'customer_zip_code_prefix', 'customer_city', 'customer_state']\n",
      "\n",
      "Order Items ['order_id', 'order_item_id', 'product_id', 'seller_id', 'shipping_limit_date', 'price', 'freight_value']\n",
      "\n",
      "Payments ['order_id', 'payment_sequential', 'payment_type', 'payment_installments', 'payment_value']\n",
      "\n",
      "Orders ['order_id', 'customer_id', 'order_status', 'order_purchase_timestamp', 'order_approved_at', 'order_delivered_carrier_date', 'order_delivered_customer_date', 'order_estimated_delivery_date']\n",
      "\n",
      "Products ['product_id', 'product_category_name', 'product_name_lenght', 'product_description_lenght', 'product_photos_qty', 'product_weight_g', 'product_length_cm', 'product_height_cm', 'product_width_cm']\n",
      "\n",
      "Translation ['product_category_name', 'product_category_name_english']\n",
      "\n"
     ]
    }
   ],
   "source": [
    "# displaying dataset column names \n",
    "for x, y in dataset.items():\n",
    "    print(f'{x}', f'{list(y.columns)}\\n')"
   ]
  },
  {
   "cell_type": "code",
   "execution_count": 12,
   "id": "4328f8d4",
   "metadata": {
    "ExecuteTime": {
     "end_time": "2022-11-07T10:38:21.559427Z",
     "start_time": "2022-11-07T10:38:21.430411Z"
    },
    "hidden": true
   },
   "outputs": [
    {
     "name": "stdout",
     "output_type": "stream",
     "text": [
      "Customers: False\n",
      "Order Items: False\n",
      "Payments: False\n",
      "Orders: True\n",
      "Products: True\n",
      "Translation: False\n"
     ]
    }
   ],
   "source": [
    "# checking for null values in dataset \n",
    "for x, y in dataset.items():\n",
    "    print(f'{x}: {y.isnull().any().any()}')"
   ]
  },
  {
   "cell_type": "code",
   "execution_count": 33,
   "id": "8ba23c48",
   "metadata": {
    "ExecuteTime": {
     "end_time": "2022-11-07T12:49:09.139514Z",
     "start_time": "2022-11-07T12:49:08.819844Z"
    },
    "hidden": true
   },
   "outputs": [
    {
     "name": "stdout",
     "output_type": "stream",
     "text": [
      "Orders [99441, 8] \n",
      "\n",
      "order_id                            0\n",
      "customer_id                         0\n",
      "order_status                        0\n",
      "order_purchase_timestamp            0\n",
      "order_approved_at                 160\n",
      "order_delivered_carrier_date     1783\n",
      "order_delivered_customer_date    2965\n",
      "order_estimated_delivery_date       0\n",
      "dtype: int64\n",
      "\n",
      "Products [32951, 9] \n",
      "\n",
      "product_id                      0\n",
      "product_category_name         610\n",
      "product_name_lenght           610\n",
      "product_description_lenght    610\n",
      "product_photos_qty            610\n",
      "product_weight_g                2\n",
      "product_length_cm               2\n",
      "product_height_cm               2\n",
      "product_width_cm                2\n",
      "dtype: int64\n",
      "\n"
     ]
    }
   ],
   "source": [
    "# taking count for dataset with missing values \n",
    "for x, y in dataset.items():\n",
    "    if y.isnull().any().any():\n",
    "        print(f'{x}', (list(y.shape)),'\\n')\n",
    "        print(f'{y.isnull().sum()}\\n')"
   ]
  },
  {
   "cell_type": "markdown",
   "id": "3beaab7c",
   "metadata": {
    "ExecuteTime": {
     "end_time": "2022-11-07T10:40:22.494828Z",
     "start_time": "2022-11-07T10:40:22.472825Z"
    },
    "heading_collapsed": true
   },
   "source": [
    "## creating master dataframe "
   ]
  },
  {
   "cell_type": "markdown",
   "id": "86086596",
   "metadata": {
    "hidden": true
   },
   "source": [
    "**분석의 편의성을 위해 결측치는 drop 처리 하였습니다.** "
   ]
  },
  {
   "cell_type": "markdown",
   "id": "0f6222a3",
   "metadata": {
    "heading_collapsed": true,
    "hidden": true
   },
   "source": [
    "### Translate Product Name Into English"
   ]
  },
  {
   "cell_type": "code",
   "execution_count": 15,
   "id": "aebf17de",
   "metadata": {
    "ExecuteTime": {
     "end_time": "2022-11-07T11:02:40.685904Z",
     "start_time": "2022-11-07T11:02:40.625893Z"
    },
    "hidden": true
   },
   "outputs": [
    {
     "data": {
      "text/html": [
       "<div>\n",
       "<style scoped>\n",
       "    .dataframe tbody tr th:only-of-type {\n",
       "        vertical-align: middle;\n",
       "    }\n",
       "\n",
       "    .dataframe tbody tr th {\n",
       "        vertical-align: top;\n",
       "    }\n",
       "\n",
       "    .dataframe thead th {\n",
       "        text-align: right;\n",
       "    }\n",
       "</style>\n",
       "<table border=\"1\" class=\"dataframe\">\n",
       "  <thead>\n",
       "    <tr style=\"text-align: right;\">\n",
       "      <th></th>\n",
       "      <th>product_id</th>\n",
       "      <th>product_category_name</th>\n",
       "      <th>product_name_lenght</th>\n",
       "      <th>product_description_lenght</th>\n",
       "      <th>product_photos_qty</th>\n",
       "      <th>product_weight_g</th>\n",
       "      <th>product_length_cm</th>\n",
       "      <th>product_height_cm</th>\n",
       "      <th>product_width_cm</th>\n",
       "      <th>product_category_name_english</th>\n",
       "    </tr>\n",
       "  </thead>\n",
       "  <tbody>\n",
       "    <tr>\n",
       "      <th>0</th>\n",
       "      <td>1e9e8ef04dbcff4541ed26657ea517e5</td>\n",
       "      <td>perfumaria</td>\n",
       "      <td>40.0</td>\n",
       "      <td>287.0</td>\n",
       "      <td>1.0</td>\n",
       "      <td>225.0</td>\n",
       "      <td>16.0</td>\n",
       "      <td>10.0</td>\n",
       "      <td>14.0</td>\n",
       "      <td>perfumery</td>\n",
       "    </tr>\n",
       "    <tr>\n",
       "      <th>1</th>\n",
       "      <td>6a2fb4dd53d2cdb88e0432f1284a004c</td>\n",
       "      <td>perfumaria</td>\n",
       "      <td>39.0</td>\n",
       "      <td>346.0</td>\n",
       "      <td>2.0</td>\n",
       "      <td>400.0</td>\n",
       "      <td>27.0</td>\n",
       "      <td>5.0</td>\n",
       "      <td>20.0</td>\n",
       "      <td>perfumery</td>\n",
       "    </tr>\n",
       "    <tr>\n",
       "      <th>2</th>\n",
       "      <td>0d009643171aee696f4733340bc2fdd0</td>\n",
       "      <td>perfumaria</td>\n",
       "      <td>52.0</td>\n",
       "      <td>150.0</td>\n",
       "      <td>1.0</td>\n",
       "      <td>422.0</td>\n",
       "      <td>21.0</td>\n",
       "      <td>16.0</td>\n",
       "      <td>18.0</td>\n",
       "      <td>perfumery</td>\n",
       "    </tr>\n",
       "    <tr>\n",
       "      <th>3</th>\n",
       "      <td>b1eae565a61935e0011ee7682fef9dc9</td>\n",
       "      <td>perfumaria</td>\n",
       "      <td>49.0</td>\n",
       "      <td>460.0</td>\n",
       "      <td>2.0</td>\n",
       "      <td>267.0</td>\n",
       "      <td>17.0</td>\n",
       "      <td>13.0</td>\n",
       "      <td>17.0</td>\n",
       "      <td>perfumery</td>\n",
       "    </tr>\n",
       "    <tr>\n",
       "      <th>4</th>\n",
       "      <td>8da90b37f0fb171b4877c124f965b1f6</td>\n",
       "      <td>perfumaria</td>\n",
       "      <td>56.0</td>\n",
       "      <td>733.0</td>\n",
       "      <td>3.0</td>\n",
       "      <td>377.0</td>\n",
       "      <td>18.0</td>\n",
       "      <td>13.0</td>\n",
       "      <td>15.0</td>\n",
       "      <td>perfumery</td>\n",
       "    </tr>\n",
       "    <tr>\n",
       "      <th>...</th>\n",
       "      <td>...</td>\n",
       "      <td>...</td>\n",
       "      <td>...</td>\n",
       "      <td>...</td>\n",
       "      <td>...</td>\n",
       "      <td>...</td>\n",
       "      <td>...</td>\n",
       "      <td>...</td>\n",
       "      <td>...</td>\n",
       "      <td>...</td>\n",
       "    </tr>\n",
       "    <tr>\n",
       "      <th>32946</th>\n",
       "      <td>13b25797ad1e6d6c7cd3cbeb35f8ee7a</td>\n",
       "      <td>moveis_colchao_e_estofado</td>\n",
       "      <td>44.0</td>\n",
       "      <td>348.0</td>\n",
       "      <td>1.0</td>\n",
       "      <td>18250.0</td>\n",
       "      <td>25.0</td>\n",
       "      <td>25.0</td>\n",
       "      <td>25.0</td>\n",
       "      <td>furniture_mattress_and_upholstery</td>\n",
       "    </tr>\n",
       "    <tr>\n",
       "      <th>32947</th>\n",
       "      <td>dc36a7859b743d8610a2bbbaea26ece9</td>\n",
       "      <td>moveis_colchao_e_estofado</td>\n",
       "      <td>29.0</td>\n",
       "      <td>2073.0</td>\n",
       "      <td>2.0</td>\n",
       "      <td>2500.0</td>\n",
       "      <td>41.0</td>\n",
       "      <td>21.0</td>\n",
       "      <td>21.0</td>\n",
       "      <td>furniture_mattress_and_upholstery</td>\n",
       "    </tr>\n",
       "    <tr>\n",
       "      <th>32948</th>\n",
       "      <td>107fde0930956120d1e13dd1062fbb46</td>\n",
       "      <td>moveis_colchao_e_estofado</td>\n",
       "      <td>51.0</td>\n",
       "      <td>418.0</td>\n",
       "      <td>1.0</td>\n",
       "      <td>30000.0</td>\n",
       "      <td>60.0</td>\n",
       "      <td>73.0</td>\n",
       "      <td>60.0</td>\n",
       "      <td>furniture_mattress_and_upholstery</td>\n",
       "    </tr>\n",
       "    <tr>\n",
       "      <th>32949</th>\n",
       "      <td>726b4e18f00255e2e63491bcba3f60b8</td>\n",
       "      <td>moveis_colchao_e_estofado</td>\n",
       "      <td>41.0</td>\n",
       "      <td>866.0</td>\n",
       "      <td>1.0</td>\n",
       "      <td>1700.0</td>\n",
       "      <td>70.0</td>\n",
       "      <td>10.0</td>\n",
       "      <td>100.0</td>\n",
       "      <td>furniture_mattress_and_upholstery</td>\n",
       "    </tr>\n",
       "    <tr>\n",
       "      <th>32950</th>\n",
       "      <td>1dceebcc5f23c02ea23e16d5bedca000</td>\n",
       "      <td>cds_dvds_musicais</td>\n",
       "      <td>47.0</td>\n",
       "      <td>117.0</td>\n",
       "      <td>2.0</td>\n",
       "      <td>550.0</td>\n",
       "      <td>35.0</td>\n",
       "      <td>15.0</td>\n",
       "      <td>25.0</td>\n",
       "      <td>cds_dvds_musicals</td>\n",
       "    </tr>\n",
       "  </tbody>\n",
       "</table>\n",
       "<p>32951 rows × 10 columns</p>\n",
       "</div>"
      ],
      "text/plain": [
       "                             product_id      product_category_name  \\\n",
       "0      1e9e8ef04dbcff4541ed26657ea517e5                 perfumaria   \n",
       "1      6a2fb4dd53d2cdb88e0432f1284a004c                 perfumaria   \n",
       "2      0d009643171aee696f4733340bc2fdd0                 perfumaria   \n",
       "3      b1eae565a61935e0011ee7682fef9dc9                 perfumaria   \n",
       "4      8da90b37f0fb171b4877c124f965b1f6                 perfumaria   \n",
       "...                                 ...                        ...   \n",
       "32946  13b25797ad1e6d6c7cd3cbeb35f8ee7a  moveis_colchao_e_estofado   \n",
       "32947  dc36a7859b743d8610a2bbbaea26ece9  moveis_colchao_e_estofado   \n",
       "32948  107fde0930956120d1e13dd1062fbb46  moveis_colchao_e_estofado   \n",
       "32949  726b4e18f00255e2e63491bcba3f60b8  moveis_colchao_e_estofado   \n",
       "32950  1dceebcc5f23c02ea23e16d5bedca000          cds_dvds_musicais   \n",
       "\n",
       "       product_name_lenght  product_description_lenght  product_photos_qty  \\\n",
       "0                     40.0                       287.0                 1.0   \n",
       "1                     39.0                       346.0                 2.0   \n",
       "2                     52.0                       150.0                 1.0   \n",
       "3                     49.0                       460.0                 2.0   \n",
       "4                     56.0                       733.0                 3.0   \n",
       "...                    ...                         ...                 ...   \n",
       "32946                 44.0                       348.0                 1.0   \n",
       "32947                 29.0                      2073.0                 2.0   \n",
       "32948                 51.0                       418.0                 1.0   \n",
       "32949                 41.0                       866.0                 1.0   \n",
       "32950                 47.0                       117.0                 2.0   \n",
       "\n",
       "       product_weight_g  product_length_cm  product_height_cm  \\\n",
       "0                 225.0               16.0               10.0   \n",
       "1                 400.0               27.0                5.0   \n",
       "2                 422.0               21.0               16.0   \n",
       "3                 267.0               17.0               13.0   \n",
       "4                 377.0               18.0               13.0   \n",
       "...                 ...                ...                ...   \n",
       "32946           18250.0               25.0               25.0   \n",
       "32947            2500.0               41.0               21.0   \n",
       "32948           30000.0               60.0               73.0   \n",
       "32949            1700.0               70.0               10.0   \n",
       "32950             550.0               35.0               15.0   \n",
       "\n",
       "       product_width_cm      product_category_name_english  \n",
       "0                  14.0                          perfumery  \n",
       "1                  20.0                          perfumery  \n",
       "2                  18.0                          perfumery  \n",
       "3                  17.0                          perfumery  \n",
       "4                  15.0                          perfumery  \n",
       "...                 ...                                ...  \n",
       "32946              25.0  furniture_mattress_and_upholstery  \n",
       "32947              21.0  furniture_mattress_and_upholstery  \n",
       "32948              60.0  furniture_mattress_and_upholstery  \n",
       "32949             100.0  furniture_mattress_and_upholstery  \n",
       "32950              25.0                  cds_dvds_musicals  \n",
       "\n",
       "[32951 rows x 10 columns]"
      ]
     },
     "execution_count": 15,
     "metadata": {},
     "output_type": "execute_result"
    }
   ],
   "source": [
    "products_en = pd.merge(products, category_translation, how = 'outer', on = 'product_category_name')\n",
    "products_en"
   ]
  },
  {
   "cell_type": "code",
   "execution_count": 16,
   "id": "fed423a7",
   "metadata": {
    "ExecuteTime": {
     "end_time": "2022-11-07T11:02:47.277361Z",
     "start_time": "2022-11-07T11:02:47.262822Z"
    },
    "hidden": true
   },
   "outputs": [
    {
     "data": {
      "text/plain": [
       "{nan, 'pc_gamer', 'portateis_cozinha_e_preparadores_de_alimentos'}"
      ]
     },
     "execution_count": 16,
     "metadata": {},
     "output_type": "execute_result"
    }
   ],
   "source": [
    "# 어떤 카테고리의 제품 이름이 번역되지 않았는지 찾아봅니다. \n",
    "set(products['product_category_name'].unique()) - set(category_translation['product_category_name'].unique())"
   ]
  },
  {
   "cell_type": "code",
   "execution_count": 19,
   "id": "31addadb",
   "metadata": {
    "ExecuteTime": {
     "end_time": "2022-11-07T11:03:46.704494Z",
     "start_time": "2022-11-07T11:03:46.668486Z"
    },
    "hidden": true
   },
   "outputs": [],
   "source": [
    "# 번역되지 않은 카테고리는 수기로 변경함 \n",
    "products_en['product_category_name_english'][products_en['product_category_name'] == 'pc_gamer'] = 'pc_gamer'\n",
    "products_en['product_category_name_english'][products_en['product_category_name'] == 'portateis_cozinha_e_preparadores_de_alimentos'] = 'portable_kitchen_and_food_preparation'\n",
    "products_en['product_category_name_english'][products_en['product_category_name'] == 'nan'] = 'unclassified'"
   ]
  },
  {
   "cell_type": "code",
   "execution_count": 22,
   "id": "e0e9a00c",
   "metadata": {
    "ExecuteTime": {
     "end_time": "2022-11-07T11:04:46.121201Z",
     "start_time": "2022-11-07T11:04:46.100199Z"
    },
    "hidden": true
   },
   "outputs": [],
   "source": [
    "# copy해두기 \n",
    "products = products_en.copy()"
   ]
  },
  {
   "cell_type": "markdown",
   "id": "628ae505",
   "metadata": {
    "heading_collapsed": true,
    "hidden": true
   },
   "source": [
    "### merge dataset "
   ]
  },
  {
   "cell_type": "code",
   "execution_count": 23,
   "id": "307fc2f6",
   "metadata": {
    "ExecuteTime": {
     "end_time": "2022-11-07T11:10:43.910063Z",
     "start_time": "2022-11-07T11:10:42.905164Z"
    },
    "hidden": true
   },
   "outputs": [
    {
     "name": "stdout",
     "output_type": "stream",
     "text": [
      "(118434, 31)\n"
     ]
    }
   ],
   "source": [
    "# creating master dataframe \n",
    "df = pd.merge(orders, order_items, on = 'order_id', how = 'outer')\n",
    "df = pd.merge(df, order_payments, on = 'order_id', how = 'outer')\n",
    "df = pd.merge(df, products, on = 'product_id', how = 'outer')\n",
    "df = pd.merge(df, customers, on = 'customer_id', how = 'outer')\n",
    "print(df.shape)"
   ]
  },
  {
   "cell_type": "markdown",
   "id": "d0c18d22",
   "metadata": {
    "heading_collapsed": true,
    "hidden": true
   },
   "source": [
    "### converting data columns to datetime"
   ]
  },
  {
   "cell_type": "code",
   "execution_count": 25,
   "id": "5c167bb3",
   "metadata": {
    "ExecuteTime": {
     "end_time": "2022-11-07T11:13:01.034574Z",
     "start_time": "2022-11-07T11:13:00.106916Z"
    },
    "hidden": true
   },
   "outputs": [],
   "source": [
    "# converting date columns to datetime\n",
    "date_columns = ['shipping_limit_date', 'order_purchase_timestamp', 'order_approved_at', 'order_delivered_carrier_date', 'order_delivered_customer_date', 'order_estimated_delivery_date']\n",
    "for col in date_columns:\n",
    "    df[col] = pd.to_datetime(df[col], format='%Y-%m-%d %H:%M:%S')"
   ]
  },
  {
   "cell_type": "markdown",
   "id": "3934869d",
   "metadata": {},
   "source": [
    "## Preprocessing Some columns"
   ]
  },
  {
   "cell_type": "markdown",
   "id": "81eff65a",
   "metadata": {
    "ExecuteTime": {
     "end_time": "2022-11-07T11:15:25.568770Z",
     "start_time": "2022-11-07T11:15:25.269685Z"
    },
    "heading_collapsed": true
   },
   "source": [
    "### cleaning up name columns"
   ]
  },
  {
   "cell_type": "code",
   "execution_count": 32,
   "id": "ad7517cb",
   "metadata": {
    "ExecuteTime": {
     "end_time": "2022-11-07T11:16:16.782023Z",
     "start_time": "2022-11-07T11:16:16.575960Z"
    },
    "hidden": true
   },
   "outputs": [
    {
     "data": {
      "text/html": [
       "<div>\n",
       "<style scoped>\n",
       "    .dataframe tbody tr th:only-of-type {\n",
       "        vertical-align: middle;\n",
       "    }\n",
       "\n",
       "    .dataframe tbody tr th {\n",
       "        vertical-align: top;\n",
       "    }\n",
       "\n",
       "    .dataframe thead th {\n",
       "        text-align: right;\n",
       "    }\n",
       "</style>\n",
       "<table border=\"1\" class=\"dataframe\">\n",
       "  <thead>\n",
       "    <tr style=\"text-align: right;\">\n",
       "      <th></th>\n",
       "      <th>customer_city</th>\n",
       "      <th>payment_type</th>\n",
       "    </tr>\n",
       "  </thead>\n",
       "  <tbody>\n",
       "    <tr>\n",
       "      <th>0</th>\n",
       "      <td>Sao Paulo</td>\n",
       "      <td>Credit Card</td>\n",
       "    </tr>\n",
       "    <tr>\n",
       "      <th>1</th>\n",
       "      <td>Sao Paulo</td>\n",
       "      <td>Voucher</td>\n",
       "    </tr>\n",
       "    <tr>\n",
       "      <th>2</th>\n",
       "      <td>Sao Paulo</td>\n",
       "      <td>Voucher</td>\n",
       "    </tr>\n",
       "    <tr>\n",
       "      <th>3</th>\n",
       "      <td>Sao Paulo</td>\n",
       "      <td>Credit Card</td>\n",
       "    </tr>\n",
       "    <tr>\n",
       "      <th>4</th>\n",
       "      <td>Sao Paulo</td>\n",
       "      <td>Credit Card</td>\n",
       "    </tr>\n",
       "    <tr>\n",
       "      <th>...</th>\n",
       "      <td>...</td>\n",
       "      <td>...</td>\n",
       "    </tr>\n",
       "    <tr>\n",
       "      <th>118429</th>\n",
       "      <td>Sao Paulo</td>\n",
       "      <td>Credit Card</td>\n",
       "    </tr>\n",
       "    <tr>\n",
       "      <th>118430</th>\n",
       "      <td>Sao Paulo</td>\n",
       "      <td>Credit Card</td>\n",
       "    </tr>\n",
       "    <tr>\n",
       "      <th>118431</th>\n",
       "      <td>Campo Do Tenente</td>\n",
       "      <td>Credit Card</td>\n",
       "    </tr>\n",
       "    <tr>\n",
       "      <th>118432</th>\n",
       "      <td>Sao Jose Dos Campos</td>\n",
       "      <td>Credit Card</td>\n",
       "    </tr>\n",
       "    <tr>\n",
       "      <th>118433</th>\n",
       "      <td>Lapa</td>\n",
       "      <td>Debit Card</td>\n",
       "    </tr>\n",
       "  </tbody>\n",
       "</table>\n",
       "<p>118434 rows × 2 columns</p>\n",
       "</div>"
      ],
      "text/plain": [
       "              customer_city payment_type\n",
       "0                 Sao Paulo  Credit Card\n",
       "1                 Sao Paulo      Voucher\n",
       "2                 Sao Paulo      Voucher\n",
       "3                 Sao Paulo  Credit Card\n",
       "4                 Sao Paulo  Credit Card\n",
       "...                     ...          ...\n",
       "118429            Sao Paulo  Credit Card\n",
       "118430            Sao Paulo  Credit Card\n",
       "118431     Campo Do Tenente  Credit Card\n",
       "118432  Sao Jose Dos Campos  Credit Card\n",
       "118433                 Lapa   Debit Card\n",
       "\n",
       "[118434 rows x 2 columns]"
      ]
     },
     "execution_count": 32,
     "metadata": {},
     "output_type": "execute_result"
    }
   ],
   "source": [
    "df['customer_city'] = df['customer_city'].str.title() # 대문자 변경 | 보기 쉬워짐\n",
    "df['payment_type'] = df['payment_type'].str.replace('_',' ').str.title() #언더바를 띄어쓰기로 변환\n",
    "\n",
    "df[['customer_city','payment_type']]"
   ]
  },
  {
   "cell_type": "markdown",
   "id": "169680a5",
   "metadata": {},
   "source": [
    "### engineering new/essential columns"
   ]
  },
  {
   "cell_type": "code",
   "execution_count": null,
   "id": "296191ae",
   "metadata": {},
   "outputs": [],
   "source": []
  },
  {
   "cell_type": "code",
   "execution_count": null,
   "id": "0f14bd33",
   "metadata": {},
   "outputs": [],
   "source": []
  },
  {
   "cell_type": "code",
   "execution_count": null,
   "id": "0b3668d3",
   "metadata": {},
   "outputs": [],
   "source": []
  },
  {
   "cell_type": "code",
   "execution_count": null,
   "id": "c690f1ae",
   "metadata": {},
   "outputs": [],
   "source": []
  },
  {
   "cell_type": "code",
   "execution_count": null,
   "id": "eacfabc6",
   "metadata": {},
   "outputs": [],
   "source": []
  },
  {
   "cell_type": "code",
   "execution_count": null,
   "id": "74efb21a",
   "metadata": {},
   "outputs": [],
   "source": []
  },
  {
   "cell_type": "code",
   "execution_count": null,
   "id": "7619280d",
   "metadata": {},
   "outputs": [],
   "source": []
  },
  {
   "cell_type": "code",
   "execution_count": null,
   "id": "03e26df7",
   "metadata": {},
   "outputs": [],
   "source": []
  },
  {
   "cell_type": "code",
   "execution_count": null,
   "id": "00e3f8a2",
   "metadata": {},
   "outputs": [],
   "source": []
  },
  {
   "cell_type": "code",
   "execution_count": null,
   "id": "8d93d8b4",
   "metadata": {},
   "outputs": [],
   "source": []
  },
  {
   "cell_type": "code",
   "execution_count": null,
   "id": "491fdd66",
   "metadata": {},
   "outputs": [],
   "source": []
  }
 ],
 "metadata": {
  "hide_input": false,
  "kernelspec": {
   "display_name": "Python 3",
   "language": "python",
   "name": "python3"
  },
  "language_info": {
   "codemirror_mode": {
    "name": "ipython",
    "version": 3
   },
   "file_extension": ".py",
   "mimetype": "text/x-python",
   "name": "python",
   "nbconvert_exporter": "python",
   "pygments_lexer": "ipython3",
   "version": "3.8.8"
  },
  "toc": {
   "base_numbering": 1,
   "nav_menu": {},
   "number_sections": true,
   "sideBar": true,
   "skip_h1_title": false,
   "title_cell": "Table of Contents",
   "title_sidebar": "Contents",
   "toc_cell": false,
   "toc_position": {},
   "toc_section_display": true,
   "toc_window_display": false
  },
  "varInspector": {
   "cols": {
    "lenName": 16,
    "lenType": 16,
    "lenVar": 40
   },
   "kernels_config": {
    "python": {
     "delete_cmd_postfix": "",
     "delete_cmd_prefix": "del ",
     "library": "var_list.py",
     "varRefreshCmd": "print(var_dic_list())"
    },
    "r": {
     "delete_cmd_postfix": ") ",
     "delete_cmd_prefix": "rm(",
     "library": "var_list.r",
     "varRefreshCmd": "cat(var_dic_list()) "
    }
   },
   "types_to_exclude": [
    "module",
    "function",
    "builtin_function_or_method",
    "instance",
    "_Feature"
   ],
   "window_display": false
  }
 },
 "nbformat": 4,
 "nbformat_minor": 5
}
