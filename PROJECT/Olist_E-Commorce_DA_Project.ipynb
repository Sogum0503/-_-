{
 "cells": [
  {
   "cell_type": "markdown",
   "id": "86094f5c",
   "metadata": {
    "heading_collapsed": true
   },
   "source": [
    "# 데이터 셋\n",
    "\n",
    "* 데이터 출처 : kaggle의 olist sellers dataset을 사용했습니다 \n",
    "  * url : https://www.kaggle.com/olistbr/brazilian-ecommerce?select=olist_sellers_dataset.csv"
   ]
  },
  {
   "cell_type": "markdown",
   "id": "caf3685b",
   "metadata": {},
   "source": [
    "# 분석 목표 \n",
    "* 현재 상황을 파악하여 매출 개선 계획 \n",
    "* 2023년 프로모션 진행은 언제, 어느 카테고리에서 진행하는 것이 좋을까?\n",
    "\n",
    "-----\n",
    "가설 : \n",
    "* 우리 서비스의 매출 상황은 점점 성장하고 있을 것이다.\n",
    "    * 전체적인 구매자 수가 증가했다\n",
    "    * ARPPU가 증가했다\n",
    "    * 장바구니 크기가 증가했다\n",
    "    * 연간 구입 건수가 증가했다\n",
    "\n",
    "* 분기별 매출에서는 4분기 매출이 가장 높을 것이다.\n",
    "    * 연말과 블랙 프라이데이가 집중되어 있는 4분기 매출이 가장 높을 것.\n",
    "\n",
    "* 주말보다 평일에서의 매출이 더 많이 나올 것이다 \n",
    "    * 주말에는 외부 활동이 많아지기 때문에 평일에 구매가 더 많이 일어날 것"
   ]
  },
  {
   "cell_type": "markdown",
   "id": "89b9b9e2",
   "metadata": {},
   "source": [
    "# 데이터 정제 "
   ]
  },
  {
   "cell_type": "markdown",
   "id": "034e12e2",
   "metadata": {},
   "source": [
    "## 분석 시 필요한 라이브러리 "
   ]
  },
  {
   "cell_type": "code",
   "execution_count": 1,
   "id": "814a7b9a",
   "metadata": {
    "ExecuteTime": {
     "end_time": "2022-11-23T10:48:43.091509Z",
     "start_time": "2022-11-23T10:48:39.696375Z"
    }
   },
   "outputs": [],
   "source": [
    "import numpy as np\n",
    "import pandas as pd \n",
    "import matplotlib.pyplot as plt\n",
    "from matplotlib import style \n",
    "import seaborn as sns\n",
    "from datetime import datetime,timedelta\n",
    "import warnings \n",
    "warnings.filterwarnings(\"ignore\", category=DeprecationWarning)\n",
    "warnings.simplefilter(\"ignore\")\n",
    "pd.set_option('display.max_columns', 100)\n",
    "\n",
    "import gc \n",
    "import itertools "
   ]
  },
  {
   "cell_type": "code",
   "execution_count": 2,
   "id": "5331278b",
   "metadata": {
    "ExecuteTime": {
     "end_time": "2022-11-23T10:48:43.121522Z",
     "start_time": "2022-11-23T10:48:43.094513Z"
    }
   },
   "outputs": [],
   "source": [
    "# initiate visualization library for jupyter notebook \n",
    "# defining visualization functions \n",
    "\n",
    "# 축 설정 \n",
    "def format_spines(ax, right_border = True):\n",
    "    \n",
    "    ax.spines['bottom'].set_color('#666666') # 회색 선 \n",
    "    ax.spines['left'].set_color('#666666')\n",
    "    ax.spines['top'].set_visible(False) # top 선은 안가지기 \n",
    "    if right_border:\n",
    "        ax.spines['right'].set_color('#FFFFFF') # 흰색 처리\n",
    "    else:\n",
    "        ax.spines['right'].set_color('#FFFFFF')\n",
    "    ax.patch.set_facecolor('#FFFFFF') # 배경색 흰색으로 처리 \n",
    "\n",
    "def count_plot(feature, df, colors='Blues_d', hue=False, ax=None, title=''):\n",
    "    \n",
    "    # Preparing variables\n",
    "    ncount = len(df)\n",
    "    if hue != False:\n",
    "        ax = sns.countplot(x=feature, data=df, palette=colors, hue=hue, ax=ax)\n",
    "    else:\n",
    "        ax = sns.countplot(x=feature, data=df, palette=colors, ax=ax)\n",
    "        \n",
    "    format_spines(ax)\n",
    "\n",
    "    # Setting percentage\n",
    "    for p in ax.patches:\n",
    "        x=p.get_bbox().get_points()[:,0]\n",
    "        y=p.get_bbox().get_points()[1,1]\n",
    "        ax.annotate('{:.1f}%'.format(100.*y/ncount), (x.mean(), y), \n",
    "                ha='center', va='bottom') # set the alignment of the text\n",
    "    \n",
    "    # Final configuration\n",
    "    if not hue:\n",
    "        ax.set_title(df[feature].describe().name + ' Analysis', size=13, pad=15)\n",
    "    else:\n",
    "        ax.set_title(df[feature].describe().name + ' Analysis by ' + hue, size=13, pad=15)  \n",
    "    if title != '':\n",
    "        ax.set_title(title)       \n",
    "    plt.tight_layout()\n",
    "    \n",
    "    \n",
    "# bar plot \n",
    "def bar_plot(x, y, df, colors = 'Blues_d', hue=False, ax=None, value=False, title=''):\n",
    "    \n",
    "    # preparing variables \n",
    "    try: \n",
    "        ncount = sum(df[y])\n",
    "    except:\n",
    "        ncount = sum(df[x])\n",
    "    \n",
    "    #fig, ax = plt.subplots()\n",
    "    if hue != False:\n",
    "        ax = sns.barplot(x=x, y=y, data=df, palette=colors, hue=hue, ax=ax, ci=None)\n",
    "    else:\n",
    "        ax = sns.barplot(x=x, y=y, data=df, palette=colors, ax=ax, ci=None)\n",
    "        \n",
    "    # setting borders\n",
    "    format_spines(ax)\n",
    "    \n",
    "    # Setting percentage\n",
    "    for p in ax.patches:\n",
    "        xp=p.get_bbox().get_points()[:,0]\n",
    "        yp=p.get_bbox().get_points()[1,1]\n",
    "        if value:\n",
    "            ax.annotate('{:.2f}k'.format(yp/1000), (xp.mean(), yp), \n",
    "                    ha='center', va='bottom') # set the alignment of the text\n",
    "        else:\n",
    "            ax.annotate('{:.1f}%'.format(100.*yp/ncount), (xp.mean(), yp), \n",
    "                    ha='center', va='bottom') # set the alignment of the text\n",
    "    if not hue:\n",
    "        ax.set_title(df[x].describe().name + ' Analysis', size=12, pad=15)\n",
    "    else:\n",
    "        ax.set_title(df[x].describe().name + ' Analysis by ' + hue, size=12, pad=15)\n",
    "    if title != '':\n",
    "        ax.set_title(title)  \n",
    "    plt.tight_layout()"
   ]
  },
  {
   "cell_type": "markdown",
   "id": "60cdb103",
   "metadata": {},
   "source": [
    "## 데이터 불러오기 \n"
   ]
  },
  {
   "cell_type": "code",
   "execution_count": 3,
   "id": "fbac900d",
   "metadata": {
    "ExecuteTime": {
     "end_time": "2022-11-23T10:48:44.462170Z",
     "start_time": "2022-11-23T10:48:43.124521Z"
    }
   },
   "outputs": [],
   "source": [
    "customers = pd.read_csv(\"c:/data/olist/olist_customers_dataset.csv\")\n",
    "order_items = pd.read_csv('c:/data/olist/olist_order_items_dataset.csv')\n",
    "order_payments = pd.read_csv(\"c:/data/olist/olist_order_payments_dataset.csv\")\n",
    "products = pd.read_csv('c:/data/olist/olist_products_dataset.csv')\n",
    "category_translation = pd.read_csv(\"c:/data/olist/product_category_name_translation.csv\")\n",
    "orders = pd.read_csv('c:/data/olist/olist_orders_dataset.csv')\n",
    "translation = pd.read_csv('c:/data/olist/product_category_name_translation.csv')"
   ]
  },
  {
   "cell_type": "code",
   "execution_count": 4,
   "id": "f13929bf",
   "metadata": {
    "ExecuteTime": {
     "end_time": "2022-11-23T10:48:44.481178Z",
     "start_time": "2022-11-23T10:48:44.465175Z"
    }
   },
   "outputs": [
    {
     "name": "stdout",
     "output_type": "stream",
     "text": [
      "Customers [99441, 5]\n",
      "Order Items [112650, 7]\n",
      "Payments [103886, 5]\n",
      "Orders [99441, 8]\n",
      "Products [32951, 9]\n",
      "Translation [71, 2]\n"
     ]
    }
   ],
   "source": [
    "# displaying data shape \n",
    "dataset = {\n",
    "    'Customers' : customers,\n",
    "    'Order Items' : order_items,\n",
    "    'Payments' : order_payments, \n",
    "    'Orders' : orders,\n",
    "    'Products' : products,\n",
    "    'Translation' : category_translation\n",
    "}\n",
    "\n",
    "# x(총 row수), y(컬럼 수)\n",
    "for x,y in dataset.items():\n",
    "    print(f'{x}', (list(y.shape)))"
   ]
  },
  {
   "cell_type": "code",
   "execution_count": 5,
   "id": "36b21413",
   "metadata": {
    "ExecuteTime": {
     "end_time": "2022-11-23T10:48:44.510695Z",
     "start_time": "2022-11-23T10:48:44.484190Z"
    }
   },
   "outputs": [
    {
     "name": "stdout",
     "output_type": "stream",
     "text": [
      "Customers ['customer_id', 'customer_unique_id', 'customer_zip_code_prefix', 'customer_city', 'customer_state']\n",
      "\n",
      "Order Items ['order_id', 'order_item_id', 'product_id', 'seller_id', 'shipping_limit_date', 'price', 'freight_value']\n",
      "\n",
      "Payments ['order_id', 'payment_sequential', 'payment_type', 'payment_installments', 'payment_value']\n",
      "\n",
      "Orders ['order_id', 'customer_id', 'order_status', 'order_purchase_timestamp', 'order_approved_at', 'order_delivered_carrier_date', 'order_delivered_customer_date', 'order_estimated_delivery_date']\n",
      "\n",
      "Products ['product_id', 'product_category_name', 'product_name_lenght', 'product_description_lenght', 'product_photos_qty', 'product_weight_g', 'product_length_cm', 'product_height_cm', 'product_width_cm']\n",
      "\n",
      "Translation ['product_category_name', 'product_category_name_english']\n",
      "\n"
     ]
    }
   ],
   "source": [
    "# displaying dataset column names \n",
    "for x, y in dataset.items():\n",
    "    print(f'{x}', f'{list(y.columns)}\\n')"
   ]
  },
  {
   "cell_type": "code",
   "execution_count": 6,
   "id": "84dde9fe",
   "metadata": {
    "ExecuteTime": {
     "end_time": "2022-11-23T10:48:44.618681Z",
     "start_time": "2022-11-23T10:48:44.512695Z"
    }
   },
   "outputs": [
    {
     "name": "stdout",
     "output_type": "stream",
     "text": [
      "Customers: False\n",
      "Order Items: False\n",
      "Payments: False\n",
      "Orders: True\n",
      "Products: True\n",
      "Translation: False\n"
     ]
    }
   ],
   "source": [
    "# checking for null values in dataset \n",
    "for x, y in dataset.items():\n",
    "    print(f'{x}: {y.isnull().any().any()}')"
   ]
  },
  {
   "cell_type": "code",
   "execution_count": 7,
   "id": "3cb0acde",
   "metadata": {
    "ExecuteTime": {
     "end_time": "2022-11-23T10:48:44.770466Z",
     "start_time": "2022-11-23T10:48:44.621681Z"
    }
   },
   "outputs": [
    {
     "name": "stdout",
     "output_type": "stream",
     "text": [
      "Orders [99441, 8] \n",
      "\n",
      "order_id                            0\n",
      "customer_id                         0\n",
      "order_status                        0\n",
      "order_purchase_timestamp            0\n",
      "order_approved_at                 160\n",
      "order_delivered_carrier_date     1783\n",
      "order_delivered_customer_date    2965\n",
      "order_estimated_delivery_date       0\n",
      "dtype: int64\n",
      "\n",
      "Products [32951, 9] \n",
      "\n",
      "product_id                      0\n",
      "product_category_name         610\n",
      "product_name_lenght           610\n",
      "product_description_lenght    610\n",
      "product_photos_qty            610\n",
      "product_weight_g                2\n",
      "product_length_cm               2\n",
      "product_height_cm               2\n",
      "product_width_cm                2\n",
      "dtype: int64\n",
      "\n"
     ]
    }
   ],
   "source": [
    "# taking count for dataset with missing values \n",
    "for x, y in dataset.items():\n",
    "    if y.isnull().any().any():\n",
    "        print(f'{x}', (list(y.shape)),'\\n')\n",
    "        print(f'{y.isnull().sum()}\\n')"
   ]
  },
  {
   "cell_type": "markdown",
   "id": "72c097b8",
   "metadata": {
    "ExecuteTime": {
     "end_time": "2022-11-07T10:40:22.494828Z",
     "start_time": "2022-11-07T10:40:22.472825Z"
    }
   },
   "source": [
    "## creating master dataframe "
   ]
  },
  {
   "cell_type": "markdown",
   "id": "4613880f",
   "metadata": {},
   "source": [
    "**분석의 편의성을 위해 결측치는 drop 처리 하였습니다.** "
   ]
  },
  {
   "cell_type": "markdown",
   "id": "ef9b54d3",
   "metadata": {},
   "source": [
    "### Translate Product Name Into English"
   ]
  },
  {
   "cell_type": "code",
   "execution_count": 8,
   "id": "f45730d2",
   "metadata": {
    "ExecuteTime": {
     "end_time": "2022-11-23T10:48:44.831421Z",
     "start_time": "2022-11-23T10:48:44.773467Z"
    }
   },
   "outputs": [
    {
     "data": {
      "text/html": [
       "<div>\n",
       "<style scoped>\n",
       "    .dataframe tbody tr th:only-of-type {\n",
       "        vertical-align: middle;\n",
       "    }\n",
       "\n",
       "    .dataframe tbody tr th {\n",
       "        vertical-align: top;\n",
       "    }\n",
       "\n",
       "    .dataframe thead th {\n",
       "        text-align: right;\n",
       "    }\n",
       "</style>\n",
       "<table border=\"1\" class=\"dataframe\">\n",
       "  <thead>\n",
       "    <tr style=\"text-align: right;\">\n",
       "      <th></th>\n",
       "      <th>product_id</th>\n",
       "      <th>product_category_name</th>\n",
       "      <th>product_name_lenght</th>\n",
       "      <th>product_description_lenght</th>\n",
       "      <th>product_photos_qty</th>\n",
       "      <th>product_weight_g</th>\n",
       "      <th>product_length_cm</th>\n",
       "      <th>product_height_cm</th>\n",
       "      <th>product_width_cm</th>\n",
       "      <th>product_category_name_english</th>\n",
       "    </tr>\n",
       "  </thead>\n",
       "  <tbody>\n",
       "    <tr>\n",
       "      <th>0</th>\n",
       "      <td>1e9e8ef04dbcff4541ed26657ea517e5</td>\n",
       "      <td>perfumaria</td>\n",
       "      <td>40.0</td>\n",
       "      <td>287.0</td>\n",
       "      <td>1.0</td>\n",
       "      <td>225.0</td>\n",
       "      <td>16.0</td>\n",
       "      <td>10.0</td>\n",
       "      <td>14.0</td>\n",
       "      <td>perfumery</td>\n",
       "    </tr>\n",
       "    <tr>\n",
       "      <th>1</th>\n",
       "      <td>6a2fb4dd53d2cdb88e0432f1284a004c</td>\n",
       "      <td>perfumaria</td>\n",
       "      <td>39.0</td>\n",
       "      <td>346.0</td>\n",
       "      <td>2.0</td>\n",
       "      <td>400.0</td>\n",
       "      <td>27.0</td>\n",
       "      <td>5.0</td>\n",
       "      <td>20.0</td>\n",
       "      <td>perfumery</td>\n",
       "    </tr>\n",
       "    <tr>\n",
       "      <th>2</th>\n",
       "      <td>0d009643171aee696f4733340bc2fdd0</td>\n",
       "      <td>perfumaria</td>\n",
       "      <td>52.0</td>\n",
       "      <td>150.0</td>\n",
       "      <td>1.0</td>\n",
       "      <td>422.0</td>\n",
       "      <td>21.0</td>\n",
       "      <td>16.0</td>\n",
       "      <td>18.0</td>\n",
       "      <td>perfumery</td>\n",
       "    </tr>\n",
       "    <tr>\n",
       "      <th>3</th>\n",
       "      <td>b1eae565a61935e0011ee7682fef9dc9</td>\n",
       "      <td>perfumaria</td>\n",
       "      <td>49.0</td>\n",
       "      <td>460.0</td>\n",
       "      <td>2.0</td>\n",
       "      <td>267.0</td>\n",
       "      <td>17.0</td>\n",
       "      <td>13.0</td>\n",
       "      <td>17.0</td>\n",
       "      <td>perfumery</td>\n",
       "    </tr>\n",
       "    <tr>\n",
       "      <th>4</th>\n",
       "      <td>8da90b37f0fb171b4877c124f965b1f6</td>\n",
       "      <td>perfumaria</td>\n",
       "      <td>56.0</td>\n",
       "      <td>733.0</td>\n",
       "      <td>3.0</td>\n",
       "      <td>377.0</td>\n",
       "      <td>18.0</td>\n",
       "      <td>13.0</td>\n",
       "      <td>15.0</td>\n",
       "      <td>perfumery</td>\n",
       "    </tr>\n",
       "    <tr>\n",
       "      <th>...</th>\n",
       "      <td>...</td>\n",
       "      <td>...</td>\n",
       "      <td>...</td>\n",
       "      <td>...</td>\n",
       "      <td>...</td>\n",
       "      <td>...</td>\n",
       "      <td>...</td>\n",
       "      <td>...</td>\n",
       "      <td>...</td>\n",
       "      <td>...</td>\n",
       "    </tr>\n",
       "    <tr>\n",
       "      <th>32946</th>\n",
       "      <td>13b25797ad1e6d6c7cd3cbeb35f8ee7a</td>\n",
       "      <td>moveis_colchao_e_estofado</td>\n",
       "      <td>44.0</td>\n",
       "      <td>348.0</td>\n",
       "      <td>1.0</td>\n",
       "      <td>18250.0</td>\n",
       "      <td>25.0</td>\n",
       "      <td>25.0</td>\n",
       "      <td>25.0</td>\n",
       "      <td>furniture_mattress_and_upholstery</td>\n",
       "    </tr>\n",
       "    <tr>\n",
       "      <th>32947</th>\n",
       "      <td>dc36a7859b743d8610a2bbbaea26ece9</td>\n",
       "      <td>moveis_colchao_e_estofado</td>\n",
       "      <td>29.0</td>\n",
       "      <td>2073.0</td>\n",
       "      <td>2.0</td>\n",
       "      <td>2500.0</td>\n",
       "      <td>41.0</td>\n",
       "      <td>21.0</td>\n",
       "      <td>21.0</td>\n",
       "      <td>furniture_mattress_and_upholstery</td>\n",
       "    </tr>\n",
       "    <tr>\n",
       "      <th>32948</th>\n",
       "      <td>107fde0930956120d1e13dd1062fbb46</td>\n",
       "      <td>moveis_colchao_e_estofado</td>\n",
       "      <td>51.0</td>\n",
       "      <td>418.0</td>\n",
       "      <td>1.0</td>\n",
       "      <td>30000.0</td>\n",
       "      <td>60.0</td>\n",
       "      <td>73.0</td>\n",
       "      <td>60.0</td>\n",
       "      <td>furniture_mattress_and_upholstery</td>\n",
       "    </tr>\n",
       "    <tr>\n",
       "      <th>32949</th>\n",
       "      <td>726b4e18f00255e2e63491bcba3f60b8</td>\n",
       "      <td>moveis_colchao_e_estofado</td>\n",
       "      <td>41.0</td>\n",
       "      <td>866.0</td>\n",
       "      <td>1.0</td>\n",
       "      <td>1700.0</td>\n",
       "      <td>70.0</td>\n",
       "      <td>10.0</td>\n",
       "      <td>100.0</td>\n",
       "      <td>furniture_mattress_and_upholstery</td>\n",
       "    </tr>\n",
       "    <tr>\n",
       "      <th>32950</th>\n",
       "      <td>1dceebcc5f23c02ea23e16d5bedca000</td>\n",
       "      <td>cds_dvds_musicais</td>\n",
       "      <td>47.0</td>\n",
       "      <td>117.0</td>\n",
       "      <td>2.0</td>\n",
       "      <td>550.0</td>\n",
       "      <td>35.0</td>\n",
       "      <td>15.0</td>\n",
       "      <td>25.0</td>\n",
       "      <td>cds_dvds_musicals</td>\n",
       "    </tr>\n",
       "  </tbody>\n",
       "</table>\n",
       "<p>32951 rows × 10 columns</p>\n",
       "</div>"
      ],
      "text/plain": [
       "                             product_id      product_category_name  \\\n",
       "0      1e9e8ef04dbcff4541ed26657ea517e5                 perfumaria   \n",
       "1      6a2fb4dd53d2cdb88e0432f1284a004c                 perfumaria   \n",
       "2      0d009643171aee696f4733340bc2fdd0                 perfumaria   \n",
       "3      b1eae565a61935e0011ee7682fef9dc9                 perfumaria   \n",
       "4      8da90b37f0fb171b4877c124f965b1f6                 perfumaria   \n",
       "...                                 ...                        ...   \n",
       "32946  13b25797ad1e6d6c7cd3cbeb35f8ee7a  moveis_colchao_e_estofado   \n",
       "32947  dc36a7859b743d8610a2bbbaea26ece9  moveis_colchao_e_estofado   \n",
       "32948  107fde0930956120d1e13dd1062fbb46  moveis_colchao_e_estofado   \n",
       "32949  726b4e18f00255e2e63491bcba3f60b8  moveis_colchao_e_estofado   \n",
       "32950  1dceebcc5f23c02ea23e16d5bedca000          cds_dvds_musicais   \n",
       "\n",
       "       product_name_lenght  product_description_lenght  product_photos_qty  \\\n",
       "0                     40.0                       287.0                 1.0   \n",
       "1                     39.0                       346.0                 2.0   \n",
       "2                     52.0                       150.0                 1.0   \n",
       "3                     49.0                       460.0                 2.0   \n",
       "4                     56.0                       733.0                 3.0   \n",
       "...                    ...                         ...                 ...   \n",
       "32946                 44.0                       348.0                 1.0   \n",
       "32947                 29.0                      2073.0                 2.0   \n",
       "32948                 51.0                       418.0                 1.0   \n",
       "32949                 41.0                       866.0                 1.0   \n",
       "32950                 47.0                       117.0                 2.0   \n",
       "\n",
       "       product_weight_g  product_length_cm  product_height_cm  \\\n",
       "0                 225.0               16.0               10.0   \n",
       "1                 400.0               27.0                5.0   \n",
       "2                 422.0               21.0               16.0   \n",
       "3                 267.0               17.0               13.0   \n",
       "4                 377.0               18.0               13.0   \n",
       "...                 ...                ...                ...   \n",
       "32946           18250.0               25.0               25.0   \n",
       "32947            2500.0               41.0               21.0   \n",
       "32948           30000.0               60.0               73.0   \n",
       "32949            1700.0               70.0               10.0   \n",
       "32950             550.0               35.0               15.0   \n",
       "\n",
       "       product_width_cm      product_category_name_english  \n",
       "0                  14.0                          perfumery  \n",
       "1                  20.0                          perfumery  \n",
       "2                  18.0                          perfumery  \n",
       "3                  17.0                          perfumery  \n",
       "4                  15.0                          perfumery  \n",
       "...                 ...                                ...  \n",
       "32946              25.0  furniture_mattress_and_upholstery  \n",
       "32947              21.0  furniture_mattress_and_upholstery  \n",
       "32948              60.0  furniture_mattress_and_upholstery  \n",
       "32949             100.0  furniture_mattress_and_upholstery  \n",
       "32950              25.0                  cds_dvds_musicals  \n",
       "\n",
       "[32951 rows x 10 columns]"
      ]
     },
     "execution_count": 8,
     "metadata": {},
     "output_type": "execute_result"
    }
   ],
   "source": [
    "products_en = pd.merge(products, category_translation, how = 'outer', on = 'product_category_name')\n",
    "products_en"
   ]
  },
  {
   "cell_type": "code",
   "execution_count": 9,
   "id": "6dcac47a",
   "metadata": {
    "ExecuteTime": {
     "end_time": "2022-11-23T10:48:44.846423Z",
     "start_time": "2022-11-23T10:48:44.834422Z"
    }
   },
   "outputs": [
    {
     "data": {
      "text/plain": [
       "{nan, 'pc_gamer', 'portateis_cozinha_e_preparadores_de_alimentos'}"
      ]
     },
     "execution_count": 9,
     "metadata": {},
     "output_type": "execute_result"
    }
   ],
   "source": [
    "# 어떤 카테고리의 제품 이름이 번역되지 않았는지 찾아봅니다. \n",
    "set(products['product_category_name'].unique()) - set(category_translation['product_category_name'].unique())"
   ]
  },
  {
   "cell_type": "code",
   "execution_count": 10,
   "id": "660aebb8",
   "metadata": {
    "ExecuteTime": {
     "end_time": "2022-11-23T10:48:44.876395Z",
     "start_time": "2022-11-23T10:48:44.848425Z"
    }
   },
   "outputs": [],
   "source": [
    "# 번역되지 않은 카테고리는 수기로 변경함 \n",
    "products_en['product_category_name_english'][products_en['product_category_name'] == 'pc_gamer'] = 'pc_gamer'\n",
    "products_en['product_category_name_english'][products_en['product_category_name'] == 'portateis_cozinha_e_preparadores_de_alimentos'] = 'portable_kitchen_and_food_preparation'\n",
    "products_en['product_category_name_english'][products_en['product_category_name'] == 'nan'] = 'unclassified'"
   ]
  },
  {
   "cell_type": "code",
   "execution_count": 11,
   "id": "a5411a4c",
   "metadata": {
    "ExecuteTime": {
     "end_time": "2022-11-23T10:48:44.891328Z",
     "start_time": "2022-11-23T10:48:44.878394Z"
    }
   },
   "outputs": [],
   "source": [
    "# copy해두기 \n",
    "products = products_en.copy()"
   ]
  },
  {
   "cell_type": "markdown",
   "id": "1a1ffd7d",
   "metadata": {},
   "source": [
    "### merge dataset "
   ]
  },
  {
   "cell_type": "code",
   "execution_count": 12,
   "id": "cdf98a98",
   "metadata": {
    "ExecuteTime": {
     "end_time": "2022-11-23T10:48:45.666407Z",
     "start_time": "2022-11-23T10:48:44.893329Z"
    }
   },
   "outputs": [
    {
     "name": "stdout",
     "output_type": "stream",
     "text": [
      "(118434, 31)\n"
     ]
    }
   ],
   "source": [
    "# creating master dataframe \n",
    "df = pd.merge(orders, order_items, on = 'order_id', how = 'outer')\n",
    "df = pd.merge(df, order_payments, on = 'order_id', how = 'outer')\n",
    "df = pd.merge(df, products, on = 'product_id', how = 'outer')\n",
    "df = pd.merge(df, customers, on = 'customer_id', how = 'outer')\n",
    "print(df.shape)"
   ]
  },
  {
   "cell_type": "markdown",
   "id": "30e272af",
   "metadata": {},
   "source": [
    "### converting data columns to datetime"
   ]
  },
  {
   "cell_type": "code",
   "execution_count": 13,
   "id": "391abe7f",
   "metadata": {
    "ExecuteTime": {
     "end_time": "2022-11-23T10:48:46.626664Z",
     "start_time": "2022-11-23T10:48:45.669391Z"
    }
   },
   "outputs": [],
   "source": [
    "# converting date columns to datetime\n",
    "date_columns = ['shipping_limit_date', 'order_purchase_timestamp', 'order_approved_at', 'order_delivered_carrier_date', 'order_delivered_customer_date', 'order_estimated_delivery_date']\n",
    "for col in date_columns:\n",
    "    df[col] = pd.to_datetime(df[col], format='%Y-%m-%d %H:%M:%S')"
   ]
  },
  {
   "cell_type": "markdown",
   "id": "9f6305b1",
   "metadata": {},
   "source": [
    "## Preprocessing Some columns"
   ]
  },
  {
   "cell_type": "markdown",
   "id": "fb06f546",
   "metadata": {
    "ExecuteTime": {
     "end_time": "2022-11-07T11:15:25.568770Z",
     "start_time": "2022-11-07T11:15:25.269685Z"
    }
   },
   "source": [
    "### cleaning up name columns"
   ]
  },
  {
   "cell_type": "code",
   "execution_count": 14,
   "id": "626a6839",
   "metadata": {
    "ExecuteTime": {
     "end_time": "2022-11-23T10:48:46.869346Z",
     "start_time": "2022-11-23T10:48:46.629671Z"
    }
   },
   "outputs": [
    {
     "data": {
      "text/html": [
       "<div>\n",
       "<style scoped>\n",
       "    .dataframe tbody tr th:only-of-type {\n",
       "        vertical-align: middle;\n",
       "    }\n",
       "\n",
       "    .dataframe tbody tr th {\n",
       "        vertical-align: top;\n",
       "    }\n",
       "\n",
       "    .dataframe thead th {\n",
       "        text-align: right;\n",
       "    }\n",
       "</style>\n",
       "<table border=\"1\" class=\"dataframe\">\n",
       "  <thead>\n",
       "    <tr style=\"text-align: right;\">\n",
       "      <th></th>\n",
       "      <th>customer_city</th>\n",
       "      <th>payment_type</th>\n",
       "    </tr>\n",
       "  </thead>\n",
       "  <tbody>\n",
       "    <tr>\n",
       "      <th>0</th>\n",
       "      <td>Sao Paulo</td>\n",
       "      <td>Credit Card</td>\n",
       "    </tr>\n",
       "    <tr>\n",
       "      <th>1</th>\n",
       "      <td>Sao Paulo</td>\n",
       "      <td>Voucher</td>\n",
       "    </tr>\n",
       "    <tr>\n",
       "      <th>2</th>\n",
       "      <td>Sao Paulo</td>\n",
       "      <td>Voucher</td>\n",
       "    </tr>\n",
       "    <tr>\n",
       "      <th>3</th>\n",
       "      <td>Sao Paulo</td>\n",
       "      <td>Credit Card</td>\n",
       "    </tr>\n",
       "    <tr>\n",
       "      <th>4</th>\n",
       "      <td>Sao Paulo</td>\n",
       "      <td>Credit Card</td>\n",
       "    </tr>\n",
       "    <tr>\n",
       "      <th>...</th>\n",
       "      <td>...</td>\n",
       "      <td>...</td>\n",
       "    </tr>\n",
       "    <tr>\n",
       "      <th>118429</th>\n",
       "      <td>Sao Paulo</td>\n",
       "      <td>Credit Card</td>\n",
       "    </tr>\n",
       "    <tr>\n",
       "      <th>118430</th>\n",
       "      <td>Sao Paulo</td>\n",
       "      <td>Credit Card</td>\n",
       "    </tr>\n",
       "    <tr>\n",
       "      <th>118431</th>\n",
       "      <td>Campo Do Tenente</td>\n",
       "      <td>Credit Card</td>\n",
       "    </tr>\n",
       "    <tr>\n",
       "      <th>118432</th>\n",
       "      <td>Sao Jose Dos Campos</td>\n",
       "      <td>Credit Card</td>\n",
       "    </tr>\n",
       "    <tr>\n",
       "      <th>118433</th>\n",
       "      <td>Lapa</td>\n",
       "      <td>Debit Card</td>\n",
       "    </tr>\n",
       "  </tbody>\n",
       "</table>\n",
       "<p>118434 rows × 2 columns</p>\n",
       "</div>"
      ],
      "text/plain": [
       "              customer_city payment_type\n",
       "0                 Sao Paulo  Credit Card\n",
       "1                 Sao Paulo      Voucher\n",
       "2                 Sao Paulo      Voucher\n",
       "3                 Sao Paulo  Credit Card\n",
       "4                 Sao Paulo  Credit Card\n",
       "...                     ...          ...\n",
       "118429            Sao Paulo  Credit Card\n",
       "118430            Sao Paulo  Credit Card\n",
       "118431     Campo Do Tenente  Credit Card\n",
       "118432  Sao Jose Dos Campos  Credit Card\n",
       "118433                 Lapa   Debit Card\n",
       "\n",
       "[118434 rows x 2 columns]"
      ]
     },
     "execution_count": 14,
     "metadata": {},
     "output_type": "execute_result"
    }
   ],
   "source": [
    "df['customer_city'] = df['customer_city'].str.title() # 대문자 변경 | 보기 쉬워짐\n",
    "df['payment_type'] = df['payment_type'].str.replace('_',' ').str.title() #언더바를 띄어쓰기로 변환\n",
    "\n",
    "df[['customer_city','payment_type']]"
   ]
  },
  {
   "cell_type": "markdown",
   "id": "15163124",
   "metadata": {},
   "source": [
    "### engineering new/essential columns"
   ]
  },
  {
   "cell_type": "code",
   "execution_count": 15,
   "id": "3530a83f",
   "metadata": {
    "ExecuteTime": {
     "end_time": "2022-11-23T10:48:46.884331Z",
     "start_time": "2022-11-23T10:48:46.871329Z"
    }
   },
   "outputs": [],
   "source": [
    "# 예상 배송일 \n",
    "df['delivery_against_estimated'] = (df['order_estimated_delivery_date'] - df['order_delivered_customer_date']).dt.days"
   ]
  },
  {
   "cell_type": "code",
   "execution_count": 16,
   "id": "5f0c9a43",
   "metadata": {
    "ExecuteTime": {
     "end_time": "2022-11-23T10:48:47.337844Z",
     "start_time": "2022-11-23T10:48:46.886331Z"
    }
   },
   "outputs": [],
   "source": [
    "# 구매 년도를 새로운 컬럼으로 변경\n",
    "df['order_purchase_year'] = df['order_purchase_timestamp'].apply(lambda x : x.year)"
   ]
  },
  {
   "cell_type": "code",
   "execution_count": 17,
   "id": "1a11be5e",
   "metadata": {
    "ExecuteTime": {
     "end_time": "2022-11-23T10:48:47.732500Z",
     "start_time": "2022-11-23T10:48:47.339854Z"
    }
   },
   "outputs": [],
   "source": [
    "# 구매 분기\n",
    "df['order_purchase_quarter'] = df['order_purchase_timestamp'].apply(lambda x : x.quarter)"
   ]
  },
  {
   "cell_type": "code",
   "execution_count": 18,
   "id": "f45918a2",
   "metadata": {
    "ExecuteTime": {
     "end_time": "2022-11-23T10:48:48.131227Z",
     "start_time": "2022-11-23T10:48:47.734489Z"
    }
   },
   "outputs": [],
   "source": [
    "# 구매 달 \n",
    "df['order_purchase_month'] = df['order_purchase_timestamp'].apply(lambda x : x.month)"
   ]
  },
  {
   "cell_type": "code",
   "execution_count": 19,
   "id": "06c1d88e",
   "metadata": {
    "ExecuteTime": {
     "end_time": "2022-11-23T10:48:48.575264Z",
     "start_time": "2022-11-23T10:48:48.132222Z"
    }
   },
   "outputs": [],
   "source": [
    "# 구매 주 \n",
    "df['order_purchase_dayofweek'] = df['order_purchase_timestamp'].apply(lambda x : x.dayofweek)"
   ]
  },
  {
   "cell_type": "code",
   "execution_count": 20,
   "id": "a2b560fb",
   "metadata": {
    "ExecuteTime": {
     "end_time": "2022-11-23T10:48:48.956497Z",
     "start_time": "2022-11-23T10:48:48.578223Z"
    }
   },
   "outputs": [],
   "source": [
    "# 구매 hour \n",
    "df['order_purchase_hour'] = df['order_purchase_timestamp'].apply(lambda x : x.hour)"
   ]
  },
  {
   "cell_type": "code",
   "execution_count": 21,
   "id": "274effa8",
   "metadata": {
    "ExecuteTime": {
     "end_time": "2022-11-23T10:48:48.971387Z",
     "start_time": "2022-11-23T10:48:48.958392Z"
    }
   },
   "outputs": [],
   "source": [
    "# 구매 데이 \n",
    "df['order_purchase_day'] = df['order_purchase_dayofweek'].map({0:'Mon',1:'Tue',2:'Wed',3:'Thu',4:'Fri',5:'Sat',6:'Sun'})"
   ]
  },
  {
   "cell_type": "markdown",
   "id": "86fcb37f",
   "metadata": {
    "ExecuteTime": {
     "end_time": "2022-11-07T18:29:13.656743Z",
     "start_time": "2022-11-07T18:29:13.646490Z"
    }
   },
   "source": [
    "### changing the month attribute for correct ordenation "
   ]
  },
  {
   "cell_type": "code",
   "execution_count": 22,
   "id": "8c31ff5e",
   "metadata": {
    "ExecuteTime": {
     "end_time": "2022-11-23T10:48:48.986390Z",
     "start_time": "2022-11-23T10:48:48.975399Z"
    }
   },
   "outputs": [
    {
     "data": {
      "text/plain": [
       "0         10\n",
       "1         10\n",
       "2         10\n",
       "3          8\n",
       "4          8\n",
       "          ..\n",
       "118429     8\n",
       "118430     8\n",
       "118431    12\n",
       "118432     3\n",
       "118433     3\n",
       "Name: order_purchase_month, Length: 118434, dtype: int64"
      ]
     },
     "execution_count": 22,
     "metadata": {},
     "output_type": "execute_result"
    }
   ],
   "source": [
    "# 기존 월은 1~12로 구성되어 있음. \n",
    "df['order_purchase_month']"
   ]
  },
  {
   "cell_type": "code",
   "execution_count": 23,
   "id": "793c98cd",
   "metadata": {
    "ExecuteTime": {
     "end_time": "2022-11-23T10:48:49.091504Z",
     "start_time": "2022-11-23T10:48:48.988392Z"
    }
   },
   "outputs": [],
   "source": [
    "# 01~12로 나타내기 위해서 작업\n",
    "df['order_purchase_month'] = df['order_purchase_month'].astype(str).apply(lambda x : '0'+x if len(x) == 1 else x)"
   ]
  },
  {
   "cell_type": "markdown",
   "id": "9dbb4808",
   "metadata": {},
   "source": [
    "### creating year_month column "
   ]
  },
  {
   "cell_type": "code",
   "execution_count": 24,
   "id": "e0f6a7a8",
   "metadata": {
    "ExecuteTime": {
     "end_time": "2022-11-23T10:48:49.198523Z",
     "start_time": "2022-11-23T10:48:49.093488Z"
    },
    "scrolled": true
   },
   "outputs": [
    {
     "data": {
      "text/plain": [
       "0         2017-10\n",
       "1         2017-10\n",
       "2         2017-10\n",
       "3         2017-08\n",
       "4         2017-08\n",
       "           ...   \n",
       "118429    2017-08\n",
       "118430    2017-08\n",
       "118431    2017-12\n",
       "118432    2017-03\n",
       "118433    2018-03\n",
       "Name: month_year, Length: 118434, dtype: object"
      ]
     },
     "execution_count": 24,
     "metadata": {},
     "output_type": "execute_result"
    }
   ],
   "source": [
    "# 년-월 이어붙이기 \n",
    "df['month_year'] = df['order_purchase_year'].astype(str) + '-' + df['order_purchase_month'].astype(str)\n",
    "df['month_year']"
   ]
  },
  {
   "cell_type": "code",
   "execution_count": 25,
   "id": "f924801a",
   "metadata": {
    "ExecuteTime": {
     "end_time": "2022-11-23T10:48:49.592602Z",
     "start_time": "2022-11-23T10:48:49.199513Z"
    }
   },
   "outputs": [
    {
     "data": {
      "text/plain": [
       "0         201710\n",
       "1         201710\n",
       "2         201710\n",
       "3         201708\n",
       "4         201708\n",
       "           ...  \n",
       "118429    201708\n",
       "118430    201708\n",
       "118431    201712\n",
       "118432    201703\n",
       "118433    201803\n",
       "Name: month_y, Length: 118434, dtype: int64"
      ]
     },
     "execution_count": 25,
     "metadata": {},
     "output_type": "execute_result"
    }
   ],
   "source": [
    "df['month_y'] = df['order_purchase_timestamp'].map(lambda date : 100*date.year + date.month)\n",
    "df['month_y']"
   ]
  },
  {
   "cell_type": "markdown",
   "id": "f3b0ec96",
   "metadata": {},
   "source": [
    "## 데이터 확인하기 및 추가 전처리"
   ]
  },
  {
   "cell_type": "code",
   "execution_count": 26,
   "id": "acd25e33",
   "metadata": {
    "ExecuteTime": {
     "end_time": "2022-11-23T10:48:50.262758Z",
     "start_time": "2022-11-23T10:48:49.594600Z"
    }
   },
   "outputs": [
    {
     "data": {
      "text/html": [
       "<div>\n",
       "<style scoped>\n",
       "    .dataframe tbody tr th:only-of-type {\n",
       "        vertical-align: middle;\n",
       "    }\n",
       "\n",
       "    .dataframe tbody tr th {\n",
       "        vertical-align: top;\n",
       "    }\n",
       "\n",
       "    .dataframe thead th {\n",
       "        text-align: right;\n",
       "    }\n",
       "</style>\n",
       "<table border=\"1\" class=\"dataframe\">\n",
       "  <thead>\n",
       "    <tr style=\"text-align: right;\">\n",
       "      <th></th>\n",
       "      <th>order_id</th>\n",
       "      <th>customer_id</th>\n",
       "      <th>order_status</th>\n",
       "      <th>order_purchase_timestamp</th>\n",
       "      <th>order_approved_at</th>\n",
       "      <th>order_delivered_carrier_date</th>\n",
       "      <th>order_delivered_customer_date</th>\n",
       "      <th>order_estimated_delivery_date</th>\n",
       "      <th>order_item_id</th>\n",
       "      <th>product_id</th>\n",
       "      <th>seller_id</th>\n",
       "      <th>shipping_limit_date</th>\n",
       "      <th>price</th>\n",
       "      <th>freight_value</th>\n",
       "      <th>payment_sequential</th>\n",
       "      <th>payment_type</th>\n",
       "      <th>payment_installments</th>\n",
       "      <th>payment_value</th>\n",
       "      <th>product_category_name</th>\n",
       "      <th>product_name_lenght</th>\n",
       "      <th>product_description_lenght</th>\n",
       "      <th>product_photos_qty</th>\n",
       "      <th>product_weight_g</th>\n",
       "      <th>product_length_cm</th>\n",
       "      <th>product_height_cm</th>\n",
       "      <th>product_width_cm</th>\n",
       "      <th>product_category_name_english</th>\n",
       "      <th>customer_unique_id</th>\n",
       "      <th>customer_zip_code_prefix</th>\n",
       "      <th>customer_city</th>\n",
       "      <th>customer_state</th>\n",
       "      <th>delivery_against_estimated</th>\n",
       "      <th>order_purchase_year</th>\n",
       "      <th>order_purchase_quarter</th>\n",
       "      <th>order_purchase_month</th>\n",
       "      <th>order_purchase_dayofweek</th>\n",
       "      <th>order_purchase_hour</th>\n",
       "      <th>order_purchase_day</th>\n",
       "      <th>month_year</th>\n",
       "      <th>month_y</th>\n",
       "    </tr>\n",
       "  </thead>\n",
       "  <tbody>\n",
       "    <tr>\n",
       "      <th>count</th>\n",
       "      <td>118434</td>\n",
       "      <td>118434</td>\n",
       "      <td>118434</td>\n",
       "      <td>118434</td>\n",
       "      <td>118258</td>\n",
       "      <td>116360</td>\n",
       "      <td>115037</td>\n",
       "      <td>118434</td>\n",
       "      <td>117604.000000</td>\n",
       "      <td>117604</td>\n",
       "      <td>117604</td>\n",
       "      <td>117604</td>\n",
       "      <td>117604.000000</td>\n",
       "      <td>117604.000000</td>\n",
       "      <td>118431.000000</td>\n",
       "      <td>118431</td>\n",
       "      <td>118431.000000</td>\n",
       "      <td>118431.000000</td>\n",
       "      <td>115906</td>\n",
       "      <td>115906.000000</td>\n",
       "      <td>115906.000000</td>\n",
       "      <td>115906.000000</td>\n",
       "      <td>117584.000000</td>\n",
       "      <td>117584.000000</td>\n",
       "      <td>117584.00000</td>\n",
       "      <td>117584.000000</td>\n",
       "      <td>115906</td>\n",
       "      <td>118434</td>\n",
       "      <td>118434.000000</td>\n",
       "      <td>118434</td>\n",
       "      <td>118434</td>\n",
       "      <td>115037.000000</td>\n",
       "      <td>118434.000000</td>\n",
       "      <td>118434.000000</td>\n",
       "      <td>118434</td>\n",
       "      <td>118434.000000</td>\n",
       "      <td>118434.00000</td>\n",
       "      <td>118434</td>\n",
       "      <td>118434</td>\n",
       "      <td>118434.000000</td>\n",
       "    </tr>\n",
       "    <tr>\n",
       "      <th>unique</th>\n",
       "      <td>99441</td>\n",
       "      <td>99441</td>\n",
       "      <td>8</td>\n",
       "      <td>98875</td>\n",
       "      <td>90733</td>\n",
       "      <td>81018</td>\n",
       "      <td>95664</td>\n",
       "      <td>459</td>\n",
       "      <td>NaN</td>\n",
       "      <td>32951</td>\n",
       "      <td>3095</td>\n",
       "      <td>93318</td>\n",
       "      <td>NaN</td>\n",
       "      <td>NaN</td>\n",
       "      <td>NaN</td>\n",
       "      <td>5</td>\n",
       "      <td>NaN</td>\n",
       "      <td>NaN</td>\n",
       "      <td>73</td>\n",
       "      <td>NaN</td>\n",
       "      <td>NaN</td>\n",
       "      <td>NaN</td>\n",
       "      <td>NaN</td>\n",
       "      <td>NaN</td>\n",
       "      <td>NaN</td>\n",
       "      <td>NaN</td>\n",
       "      <td>73</td>\n",
       "      <td>96096</td>\n",
       "      <td>NaN</td>\n",
       "      <td>4119</td>\n",
       "      <td>27</td>\n",
       "      <td>NaN</td>\n",
       "      <td>NaN</td>\n",
       "      <td>NaN</td>\n",
       "      <td>12</td>\n",
       "      <td>NaN</td>\n",
       "      <td>NaN</td>\n",
       "      <td>7</td>\n",
       "      <td>25</td>\n",
       "      <td>NaN</td>\n",
       "    </tr>\n",
       "    <tr>\n",
       "      <th>top</th>\n",
       "      <td>895ab968e7bb0d5659d16cd74cd1650c</td>\n",
       "      <td>270c23a11d024a44c896d1894b261a83</td>\n",
       "      <td>delivered</td>\n",
       "      <td>2017-08-08 20:26:31</td>\n",
       "      <td>2017-08-08 20:43:31</td>\n",
       "      <td>2017-08-10 11:58:14</td>\n",
       "      <td>2017-08-14 12:46:18</td>\n",
       "      <td>2017-12-20 00:00:00</td>\n",
       "      <td>NaN</td>\n",
       "      <td>aca2eb7d00ea1a7b8ebd4e68314663af</td>\n",
       "      <td>4a3ca9315b744ce9f8e9374361493884</td>\n",
       "      <td>2017-08-14 20:43:31</td>\n",
       "      <td>NaN</td>\n",
       "      <td>NaN</td>\n",
       "      <td>NaN</td>\n",
       "      <td>Credit Card</td>\n",
       "      <td>NaN</td>\n",
       "      <td>NaN</td>\n",
       "      <td>cama_mesa_banho</td>\n",
       "      <td>NaN</td>\n",
       "      <td>NaN</td>\n",
       "      <td>NaN</td>\n",
       "      <td>NaN</td>\n",
       "      <td>NaN</td>\n",
       "      <td>NaN</td>\n",
       "      <td>NaN</td>\n",
       "      <td>bed_bath_table</td>\n",
       "      <td>9a736b248f67d166d2fbb006bcb877c3</td>\n",
       "      <td>NaN</td>\n",
       "      <td>Sao Paulo</td>\n",
       "      <td>SP</td>\n",
       "      <td>NaN</td>\n",
       "      <td>NaN</td>\n",
       "      <td>NaN</td>\n",
       "      <td>08</td>\n",
       "      <td>NaN</td>\n",
       "      <td>NaN</td>\n",
       "      <td>Mon</td>\n",
       "      <td>2017-11</td>\n",
       "      <td>NaN</td>\n",
       "    </tr>\n",
       "    <tr>\n",
       "      <th>freq</th>\n",
       "      <td>63</td>\n",
       "      <td>63</td>\n",
       "      <td>115038</td>\n",
       "      <td>63</td>\n",
       "      <td>63</td>\n",
       "      <td>63</td>\n",
       "      <td>63</td>\n",
       "      <td>656</td>\n",
       "      <td>NaN</td>\n",
       "      <td>536</td>\n",
       "      <td>2133</td>\n",
       "      <td>63</td>\n",
       "      <td>NaN</td>\n",
       "      <td>NaN</td>\n",
       "      <td>NaN</td>\n",
       "      <td>87286</td>\n",
       "      <td>NaN</td>\n",
       "      <td>NaN</td>\n",
       "      <td>11823</td>\n",
       "      <td>NaN</td>\n",
       "      <td>NaN</td>\n",
       "      <td>NaN</td>\n",
       "      <td>NaN</td>\n",
       "      <td>NaN</td>\n",
       "      <td>NaN</td>\n",
       "      <td>NaN</td>\n",
       "      <td>11823</td>\n",
       "      <td>75</td>\n",
       "      <td>NaN</td>\n",
       "      <td>18738</td>\n",
       "      <td>49967</td>\n",
       "      <td>NaN</td>\n",
       "      <td>NaN</td>\n",
       "      <td>NaN</td>\n",
       "      <td>12745</td>\n",
       "      <td>NaN</td>\n",
       "      <td>NaN</td>\n",
       "      <td>19262</td>\n",
       "      <td>9111</td>\n",
       "      <td>NaN</td>\n",
       "    </tr>\n",
       "    <tr>\n",
       "      <th>first</th>\n",
       "      <td>NaN</td>\n",
       "      <td>NaN</td>\n",
       "      <td>NaN</td>\n",
       "      <td>2016-09-04 21:15:19</td>\n",
       "      <td>2016-09-15 12:16:38</td>\n",
       "      <td>2016-10-08 10:34:01</td>\n",
       "      <td>2016-10-11 13:46:32</td>\n",
       "      <td>2016-09-30 00:00:00</td>\n",
       "      <td>NaN</td>\n",
       "      <td>NaN</td>\n",
       "      <td>NaN</td>\n",
       "      <td>2016-09-19 00:15:34</td>\n",
       "      <td>NaN</td>\n",
       "      <td>NaN</td>\n",
       "      <td>NaN</td>\n",
       "      <td>NaN</td>\n",
       "      <td>NaN</td>\n",
       "      <td>NaN</td>\n",
       "      <td>NaN</td>\n",
       "      <td>NaN</td>\n",
       "      <td>NaN</td>\n",
       "      <td>NaN</td>\n",
       "      <td>NaN</td>\n",
       "      <td>NaN</td>\n",
       "      <td>NaN</td>\n",
       "      <td>NaN</td>\n",
       "      <td>NaN</td>\n",
       "      <td>NaN</td>\n",
       "      <td>NaN</td>\n",
       "      <td>NaN</td>\n",
       "      <td>NaN</td>\n",
       "      <td>NaN</td>\n",
       "      <td>NaN</td>\n",
       "      <td>NaN</td>\n",
       "      <td>NaN</td>\n",
       "      <td>NaN</td>\n",
       "      <td>NaN</td>\n",
       "      <td>NaN</td>\n",
       "      <td>NaN</td>\n",
       "      <td>NaN</td>\n",
       "    </tr>\n",
       "    <tr>\n",
       "      <th>last</th>\n",
       "      <td>NaN</td>\n",
       "      <td>NaN</td>\n",
       "      <td>NaN</td>\n",
       "      <td>2018-10-17 17:30:18</td>\n",
       "      <td>2018-09-03 17:40:06</td>\n",
       "      <td>2018-09-11 19:48:28</td>\n",
       "      <td>2018-10-17 13:22:46</td>\n",
       "      <td>2018-11-12 00:00:00</td>\n",
       "      <td>NaN</td>\n",
       "      <td>NaN</td>\n",
       "      <td>NaN</td>\n",
       "      <td>2020-04-09 22:35:08</td>\n",
       "      <td>NaN</td>\n",
       "      <td>NaN</td>\n",
       "      <td>NaN</td>\n",
       "      <td>NaN</td>\n",
       "      <td>NaN</td>\n",
       "      <td>NaN</td>\n",
       "      <td>NaN</td>\n",
       "      <td>NaN</td>\n",
       "      <td>NaN</td>\n",
       "      <td>NaN</td>\n",
       "      <td>NaN</td>\n",
       "      <td>NaN</td>\n",
       "      <td>NaN</td>\n",
       "      <td>NaN</td>\n",
       "      <td>NaN</td>\n",
       "      <td>NaN</td>\n",
       "      <td>NaN</td>\n",
       "      <td>NaN</td>\n",
       "      <td>NaN</td>\n",
       "      <td>NaN</td>\n",
       "      <td>NaN</td>\n",
       "      <td>NaN</td>\n",
       "      <td>NaN</td>\n",
       "      <td>NaN</td>\n",
       "      <td>NaN</td>\n",
       "      <td>NaN</td>\n",
       "      <td>NaN</td>\n",
       "      <td>NaN</td>\n",
       "    </tr>\n",
       "    <tr>\n",
       "      <th>mean</th>\n",
       "      <td>NaN</td>\n",
       "      <td>NaN</td>\n",
       "      <td>NaN</td>\n",
       "      <td>NaN</td>\n",
       "      <td>NaN</td>\n",
       "      <td>NaN</td>\n",
       "      <td>NaN</td>\n",
       "      <td>NaN</td>\n",
       "      <td>1.195920</td>\n",
       "      <td>NaN</td>\n",
       "      <td>NaN</td>\n",
       "      <td>NaN</td>\n",
       "      <td>120.822849</td>\n",
       "      <td>20.045551</td>\n",
       "      <td>1.094207</td>\n",
       "      <td>NaN</td>\n",
       "      <td>2.937398</td>\n",
       "      <td>172.849395</td>\n",
       "      <td>NaN</td>\n",
       "      <td>48.767208</td>\n",
       "      <td>786.957302</td>\n",
       "      <td>2.207849</td>\n",
       "      <td>2114.281067</td>\n",
       "      <td>30.256872</td>\n",
       "      <td>16.63029</td>\n",
       "      <td>23.068394</td>\n",
       "      <td>NaN</td>\n",
       "      <td>NaN</td>\n",
       "      <td>35034.264392</td>\n",
       "      <td>NaN</td>\n",
       "      <td>NaN</td>\n",
       "      <td>11.042073</td>\n",
       "      <td>2017.536324</td>\n",
       "      <td>2.356536</td>\n",
       "      <td>NaN</td>\n",
       "      <td>2.745056</td>\n",
       "      <td>14.75605</td>\n",
       "      <td>NaN</td>\n",
       "      <td>NaN</td>\n",
       "      <td>201759.666126</td>\n",
       "    </tr>\n",
       "    <tr>\n",
       "      <th>std</th>\n",
       "      <td>NaN</td>\n",
       "      <td>NaN</td>\n",
       "      <td>NaN</td>\n",
       "      <td>NaN</td>\n",
       "      <td>NaN</td>\n",
       "      <td>NaN</td>\n",
       "      <td>NaN</td>\n",
       "      <td>NaN</td>\n",
       "      <td>0.697721</td>\n",
       "      <td>NaN</td>\n",
       "      <td>NaN</td>\n",
       "      <td>NaN</td>\n",
       "      <td>184.477367</td>\n",
       "      <td>15.861351</td>\n",
       "      <td>0.728290</td>\n",
       "      <td>NaN</td>\n",
       "      <td>2.774164</td>\n",
       "      <td>268.259831</td>\n",
       "      <td>NaN</td>\n",
       "      <td>10.035162</td>\n",
       "      <td>653.029009</td>\n",
       "      <td>1.719519</td>\n",
       "      <td>3788.754048</td>\n",
       "      <td>16.190874</td>\n",
       "      <td>13.45878</td>\n",
       "      <td>11.748372</td>\n",
       "      <td>NaN</td>\n",
       "      <td>NaN</td>\n",
       "      <td>29819.290218</td>\n",
       "      <td>NaN</td>\n",
       "      <td>NaN</td>\n",
       "      <td>10.165136</td>\n",
       "      <td>0.505492</td>\n",
       "      <td>1.062274</td>\n",
       "      <td>NaN</td>\n",
       "      <td>1.960629</td>\n",
       "      <td>5.32724</td>\n",
       "      <td>NaN</td>\n",
       "      <td>NaN</td>\n",
       "      <td>48.843291</td>\n",
       "    </tr>\n",
       "    <tr>\n",
       "      <th>min</th>\n",
       "      <td>NaN</td>\n",
       "      <td>NaN</td>\n",
       "      <td>NaN</td>\n",
       "      <td>NaN</td>\n",
       "      <td>NaN</td>\n",
       "      <td>NaN</td>\n",
       "      <td>NaN</td>\n",
       "      <td>NaN</td>\n",
       "      <td>1.000000</td>\n",
       "      <td>NaN</td>\n",
       "      <td>NaN</td>\n",
       "      <td>NaN</td>\n",
       "      <td>0.850000</td>\n",
       "      <td>0.000000</td>\n",
       "      <td>1.000000</td>\n",
       "      <td>NaN</td>\n",
       "      <td>0.000000</td>\n",
       "      <td>0.000000</td>\n",
       "      <td>NaN</td>\n",
       "      <td>5.000000</td>\n",
       "      <td>4.000000</td>\n",
       "      <td>1.000000</td>\n",
       "      <td>0.000000</td>\n",
       "      <td>7.000000</td>\n",
       "      <td>2.00000</td>\n",
       "      <td>6.000000</td>\n",
       "      <td>NaN</td>\n",
       "      <td>NaN</td>\n",
       "      <td>1003.000000</td>\n",
       "      <td>NaN</td>\n",
       "      <td>NaN</td>\n",
       "      <td>-189.000000</td>\n",
       "      <td>2016.000000</td>\n",
       "      <td>1.000000</td>\n",
       "      <td>NaN</td>\n",
       "      <td>0.000000</td>\n",
       "      <td>0.00000</td>\n",
       "      <td>NaN</td>\n",
       "      <td>NaN</td>\n",
       "      <td>201609.000000</td>\n",
       "    </tr>\n",
       "    <tr>\n",
       "      <th>25%</th>\n",
       "      <td>NaN</td>\n",
       "      <td>NaN</td>\n",
       "      <td>NaN</td>\n",
       "      <td>NaN</td>\n",
       "      <td>NaN</td>\n",
       "      <td>NaN</td>\n",
       "      <td>NaN</td>\n",
       "      <td>NaN</td>\n",
       "      <td>1.000000</td>\n",
       "      <td>NaN</td>\n",
       "      <td>NaN</td>\n",
       "      <td>NaN</td>\n",
       "      <td>39.900000</td>\n",
       "      <td>13.080000</td>\n",
       "      <td>1.000000</td>\n",
       "      <td>NaN</td>\n",
       "      <td>1.000000</td>\n",
       "      <td>60.860000</td>\n",
       "      <td>NaN</td>\n",
       "      <td>42.000000</td>\n",
       "      <td>347.000000</td>\n",
       "      <td>1.000000</td>\n",
       "      <td>300.000000</td>\n",
       "      <td>18.000000</td>\n",
       "      <td>8.00000</td>\n",
       "      <td>15.000000</td>\n",
       "      <td>NaN</td>\n",
       "      <td>NaN</td>\n",
       "      <td>11310.000000</td>\n",
       "      <td>NaN</td>\n",
       "      <td>NaN</td>\n",
       "      <td>6.000000</td>\n",
       "      <td>2017.000000</td>\n",
       "      <td>1.000000</td>\n",
       "      <td>NaN</td>\n",
       "      <td>1.000000</td>\n",
       "      <td>11.00000</td>\n",
       "      <td>NaN</td>\n",
       "      <td>NaN</td>\n",
       "      <td>201709.000000</td>\n",
       "    </tr>\n",
       "    <tr>\n",
       "      <th>50%</th>\n",
       "      <td>NaN</td>\n",
       "      <td>NaN</td>\n",
       "      <td>NaN</td>\n",
       "      <td>NaN</td>\n",
       "      <td>NaN</td>\n",
       "      <td>NaN</td>\n",
       "      <td>NaN</td>\n",
       "      <td>NaN</td>\n",
       "      <td>1.000000</td>\n",
       "      <td>NaN</td>\n",
       "      <td>NaN</td>\n",
       "      <td>NaN</td>\n",
       "      <td>74.900000</td>\n",
       "      <td>16.290000</td>\n",
       "      <td>1.000000</td>\n",
       "      <td>NaN</td>\n",
       "      <td>2.000000</td>\n",
       "      <td>108.200000</td>\n",
       "      <td>NaN</td>\n",
       "      <td>52.000000</td>\n",
       "      <td>601.000000</td>\n",
       "      <td>1.000000</td>\n",
       "      <td>700.000000</td>\n",
       "      <td>25.000000</td>\n",
       "      <td>13.00000</td>\n",
       "      <td>20.000000</td>\n",
       "      <td>NaN</td>\n",
       "      <td>NaN</td>\n",
       "      <td>24240.000000</td>\n",
       "      <td>NaN</td>\n",
       "      <td>NaN</td>\n",
       "      <td>12.000000</td>\n",
       "      <td>2018.000000</td>\n",
       "      <td>2.000000</td>\n",
       "      <td>NaN</td>\n",
       "      <td>3.000000</td>\n",
       "      <td>15.00000</td>\n",
       "      <td>NaN</td>\n",
       "      <td>NaN</td>\n",
       "      <td>201801.000000</td>\n",
       "    </tr>\n",
       "    <tr>\n",
       "      <th>75%</th>\n",
       "      <td>NaN</td>\n",
       "      <td>NaN</td>\n",
       "      <td>NaN</td>\n",
       "      <td>NaN</td>\n",
       "      <td>NaN</td>\n",
       "      <td>NaN</td>\n",
       "      <td>NaN</td>\n",
       "      <td>NaN</td>\n",
       "      <td>1.000000</td>\n",
       "      <td>NaN</td>\n",
       "      <td>NaN</td>\n",
       "      <td>NaN</td>\n",
       "      <td>134.900000</td>\n",
       "      <td>21.190000</td>\n",
       "      <td>1.000000</td>\n",
       "      <td>NaN</td>\n",
       "      <td>4.000000</td>\n",
       "      <td>189.245000</td>\n",
       "      <td>NaN</td>\n",
       "      <td>57.000000</td>\n",
       "      <td>985.000000</td>\n",
       "      <td>3.000000</td>\n",
       "      <td>1800.000000</td>\n",
       "      <td>38.000000</td>\n",
       "      <td>20.00000</td>\n",
       "      <td>30.000000</td>\n",
       "      <td>NaN</td>\n",
       "      <td>NaN</td>\n",
       "      <td>58464.500000</td>\n",
       "      <td>NaN</td>\n",
       "      <td>NaN</td>\n",
       "      <td>16.000000</td>\n",
       "      <td>2018.000000</td>\n",
       "      <td>3.000000</td>\n",
       "      <td>NaN</td>\n",
       "      <td>4.000000</td>\n",
       "      <td>19.00000</td>\n",
       "      <td>NaN</td>\n",
       "      <td>NaN</td>\n",
       "      <td>201805.000000</td>\n",
       "    </tr>\n",
       "    <tr>\n",
       "      <th>max</th>\n",
       "      <td>NaN</td>\n",
       "      <td>NaN</td>\n",
       "      <td>NaN</td>\n",
       "      <td>NaN</td>\n",
       "      <td>NaN</td>\n",
       "      <td>NaN</td>\n",
       "      <td>NaN</td>\n",
       "      <td>NaN</td>\n",
       "      <td>21.000000</td>\n",
       "      <td>NaN</td>\n",
       "      <td>NaN</td>\n",
       "      <td>NaN</td>\n",
       "      <td>6735.000000</td>\n",
       "      <td>409.680000</td>\n",
       "      <td>29.000000</td>\n",
       "      <td>NaN</td>\n",
       "      <td>24.000000</td>\n",
       "      <td>13664.080000</td>\n",
       "      <td>NaN</td>\n",
       "      <td>76.000000</td>\n",
       "      <td>3992.000000</td>\n",
       "      <td>20.000000</td>\n",
       "      <td>40425.000000</td>\n",
       "      <td>105.000000</td>\n",
       "      <td>105.00000</td>\n",
       "      <td>118.000000</td>\n",
       "      <td>NaN</td>\n",
       "      <td>NaN</td>\n",
       "      <td>99990.000000</td>\n",
       "      <td>NaN</td>\n",
       "      <td>NaN</td>\n",
       "      <td>146.000000</td>\n",
       "      <td>2018.000000</td>\n",
       "      <td>4.000000</td>\n",
       "      <td>NaN</td>\n",
       "      <td>6.000000</td>\n",
       "      <td>23.00000</td>\n",
       "      <td>NaN</td>\n",
       "      <td>NaN</td>\n",
       "      <td>201810.000000</td>\n",
       "    </tr>\n",
       "  </tbody>\n",
       "</table>\n",
       "</div>"
      ],
      "text/plain": [
       "                                order_id                       customer_id  \\\n",
       "count                             118434                            118434   \n",
       "unique                             99441                             99441   \n",
       "top     895ab968e7bb0d5659d16cd74cd1650c  270c23a11d024a44c896d1894b261a83   \n",
       "freq                                  63                                63   \n",
       "first                                NaN                               NaN   \n",
       "last                                 NaN                               NaN   \n",
       "mean                                 NaN                               NaN   \n",
       "std                                  NaN                               NaN   \n",
       "min                                  NaN                               NaN   \n",
       "25%                                  NaN                               NaN   \n",
       "50%                                  NaN                               NaN   \n",
       "75%                                  NaN                               NaN   \n",
       "max                                  NaN                               NaN   \n",
       "\n",
       "       order_status order_purchase_timestamp    order_approved_at  \\\n",
       "count        118434                   118434               118258   \n",
       "unique            8                    98875                90733   \n",
       "top       delivered      2017-08-08 20:26:31  2017-08-08 20:43:31   \n",
       "freq         115038                       63                   63   \n",
       "first           NaN      2016-09-04 21:15:19  2016-09-15 12:16:38   \n",
       "last            NaN      2018-10-17 17:30:18  2018-09-03 17:40:06   \n",
       "mean            NaN                      NaN                  NaN   \n",
       "std             NaN                      NaN                  NaN   \n",
       "min             NaN                      NaN                  NaN   \n",
       "25%             NaN                      NaN                  NaN   \n",
       "50%             NaN                      NaN                  NaN   \n",
       "75%             NaN                      NaN                  NaN   \n",
       "max             NaN                      NaN                  NaN   \n",
       "\n",
       "       order_delivered_carrier_date order_delivered_customer_date  \\\n",
       "count                        116360                        115037   \n",
       "unique                        81018                         95664   \n",
       "top             2017-08-10 11:58:14           2017-08-14 12:46:18   \n",
       "freq                             63                            63   \n",
       "first           2016-10-08 10:34:01           2016-10-11 13:46:32   \n",
       "last            2018-09-11 19:48:28           2018-10-17 13:22:46   \n",
       "mean                            NaN                           NaN   \n",
       "std                             NaN                           NaN   \n",
       "min                             NaN                           NaN   \n",
       "25%                             NaN                           NaN   \n",
       "50%                             NaN                           NaN   \n",
       "75%                             NaN                           NaN   \n",
       "max                             NaN                           NaN   \n",
       "\n",
       "       order_estimated_delivery_date  order_item_id  \\\n",
       "count                         118434  117604.000000   \n",
       "unique                           459            NaN   \n",
       "top              2017-12-20 00:00:00            NaN   \n",
       "freq                             656            NaN   \n",
       "first            2016-09-30 00:00:00            NaN   \n",
       "last             2018-11-12 00:00:00            NaN   \n",
       "mean                             NaN       1.195920   \n",
       "std                              NaN       0.697721   \n",
       "min                              NaN       1.000000   \n",
       "25%                              NaN       1.000000   \n",
       "50%                              NaN       1.000000   \n",
       "75%                              NaN       1.000000   \n",
       "max                              NaN      21.000000   \n",
       "\n",
       "                              product_id                         seller_id  \\\n",
       "count                             117604                            117604   \n",
       "unique                             32951                              3095   \n",
       "top     aca2eb7d00ea1a7b8ebd4e68314663af  4a3ca9315b744ce9f8e9374361493884   \n",
       "freq                                 536                              2133   \n",
       "first                                NaN                               NaN   \n",
       "last                                 NaN                               NaN   \n",
       "mean                                 NaN                               NaN   \n",
       "std                                  NaN                               NaN   \n",
       "min                                  NaN                               NaN   \n",
       "25%                                  NaN                               NaN   \n",
       "50%                                  NaN                               NaN   \n",
       "75%                                  NaN                               NaN   \n",
       "max                                  NaN                               NaN   \n",
       "\n",
       "        shipping_limit_date          price  freight_value  payment_sequential  \\\n",
       "count                117604  117604.000000  117604.000000       118431.000000   \n",
       "unique                93318            NaN            NaN                 NaN   \n",
       "top     2017-08-14 20:43:31            NaN            NaN                 NaN   \n",
       "freq                     63            NaN            NaN                 NaN   \n",
       "first   2016-09-19 00:15:34            NaN            NaN                 NaN   \n",
       "last    2020-04-09 22:35:08            NaN            NaN                 NaN   \n",
       "mean                    NaN     120.822849      20.045551            1.094207   \n",
       "std                     NaN     184.477367      15.861351            0.728290   \n",
       "min                     NaN       0.850000       0.000000            1.000000   \n",
       "25%                     NaN      39.900000      13.080000            1.000000   \n",
       "50%                     NaN      74.900000      16.290000            1.000000   \n",
       "75%                     NaN     134.900000      21.190000            1.000000   \n",
       "max                     NaN    6735.000000     409.680000           29.000000   \n",
       "\n",
       "       payment_type  payment_installments  payment_value  \\\n",
       "count        118431         118431.000000  118431.000000   \n",
       "unique            5                   NaN            NaN   \n",
       "top     Credit Card                   NaN            NaN   \n",
       "freq          87286                   NaN            NaN   \n",
       "first           NaN                   NaN            NaN   \n",
       "last            NaN                   NaN            NaN   \n",
       "mean            NaN              2.937398     172.849395   \n",
       "std             NaN              2.774164     268.259831   \n",
       "min             NaN              0.000000       0.000000   \n",
       "25%             NaN              1.000000      60.860000   \n",
       "50%             NaN              2.000000     108.200000   \n",
       "75%             NaN              4.000000     189.245000   \n",
       "max             NaN             24.000000   13664.080000   \n",
       "\n",
       "       product_category_name  product_name_lenght  product_description_lenght  \\\n",
       "count                 115906        115906.000000               115906.000000   \n",
       "unique                    73                  NaN                         NaN   \n",
       "top          cama_mesa_banho                  NaN                         NaN   \n",
       "freq                   11823                  NaN                         NaN   \n",
       "first                    NaN                  NaN                         NaN   \n",
       "last                     NaN                  NaN                         NaN   \n",
       "mean                     NaN            48.767208                  786.957302   \n",
       "std                      NaN            10.035162                  653.029009   \n",
       "min                      NaN             5.000000                    4.000000   \n",
       "25%                      NaN            42.000000                  347.000000   \n",
       "50%                      NaN            52.000000                  601.000000   \n",
       "75%                      NaN            57.000000                  985.000000   \n",
       "max                      NaN            76.000000                 3992.000000   \n",
       "\n",
       "        product_photos_qty  product_weight_g  product_length_cm  \\\n",
       "count        115906.000000     117584.000000      117584.000000   \n",
       "unique                 NaN               NaN                NaN   \n",
       "top                    NaN               NaN                NaN   \n",
       "freq                   NaN               NaN                NaN   \n",
       "first                  NaN               NaN                NaN   \n",
       "last                   NaN               NaN                NaN   \n",
       "mean              2.207849       2114.281067          30.256872   \n",
       "std               1.719519       3788.754048          16.190874   \n",
       "min               1.000000          0.000000           7.000000   \n",
       "25%               1.000000        300.000000          18.000000   \n",
       "50%               1.000000        700.000000          25.000000   \n",
       "75%               3.000000       1800.000000          38.000000   \n",
       "max              20.000000      40425.000000         105.000000   \n",
       "\n",
       "        product_height_cm  product_width_cm product_category_name_english  \\\n",
       "count        117584.00000     117584.000000                        115906   \n",
       "unique                NaN               NaN                            73   \n",
       "top                   NaN               NaN                bed_bath_table   \n",
       "freq                  NaN               NaN                         11823   \n",
       "first                 NaN               NaN                           NaN   \n",
       "last                  NaN               NaN                           NaN   \n",
       "mean             16.63029         23.068394                           NaN   \n",
       "std              13.45878         11.748372                           NaN   \n",
       "min               2.00000          6.000000                           NaN   \n",
       "25%               8.00000         15.000000                           NaN   \n",
       "50%              13.00000         20.000000                           NaN   \n",
       "75%              20.00000         30.000000                           NaN   \n",
       "max             105.00000        118.000000                           NaN   \n",
       "\n",
       "                      customer_unique_id  customer_zip_code_prefix  \\\n",
       "count                             118434             118434.000000   \n",
       "unique                             96096                       NaN   \n",
       "top     9a736b248f67d166d2fbb006bcb877c3                       NaN   \n",
       "freq                                  75                       NaN   \n",
       "first                                NaN                       NaN   \n",
       "last                                 NaN                       NaN   \n",
       "mean                                 NaN              35034.264392   \n",
       "std                                  NaN              29819.290218   \n",
       "min                                  NaN               1003.000000   \n",
       "25%                                  NaN              11310.000000   \n",
       "50%                                  NaN              24240.000000   \n",
       "75%                                  NaN              58464.500000   \n",
       "max                                  NaN              99990.000000   \n",
       "\n",
       "       customer_city customer_state  delivery_against_estimated  \\\n",
       "count         118434         118434               115037.000000   \n",
       "unique          4119             27                         NaN   \n",
       "top        Sao Paulo             SP                         NaN   \n",
       "freq           18738          49967                         NaN   \n",
       "first            NaN            NaN                         NaN   \n",
       "last             NaN            NaN                         NaN   \n",
       "mean             NaN            NaN                   11.042073   \n",
       "std              NaN            NaN                   10.165136   \n",
       "min              NaN            NaN                 -189.000000   \n",
       "25%              NaN            NaN                    6.000000   \n",
       "50%              NaN            NaN                   12.000000   \n",
       "75%              NaN            NaN                   16.000000   \n",
       "max              NaN            NaN                  146.000000   \n",
       "\n",
       "        order_purchase_year  order_purchase_quarter order_purchase_month  \\\n",
       "count         118434.000000           118434.000000               118434   \n",
       "unique                  NaN                     NaN                   12   \n",
       "top                     NaN                     NaN                   08   \n",
       "freq                    NaN                     NaN                12745   \n",
       "first                   NaN                     NaN                  NaN   \n",
       "last                    NaN                     NaN                  NaN   \n",
       "mean            2017.536324                2.356536                  NaN   \n",
       "std                0.505492                1.062274                  NaN   \n",
       "min             2016.000000                1.000000                  NaN   \n",
       "25%             2017.000000                1.000000                  NaN   \n",
       "50%             2018.000000                2.000000                  NaN   \n",
       "75%             2018.000000                3.000000                  NaN   \n",
       "max             2018.000000                4.000000                  NaN   \n",
       "\n",
       "        order_purchase_dayofweek  order_purchase_hour order_purchase_day  \\\n",
       "count              118434.000000         118434.00000             118434   \n",
       "unique                       NaN                  NaN                  7   \n",
       "top                          NaN                  NaN                Mon   \n",
       "freq                         NaN                  NaN              19262   \n",
       "first                        NaN                  NaN                NaN   \n",
       "last                         NaN                  NaN                NaN   \n",
       "mean                    2.745056             14.75605                NaN   \n",
       "std                     1.960629              5.32724                NaN   \n",
       "min                     0.000000              0.00000                NaN   \n",
       "25%                     1.000000             11.00000                NaN   \n",
       "50%                     3.000000             15.00000                NaN   \n",
       "75%                     4.000000             19.00000                NaN   \n",
       "max                     6.000000             23.00000                NaN   \n",
       "\n",
       "       month_year        month_y  \n",
       "count      118434  118434.000000  \n",
       "unique         25            NaN  \n",
       "top       2017-11            NaN  \n",
       "freq         9111            NaN  \n",
       "first         NaN            NaN  \n",
       "last          NaN            NaN  \n",
       "mean          NaN  201759.666126  \n",
       "std           NaN      48.843291  \n",
       "min           NaN  201609.000000  \n",
       "25%           NaN  201709.000000  \n",
       "50%           NaN  201801.000000  \n",
       "75%           NaN  201805.000000  \n",
       "max           NaN  201810.000000  "
      ]
     },
     "execution_count": 26,
     "metadata": {},
     "output_type": "execute_result"
    }
   ],
   "source": [
    "# displaying summary staticstics of columns\n",
    "df.describe(include='all')"
   ]
  },
  {
   "cell_type": "code",
   "execution_count": 27,
   "id": "15b40785",
   "metadata": {
    "ExecuteTime": {
     "end_time": "2022-11-23T10:48:50.580820Z",
     "start_time": "2022-11-23T10:48:50.264751Z"
    }
   },
   "outputs": [
    {
     "data": {
      "text/html": [
       "<div>\n",
       "<style scoped>\n",
       "    .dataframe tbody tr th:only-of-type {\n",
       "        vertical-align: middle;\n",
       "    }\n",
       "\n",
       "    .dataframe tbody tr th {\n",
       "        vertical-align: top;\n",
       "    }\n",
       "\n",
       "    .dataframe thead th {\n",
       "        text-align: right;\n",
       "    }\n",
       "</style>\n",
       "<table border=\"1\" class=\"dataframe\">\n",
       "  <thead>\n",
       "    <tr style=\"text-align: right;\">\n",
       "      <th></th>\n",
       "      <th>order_delivered_customer_date</th>\n",
       "      <th>delivery_against_estimated</th>\n",
       "      <th>product_description_lenght</th>\n",
       "      <th>product_photos_qty</th>\n",
       "      <th>product_name_lenght</th>\n",
       "      <th>product_category_name</th>\n",
       "      <th>product_category_name_english</th>\n",
       "      <th>order_delivered_carrier_date</th>\n",
       "      <th>product_height_cm</th>\n",
       "      <th>product_length_cm</th>\n",
       "      <th>product_width_cm</th>\n",
       "      <th>product_weight_g</th>\n",
       "      <th>order_item_id</th>\n",
       "      <th>seller_id</th>\n",
       "      <th>shipping_limit_date</th>\n",
       "      <th>price</th>\n",
       "      <th>freight_value</th>\n",
       "      <th>product_id</th>\n",
       "      <th>order_approved_at</th>\n",
       "      <th>payment_type</th>\n",
       "      <th>payment_value</th>\n",
       "      <th>payment_installments</th>\n",
       "      <th>payment_sequential</th>\n",
       "      <th>order_purchase_dayofweek</th>\n",
       "      <th>order_purchase_hour</th>\n",
       "      <th>order_purchase_day</th>\n",
       "      <th>month_year</th>\n",
       "      <th>order_purchase_month</th>\n",
       "      <th>order_purchase_quarter</th>\n",
       "      <th>order_purchase_year</th>\n",
       "      <th>order_id</th>\n",
       "      <th>customer_state</th>\n",
       "      <th>customer_city</th>\n",
       "      <th>customer_zip_code_prefix</th>\n",
       "      <th>customer_unique_id</th>\n",
       "      <th>customer_id</th>\n",
       "      <th>order_estimated_delivery_date</th>\n",
       "      <th>order_purchase_timestamp</th>\n",
       "      <th>order_status</th>\n",
       "      <th>month_y</th>\n",
       "    </tr>\n",
       "  </thead>\n",
       "  <tbody>\n",
       "    <tr>\n",
       "      <th>Values</th>\n",
       "      <td>3397.000000</td>\n",
       "      <td>3397.000000</td>\n",
       "      <td>2528.000000</td>\n",
       "      <td>2528.000000</td>\n",
       "      <td>2528.000000</td>\n",
       "      <td>2528.000000</td>\n",
       "      <td>2528.000000</td>\n",
       "      <td>2074.000000</td>\n",
       "      <td>850.000000</td>\n",
       "      <td>850.000000</td>\n",
       "      <td>850.000000</td>\n",
       "      <td>850.000000</td>\n",
       "      <td>830.000000</td>\n",
       "      <td>830.000000</td>\n",
       "      <td>830.000000</td>\n",
       "      <td>830.000000</td>\n",
       "      <td>830.000000</td>\n",
       "      <td>830.000000</td>\n",
       "      <td>176.000000</td>\n",
       "      <td>3.000000</td>\n",
       "      <td>3.000000</td>\n",
       "      <td>3.000000</td>\n",
       "      <td>3.000000</td>\n",
       "      <td>0.0</td>\n",
       "      <td>0.0</td>\n",
       "      <td>0.0</td>\n",
       "      <td>0.0</td>\n",
       "      <td>0.0</td>\n",
       "      <td>0.0</td>\n",
       "      <td>0.0</td>\n",
       "      <td>0.0</td>\n",
       "      <td>0.0</td>\n",
       "      <td>0.0</td>\n",
       "      <td>0.0</td>\n",
       "      <td>0.0</td>\n",
       "      <td>0.0</td>\n",
       "      <td>0.0</td>\n",
       "      <td>0.0</td>\n",
       "      <td>0.0</td>\n",
       "      <td>0.0</td>\n",
       "    </tr>\n",
       "    <tr>\n",
       "      <th>Percentage</th>\n",
       "      <td>2.868264</td>\n",
       "      <td>2.868264</td>\n",
       "      <td>2.134522</td>\n",
       "      <td>2.134522</td>\n",
       "      <td>2.134522</td>\n",
       "      <td>2.134522</td>\n",
       "      <td>2.134522</td>\n",
       "      <td>1.751186</td>\n",
       "      <td>0.717699</td>\n",
       "      <td>0.717699</td>\n",
       "      <td>0.717699</td>\n",
       "      <td>0.717699</td>\n",
       "      <td>0.700812</td>\n",
       "      <td>0.700812</td>\n",
       "      <td>0.700812</td>\n",
       "      <td>0.700812</td>\n",
       "      <td>0.700812</td>\n",
       "      <td>0.700812</td>\n",
       "      <td>0.148606</td>\n",
       "      <td>0.002533</td>\n",
       "      <td>0.002533</td>\n",
       "      <td>0.002533</td>\n",
       "      <td>0.002533</td>\n",
       "      <td>0.0</td>\n",
       "      <td>0.0</td>\n",
       "      <td>0.0</td>\n",
       "      <td>0.0</td>\n",
       "      <td>0.0</td>\n",
       "      <td>0.0</td>\n",
       "      <td>0.0</td>\n",
       "      <td>0.0</td>\n",
       "      <td>0.0</td>\n",
       "      <td>0.0</td>\n",
       "      <td>0.0</td>\n",
       "      <td>0.0</td>\n",
       "      <td>0.0</td>\n",
       "      <td>0.0</td>\n",
       "      <td>0.0</td>\n",
       "      <td>0.0</td>\n",
       "      <td>0.0</td>\n",
       "    </tr>\n",
       "  </tbody>\n",
       "</table>\n",
       "</div>"
      ],
      "text/plain": [
       "            order_delivered_customer_date  delivery_against_estimated  \\\n",
       "Values                        3397.000000                 3397.000000   \n",
       "Percentage                       2.868264                    2.868264   \n",
       "\n",
       "            product_description_lenght  product_photos_qty  \\\n",
       "Values                     2528.000000         2528.000000   \n",
       "Percentage                    2.134522            2.134522   \n",
       "\n",
       "            product_name_lenght  product_category_name  \\\n",
       "Values              2528.000000            2528.000000   \n",
       "Percentage             2.134522               2.134522   \n",
       "\n",
       "            product_category_name_english  order_delivered_carrier_date  \\\n",
       "Values                        2528.000000                   2074.000000   \n",
       "Percentage                       2.134522                      1.751186   \n",
       "\n",
       "            product_height_cm  product_length_cm  product_width_cm  \\\n",
       "Values             850.000000         850.000000        850.000000   \n",
       "Percentage           0.717699           0.717699          0.717699   \n",
       "\n",
       "            product_weight_g  order_item_id   seller_id  shipping_limit_date  \\\n",
       "Values            850.000000     830.000000  830.000000           830.000000   \n",
       "Percentage          0.717699       0.700812    0.700812             0.700812   \n",
       "\n",
       "                 price  freight_value  product_id  order_approved_at  \\\n",
       "Values      830.000000     830.000000  830.000000         176.000000   \n",
       "Percentage    0.700812       0.700812    0.700812           0.148606   \n",
       "\n",
       "            payment_type  payment_value  payment_installments  \\\n",
       "Values          3.000000       3.000000              3.000000   \n",
       "Percentage      0.002533       0.002533              0.002533   \n",
       "\n",
       "            payment_sequential  order_purchase_dayofweek  order_purchase_hour  \\\n",
       "Values                3.000000                       0.0                  0.0   \n",
       "Percentage            0.002533                       0.0                  0.0   \n",
       "\n",
       "            order_purchase_day  month_year  order_purchase_month  \\\n",
       "Values                     0.0         0.0                   0.0   \n",
       "Percentage                 0.0         0.0                   0.0   \n",
       "\n",
       "            order_purchase_quarter  order_purchase_year  order_id  \\\n",
       "Values                         0.0                  0.0       0.0   \n",
       "Percentage                     0.0                  0.0       0.0   \n",
       "\n",
       "            customer_state  customer_city  customer_zip_code_prefix  \\\n",
       "Values                 0.0            0.0                       0.0   \n",
       "Percentage             0.0            0.0                       0.0   \n",
       "\n",
       "            customer_unique_id  customer_id  order_estimated_delivery_date  \\\n",
       "Values                     0.0          0.0                            0.0   \n",
       "Percentage                 0.0          0.0                            0.0   \n",
       "\n",
       "            order_purchase_timestamp  order_status  month_y  \n",
       "Values                           0.0           0.0      0.0  \n",
       "Percentage                       0.0           0.0      0.0  "
      ]
     },
     "execution_count": 27,
     "metadata": {},
     "output_type": "execute_result"
    }
   ],
   "source": [
    "# displaying missing value counts and corresponding percentage against total observations \n",
    "\n",
    "missing_values = df.isnull().sum().sort_values(ascending = False)\n",
    "percentage = (df.isnull().sum()/df.isnull().count()*100).sort_values(ascending = False)\n",
    "pd.concat([missing_values,percentage],axis=1,keys = ['Values','Percentage']).transpose()"
   ]
  },
  {
   "cell_type": "markdown",
   "id": "0374a56d",
   "metadata": {},
   "source": [
    "가장 많은 결측치 값을 가지고 있는게 order_delivered_customer_date 입니다. \n",
    "본 분석에서는 분석의 용이함을 위해 null 값을 모두 drop 하겠습니다."
   ]
  },
  {
   "cell_type": "code",
   "execution_count": 28,
   "id": "7b3fb369",
   "metadata": {
    "ExecuteTime": {
     "end_time": "2022-11-23T10:48:50.876885Z",
     "start_time": "2022-11-23T10:48:50.583823Z"
    }
   },
   "outputs": [
    {
     "data": {
      "text/plain": [
       "False"
      ]
     },
     "execution_count": 28,
     "metadata": {},
     "output_type": "execute_result"
    }
   ],
   "source": [
    "# dropping missing values \n",
    "df.dropna(inplace = True)\n",
    "df.isnull().values.any()"
   ]
  },
  {
   "cell_type": "code",
   "execution_count": 29,
   "id": "96660f5b",
   "metadata": {
    "ExecuteTime": {
     "end_time": "2022-11-23T10:48:50.983896Z",
     "start_time": "2022-11-23T10:48:50.878874Z"
    }
   },
   "outputs": [
    {
     "name": "stdout",
     "output_type": "stream",
     "text": [
      "<class 'pandas.core.frame.DataFrame'>\n",
      "Int64Index: 113390 entries, 0 to 118433\n",
      "Data columns (total 40 columns):\n",
      " #   Column                         Non-Null Count   Dtype         \n",
      "---  ------                         --------------   -----         \n",
      " 0   order_id                       113390 non-null  object        \n",
      " 1   customer_id                    113390 non-null  object        \n",
      " 2   order_status                   113390 non-null  object        \n",
      " 3   order_purchase_timestamp       113390 non-null  datetime64[ns]\n",
      " 4   order_approved_at              113390 non-null  datetime64[ns]\n",
      " 5   order_delivered_carrier_date   113390 non-null  datetime64[ns]\n",
      " 6   order_delivered_customer_date  113390 non-null  datetime64[ns]\n",
      " 7   order_estimated_delivery_date  113390 non-null  datetime64[ns]\n",
      " 8   order_item_id                  113390 non-null  float64       \n",
      " 9   product_id                     113390 non-null  object        \n",
      " 10  seller_id                      113390 non-null  object        \n",
      " 11  shipping_limit_date            113390 non-null  datetime64[ns]\n",
      " 12  price                          113390 non-null  float64       \n",
      " 13  freight_value                  113390 non-null  float64       \n",
      " 14  payment_sequential             113390 non-null  float64       \n",
      " 15  payment_type                   113390 non-null  object        \n",
      " 16  payment_installments           113390 non-null  float64       \n",
      " 17  payment_value                  113390 non-null  float64       \n",
      " 18  product_category_name          113390 non-null  object        \n",
      " 19  product_name_lenght            113390 non-null  float64       \n",
      " 20  product_description_lenght     113390 non-null  float64       \n",
      " 21  product_photos_qty             113390 non-null  float64       \n",
      " 22  product_weight_g               113390 non-null  float64       \n",
      " 23  product_length_cm              113390 non-null  float64       \n",
      " 24  product_height_cm              113390 non-null  float64       \n",
      " 25  product_width_cm               113390 non-null  float64       \n",
      " 26  product_category_name_english  113390 non-null  object        \n",
      " 27  customer_unique_id             113390 non-null  object        \n",
      " 28  customer_zip_code_prefix       113390 non-null  int64         \n",
      " 29  customer_city                  113390 non-null  object        \n",
      " 30  customer_state                 113390 non-null  object        \n",
      " 31  delivery_against_estimated     113390 non-null  float64       \n",
      " 32  order_purchase_year            113390 non-null  int64         \n",
      " 33  order_purchase_quarter         113390 non-null  int64         \n",
      " 34  order_purchase_month           113390 non-null  object        \n",
      " 35  order_purchase_dayofweek       113390 non-null  int64         \n",
      " 36  order_purchase_hour            113390 non-null  int64         \n",
      " 37  order_purchase_day             113390 non-null  object        \n",
      " 38  month_year                     113390 non-null  object        \n",
      " 39  month_y                        113390 non-null  int64         \n",
      "dtypes: datetime64[ns](6), float64(14), int64(6), object(14)\n",
      "memory usage: 35.5+ MB\n"
     ]
    }
   ],
   "source": [
    "# displaying dataframe info\n",
    "df.info()"
   ]
  },
  {
   "cell_type": "markdown",
   "id": "5d6a96b2",
   "metadata": {},
   "source": [
    "**excluding incomplete 2012 data and displaying first 3 rows of master dataframe**"
   ]
  },
  {
   "cell_type": "code",
   "execution_count": 30,
   "id": "cc5092c6",
   "metadata": {
    "ExecuteTime": {
     "end_time": "2022-11-23T10:48:51.135947Z",
     "start_time": "2022-11-23T10:48:50.984898Z"
    }
   },
   "outputs": [
    {
     "data": {
      "text/plain": [
       "array(['2016-10', '2016-12', '2017-01', '2017-02', '2017-03', '2017-04',\n",
       "       '2017-05', '2017-06', '2017-07', '2017-08', '2017-09', '2017-10',\n",
       "       '2017-11', '2017-12', '2018-01', '2018-02', '2018-03', '2018-04',\n",
       "       '2018-05', '2018-06', '2018-07', '2018-08'], dtype=object)"
      ]
     },
     "execution_count": 30,
     "metadata": {},
     "output_type": "execute_result"
    }
   ],
   "source": [
    "# 2016년 데이터는 완전하지 않음을 파악됨. \n",
    "df['month_year'].sort_values().unique()"
   ]
  },
  {
   "cell_type": "code",
   "execution_count": 31,
   "id": "d8af7e69",
   "metadata": {
    "ExecuteTime": {
     "end_time": "2022-11-23T10:48:51.212965Z",
     "start_time": "2022-11-23T10:48:51.137932Z"
    }
   },
   "outputs": [],
   "source": [
    "df = df.query(\"month_year != '2016-10' and month_year != '2016-12'\")"
   ]
  },
  {
   "cell_type": "code",
   "execution_count": 32,
   "id": "f6c199b0",
   "metadata": {
    "ExecuteTime": {
     "end_time": "2022-11-23T10:48:51.365986Z",
     "start_time": "2022-11-23T10:48:51.213971Z"
    }
   },
   "outputs": [
    {
     "data": {
      "text/plain": [
       "array(['2017-01', '2017-02', '2017-03', '2017-04', '2017-05', '2017-06',\n",
       "       '2017-07', '2017-08', '2017-09', '2017-10', '2017-11', '2017-12',\n",
       "       '2018-01', '2018-02', '2018-03', '2018-04', '2018-05', '2018-06',\n",
       "       '2018-07', '2018-08'], dtype=object)"
      ]
     },
     "execution_count": 32,
     "metadata": {},
     "output_type": "execute_result"
    }
   ],
   "source": [
    "df['month_year'].sort_values().unique()"
   ]
  },
  {
   "cell_type": "markdown",
   "id": "c5741df7",
   "metadata": {},
   "source": [
    "마스터 데이터 프레임은 고유 키를 통해 결합되어 제공되는 다양한 독립 데이터 세트로 구성됩니다. 날짜 열은 분석 목적으로 설계된 날짜/시간 및 새로운 필수 열로 변환되었습니다. "
   ]
  },
  {
   "cell_type": "markdown",
   "id": "f2259f1d",
   "metadata": {},
   "source": [
    "# 가설 검증"
   ]
  },
  {
   "cell_type": "markdown",
   "id": "a66d3fc5",
   "metadata": {},
   "source": [
    "## Revenue Part"
   ]
  },
  {
   "cell_type": "markdown",
   "id": "be4b2e2a",
   "metadata": {
    "heading_collapsed": true
   },
   "source": [
    "### Total Sales "
   ]
  },
  {
   "cell_type": "code",
   "execution_count": 33,
   "id": "09329149",
   "metadata": {
    "ExecuteTime": {
     "end_time": "2022-11-23T10:48:51.381993Z",
     "start_time": "2022-11-23T10:48:51.367990Z"
    },
    "hidden": true
   },
   "outputs": [
    {
     "data": {
      "text/plain": [
       "19467987.99"
      ]
     },
     "execution_count": 33,
     "metadata": {},
     "output_type": "execute_result"
    }
   ],
   "source": [
    "df['payment_value'].sum()"
   ]
  },
  {
   "cell_type": "markdown",
   "id": "fc309b17",
   "metadata": {
    "heading_collapsed": true
   },
   "source": [
    "### Monthly Revenue "
   ]
  },
  {
   "cell_type": "code",
   "execution_count": 34,
   "id": "2601498b",
   "metadata": {
    "ExecuteTime": {
     "end_time": "2022-11-23T10:48:51.411996Z",
     "start_time": "2022-11-23T10:48:51.383992Z"
    },
    "hidden": true
   },
   "outputs": [
    {
     "data": {
      "text/html": [
       "<div>\n",
       "<style scoped>\n",
       "    .dataframe tbody tr th:only-of-type {\n",
       "        vertical-align: middle;\n",
       "    }\n",
       "\n",
       "    .dataframe tbody tr th {\n",
       "        vertical-align: top;\n",
       "    }\n",
       "\n",
       "    .dataframe thead th {\n",
       "        text-align: right;\n",
       "    }\n",
       "</style>\n",
       "<table border=\"1\" class=\"dataframe\">\n",
       "  <thead>\n",
       "    <tr style=\"text-align: right;\">\n",
       "      <th></th>\n",
       "      <th>month_year</th>\n",
       "      <th>payment_value</th>\n",
       "    </tr>\n",
       "  </thead>\n",
       "  <tbody>\n",
       "    <tr>\n",
       "      <th>0</th>\n",
       "      <td>2017-01</td>\n",
       "      <td>172487.07</td>\n",
       "    </tr>\n",
       "    <tr>\n",
       "      <th>1</th>\n",
       "      <td>2017-02</td>\n",
       "      <td>313470.32</td>\n",
       "    </tr>\n",
       "    <tr>\n",
       "      <th>2</th>\n",
       "      <td>2017-03</td>\n",
       "      <td>496731.66</td>\n",
       "    </tr>\n",
       "    <tr>\n",
       "      <th>3</th>\n",
       "      <td>2017-04</td>\n",
       "      <td>444457.76</td>\n",
       "    </tr>\n",
       "    <tr>\n",
       "      <th>4</th>\n",
       "      <td>2017-05</td>\n",
       "      <td>687145.80</td>\n",
       "    </tr>\n",
       "    <tr>\n",
       "      <th>5</th>\n",
       "      <td>2017-06</td>\n",
       "      <td>577595.09</td>\n",
       "    </tr>\n",
       "    <tr>\n",
       "      <th>6</th>\n",
       "      <td>2017-07</td>\n",
       "      <td>711168.83</td>\n",
       "    </tr>\n",
       "    <tr>\n",
       "      <th>7</th>\n",
       "      <td>2017-08</td>\n",
       "      <td>835079.65</td>\n",
       "    </tr>\n",
       "    <tr>\n",
       "      <th>8</th>\n",
       "      <td>2017-09</td>\n",
       "      <td>985552.70</td>\n",
       "    </tr>\n",
       "    <tr>\n",
       "      <th>9</th>\n",
       "      <td>2017-10</td>\n",
       "      <td>972010.21</td>\n",
       "    </tr>\n",
       "    <tr>\n",
       "      <th>10</th>\n",
       "      <td>2017-11</td>\n",
       "      <td>1530815.84</td>\n",
       "    </tr>\n",
       "    <tr>\n",
       "      <th>11</th>\n",
       "      <td>2017-12</td>\n",
       "      <td>1001835.60</td>\n",
       "    </tr>\n",
       "    <tr>\n",
       "      <th>12</th>\n",
       "      <td>2018-01</td>\n",
       "      <td>1342632.07</td>\n",
       "    </tr>\n",
       "    <tr>\n",
       "      <th>13</th>\n",
       "      <td>2018-02</td>\n",
       "      <td>1262341.96</td>\n",
       "    </tr>\n",
       "    <tr>\n",
       "      <th>14</th>\n",
       "      <td>2018-03</td>\n",
       "      <td>1412277.50</td>\n",
       "    </tr>\n",
       "    <tr>\n",
       "      <th>15</th>\n",
       "      <td>2018-04</td>\n",
       "      <td>1456300.41</td>\n",
       "    </tr>\n",
       "    <tr>\n",
       "      <th>16</th>\n",
       "      <td>2018-05</td>\n",
       "      <td>1475249.63</td>\n",
       "    </tr>\n",
       "    <tr>\n",
       "      <th>17</th>\n",
       "      <td>2018-06</td>\n",
       "      <td>1282453.00</td>\n",
       "    </tr>\n",
       "    <tr>\n",
       "      <th>18</th>\n",
       "      <td>2018-07</td>\n",
       "      <td>1300181.74</td>\n",
       "    </tr>\n",
       "    <tr>\n",
       "      <th>19</th>\n",
       "      <td>2018-08</td>\n",
       "      <td>1208201.15</td>\n",
       "    </tr>\n",
       "  </tbody>\n",
       "</table>\n",
       "</div>"
      ],
      "text/plain": [
       "   month_year  payment_value\n",
       "0     2017-01      172487.07\n",
       "1     2017-02      313470.32\n",
       "2     2017-03      496731.66\n",
       "3     2017-04      444457.76\n",
       "4     2017-05      687145.80\n",
       "5     2017-06      577595.09\n",
       "6     2017-07      711168.83\n",
       "7     2017-08      835079.65\n",
       "8     2017-09      985552.70\n",
       "9     2017-10      972010.21\n",
       "10    2017-11     1530815.84\n",
       "11    2017-12     1001835.60\n",
       "12    2018-01     1342632.07\n",
       "13    2018-02     1262341.96\n",
       "14    2018-03     1412277.50\n",
       "15    2018-04     1456300.41\n",
       "16    2018-05     1475249.63\n",
       "17    2018-06     1282453.00\n",
       "18    2018-07     1300181.74\n",
       "19    2018-08     1208201.15"
      ]
     },
     "execution_count": 34,
     "metadata": {},
     "output_type": "execute_result"
    }
   ],
   "source": [
    "# calculate Revenue for each row and create a new dataframe with YearMonth - Revenue columns\n",
    "# reset_index() : 행 인덱스 초기화 \n",
    "df_revenue = df.groupby(['month_year'])['payment_value'].sum().reset_index()\n",
    "df_revenue "
   ]
  },
  {
   "cell_type": "markdown",
   "id": "ed41a30c",
   "metadata": {
    "heading_collapsed": true
   },
   "source": [
    "### Monthly Revenue Growth Rate "
   ]
  },
  {
   "cell_type": "code",
   "execution_count": 35,
   "id": "14c53497",
   "metadata": {
    "ExecuteTime": {
     "end_time": "2022-11-23T10:48:51.428001Z",
     "start_time": "2022-11-23T10:48:51.413997Z"
    },
    "hidden": true
   },
   "outputs": [
    {
     "data": {
      "text/html": [
       "<div>\n",
       "<style scoped>\n",
       "    .dataframe tbody tr th:only-of-type {\n",
       "        vertical-align: middle;\n",
       "    }\n",
       "\n",
       "    .dataframe tbody tr th {\n",
       "        vertical-align: top;\n",
       "    }\n",
       "\n",
       "    .dataframe thead th {\n",
       "        text-align: right;\n",
       "    }\n",
       "</style>\n",
       "<table border=\"1\" class=\"dataframe\">\n",
       "  <thead>\n",
       "    <tr style=\"text-align: right;\">\n",
       "      <th></th>\n",
       "      <th>month_year</th>\n",
       "      <th>payment_value</th>\n",
       "      <th>MonthlyGrowth</th>\n",
       "    </tr>\n",
       "  </thead>\n",
       "  <tbody>\n",
       "    <tr>\n",
       "      <th>0</th>\n",
       "      <td>2017-01</td>\n",
       "      <td>172487.07</td>\n",
       "      <td>NaN</td>\n",
       "    </tr>\n",
       "    <tr>\n",
       "      <th>1</th>\n",
       "      <td>2017-02</td>\n",
       "      <td>313470.32</td>\n",
       "      <td>0.817355</td>\n",
       "    </tr>\n",
       "    <tr>\n",
       "      <th>2</th>\n",
       "      <td>2017-03</td>\n",
       "      <td>496731.66</td>\n",
       "      <td>0.584621</td>\n",
       "    </tr>\n",
       "    <tr>\n",
       "      <th>3</th>\n",
       "      <td>2017-04</td>\n",
       "      <td>444457.76</td>\n",
       "      <td>-0.105236</td>\n",
       "    </tr>\n",
       "    <tr>\n",
       "      <th>4</th>\n",
       "      <td>2017-05</td>\n",
       "      <td>687145.80</td>\n",
       "      <td>0.546032</td>\n",
       "    </tr>\n",
       "    <tr>\n",
       "      <th>5</th>\n",
       "      <td>2017-06</td>\n",
       "      <td>577595.09</td>\n",
       "      <td>-0.159429</td>\n",
       "    </tr>\n",
       "    <tr>\n",
       "      <th>6</th>\n",
       "      <td>2017-07</td>\n",
       "      <td>711168.83</td>\n",
       "      <td>0.231258</td>\n",
       "    </tr>\n",
       "    <tr>\n",
       "      <th>7</th>\n",
       "      <td>2017-08</td>\n",
       "      <td>835079.65</td>\n",
       "      <td>0.174235</td>\n",
       "    </tr>\n",
       "    <tr>\n",
       "      <th>8</th>\n",
       "      <td>2017-09</td>\n",
       "      <td>985552.70</td>\n",
       "      <td>0.180190</td>\n",
       "    </tr>\n",
       "    <tr>\n",
       "      <th>9</th>\n",
       "      <td>2017-10</td>\n",
       "      <td>972010.21</td>\n",
       "      <td>-0.013741</td>\n",
       "    </tr>\n",
       "    <tr>\n",
       "      <th>10</th>\n",
       "      <td>2017-11</td>\n",
       "      <td>1530815.84</td>\n",
       "      <td>0.574897</td>\n",
       "    </tr>\n",
       "    <tr>\n",
       "      <th>11</th>\n",
       "      <td>2017-12</td>\n",
       "      <td>1001835.60</td>\n",
       "      <td>-0.345554</td>\n",
       "    </tr>\n",
       "    <tr>\n",
       "      <th>12</th>\n",
       "      <td>2018-01</td>\n",
       "      <td>1342632.07</td>\n",
       "      <td>0.340172</td>\n",
       "    </tr>\n",
       "    <tr>\n",
       "      <th>13</th>\n",
       "      <td>2018-02</td>\n",
       "      <td>1262341.96</td>\n",
       "      <td>-0.059801</td>\n",
       "    </tr>\n",
       "    <tr>\n",
       "      <th>14</th>\n",
       "      <td>2018-03</td>\n",
       "      <td>1412277.50</td>\n",
       "      <td>0.118776</td>\n",
       "    </tr>\n",
       "    <tr>\n",
       "      <th>15</th>\n",
       "      <td>2018-04</td>\n",
       "      <td>1456300.41</td>\n",
       "      <td>0.031172</td>\n",
       "    </tr>\n",
       "    <tr>\n",
       "      <th>16</th>\n",
       "      <td>2018-05</td>\n",
       "      <td>1475249.63</td>\n",
       "      <td>0.013012</td>\n",
       "    </tr>\n",
       "    <tr>\n",
       "      <th>17</th>\n",
       "      <td>2018-06</td>\n",
       "      <td>1282453.00</td>\n",
       "      <td>-0.130687</td>\n",
       "    </tr>\n",
       "    <tr>\n",
       "      <th>18</th>\n",
       "      <td>2018-07</td>\n",
       "      <td>1300181.74</td>\n",
       "      <td>0.013824</td>\n",
       "    </tr>\n",
       "    <tr>\n",
       "      <th>19</th>\n",
       "      <td>2018-08</td>\n",
       "      <td>1208201.15</td>\n",
       "      <td>-0.070744</td>\n",
       "    </tr>\n",
       "  </tbody>\n",
       "</table>\n",
       "</div>"
      ],
      "text/plain": [
       "   month_year  payment_value  MonthlyGrowth\n",
       "0     2017-01      172487.07            NaN\n",
       "1     2017-02      313470.32       0.817355\n",
       "2     2017-03      496731.66       0.584621\n",
       "3     2017-04      444457.76      -0.105236\n",
       "4     2017-05      687145.80       0.546032\n",
       "5     2017-06      577595.09      -0.159429\n",
       "6     2017-07      711168.83       0.231258\n",
       "7     2017-08      835079.65       0.174235\n",
       "8     2017-09      985552.70       0.180190\n",
       "9     2017-10      972010.21      -0.013741\n",
       "10    2017-11     1530815.84       0.574897\n",
       "11    2017-12     1001835.60      -0.345554\n",
       "12    2018-01     1342632.07       0.340172\n",
       "13    2018-02     1262341.96      -0.059801\n",
       "14    2018-03     1412277.50       0.118776\n",
       "15    2018-04     1456300.41       0.031172\n",
       "16    2018-05     1475249.63       0.013012\n",
       "17    2018-06     1282453.00      -0.130687\n",
       "18    2018-07     1300181.74       0.013824\n",
       "19    2018-08     1208201.15      -0.070744"
      ]
     },
     "execution_count": 35,
     "metadata": {},
     "output_type": "execute_result"
    }
   ],
   "source": [
    "# calculating for monthly revenue growth rate \n",
    "# using pct_change() function to see monthly percentage change \n",
    "# pct_change : 한 객체 내에서 행과 행의 차이를 현재값과 백분율로 출력하는 메서드\n",
    "## (다음행-현재행) % 현재행 \n",
    "df_revenue['MonthlyGrowth'] = df_revenue['payment_value'].pct_change()\n",
    "df_revenue"
   ]
  },
  {
   "cell_type": "code",
   "execution_count": 36,
   "id": "9d4cc3b7",
   "metadata": {
    "ExecuteTime": {
     "end_time": "2022-11-23T10:48:52.590261Z",
     "start_time": "2022-11-23T10:48:51.429003Z"
    },
    "hidden": true
   },
   "outputs": [
    {
     "data": {
      "image/png": "[encoded data removed]",
      "text/plain": [
       "<Figure size 864x432 with 1 Axes>"
      ]
     },
     "metadata": {
      "needs_background": "light"
     },
     "output_type": "display_data"
    }
   ],
   "source": [
    "fig, ax = plt.subplots(figsize = (12,6))\n",
    "sns.set(palette = 'muted', color_codes = True, style='whitegrid')\n",
    "bar_plot(x = 'month_year', y = 'payment_value', df = df_revenue, value = True)\n",
    "ax.tick_params(axis = 'x', labelrotation = 90)\n",
    "plt.show()"
   ]
  },
  {
   "cell_type": "markdown",
   "id": "6711ffe8",
   "metadata": {
    "heading_collapsed": true
   },
   "source": [
    "### Sales by Day"
   ]
  },
  {
   "cell_type": "code",
   "execution_count": 37,
   "id": "99b7d877",
   "metadata": {
    "ExecuteTime": {
     "end_time": "2022-11-23T10:48:52.621285Z",
     "start_time": "2022-11-23T10:48:52.592262Z"
    },
    "hidden": true
   },
   "outputs": [
    {
     "data": {
      "text/html": [
       "<div>\n",
       "<style scoped>\n",
       "    .dataframe tbody tr th:only-of-type {\n",
       "        vertical-align: middle;\n",
       "    }\n",
       "\n",
       "    .dataframe tbody tr th {\n",
       "        vertical-align: top;\n",
       "    }\n",
       "\n",
       "    .dataframe thead th {\n",
       "        text-align: right;\n",
       "    }\n",
       "</style>\n",
       "<table border=\"1\" class=\"dataframe\">\n",
       "  <thead>\n",
       "    <tr style=\"text-align: right;\">\n",
       "      <th></th>\n",
       "      <th>order_purchase_day</th>\n",
       "      <th>payment_value</th>\n",
       "    </tr>\n",
       "  </thead>\n",
       "  <tbody>\n",
       "    <tr>\n",
       "      <th>0</th>\n",
       "      <td>Fri</td>\n",
       "      <td>2906012.45</td>\n",
       "    </tr>\n",
       "    <tr>\n",
       "      <th>1</th>\n",
       "      <td>Mon</td>\n",
       "      <td>3174421.80</td>\n",
       "    </tr>\n",
       "    <tr>\n",
       "      <th>2</th>\n",
       "      <td>Sat</td>\n",
       "      <td>2056448.69</td>\n",
       "    </tr>\n",
       "    <tr>\n",
       "      <th>3</th>\n",
       "      <td>Sun</td>\n",
       "      <td>2172082.71</td>\n",
       "    </tr>\n",
       "    <tr>\n",
       "      <th>4</th>\n",
       "      <td>Thu</td>\n",
       "      <td>2949013.80</td>\n",
       "    </tr>\n",
       "    <tr>\n",
       "      <th>5</th>\n",
       "      <td>Tue</td>\n",
       "      <td>3182104.82</td>\n",
       "    </tr>\n",
       "    <tr>\n",
       "      <th>6</th>\n",
       "      <td>Wed</td>\n",
       "      <td>3027903.72</td>\n",
       "    </tr>\n",
       "  </tbody>\n",
       "</table>\n",
       "</div>"
      ],
      "text/plain": [
       "  order_purchase_day  payment_value\n",
       "0                Fri     2906012.45\n",
       "1                Mon     3174421.80\n",
       "2                Sat     2056448.69\n",
       "3                Sun     2172082.71\n",
       "4                Thu     2949013.80\n",
       "5                Tue     3182104.82\n",
       "6                Wed     3027903.72"
      ]
     },
     "execution_count": 37,
     "metadata": {},
     "output_type": "execute_result"
    }
   ],
   "source": [
    "df_day = df.groupby(['order_purchase_day'])['payment_value'].sum().reset_index()\n",
    "df_day"
   ]
  },
  {
   "cell_type": "code",
   "execution_count": 38,
   "id": "75acd95e",
   "metadata": {
    "ExecuteTime": {
     "end_time": "2022-11-23T10:48:52.636271Z",
     "start_time": "2022-11-23T10:48:52.624269Z"
    },
    "hidden": true
   },
   "outputs": [
    {
     "data": {
      "text/html": [
       "<div>\n",
       "<style scoped>\n",
       "    .dataframe tbody tr th:only-of-type {\n",
       "        vertical-align: middle;\n",
       "    }\n",
       "\n",
       "    .dataframe tbody tr th {\n",
       "        vertical-align: top;\n",
       "    }\n",
       "\n",
       "    .dataframe thead th {\n",
       "        text-align: right;\n",
       "    }\n",
       "</style>\n",
       "<table border=\"1\" class=\"dataframe\">\n",
       "  <thead>\n",
       "    <tr style=\"text-align: right;\">\n",
       "      <th></th>\n",
       "      <th>order_purchase_day</th>\n",
       "      <th>payment_value</th>\n",
       "    </tr>\n",
       "  </thead>\n",
       "  <tbody>\n",
       "    <tr>\n",
       "      <th>1</th>\n",
       "      <td>Mon</td>\n",
       "      <td>3174421.80</td>\n",
       "    </tr>\n",
       "    <tr>\n",
       "      <th>5</th>\n",
       "      <td>Tue</td>\n",
       "      <td>3182104.82</td>\n",
       "    </tr>\n",
       "    <tr>\n",
       "      <th>6</th>\n",
       "      <td>Wed</td>\n",
       "      <td>3027903.72</td>\n",
       "    </tr>\n",
       "    <tr>\n",
       "      <th>4</th>\n",
       "      <td>Thu</td>\n",
       "      <td>2949013.80</td>\n",
       "    </tr>\n",
       "    <tr>\n",
       "      <th>0</th>\n",
       "      <td>Fri</td>\n",
       "      <td>2906012.45</td>\n",
       "    </tr>\n",
       "    <tr>\n",
       "      <th>2</th>\n",
       "      <td>Sat</td>\n",
       "      <td>2056448.69</td>\n",
       "    </tr>\n",
       "    <tr>\n",
       "      <th>3</th>\n",
       "      <td>Sun</td>\n",
       "      <td>2172082.71</td>\n",
       "    </tr>\n",
       "  </tbody>\n",
       "</table>\n",
       "</div>"
      ],
      "text/plain": [
       "  order_purchase_day  payment_value\n",
       "1                Mon     3174421.80\n",
       "5                Tue     3182104.82\n",
       "6                Wed     3027903.72\n",
       "4                Thu     2949013.80\n",
       "0                Fri     2906012.45\n",
       "2                Sat     2056448.69\n",
       "3                Sun     2172082.71"
      ]
     },
     "execution_count": 38,
     "metadata": {},
     "output_type": "execute_result"
    }
   ],
   "source": [
    "# 값 정렬하기 \n",
    "from pandas.api.types import CategoricalDtype\n",
    "cats = ['Mon','Tue','Wed','Thu','Fri','Sat','Sun']\n",
    "df_day['order_purchase_day'] = pd.Categorical(df_day['order_purchase_day'], categories = cats, ordered = True)\n",
    "df_day = df_day.sort_values('order_purchase_day')\n",
    "\n",
    "df_day"
   ]
  },
  {
   "cell_type": "code",
   "execution_count": 39,
   "id": "ea712b96",
   "metadata": {
    "ExecuteTime": {
     "end_time": "2022-11-23T10:48:52.951812Z",
     "start_time": "2022-11-23T10:48:52.638273Z"
    },
    "hidden": true
   },
   "outputs": [
    {
     "data": {
      "image/png": "[encoded data removed]",
      "text/plain": [
       "<Figure size 864x432 with 1 Axes>"
      ]
     },
     "metadata": {},
     "output_type": "display_data"
    }
   ],
   "source": [
    "fig, ax = plt.subplots(figsize = (12,6))\n",
    "sns.set(palette = 'muted', color_codes = True, style='whitegrid')\n",
    "bar_plot(x = 'order_purchase_day', y = 'payment_value', df = df_day, value = True)\n",
    "ax.tick_params(axis = 'x')\n",
    "plt.show()"
   ]
  },
  {
   "cell_type": "markdown",
   "id": "83a5098d",
   "metadata": {
    "heading_collapsed": true
   },
   "source": [
    "### Sales by hour"
   ]
  },
  {
   "cell_type": "code",
   "execution_count": 40,
   "id": "fde7c20e",
   "metadata": {
    "ExecuteTime": {
     "end_time": "2022-11-23T10:48:52.981812Z",
     "start_time": "2022-11-23T10:48:52.953807Z"
    },
    "hidden": true
   },
   "outputs": [
    {
     "data": {
      "text/html": [
       "<div>\n",
       "<style scoped>\n",
       "    .dataframe tbody tr th:only-of-type {\n",
       "        vertical-align: middle;\n",
       "    }\n",
       "\n",
       "    .dataframe tbody tr th {\n",
       "        vertical-align: top;\n",
       "    }\n",
       "\n",
       "    .dataframe thead th {\n",
       "        text-align: right;\n",
       "    }\n",
       "</style>\n",
       "<table border=\"1\" class=\"dataframe\">\n",
       "  <thead>\n",
       "    <tr style=\"text-align: right;\">\n",
       "      <th></th>\n",
       "      <th>order_purchase_hour</th>\n",
       "      <th>payment_value</th>\n",
       "    </tr>\n",
       "  </thead>\n",
       "  <tbody>\n",
       "    <tr>\n",
       "      <th>0</th>\n",
       "      <td>0</td>\n",
       "      <td>448620.43</td>\n",
       "    </tr>\n",
       "    <tr>\n",
       "      <th>1</th>\n",
       "      <td>1</td>\n",
       "      <td>200295.03</td>\n",
       "    </tr>\n",
       "    <tr>\n",
       "      <th>2</th>\n",
       "      <td>2</td>\n",
       "      <td>88932.78</td>\n",
       "    </tr>\n",
       "    <tr>\n",
       "      <th>3</th>\n",
       "      <td>3</td>\n",
       "      <td>45398.48</td>\n",
       "    </tr>\n",
       "    <tr>\n",
       "      <th>4</th>\n",
       "      <td>4</td>\n",
       "      <td>35176.65</td>\n",
       "    </tr>\n",
       "    <tr>\n",
       "      <th>5</th>\n",
       "      <td>5</td>\n",
       "      <td>28480.56</td>\n",
       "    </tr>\n",
       "    <tr>\n",
       "      <th>6</th>\n",
       "      <td>6</td>\n",
       "      <td>76066.24</td>\n",
       "    </tr>\n",
       "    <tr>\n",
       "      <th>7</th>\n",
       "      <td>7</td>\n",
       "      <td>208139.14</td>\n",
       "    </tr>\n",
       "    <tr>\n",
       "      <th>8</th>\n",
       "      <td>8</td>\n",
       "      <td>575785.46</td>\n",
       "    </tr>\n",
       "    <tr>\n",
       "      <th>9</th>\n",
       "      <td>9</td>\n",
       "      <td>1041500.56</td>\n",
       "    </tr>\n",
       "    <tr>\n",
       "      <th>10</th>\n",
       "      <td>10</td>\n",
       "      <td>1213502.41</td>\n",
       "    </tr>\n",
       "    <tr>\n",
       "      <th>11</th>\n",
       "      <td>11</td>\n",
       "      <td>1246700.07</td>\n",
       "    </tr>\n",
       "    <tr>\n",
       "      <th>12</th>\n",
       "      <td>12</td>\n",
       "      <td>1189000.92</td>\n",
       "    </tr>\n",
       "    <tr>\n",
       "      <th>13</th>\n",
       "      <td>13</td>\n",
       "      <td>1262576.17</td>\n",
       "    </tr>\n",
       "    <tr>\n",
       "      <th>14</th>\n",
       "      <td>14</td>\n",
       "      <td>1421685.71</td>\n",
       "    </tr>\n",
       "    <tr>\n",
       "      <th>15</th>\n",
       "      <td>15</td>\n",
       "      <td>1450750.07</td>\n",
       "    </tr>\n",
       "    <tr>\n",
       "      <th>16</th>\n",
       "      <td>16</td>\n",
       "      <td>1355711.19</td>\n",
       "    </tr>\n",
       "    <tr>\n",
       "      <th>17</th>\n",
       "      <td>17</td>\n",
       "      <td>1181597.65</td>\n",
       "    </tr>\n",
       "    <tr>\n",
       "      <th>18</th>\n",
       "      <td>18</td>\n",
       "      <td>1166205.22</td>\n",
       "    </tr>\n",
       "    <tr>\n",
       "      <th>19</th>\n",
       "      <td>19</td>\n",
       "      <td>1127027.64</td>\n",
       "    </tr>\n",
       "    <tr>\n",
       "      <th>20</th>\n",
       "      <td>20</td>\n",
       "      <td>1178773.11</td>\n",
       "    </tr>\n",
       "    <tr>\n",
       "      <th>21</th>\n",
       "      <td>21</td>\n",
       "      <td>1134213.46</td>\n",
       "    </tr>\n",
       "    <tr>\n",
       "      <th>22</th>\n",
       "      <td>22</td>\n",
       "      <td>1064431.21</td>\n",
       "    </tr>\n",
       "    <tr>\n",
       "      <th>23</th>\n",
       "      <td>23</td>\n",
       "      <td>727417.83</td>\n",
       "    </tr>\n",
       "  </tbody>\n",
       "</table>\n",
       "</div>"
      ],
      "text/plain": [
       "    order_purchase_hour  payment_value\n",
       "0                     0      448620.43\n",
       "1                     1      200295.03\n",
       "2                     2       88932.78\n",
       "3                     3       45398.48\n",
       "4                     4       35176.65\n",
       "5                     5       28480.56\n",
       "6                     6       76066.24\n",
       "7                     7      208139.14\n",
       "8                     8      575785.46\n",
       "9                     9     1041500.56\n",
       "10                   10     1213502.41\n",
       "11                   11     1246700.07\n",
       "12                   12     1189000.92\n",
       "13                   13     1262576.17\n",
       "14                   14     1421685.71\n",
       "15                   15     1450750.07\n",
       "16                   16     1355711.19\n",
       "17                   17     1181597.65\n",
       "18                   18     1166205.22\n",
       "19                   19     1127027.64\n",
       "20                   20     1178773.11\n",
       "21                   21     1134213.46\n",
       "22                   22     1064431.21\n",
       "23                   23      727417.83"
      ]
     },
     "execution_count": 40,
     "metadata": {},
     "output_type": "execute_result"
    }
   ],
   "source": [
    "df_hour = df.groupby(['order_purchase_hour'])['payment_value'].sum().reset_index()\n",
    "df_hour"
   ]
  },
  {
   "cell_type": "code",
   "execution_count": 41,
   "id": "bce50a22",
   "metadata": {
    "ExecuteTime": {
     "end_time": "2022-11-23T10:48:53.806582Z",
     "start_time": "2022-11-23T10:48:52.983813Z"
    },
    "hidden": true
   },
   "outputs": [
    {
     "data": {
      "image/png": "[encoded data removed]",
      "text/plain": [
       "<Figure size 864x432 with 1 Axes>"
      ]
     },
     "metadata": {},
     "output_type": "display_data"
    }
   ],
   "source": [
    "fig, ax = plt.subplots(figsize = (12,6))\n",
    "sns.set(palette = 'muted', color_codes = True, style='whitegrid')\n",
    "bar_plot(x = 'order_purchase_hour', y = 'payment_value', df = df_hour, value = True)\n",
    "ax.tick_params(axis = 'x')\n",
    "plt.show()"
   ]
  },
  {
   "cell_type": "markdown",
   "id": "e7b75dd5",
   "metadata": {
    "heading_collapsed": true
   },
   "source": [
    "## Monthly Active Customers "
   ]
  },
  {
   "cell_type": "code",
   "execution_count": 42,
   "id": "b27f4e37",
   "metadata": {
    "ExecuteTime": {
     "end_time": "2022-11-23T10:48:54.486739Z",
     "start_time": "2022-11-23T10:48:53.809590Z"
    },
    "hidden": true
   },
   "outputs": [
    {
     "data": {
      "image/png": "[encoded data removed]",
      "text/plain": [
       "<Figure size 864x432 with 1 Axes>"
      ]
     },
     "metadata": {},
     "output_type": "display_data"
    }
   ],
   "source": [
    "# creating monthly active customers dataframe by counting unique Customer IDs\n",
    "df_monthly_active = df.groupby('month_year')['customer_unique_id'].nunique().reset_index()\n",
    "\n",
    "fig, ax = plt.subplots(figsize=(12, 6))\n",
    "sns.set(palette='muted', color_codes=True, style='whitegrid')\n",
    "bar_plot(x='month_year', y='customer_unique_id', df=df_monthly_active, value=True)\n",
    "ax.tick_params(axis='x', labelrotation=90)\n",
    "plt.show()"
   ]
  },
  {
   "cell_type": "markdown",
   "id": "9c7a662b",
   "metadata": {
    "heading_collapsed": true
   },
   "source": [
    "## Monthly Order Count \n",
    "* 주문 수는 점점 상향하는 추세이다. \n",
    "* 2017년 11월에 최고점을 찍었고, 12월에 소폭 하락했지만 이내 회복 추세에 들어감. \n",
    "    * 이러한 현상은 11월 블프 행사 때 상품을 대량 구매하여 나타난 상황이라 해석할 수 있기 때문에 문제 상황이라 보기는 어려울 것이다. \n",
    "    * 하지만 매출 또한 12월이 11월에 비해 떨어진 것은 분명하니 12월 매출 회복을 위한 프로모션이 필요하다.\n"
   ]
  },
  {
   "cell_type": "code",
   "execution_count": 43,
   "id": "5c723f72",
   "metadata": {
    "ExecuteTime": {
     "end_time": "2022-11-23T10:48:54.972859Z",
     "start_time": "2022-11-23T10:48:54.487740Z"
    },
    "hidden": true,
    "scrolled": true
   },
   "outputs": [
    {
     "data": {
      "image/png": "[encoded data removed]",
      "text/plain": [
       "<Figure size 864x432 with 1 Axes>"
      ]
     },
     "metadata": {},
     "output_type": "display_data"
    }
   ],
   "source": [
    "# creating monthly active customers dataframe by counting unique Customer IDs\n",
    "df_monthly_sales = df.groupby('month_year')['order_status'].count().reset_index()\n",
    "\n",
    "fig, ax = plt.subplots(figsize = (12,6)) # 그래프 fig size 설정 \n",
    "sns.set(palette = 'muted', color_codes=True, style = 'whitegrid') \n",
    "bar_plot(x = 'month_year', y = 'order_status', df=df_monthly_sales, value = True)\n",
    "ax.tick_params(axis='x', labelrotation=90) # x축 라벨 기울기 설정 \n",
    "plt.show()"
   ]
  },
  {
   "cell_type": "markdown",
   "id": "788f62b3",
   "metadata": {
    "heading_collapsed": true
   },
   "source": [
    "## Daily Order Count"
   ]
  },
  {
   "cell_type": "code",
   "execution_count": 44,
   "id": "c14892e2",
   "metadata": {
    "ExecuteTime": {
     "end_time": "2022-11-23T10:48:55.003849Z",
     "start_time": "2022-11-23T10:48:54.975859Z"
    },
    "hidden": true
   },
   "outputs": [
    {
     "data": {
      "text/html": [
       "<div>\n",
       "<style scoped>\n",
       "    .dataframe tbody tr th:only-of-type {\n",
       "        vertical-align: middle;\n",
       "    }\n",
       "\n",
       "    .dataframe tbody tr th {\n",
       "        vertical-align: top;\n",
       "    }\n",
       "\n",
       "    .dataframe thead th {\n",
       "        text-align: right;\n",
       "    }\n",
       "</style>\n",
       "<table border=\"1\" class=\"dataframe\">\n",
       "  <thead>\n",
       "    <tr style=\"text-align: right;\">\n",
       "      <th></th>\n",
       "      <th>order_purchase_day</th>\n",
       "      <th>order_status</th>\n",
       "    </tr>\n",
       "  </thead>\n",
       "  <tbody>\n",
       "    <tr>\n",
       "      <th>0</th>\n",
       "      <td>Fri</td>\n",
       "      <td>16140</td>\n",
       "    </tr>\n",
       "    <tr>\n",
       "      <th>1</th>\n",
       "      <td>Mon</td>\n",
       "      <td>18410</td>\n",
       "    </tr>\n",
       "    <tr>\n",
       "      <th>2</th>\n",
       "      <td>Sat</td>\n",
       "      <td>12200</td>\n",
       "    </tr>\n",
       "    <tr>\n",
       "      <th>3</th>\n",
       "      <td>Sun</td>\n",
       "      <td>13409</td>\n",
       "    </tr>\n",
       "    <tr>\n",
       "      <th>4</th>\n",
       "      <td>Thu</td>\n",
       "      <td>16871</td>\n",
       "    </tr>\n",
       "    <tr>\n",
       "      <th>5</th>\n",
       "      <td>Tue</td>\n",
       "      <td>18345</td>\n",
       "    </tr>\n",
       "    <tr>\n",
       "      <th>6</th>\n",
       "      <td>Wed</td>\n",
       "      <td>17680</td>\n",
       "    </tr>\n",
       "  </tbody>\n",
       "</table>\n",
       "</div>"
      ],
      "text/plain": [
       "  order_purchase_day  order_status\n",
       "0                Fri         16140\n",
       "1                Mon         18410\n",
       "2                Sat         12200\n",
       "3                Sun         13409\n",
       "4                Thu         16871\n",
       "5                Tue         18345\n",
       "6                Wed         17680"
      ]
     },
     "execution_count": 44,
     "metadata": {},
     "output_type": "execute_result"
    }
   ],
   "source": [
    "df_daily_sales = df.groupby('order_purchase_day')['order_status'].count().reset_index()\n",
    "df_daily_sales"
   ]
  },
  {
   "cell_type": "code",
   "execution_count": 45,
   "id": "a7f1b1f8",
   "metadata": {
    "ExecuteTime": {
     "end_time": "2022-11-23T10:48:55.018853Z",
     "start_time": "2022-11-23T10:48:55.007852Z"
    },
    "hidden": true
   },
   "outputs": [
    {
     "data": {
      "text/html": [
       "<div>\n",
       "<style scoped>\n",
       "    .dataframe tbody tr th:only-of-type {\n",
       "        vertical-align: middle;\n",
       "    }\n",
       "\n",
       "    .dataframe tbody tr th {\n",
       "        vertical-align: top;\n",
       "    }\n",
       "\n",
       "    .dataframe thead th {\n",
       "        text-align: right;\n",
       "    }\n",
       "</style>\n",
       "<table border=\"1\" class=\"dataframe\">\n",
       "  <thead>\n",
       "    <tr style=\"text-align: right;\">\n",
       "      <th></th>\n",
       "      <th>order_purchase_day</th>\n",
       "      <th>order_status</th>\n",
       "    </tr>\n",
       "  </thead>\n",
       "  <tbody>\n",
       "    <tr>\n",
       "      <th>1</th>\n",
       "      <td>Mon</td>\n",
       "      <td>18410</td>\n",
       "    </tr>\n",
       "    <tr>\n",
       "      <th>5</th>\n",
       "      <td>Tue</td>\n",
       "      <td>18345</td>\n",
       "    </tr>\n",
       "    <tr>\n",
       "      <th>6</th>\n",
       "      <td>Wed</td>\n",
       "      <td>17680</td>\n",
       "    </tr>\n",
       "    <tr>\n",
       "      <th>4</th>\n",
       "      <td>Thu</td>\n",
       "      <td>16871</td>\n",
       "    </tr>\n",
       "    <tr>\n",
       "      <th>0</th>\n",
       "      <td>Fri</td>\n",
       "      <td>16140</td>\n",
       "    </tr>\n",
       "    <tr>\n",
       "      <th>2</th>\n",
       "      <td>Sat</td>\n",
       "      <td>12200</td>\n",
       "    </tr>\n",
       "    <tr>\n",
       "      <th>3</th>\n",
       "      <td>Sun</td>\n",
       "      <td>13409</td>\n",
       "    </tr>\n",
       "  </tbody>\n",
       "</table>\n",
       "</div>"
      ],
      "text/plain": [
       "  order_purchase_day  order_status\n",
       "1                Mon         18410\n",
       "5                Tue         18345\n",
       "6                Wed         17680\n",
       "4                Thu         16871\n",
       "0                Fri         16140\n",
       "2                Sat         12200\n",
       "3                Sun         13409"
      ]
     },
     "execution_count": 45,
     "metadata": {},
     "output_type": "execute_result"
    }
   ],
   "source": [
    "# 값 정렬하기 \n",
    "df_daily_sales['order_purchase_day'] = pd.Categorical(df_daily_sales['order_purchase_day'],categories = cats, ordered = True)\n",
    "df_daily_sales = df_daily_sales.sort_values('order_purchase_day')\n",
    "\n",
    "df_daily_sales"
   ]
  },
  {
   "cell_type": "code",
   "execution_count": 46,
   "id": "607f12f1",
   "metadata": {
    "ExecuteTime": {
     "end_time": "2022-11-23T10:48:55.291932Z",
     "start_time": "2022-11-23T10:48:55.019853Z"
    },
    "hidden": true,
    "scrolled": false
   },
   "outputs": [
    {
     "data": {
      "image/png": "[encoded data removed]",
      "text/plain": [
       "<Figure size 864x432 with 1 Axes>"
      ]
     },
     "metadata": {},
     "output_type": "display_data"
    }
   ],
   "source": [
    "# 그래프 그리기 \n",
    "\n",
    "fig, ax = plt.subplots(figsize = (12,6)) # 그래프 fig size 설정 \n",
    "sns.set(palette = 'muted', color_codes=True, style = 'whitegrid') \n",
    "bar_plot(x = 'order_purchase_day', y = 'order_status', df=df_daily_sales, value = True)\n",
    "ax.tick_params(axis='x', labelrotation=90) # x축 라벨 기울기 설정 \n",
    "plt.show()"
   ]
  },
  {
   "cell_type": "markdown",
   "id": "e0efaf44",
   "metadata": {
    "heading_collapsed": true
   },
   "source": [
    "## Hour Order Count"
   ]
  },
  {
   "cell_type": "code",
   "execution_count": 47,
   "id": "232a68c5",
   "metadata": {
    "ExecuteTime": {
     "end_time": "2022-11-23T10:48:56.097465Z",
     "start_time": "2022-11-23T10:48:55.293922Z"
    },
    "hidden": true
   },
   "outputs": [
    {
     "data": {
      "image/png": "[encoded data removed]",
      "text/plain": [
       "<Figure size 864x432 with 1 Axes>"
      ]
     },
     "metadata": {},
     "output_type": "display_data"
    }
   ],
   "source": [
    "df_hour_sales = df.groupby('order_purchase_hour')['order_status'].count().reset_index()\n",
    "\n",
    "fig, ax = plt.subplots(figsize = (12,6)) # 그래프 fig size 설정 \n",
    "sns.set(palette = 'muted', color_codes=True, style = 'whitegrid') \n",
    "bar_plot(x = 'order_purchase_hour', y = 'order_status', df=df_hour_sales, value = True)\n",
    "ax.tick_params(axis='x', labelrotation=90) # x축 라벨 기울기 설정 \n",
    "plt.show()"
   ]
  },
  {
   "cell_type": "markdown",
   "id": "592d09e6",
   "metadata": {},
   "source": [
    "## Average Revenue per Customer Purchase \n",
    "**분석 결과**\n",
    "* 2017년 9월에 ARPPU가 가장 높게 나타났다. "
   ]
  },
  {
   "cell_type": "code",
   "execution_count": 48,
   "id": "dc2e90e4",
   "metadata": {
    "ExecuteTime": {
     "end_time": "2022-11-23T10:48:56.819631Z",
     "start_time": "2022-11-23T10:48:56.098476Z"
    },
    "scrolled": false
   },
   "outputs": [
    {
     "data": {
      "image/png": "[encoded data removed]",
      "text/plain": [
       "<Figure size 864x432 with 1 Axes>"
      ]
     },
     "metadata": {},
     "output_type": "display_data"
    }
   ],
   "source": [
    "# create a new dataframe for average revenue by taking the mean of it \n",
    "df_monthly_order_avg = df.groupby('month_year')['payment_value'].mean().reset_index()\n",
    "\n",
    "fig, ax = plt.subplots(figsize = (12,6))\n",
    "sns.set(palette='muted',color_codes = True, style='whitegrid')\n",
    "bar_plot(x = 'month_year', y = 'payment_value', df = df_monthly_order_avg, value = True)\n",
    "ax.tick_params(axis = 'x', labelrotation=90)\n",
    "plt.show()"
   ]
  },
  {
   "cell_type": "code",
   "execution_count": 49,
   "id": "35fec0b6",
   "metadata": {
    "ExecuteTime": {
     "end_time": "2022-11-23T10:48:56.835632Z",
     "start_time": "2022-11-23T10:48:56.821631Z"
    }
   },
   "outputs": [
    {
     "data": {
      "text/html": [
       "<div>\n",
       "<style scoped>\n",
       "    .dataframe tbody tr th:only-of-type {\n",
       "        vertical-align: middle;\n",
       "    }\n",
       "\n",
       "    .dataframe tbody tr th {\n",
       "        vertical-align: top;\n",
       "    }\n",
       "\n",
       "    .dataframe thead th {\n",
       "        text-align: right;\n",
       "    }\n",
       "</style>\n",
       "<table border=\"1\" class=\"dataframe\">\n",
       "  <thead>\n",
       "    <tr style=\"text-align: right;\">\n",
       "      <th></th>\n",
       "      <th>month_year</th>\n",
       "      <th>payment_value</th>\n",
       "    </tr>\n",
       "  </thead>\n",
       "  <tbody>\n",
       "    <tr>\n",
       "      <th>0</th>\n",
       "      <td>2017-01</td>\n",
       "      <td>181.948386</td>\n",
       "    </tr>\n",
       "    <tr>\n",
       "      <th>1</th>\n",
       "      <td>2017-02</td>\n",
       "      <td>165.594464</td>\n",
       "    </tr>\n",
       "    <tr>\n",
       "      <th>2</th>\n",
       "      <td>2017-03</td>\n",
       "      <td>164.808115</td>\n",
       "    </tr>\n",
       "    <tr>\n",
       "      <th>3</th>\n",
       "      <td>2017-04</td>\n",
       "      <td>168.931114</td>\n",
       "    </tr>\n",
       "    <tr>\n",
       "      <th>4</th>\n",
       "      <td>2017-05</td>\n",
       "      <td>165.099904</td>\n",
       "    </tr>\n",
       "    <tr>\n",
       "      <th>5</th>\n",
       "      <td>2017-06</td>\n",
       "      <td>159.204821</td>\n",
       "    </tr>\n",
       "    <tr>\n",
       "      <th>6</th>\n",
       "      <td>2017-07</td>\n",
       "      <td>152.775259</td>\n",
       "    </tr>\n",
       "    <tr>\n",
       "      <th>7</th>\n",
       "      <td>2017-08</td>\n",
       "      <td>167.888953</td>\n",
       "    </tr>\n",
       "    <tr>\n",
       "      <th>8</th>\n",
       "      <td>2017-09</td>\n",
       "      <td>200.193520</td>\n",
       "    </tr>\n",
       "    <tr>\n",
       "      <th>9</th>\n",
       "      <td>2017-10</td>\n",
       "      <td>180.469775</td>\n",
       "    </tr>\n",
       "    <tr>\n",
       "      <th>10</th>\n",
       "      <td>2017-11</td>\n",
       "      <td>176.300339</td>\n",
       "    </tr>\n",
       "    <tr>\n",
       "      <th>11</th>\n",
       "      <td>2017-12</td>\n",
       "      <td>159.046769</td>\n",
       "    </tr>\n",
       "    <tr>\n",
       "      <th>12</th>\n",
       "      <td>2018-01</td>\n",
       "      <td>164.518082</td>\n",
       "    </tr>\n",
       "    <tr>\n",
       "      <th>13</th>\n",
       "      <td>2018-02</td>\n",
       "      <td>165.119942</td>\n",
       "    </tr>\n",
       "    <tr>\n",
       "      <th>14</th>\n",
       "      <td>2018-03</td>\n",
       "      <td>172.207962</td>\n",
       "    </tr>\n",
       "    <tr>\n",
       "      <th>15</th>\n",
       "      <td>2018-04</td>\n",
       "      <td>181.244606</td>\n",
       "    </tr>\n",
       "    <tr>\n",
       "      <th>16</th>\n",
       "      <td>2018-05</td>\n",
       "      <td>183.215304</td>\n",
       "    </tr>\n",
       "    <tr>\n",
       "      <th>17</th>\n",
       "      <td>2018-06</td>\n",
       "      <td>175.823005</td>\n",
       "    </tr>\n",
       "    <tr>\n",
       "      <th>18</th>\n",
       "      <td>2018-07</td>\n",
       "      <td>181.894480</td>\n",
       "    </tr>\n",
       "    <tr>\n",
       "      <th>19</th>\n",
       "      <td>2018-08</td>\n",
       "      <td>164.987184</td>\n",
       "    </tr>\n",
       "  </tbody>\n",
       "</table>\n",
       "</div>"
      ],
      "text/plain": [
       "   month_year  payment_value\n",
       "0     2017-01     181.948386\n",
       "1     2017-02     165.594464\n",
       "2     2017-03     164.808115\n",
       "3     2017-04     168.931114\n",
       "4     2017-05     165.099904\n",
       "5     2017-06     159.204821\n",
       "6     2017-07     152.775259\n",
       "7     2017-08     167.888953\n",
       "8     2017-09     200.193520\n",
       "9     2017-10     180.469775\n",
       "10    2017-11     176.300339\n",
       "11    2017-12     159.046769\n",
       "12    2018-01     164.518082\n",
       "13    2018-02     165.119942\n",
       "14    2018-03     172.207962\n",
       "15    2018-04     181.244606\n",
       "16    2018-05     183.215304\n",
       "17    2018-06     175.823005\n",
       "18    2018-07     181.894480\n",
       "19    2018-08     164.987184"
      ]
     },
     "execution_count": 49,
     "metadata": {},
     "output_type": "execute_result"
    }
   ],
   "source": [
    "df_monthly_order_avg"
   ]
  },
  {
   "cell_type": "markdown",
   "id": "0a00b638",
   "metadata": {
    "heading_collapsed": true
   },
   "source": [
    "## 1인당 월 구매 횟수 -- 수확 없음\n",
    "**분석결과**\n",
    "* 1인당 월 구매 횟수는 약 1.2개로 나타났다. \n",
    "* 분기별로 살펴보았을 때도 약 1.2개로 동일했다."
   ]
  },
  {
   "cell_type": "code",
   "execution_count": 71,
   "id": "dd654093",
   "metadata": {
    "ExecuteTime": {
     "end_time": "2022-11-23T11:09:40.313997Z",
     "start_time": "2022-11-23T11:09:39.913892Z"
    },
    "hidden": true,
    "scrolled": true
   },
   "outputs": [
    {
     "data": {
      "text/html": [
       "<div>\n",
       "<style scoped>\n",
       "    .dataframe tbody tr th:only-of-type {\n",
       "        vertical-align: middle;\n",
       "    }\n",
       "\n",
       "    .dataframe tbody tr th {\n",
       "        vertical-align: top;\n",
       "    }\n",
       "\n",
       "    .dataframe thead th {\n",
       "        text-align: right;\n",
       "    }\n",
       "</style>\n",
       "<table border=\"1\" class=\"dataframe\">\n",
       "  <thead>\n",
       "    <tr style=\"text-align: right;\">\n",
       "      <th></th>\n",
       "      <th>order_purchase_quarter</th>\n",
       "      <th>customer_unique_id</th>\n",
       "      <th>order_id</th>\n",
       "    </tr>\n",
       "  </thead>\n",
       "  <tbody>\n",
       "    <tr>\n",
       "      <th>0</th>\n",
       "      <td>1</td>\n",
       "      <td>0000f46a3911fa3c0805444483337064</td>\n",
       "      <td>1</td>\n",
       "    </tr>\n",
       "    <tr>\n",
       "      <th>1</th>\n",
       "      <td>1</td>\n",
       "      <td>00053a61a98854899e70ed204dd4bafe</td>\n",
       "      <td>2</td>\n",
       "    </tr>\n",
       "    <tr>\n",
       "      <th>2</th>\n",
       "      <td>1</td>\n",
       "      <td>0005e1862207bf6ccc02e4228effd9a0</td>\n",
       "      <td>1</td>\n",
       "    </tr>\n",
       "    <tr>\n",
       "      <th>3</th>\n",
       "      <td>1</td>\n",
       "      <td>0005ef4cd20d2893f0d9fbd94d3c0d97</td>\n",
       "      <td>1</td>\n",
       "    </tr>\n",
       "    <tr>\n",
       "      <th>4</th>\n",
       "      <td>1</td>\n",
       "      <td>00090324bbad0e9342388303bb71ba0a</td>\n",
       "      <td>1</td>\n",
       "    </tr>\n",
       "    <tr>\n",
       "      <th>...</th>\n",
       "      <td>...</td>\n",
       "      <td>...</td>\n",
       "      <td>...</td>\n",
       "    </tr>\n",
       "    <tr>\n",
       "      <th>93073</th>\n",
       "      <td>4</td>\n",
       "      <td>ffe9be10b9a58c5464d833e8b1b2c632</td>\n",
       "      <td>1</td>\n",
       "    </tr>\n",
       "    <tr>\n",
       "      <th>93074</th>\n",
       "      <td>4</td>\n",
       "      <td>fff7219c86179ca6441b8f37823ba3d3</td>\n",
       "      <td>2</td>\n",
       "    </tr>\n",
       "    <tr>\n",
       "      <th>93075</th>\n",
       "      <td>4</td>\n",
       "      <td>fffa431dd3fcdefea4b1777d114144f2</td>\n",
       "      <td>1</td>\n",
       "    </tr>\n",
       "    <tr>\n",
       "      <th>93076</th>\n",
       "      <td>4</td>\n",
       "      <td>fffb09418989a0dbff854a28163e47c6</td>\n",
       "      <td>1</td>\n",
       "    </tr>\n",
       "    <tr>\n",
       "      <th>93077</th>\n",
       "      <td>4</td>\n",
       "      <td>fffea47cd6d3cc0a88bd621562a9d061</td>\n",
       "      <td>1</td>\n",
       "    </tr>\n",
       "  </tbody>\n",
       "</table>\n",
       "<p>93078 rows × 3 columns</p>\n",
       "</div>"
      ],
      "text/plain": [
       "       order_purchase_quarter                customer_unique_id  order_id\n",
       "0                           1  0000f46a3911fa3c0805444483337064         1\n",
       "1                           1  00053a61a98854899e70ed204dd4bafe         2\n",
       "2                           1  0005e1862207bf6ccc02e4228effd9a0         1\n",
       "3                           1  0005ef4cd20d2893f0d9fbd94d3c0d97         1\n",
       "4                           1  00090324bbad0e9342388303bb71ba0a         1\n",
       "...                       ...                               ...       ...\n",
       "93073                       4  ffe9be10b9a58c5464d833e8b1b2c632         1\n",
       "93074                       4  fff7219c86179ca6441b8f37823ba3d3         2\n",
       "93075                       4  fffa431dd3fcdefea4b1777d114144f2         1\n",
       "93076                       4  fffb09418989a0dbff854a28163e47c6         1\n",
       "93077                       4  fffea47cd6d3cc0a88bd621562a9d061         1\n",
       "\n",
       "[93078 rows x 3 columns]"
      ]
     },
     "execution_count": 71,
     "metadata": {},
     "output_type": "execute_result"
    }
   ],
   "source": [
    "x = df.groupby(['order_purchase_quarter','customer_unique_id'])['order_id'].count().reset_index()\n",
    "x"
   ]
  },
  {
   "cell_type": "code",
   "execution_count": 72,
   "id": "30a6dc44",
   "metadata": {
    "ExecuteTime": {
     "end_time": "2022-11-23T11:09:42.106002Z",
     "start_time": "2022-11-23T11:09:42.087199Z"
    },
    "hidden": true
   },
   "outputs": [
    {
     "data": {
      "text/html": [
       "<div>\n",
       "<style scoped>\n",
       "    .dataframe tbody tr th:only-of-type {\n",
       "        vertical-align: middle;\n",
       "    }\n",
       "\n",
       "    .dataframe tbody tr th {\n",
       "        vertical-align: top;\n",
       "    }\n",
       "\n",
       "    .dataframe thead th {\n",
       "        text-align: right;\n",
       "    }\n",
       "</style>\n",
       "<table border=\"1\" class=\"dataframe\">\n",
       "  <thead>\n",
       "    <tr style=\"text-align: right;\">\n",
       "      <th></th>\n",
       "      <th>order_purchase_quarter</th>\n",
       "      <th>order_id</th>\n",
       "    </tr>\n",
       "  </thead>\n",
       "  <tbody>\n",
       "    <tr>\n",
       "      <th>0</th>\n",
       "      <td>1</td>\n",
       "      <td>1.217366</td>\n",
       "    </tr>\n",
       "    <tr>\n",
       "      <th>1</th>\n",
       "      <td>2</td>\n",
       "      <td>1.214720</td>\n",
       "    </tr>\n",
       "    <tr>\n",
       "      <th>2</th>\n",
       "      <td>3</td>\n",
       "      <td>1.207480</td>\n",
       "    </tr>\n",
       "    <tr>\n",
       "      <th>3</th>\n",
       "      <td>4</td>\n",
       "      <td>1.220737</td>\n",
       "    </tr>\n",
       "  </tbody>\n",
       "</table>\n",
       "</div>"
      ],
      "text/plain": [
       "   order_purchase_quarter  order_id\n",
       "0                       1  1.217366\n",
       "1                       2  1.214720\n",
       "2                       3  1.207480\n",
       "3                       4  1.220737"
      ]
     },
     "execution_count": 72,
     "metadata": {},
     "output_type": "execute_result"
    }
   ],
   "source": [
    "x = x.groupby('order_purchase_quarter')['order_id'].mean().reset_index()\n",
    "x"
   ]
  },
  {
   "cell_type": "code",
   "execution_count": 70,
   "id": "fd863261",
   "metadata": {
    "ExecuteTime": {
     "end_time": "2022-11-23T11:09:16.863744Z",
     "start_time": "2022-11-23T11:09:16.482484Z"
    },
    "hidden": true,
    "scrolled": false
   },
   "outputs": [
    {
     "data": {
      "image/png": "[encoded data removed]",
      "text/plain": [
       "<Figure size 864x432 with 1 Axes>"
      ]
     },
     "metadata": {},
     "output_type": "display_data"
    }
   ],
   "source": [
    "fig, ax = plt.subplots(figsize = (12,6))\n",
    "sns.set(palette='muted',color_codes = True, style='whitegrid')\n",
    "bar_plot(x = 'order_purchase_quarter', y = 'order_id', df = x, value = False)\n",
    "ax.tick_params(axis = 'x', labelrotation=90)\n",
    "plt.show()"
   ]
  },
  {
   "cell_type": "markdown",
   "id": "e7a0bd93",
   "metadata": {},
   "source": [
    "## Average Order Value (AOV) -- 지우님? \n",
    "\n",
    "**AOV(평균 주문 가치)란?**\n",
    "* 특정 기간 동안 한 건의 상품 주문이 발생할 때 가치(수익)을 의미 \n",
    "* AOV = total revenue / number or orders\n",
    "* AOV 최적화를 위해서는 구매 전환율이나 객단가를 상승시키기 위한 캠페인 진행이 필요\n",
    "\n",
    "**분석 결과** \n",
    "* 2017년과 2018년 모두 2분기때의 AOV가 가장 높게 나타났다 (173, 180) "
   ]
  },
  {
   "cell_type": "code",
   "execution_count": 108,
   "id": "f6f36b74",
   "metadata": {
    "ExecuteTime": {
     "end_time": "2022-11-23T11:33:55.035495Z",
     "start_time": "2022-11-23T11:33:54.978496Z"
    }
   },
   "outputs": [
    {
     "data": {
      "text/html": [
       "<div>\n",
       "<style scoped>\n",
       "    .dataframe tbody tr th:only-of-type {\n",
       "        vertical-align: middle;\n",
       "    }\n",
       "\n",
       "    .dataframe tbody tr th {\n",
       "        vertical-align: top;\n",
       "    }\n",
       "\n",
       "    .dataframe thead th {\n",
       "        text-align: right;\n",
       "    }\n",
       "</style>\n",
       "<table border=\"1\" class=\"dataframe\">\n",
       "  <thead>\n",
       "    <tr style=\"text-align: right;\">\n",
       "      <th></th>\n",
       "      <th>month_year</th>\n",
       "      <th>AOV</th>\n",
       "    </tr>\n",
       "  </thead>\n",
       "  <tbody>\n",
       "    <tr>\n",
       "      <th>0</th>\n",
       "      <td>2017-01</td>\n",
       "      <td>181.95</td>\n",
       "    </tr>\n",
       "    <tr>\n",
       "      <th>1</th>\n",
       "      <td>2017-02</td>\n",
       "      <td>165.59</td>\n",
       "    </tr>\n",
       "    <tr>\n",
       "      <th>2</th>\n",
       "      <td>2017-03</td>\n",
       "      <td>164.81</td>\n",
       "    </tr>\n",
       "    <tr>\n",
       "      <th>3</th>\n",
       "      <td>2017-04</td>\n",
       "      <td>168.93</td>\n",
       "    </tr>\n",
       "    <tr>\n",
       "      <th>4</th>\n",
       "      <td>2017-05</td>\n",
       "      <td>165.10</td>\n",
       "    </tr>\n",
       "    <tr>\n",
       "      <th>5</th>\n",
       "      <td>2017-06</td>\n",
       "      <td>159.20</td>\n",
       "    </tr>\n",
       "    <tr>\n",
       "      <th>6</th>\n",
       "      <td>2017-07</td>\n",
       "      <td>152.78</td>\n",
       "    </tr>\n",
       "    <tr>\n",
       "      <th>7</th>\n",
       "      <td>2017-08</td>\n",
       "      <td>167.89</td>\n",
       "    </tr>\n",
       "    <tr>\n",
       "      <th>8</th>\n",
       "      <td>2017-09</td>\n",
       "      <td>200.19</td>\n",
       "    </tr>\n",
       "    <tr>\n",
       "      <th>9</th>\n",
       "      <td>2017-10</td>\n",
       "      <td>180.47</td>\n",
       "    </tr>\n",
       "    <tr>\n",
       "      <th>10</th>\n",
       "      <td>2017-11</td>\n",
       "      <td>176.30</td>\n",
       "    </tr>\n",
       "    <tr>\n",
       "      <th>11</th>\n",
       "      <td>2017-12</td>\n",
       "      <td>159.05</td>\n",
       "    </tr>\n",
       "    <tr>\n",
       "      <th>12</th>\n",
       "      <td>2018-01</td>\n",
       "      <td>164.52</td>\n",
       "    </tr>\n",
       "    <tr>\n",
       "      <th>13</th>\n",
       "      <td>2018-02</td>\n",
       "      <td>165.12</td>\n",
       "    </tr>\n",
       "    <tr>\n",
       "      <th>14</th>\n",
       "      <td>2018-03</td>\n",
       "      <td>172.21</td>\n",
       "    </tr>\n",
       "    <tr>\n",
       "      <th>15</th>\n",
       "      <td>2018-04</td>\n",
       "      <td>181.24</td>\n",
       "    </tr>\n",
       "    <tr>\n",
       "      <th>16</th>\n",
       "      <td>2018-05</td>\n",
       "      <td>183.22</td>\n",
       "    </tr>\n",
       "    <tr>\n",
       "      <th>17</th>\n",
       "      <td>2018-06</td>\n",
       "      <td>175.82</td>\n",
       "    </tr>\n",
       "    <tr>\n",
       "      <th>18</th>\n",
       "      <td>2018-07</td>\n",
       "      <td>181.89</td>\n",
       "    </tr>\n",
       "    <tr>\n",
       "      <th>19</th>\n",
       "      <td>2018-08</td>\n",
       "      <td>164.99</td>\n",
       "    </tr>\n",
       "  </tbody>\n",
       "</table>\n",
       "</div>"
      ],
      "text/plain": [
       "   month_year     AOV\n",
       "0     2017-01  181.95\n",
       "1     2017-02  165.59\n",
       "2     2017-03  164.81\n",
       "3     2017-04  168.93\n",
       "4     2017-05  165.10\n",
       "5     2017-06  159.20\n",
       "6     2017-07  152.78\n",
       "7     2017-08  167.89\n",
       "8     2017-09  200.19\n",
       "9     2017-10  180.47\n",
       "10    2017-11  176.30\n",
       "11    2017-12  159.05\n",
       "12    2018-01  164.52\n",
       "13    2018-02  165.12\n",
       "14    2018-03  172.21\n",
       "15    2018-04  181.24\n",
       "16    2018-05  183.22\n",
       "17    2018-06  175.82\n",
       "18    2018-07  181.89\n",
       "19    2018-08  164.99"
      ]
     },
     "execution_count": 108,
     "metadata": {},
     "output_type": "execute_result"
    }
   ],
   "source": [
    "aov_total  = df.groupby('month_year')['payment_value'].sum().reset_index()\n",
    "aov_cnt  = df.groupby('month_year')['order_id'].count().reset_index()\n",
    "aov_total['AOV'] = round(aov_total['payment_value']/aov_cnt['order_id'],2)\n",
    "aov = aov_total[['month_year','AOV']]\n",
    "aov"
   ]
  },
  {
   "cell_type": "code",
   "execution_count": 145,
   "id": "9ca05a50",
   "metadata": {
    "ExecuteTime": {
     "end_time": "2022-11-23T12:29:57.997474Z",
     "start_time": "2022-11-23T12:29:57.987466Z"
    }
   },
   "outputs": [
    {
     "data": {
      "text/html": [
       "<div>\n",
       "<style scoped>\n",
       "    .dataframe tbody tr th:only-of-type {\n",
       "        vertical-align: middle;\n",
       "    }\n",
       "\n",
       "    .dataframe tbody tr th {\n",
       "        vertical-align: top;\n",
       "    }\n",
       "\n",
       "    .dataframe thead th {\n",
       "        text-align: right;\n",
       "    }\n",
       "</style>\n",
       "<table border=\"1\" class=\"dataframe\">\n",
       "  <thead>\n",
       "    <tr style=\"text-align: right;\">\n",
       "      <th></th>\n",
       "      <th>month_year</th>\n",
       "      <th>payment_value</th>\n",
       "    </tr>\n",
       "  </thead>\n",
       "  <tbody>\n",
       "    <tr>\n",
       "      <th>0</th>\n",
       "      <td>2017-01</td>\n",
       "      <td>181.948386</td>\n",
       "    </tr>\n",
       "    <tr>\n",
       "      <th>1</th>\n",
       "      <td>2017-02</td>\n",
       "      <td>165.594464</td>\n",
       "    </tr>\n",
       "    <tr>\n",
       "      <th>2</th>\n",
       "      <td>2017-03</td>\n",
       "      <td>164.808115</td>\n",
       "    </tr>\n",
       "    <tr>\n",
       "      <th>3</th>\n",
       "      <td>2017-04</td>\n",
       "      <td>168.931114</td>\n",
       "    </tr>\n",
       "    <tr>\n",
       "      <th>4</th>\n",
       "      <td>2017-05</td>\n",
       "      <td>165.099904</td>\n",
       "    </tr>\n",
       "    <tr>\n",
       "      <th>5</th>\n",
       "      <td>2017-06</td>\n",
       "      <td>159.204821</td>\n",
       "    </tr>\n",
       "    <tr>\n",
       "      <th>6</th>\n",
       "      <td>2017-07</td>\n",
       "      <td>152.775259</td>\n",
       "    </tr>\n",
       "    <tr>\n",
       "      <th>7</th>\n",
       "      <td>2017-08</td>\n",
       "      <td>167.888953</td>\n",
       "    </tr>\n",
       "    <tr>\n",
       "      <th>8</th>\n",
       "      <td>2017-09</td>\n",
       "      <td>200.193520</td>\n",
       "    </tr>\n",
       "    <tr>\n",
       "      <th>9</th>\n",
       "      <td>2017-10</td>\n",
       "      <td>180.469775</td>\n",
       "    </tr>\n",
       "    <tr>\n",
       "      <th>10</th>\n",
       "      <td>2017-11</td>\n",
       "      <td>176.300339</td>\n",
       "    </tr>\n",
       "    <tr>\n",
       "      <th>11</th>\n",
       "      <td>2017-12</td>\n",
       "      <td>159.046769</td>\n",
       "    </tr>\n",
       "    <tr>\n",
       "      <th>12</th>\n",
       "      <td>2018-01</td>\n",
       "      <td>164.518082</td>\n",
       "    </tr>\n",
       "    <tr>\n",
       "      <th>13</th>\n",
       "      <td>2018-02</td>\n",
       "      <td>165.119942</td>\n",
       "    </tr>\n",
       "    <tr>\n",
       "      <th>14</th>\n",
       "      <td>2018-03</td>\n",
       "      <td>172.207962</td>\n",
       "    </tr>\n",
       "    <tr>\n",
       "      <th>15</th>\n",
       "      <td>2018-04</td>\n",
       "      <td>181.244606</td>\n",
       "    </tr>\n",
       "    <tr>\n",
       "      <th>16</th>\n",
       "      <td>2018-05</td>\n",
       "      <td>183.215304</td>\n",
       "    </tr>\n",
       "    <tr>\n",
       "      <th>17</th>\n",
       "      <td>2018-06</td>\n",
       "      <td>175.823005</td>\n",
       "    </tr>\n",
       "    <tr>\n",
       "      <th>18</th>\n",
       "      <td>2018-07</td>\n",
       "      <td>181.894480</td>\n",
       "    </tr>\n",
       "    <tr>\n",
       "      <th>19</th>\n",
       "      <td>2018-08</td>\n",
       "      <td>164.987184</td>\n",
       "    </tr>\n",
       "  </tbody>\n",
       "</table>\n",
       "</div>"
      ],
      "text/plain": [
       "   month_year  payment_value\n",
       "0     2017-01     181.948386\n",
       "1     2017-02     165.594464\n",
       "2     2017-03     164.808115\n",
       "3     2017-04     168.931114\n",
       "4     2017-05     165.099904\n",
       "5     2017-06     159.204821\n",
       "6     2017-07     152.775259\n",
       "7     2017-08     167.888953\n",
       "8     2017-09     200.193520\n",
       "9     2017-10     180.469775\n",
       "10    2017-11     176.300339\n",
       "11    2017-12     159.046769\n",
       "12    2018-01     164.518082\n",
       "13    2018-02     165.119942\n",
       "14    2018-03     172.207962\n",
       "15    2018-04     181.244606\n",
       "16    2018-05     183.215304\n",
       "17    2018-06     175.823005\n",
       "18    2018-07     181.894480\n",
       "19    2018-08     164.987184"
      ]
     },
     "execution_count": 145,
     "metadata": {},
     "output_type": "execute_result"
    }
   ],
   "source": [
    "df_monthly_order_avg"
   ]
  },
  {
   "cell_type": "code",
   "execution_count": 143,
   "id": "d8b73f31",
   "metadata": {
    "ExecuteTime": {
     "end_time": "2022-11-23T12:28:31.113861Z",
     "start_time": "2022-11-23T12:28:31.026846Z"
    }
   },
   "outputs": [
    {
     "data": {
      "text/plain": [
       "94859"
      ]
     },
     "execution_count": 143,
     "metadata": {},
     "output_type": "execute_result"
    }
   ],
   "source": [
    "df['customer_id'].nunique()"
   ]
  },
  {
   "cell_type": "code",
   "execution_count": 144,
   "id": "415fc8d2",
   "metadata": {
    "ExecuteTime": {
     "end_time": "2022-11-23T12:28:42.494914Z",
     "start_time": "2022-11-23T12:28:42.420878Z"
    }
   },
   "outputs": [
    {
     "data": {
      "text/plain": [
       "94859"
      ]
     },
     "execution_count": 144,
     "metadata": {},
     "output_type": "execute_result"
    }
   ],
   "source": [
    "df['order_id'].nunique()"
   ]
  },
  {
   "cell_type": "code",
   "execution_count": 141,
   "id": "7f4aa8bb",
   "metadata": {
    "ExecuteTime": {
     "end_time": "2022-11-23T11:44:29.102402Z",
     "start_time": "2022-11-23T11:44:29.089506Z"
    }
   },
   "outputs": [],
   "source": [
    "aov_month_2017 = aov[0:12]\n",
    "aov_month_2018 = aov[12:]"
   ]
  },
  {
   "cell_type": "code",
   "execution_count": 112,
   "id": "74aa8259",
   "metadata": {
    "ExecuteTime": {
     "end_time": "2022-11-23T11:35:17.015537Z",
     "start_time": "2022-11-23T11:35:16.422075Z"
    }
   },
   "outputs": [
    {
     "data": {
      "image/png": "[encoded data removed]",
      "text/plain": [
       "<Figure size 864x432 with 1 Axes>"
      ]
     },
     "metadata": {},
     "output_type": "display_data"
    }
   ],
   "source": [
    "# aov_month_2017\n",
    "fig, ax = plt.subplots(figsize = (12,6))\n",
    "sns.set(palette='muted',color_codes = True, style='whitegrid')\n",
    "bar_plot(x = 'month_year', y = 'AOV', df = aov_month_2017, value = True)\n",
    "ax.tick_params(axis = 'x', labelrotation=90)\n",
    "plt.show()"
   ]
  },
  {
   "cell_type": "code",
   "execution_count": 113,
   "id": "77f63889",
   "metadata": {
    "ExecuteTime": {
     "end_time": "2022-11-23T11:35:27.891032Z",
     "start_time": "2022-11-23T11:35:27.456313Z"
    },
    "scrolled": true
   },
   "outputs": [
    {
     "data": {
      "image/png": "[encoded data removed]",
      "text/plain": [
       "<Figure size 864x432 with 1 Axes>"
      ]
     },
     "metadata": {},
     "output_type": "display_data"
    }
   ],
   "source": [
    "# aov_month_2018\n",
    "fig, ax = plt.subplots(figsize = (12,6))\n",
    "sns.set(palette='muted',color_codes = True, style='whitegrid')\n",
    "bar_plot(x = 'month_year', y = 'AOV', df = aov_month_2018, value = True)\n",
    "ax.tick_params(axis = 'x', labelrotation=90)\n",
    "plt.show()"
   ]
  },
  {
   "cell_type": "code",
   "execution_count": 121,
   "id": "fcae9c70",
   "metadata": {
    "ExecuteTime": {
     "end_time": "2022-11-23T11:39:23.734428Z",
     "start_time": "2022-11-23T11:39:23.721741Z"
    }
   },
   "outputs": [],
   "source": [
    "# 2017년 분기별 AOV \n",
    "aov_month_2017['month_year'] = pd.to_datetime(aov_month_2017['month_year'], format='%Y-%m')"
   ]
  },
  {
   "cell_type": "code",
   "execution_count": 123,
   "id": "e07f0e9a",
   "metadata": {
    "ExecuteTime": {
     "end_time": "2022-11-23T11:39:50.423652Z",
     "start_time": "2022-11-23T11:39:50.409423Z"
    }
   },
   "outputs": [],
   "source": [
    "aov_month_2017['month_year'] = aov_month_2017['month_year'].apply(lambda x : x.quarter)"
   ]
  },
  {
   "cell_type": "code",
   "execution_count": 126,
   "id": "f4dceb94",
   "metadata": {
    "ExecuteTime": {
     "end_time": "2022-11-23T11:41:08.997445Z",
     "start_time": "2022-11-23T11:41:08.977330Z"
    }
   },
   "outputs": [
    {
     "data": {
      "text/html": [
       "<div>\n",
       "<style scoped>\n",
       "    .dataframe tbody tr th:only-of-type {\n",
       "        vertical-align: middle;\n",
       "    }\n",
       "\n",
       "    .dataframe tbody tr th {\n",
       "        vertical-align: top;\n",
       "    }\n",
       "\n",
       "    .dataframe thead th {\n",
       "        text-align: right;\n",
       "    }\n",
       "</style>\n",
       "<table border=\"1\" class=\"dataframe\">\n",
       "  <thead>\n",
       "    <tr style=\"text-align: right;\">\n",
       "      <th></th>\n",
       "      <th>month_year</th>\n",
       "      <th>AOV</th>\n",
       "    </tr>\n",
       "  </thead>\n",
       "  <tbody>\n",
       "    <tr>\n",
       "      <th>0</th>\n",
       "      <td>1</td>\n",
       "      <td>170.783333</td>\n",
       "    </tr>\n",
       "    <tr>\n",
       "      <th>1</th>\n",
       "      <td>2</td>\n",
       "      <td>164.410000</td>\n",
       "    </tr>\n",
       "    <tr>\n",
       "      <th>2</th>\n",
       "      <td>3</td>\n",
       "      <td>173.620000</td>\n",
       "    </tr>\n",
       "    <tr>\n",
       "      <th>3</th>\n",
       "      <td>4</td>\n",
       "      <td>171.940000</td>\n",
       "    </tr>\n",
       "  </tbody>\n",
       "</table>\n",
       "</div>"
      ],
      "text/plain": [
       "   month_year         AOV\n",
       "0           1  170.783333\n",
       "1           2  164.410000\n",
       "2           3  173.620000\n",
       "3           4  171.940000"
      ]
     },
     "execution_count": 126,
     "metadata": {},
     "output_type": "execute_result"
    }
   ],
   "source": [
    "aov_quarter_2017 = aov_month_2017.groupby('month_year')['AOV'].mean().reset_index()\n",
    "aov_quarter_2017"
   ]
  },
  {
   "cell_type": "code",
   "execution_count": 142,
   "id": "5522dbd6",
   "metadata": {
    "ExecuteTime": {
     "end_time": "2022-11-23T11:44:36.850582Z",
     "start_time": "2022-11-23T11:44:36.823931Z"
    }
   },
   "outputs": [
    {
     "data": {
      "text/html": [
       "<div>\n",
       "<style scoped>\n",
       "    .dataframe tbody tr th:only-of-type {\n",
       "        vertical-align: middle;\n",
       "    }\n",
       "\n",
       "    .dataframe tbody tr th {\n",
       "        vertical-align: top;\n",
       "    }\n",
       "\n",
       "    .dataframe thead th {\n",
       "        text-align: right;\n",
       "    }\n",
       "</style>\n",
       "<table border=\"1\" class=\"dataframe\">\n",
       "  <thead>\n",
       "    <tr style=\"text-align: right;\">\n",
       "      <th></th>\n",
       "      <th>month_year</th>\n",
       "      <th>AOV</th>\n",
       "    </tr>\n",
       "  </thead>\n",
       "  <tbody>\n",
       "    <tr>\n",
       "      <th>0</th>\n",
       "      <td>1</td>\n",
       "      <td>167.283333</td>\n",
       "    </tr>\n",
       "    <tr>\n",
       "      <th>1</th>\n",
       "      <td>2</td>\n",
       "      <td>180.093333</td>\n",
       "    </tr>\n",
       "    <tr>\n",
       "      <th>2</th>\n",
       "      <td>3</td>\n",
       "      <td>173.440000</td>\n",
       "    </tr>\n",
       "  </tbody>\n",
       "</table>\n",
       "</div>"
      ],
      "text/plain": [
       "   month_year         AOV\n",
       "0           1  167.283333\n",
       "1           2  180.093333\n",
       "2           3  173.440000"
      ]
     },
     "execution_count": 142,
     "metadata": {},
     "output_type": "execute_result"
    }
   ],
   "source": [
    "# 2018년 분기별 AOV \n",
    "aov_month_2018['month_year'] = pd.to_datetime(aov_month_2018['month_year'], format='%Y-%m')\n",
    "aov_month_2018['month_year'] = aov_month_2018['month_year'].apply(lambda x : x.quarter)\n",
    "aov_quarter_2018 = aov_month_2018.groupby('month_year')['AOV'].mean().reset_index()\n",
    "aov_quarter_2018"
   ]
  },
  {
   "cell_type": "code",
   "execution_count": 97,
   "id": "27a1b40b",
   "metadata": {
    "ExecuteTime": {
     "end_time": "2022-11-23T11:30:25.323713Z",
     "start_time": "2022-11-23T11:30:25.294291Z"
    }
   },
   "outputs": [],
   "source": [
    "# 전체분기로 살펴보자 \n",
    "\n",
    "aov_quarter_total  = df.groupby('order_purchase_quarter')['payment_value'].sum().reset_index()\n",
    "aov_quarter_cnt = df.groupby('order_purchase_quarter')['order_id'].count().reset_index()\n"
   ]
  },
  {
   "cell_type": "code",
   "execution_count": 105,
   "id": "bfdc749a",
   "metadata": {
    "ExecuteTime": {
     "end_time": "2022-11-23T11:31:42.176362Z",
     "start_time": "2022-11-23T11:31:42.164995Z"
    }
   },
   "outputs": [
    {
     "data": {
      "text/html": [
       "<div>\n",
       "<style scoped>\n",
       "    .dataframe tbody tr th:only-of-type {\n",
       "        vertical-align: middle;\n",
       "    }\n",
       "\n",
       "    .dataframe tbody tr th {\n",
       "        vertical-align: top;\n",
       "    }\n",
       "\n",
       "    .dataframe thead th {\n",
       "        text-align: right;\n",
       "    }\n",
       "</style>\n",
       "<table border=\"1\" class=\"dataframe\">\n",
       "  <thead>\n",
       "    <tr style=\"text-align: right;\">\n",
       "      <th></th>\n",
       "      <th>order_purchase_quarter</th>\n",
       "      <th>AOV</th>\n",
       "    </tr>\n",
       "  </thead>\n",
       "  <tbody>\n",
       "    <tr>\n",
       "      <th>0</th>\n",
       "      <td>1</td>\n",
       "      <td>167.43</td>\n",
       "    </tr>\n",
       "    <tr>\n",
       "      <th>1</th>\n",
       "      <td>2</td>\n",
       "      <td>175.23</td>\n",
       "    </tr>\n",
       "    <tr>\n",
       "      <th>2</th>\n",
       "      <td>3</td>\n",
       "      <td>173.66</td>\n",
       "    </tr>\n",
       "    <tr>\n",
       "      <th>3</th>\n",
       "      <td>4</td>\n",
       "      <td>172.07</td>\n",
       "    </tr>\n",
       "  </tbody>\n",
       "</table>\n",
       "</div>"
      ],
      "text/plain": [
       "   order_purchase_quarter     AOV\n",
       "0                       1  167.43\n",
       "1                       2  175.23\n",
       "2                       3  173.66\n",
       "3                       4  172.07"
      ]
     },
     "execution_count": 105,
     "metadata": {},
     "output_type": "execute_result"
    }
   ],
   "source": [
    "aov_quarter_total['AOV'] = round(aov_quarter_total['payment_value']/aov_quarter_cnt['order_id'],2)\n",
    "aov_quarter = aov_quarter_total[['order_purchase_quarter','AOV']]\n",
    "\n",
    "aov_quarter"
   ]
  },
  {
   "cell_type": "markdown",
   "id": "897c56db",
   "metadata": {
    "ExecuteTime": {
     "end_time": "2022-11-17T14:15:08.329112Z",
     "start_time": "2022-11-17T14:15:08.240094Z"
    },
    "heading_collapsed": true
   },
   "source": [
    "## New Customer Ratio "
   ]
  },
  {
   "cell_type": "code",
   "execution_count": null,
   "id": "b04e284f",
   "metadata": {
    "ExecuteTime": {
     "end_time": "2022-11-23T10:48:57.757892Z",
     "start_time": "2022-11-23T10:48:39.895Z"
    },
    "hidden": true
   },
   "outputs": [],
   "source": [
    "# create a dataframe contaning CustomerID and first purchase date\n",
    "\n",
    "df_min_purchase = df.groupby('customer_unique_id').order_purchase_timestamp.min().reset_index()\n",
    "df_min_purchase.columns = ['customer_unique_id','minpurchasedate']\n",
    "df_min_purchase['minpurchasedate'] = df_min_purchase['minpurchasedate'].map(lambda date: 100*date.year + date.month)\n",
    "\n",
    "# merge first purchase date column to our main dataframe \n",
    "df = pd.merge(df, df_min_purchase, on = 'customer_unique_id')"
   ]
  },
  {
   "cell_type": "code",
   "execution_count": null,
   "id": "c5713608",
   "metadata": {
    "ExecuteTime": {
     "end_time": "2022-11-23T10:48:57.758891Z",
     "start_time": "2022-11-23T10:48:39.900Z"
    },
    "hidden": true
   },
   "outputs": [],
   "source": [
    "# create a colum called User Type and assign Existing \n",
    "# if User's First Purchase Year Month before the selected Invoice Year Month \n",
    "df['usertype'] = 'New'\n",
    "df.loc[df['month_y'] > df['minpurchasedate'],'usertype'] = 'Existing'\n",
    "\n",
    "# calculate the Revenue per month for each user type \n",
    "df_user_type_revenue = df.groupby(['month_y','usertype','month_year'])['payment_value'].sum().reset_index()\n",
    "\n",
    "df_user_type_revenue"
   ]
  },
  {
   "cell_type": "code",
   "execution_count": null,
   "id": "2e3f0279",
   "metadata": {
    "ExecuteTime": {
     "end_time": "2022-11-23T10:48:57.759892Z",
     "start_time": "2022-11-23T10:48:39.904Z"
    },
    "hidden": true
   },
   "outputs": [],
   "source": [
    "fig, ax = plt.subplots(figsize = (15,6))\n",
    "sns.set(palette = 'muted', color_codes = True)\n",
    "ax = sns.lineplot(x = 'month_year', y = 'payment_value', data = df_user_type_revenue.query(\"usertype == 'New'\"),label = 'New')\n",
    "ax = sns.lineplot(x = 'month_year', y = 'payment_value', data = df_user_type_revenue.query(\"usertype == 'Existing'\"),label = 'Existing')\n",
    "format_spines(ax, right_border = False)\n",
    "ax.set_title('Existing VS New Customer Comparison')\n",
    "ax.tick_params(axis = 'x', labelrotation=90)\n",
    "plt.show()"
   ]
  },
  {
   "cell_type": "code",
   "execution_count": null,
   "id": "074e9d9c",
   "metadata": {
    "ExecuteTime": {
     "end_time": "2022-11-23T10:48:57.760892Z",
     "start_time": "2022-11-23T10:48:39.908Z"
    },
    "hidden": true,
    "scrolled": true
   },
   "outputs": [],
   "source": [
    "df_user_type_cnt = df.groupby(['month_y','usertype','month_year'])['customer_unique_id'].count().reset_index()\n",
    "df_user_type_cnt"
   ]
  },
  {
   "cell_type": "code",
   "execution_count": null,
   "id": "33a342c0",
   "metadata": {
    "ExecuteTime": {
     "end_time": "2022-11-23T10:48:57.761892Z",
     "start_time": "2022-11-23T10:48:39.911Z"
    },
    "hidden": true
   },
   "outputs": [],
   "source": [
    "fig, ax = plt.subplots(figsize=(15, 6))\n",
    "sns.set(palette='muted', color_codes=True)\n",
    "ax = sns.lineplot(x='month_year', y='payment_value', data=df_user_type_revenue.query(\"usertype == 'New'\"), label='New')\n",
    "ax = sns.lineplot(x='month_year', y='payment_value', data=df_user_type_revenue.query(\"usertype == 'Existing'\"), label='Existing')\n",
    "format_spines(ax, right_border=False)\n",
    "ax.set_title('Existing vs New Customer Comparison')\n",
    "ax.tick_params(axis='x', labelrotation=90)\n",
    "plt.show()"
   ]
  },
  {
   "cell_type": "code",
   "execution_count": null,
   "id": "ed027979",
   "metadata": {
    "ExecuteTime": {
     "end_time": "2022-11-23T10:48:57.764892Z",
     "start_time": "2022-11-23T10:48:39.914Z"
    },
    "hidden": true
   },
   "outputs": [],
   "source": [
    "fig,ax = plt.subplots(figsize = (15,5))\n",
    "sns.set(palette = 'Paired', color_codes = True, style = 'whitegrid')\n",
    "\n",
    "area01 = fig.add_subplot(1,2,1)\n",
    "area02 = fig.add_subplot(1,2,2)\n",
    "\n",
    "sns.barplot(x = 'month_year', y = 'customer_unique_id', data = df_user_type_cnt.query(\"usertype == 'New'\"),ax = area01, label = 'New')\n",
    "sns.barplot(x = 'month_year', y = 'customer_unique_id', data = df_user_type_cnt.query(\"usertype == 'Existing'\"), ax = area02, label = 'Existing')\n",
    "ax.tick_params(axis = 'x', labelrotation=90)\n",
    "\n",
    "plt.show()"
   ]
  },
  {
   "cell_type": "markdown",
   "id": "ba450dad",
   "metadata": {
    "hidden": true
   },
   "source": [
    "100% 누적 그래프로 다시 그려보기 "
   ]
  },
  {
   "cell_type": "markdown",
   "id": "263e6b26",
   "metadata": {
    "heading_collapsed": true
   },
   "source": [
    "## New Customer Ratio"
   ]
  },
  {
   "cell_type": "code",
   "execution_count": null,
   "id": "f749bef5",
   "metadata": {
    "ExecuteTime": {
     "end_time": "2022-11-23T10:48:57.765892Z",
     "start_time": "2022-11-23T10:48:39.919Z"
    },
    "hidden": true
   },
   "outputs": [],
   "source": [
    "# create a dataframe that shows new user ratio -- we also need to drop NA Valeus ()\n",
    "df_user_ratio = df.query(\"usertype == 'New'\").groupby(['month_year'])['customer_unique_id'].nunique()/df.query(\"usertype == 'Existing'\").groupby(['month_year'])['customer_unique_id'].nunique()\n",
    "df_user_ratio = df_user_ratio.reset_index()\n",
    "\n",
    "# dropping nan values that resulted from frist and last month \n",
    "df_user_ratio = df_user_ratio.dropna()\n",
    "df_user_ratio.columns = ['month_year','NewCusRatio']\n",
    "\n",
    "# print the dataframe \n",
    "df_user_ratio"
   ]
  },
  {
   "cell_type": "code",
   "execution_count": null,
   "id": "6089ad45",
   "metadata": {
    "ExecuteTime": {
     "end_time": "2022-11-23T10:48:57.766893Z",
     "start_time": "2022-11-23T10:48:39.924Z"
    },
    "hidden": true,
    "scrolled": true
   },
   "outputs": [],
   "source": [
    "fig, ax = plt.subplots(figsize = (12,6))\n",
    "sns.set(palette = 'muted', color_codes = True, style = 'whitegrid')\n",
    "bar_plot(x = 'month_year', y = 'NewCusRatio', df=df_user_ratio, value = True)\n",
    "ax.tick_params(axis = 'x', labelrotation = 90)\n",
    "plt.show()"
   ]
  },
  {
   "cell_type": "markdown",
   "id": "61af93df",
   "metadata": {
    "heading_collapsed": true
   },
   "source": [
    "## Monthly Retention Rate "
   ]
  },
  {
   "cell_type": "code",
   "execution_count": null,
   "id": "09fd0246",
   "metadata": {
    "ExecuteTime": {
     "end_time": "2022-11-23T10:48:57.767895Z",
     "start_time": "2022-11-23T10:48:39.928Z"
    },
    "hidden": true
   },
   "outputs": [],
   "source": [
    "# Monthly Retention Rate = Retained Customer From Prev. Month/Active Customer Total (using crosstab)\n",
    "\n",
    "# identifying active users are active by looking at their revenue per month \n",
    "df_user_purchase = df.groupby(['customer_unique_id','month_y'])['payment_value'].sum().reset_index()\n",
    "df_user_purchase.head()"
   ]
  },
  {
   "cell_type": "code",
   "execution_count": null,
   "id": "00a1a4ca",
   "metadata": {
    "ExecuteTime": {
     "end_time": "2022-11-23T10:48:57.768895Z",
     "start_time": "2022-11-23T10:48:39.932Z"
    },
    "hidden": true
   },
   "outputs": [],
   "source": [
    "# identifying active users are active by looking at their order count per month\n",
    "df_user_purchase = df.groupby(['customer_unique_id','month_y'])['payment_value'].count().reset_index()\n",
    "df_user_purchase.head()"
   ]
  },
  {
   "cell_type": "code",
   "execution_count": null,
   "id": "3175ad33",
   "metadata": {
    "ExecuteTime": {
     "end_time": "2022-11-23T10:48:57.770893Z",
     "start_time": "2022-11-23T10:48:39.935Z"
    },
    "hidden": true
   },
   "outputs": [],
   "source": [
    "#create retention matrix with crosstab using purchase\n",
    "df_retention = pd.crosstab(df_user_purchase['customer_unique_id'], df_user_purchase['month_y']).reset_index()\n",
    "df_retention.head()"
   ]
  },
  {
   "cell_type": "code",
   "execution_count": null,
   "id": "6860cef1",
   "metadata": {
    "ExecuteTime": {
     "end_time": "2022-11-23T10:48:57.772894Z",
     "start_time": "2022-11-23T10:48:39.938Z"
    },
    "hidden": true
   },
   "outputs": [],
   "source": [
    "#creating an array of dictionary which keeps Retained & Total User count for each month\n",
    "months = df_retention.columns[2:]\n",
    "retention_array = []\n",
    "for i in range(len(months)-1):\n",
    "    retention_data = {}\n",
    "    selected_month = months[i+1]\n",
    "    prev_month = months[i]\n",
    "    retention_data['month_y'] = int(selected_month)\n",
    "    retention_data['TotalUserCount'] = df_retention[selected_month].sum()\n",
    "    retention_data['RetainedUserCount'] = df_retention[(df_retention[selected_month]>0) & (df_retention[prev_month]>0)][selected_month].sum()\n",
    "    retention_array.append(retention_data)\n",
    "    \n",
    "#convert the array to dataframe and calculate Retention Rate\n",
    "df_retention = pd.DataFrame(retention_array)\n",
    "df_retention['RetentionRate'] = df_retention['RetainedUserCount']/df_retention['TotalUserCount']\n",
    "\n",
    "df_retention"
   ]
  },
  {
   "cell_type": "code",
   "execution_count": null,
   "id": "7b2a582e",
   "metadata": {
    "ExecuteTime": {
     "end_time": "2022-11-23T10:48:57.772894Z",
     "start_time": "2022-11-23T10:48:39.941Z"
    },
    "hidden": true
   },
   "outputs": [],
   "source": [
    "products.isna().sum()"
   ]
  },
  {
   "cell_type": "code",
   "execution_count": null,
   "id": "513e4727",
   "metadata": {
    "hidden": true
   },
   "outputs": [],
   "source": []
  }
 ],
 "metadata": {
  "hide_input": false,
  "kernelspec": {
   "display_name": "Python 3",
   "language": "python",
   "name": "python3"
  },
  "language_info": {
   "codemirror_mode": {
    "name": "ipython",
    "version": 3
   },
   "file_extension": ".py",
   "mimetype": "text/x-python",
   "name": "python",
   "nbconvert_exporter": "python",
   "pygments_lexer": "ipython3",
   "version": "3.8.8"
  },
  "toc": {
   "base_numbering": 1,
   "nav_menu": {},
   "number_sections": true,
   "sideBar": true,
   "skip_h1_title": false,
   "title_cell": "Table of Contents",
   "title_sidebar": "Contents",
   "toc_cell": false,
   "toc_position": {},
   "toc_section_display": true,
   "toc_window_display": false
  },
  "varInspector": {
   "cols": {
    "lenName": 16,
    "lenType": 16,
    "lenVar": 40
   },
   "kernels_config": {
    "python": {
     "delete_cmd_postfix": "",
     "delete_cmd_prefix": "del ",
     "library": "var_list.py",
     "varRefreshCmd": "print(var_dic_list())"
    },
    "r": {
     "delete_cmd_postfix": ") ",
     "delete_cmd_prefix": "rm(",
     "library": "var_list.r",
     "varRefreshCmd": "cat(var_dic_list()) "
    }
   },
   "types_to_exclude": [
    "module",
    "function",
    "builtin_function_or_method",
    "instance",
    "_Feature"
   ],
   "window_display": false
  }
 },
 "nbformat": 4,
 "nbformat_minor": 5
}
