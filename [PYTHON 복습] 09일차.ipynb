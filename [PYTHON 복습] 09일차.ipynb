{
 "cells": [
  {
   "cell_type": "markdown",
   "id": "051983c9",
   "metadata": {},
   "source": [
    "# DAY_09"
   ]
  },
  {
   "cell_type": "markdown",
   "id": "827de84e",
   "metadata": {
    "ExecuteTime": {
     "end_time": "2023-01-10T09:16:49.750059Z",
     "start_time": "2023-01-10T09:16:49.739054Z"
    }
   },
   "source": [
    "## 시리즈의 구성 여부를 체크하는 함수 "
   ]
  },
  {
   "cell_type": "code",
   "execution_count": 1,
   "id": "d76581c2",
   "metadata": {
    "ExecuteTime": {
     "end_time": "2023-01-11T12:44:02.520234Z",
     "start_time": "2023-01-11T12:44:01.206467Z"
    }
   },
   "outputs": [],
   "source": [
    "# 라이브러리 불러오기\n",
    "from pandas import Series, DataFrame\n",
    "import pandas as pd "
   ]
  },
  {
   "cell_type": "code",
   "execution_count": 2,
   "id": "a1bc77b5",
   "metadata": {
    "ExecuteTime": {
     "end_time": "2023-01-11T12:44:02.550340Z",
     "start_time": "2023-01-11T12:44:02.524241Z"
    }
   },
   "outputs": [
    {
     "data": {
      "text/plain": [
       "0       1/7\n",
       "1         7\n",
       "2     seven\n",
       "3     SEVEN\n",
       "4     Seven\n",
       "5    seven7\n",
       "6         칠\n",
       "7       칠 7\n",
       "8          \n",
       "9        7#\n",
       "dtype: object"
      ]
     },
     "execution_count": 2,
     "metadata": {},
     "output_type": "execute_result"
    }
   ],
   "source": [
    "# 예시 함수 불러오기\n",
    "obj = Series(['1/7','7','seven','SEVEN','Seven','seven7','칠','칠 7',' ','7#'])\n",
    "obj"
   ]
  },
  {
   "cell_type": "markdown",
   "id": "6f66c9a9",
   "metadata": {
    "heading_collapsed": true
   },
   "source": [
    "### .str.isalnum() : 알파벳, 한글, 숫자로만 구성 여부를 체크하는 함수 "
   ]
  },
  {
   "cell_type": "code",
   "execution_count": 3,
   "id": "ec15c5ea",
   "metadata": {
    "ExecuteTime": {
     "end_time": "2023-01-11T12:44:02.580931Z",
     "start_time": "2023-01-11T12:44:02.555364Z"
    },
    "hidden": true
   },
   "outputs": [
    {
     "data": {
      "text/plain": [
       "0    False\n",
       "1     True\n",
       "2     True\n",
       "3     True\n",
       "4     True\n",
       "5     True\n",
       "6     True\n",
       "7    False\n",
       "8    False\n",
       "9    False\n",
       "dtype: bool"
      ]
     },
     "execution_count": 3,
     "metadata": {},
     "output_type": "execute_result"
    }
   ],
   "source": [
    "obj.str.isalnum()"
   ]
  },
  {
   "cell_type": "code",
   "execution_count": 4,
   "id": "818faddd",
   "metadata": {
    "ExecuteTime": {
     "end_time": "2023-01-11T12:44:02.595932Z",
     "start_time": "2023-01-11T12:44:02.584930Z"
    },
    "hidden": true
   },
   "outputs": [
    {
     "data": {
      "text/plain": [
       "1         7\n",
       "2     seven\n",
       "3     SEVEN\n",
       "4     Seven\n",
       "5    seven7\n",
       "6         칠\n",
       "dtype: object"
      ]
     },
     "execution_count": 4,
     "metadata": {},
     "output_type": "execute_result"
    }
   ],
   "source": [
    "# 알파벳, 한글, 숫자로만 구성된 것들 출력하기\n",
    "obj[obj.str.isalnum()]"
   ]
  },
  {
   "cell_type": "markdown",
   "id": "7c3288b2",
   "metadata": {
    "heading_collapsed": true
   },
   "source": [
    "### .str.isalpha() : 알파벳, 한글만 구성 여부를 체크하는 함수"
   ]
  },
  {
   "cell_type": "code",
   "execution_count": 5,
   "id": "a11ab60a",
   "metadata": {
    "ExecuteTime": {
     "end_time": "2023-01-11T12:44:02.625937Z",
     "start_time": "2023-01-11T12:44:02.598934Z"
    },
    "hidden": true
   },
   "outputs": [
    {
     "data": {
      "text/plain": [
       "0    False\n",
       "1    False\n",
       "2     True\n",
       "3     True\n",
       "4     True\n",
       "5    False\n",
       "6     True\n",
       "7    False\n",
       "8    False\n",
       "9    False\n",
       "dtype: bool"
      ]
     },
     "execution_count": 5,
     "metadata": {},
     "output_type": "execute_result"
    }
   ],
   "source": [
    "obj.str.isalpha()"
   ]
  },
  {
   "cell_type": "code",
   "execution_count": 6,
   "id": "e78077df",
   "metadata": {
    "ExecuteTime": {
     "end_time": "2023-01-11T12:44:02.657947Z",
     "start_time": "2023-01-11T12:44:02.628939Z"
    },
    "hidden": true
   },
   "outputs": [
    {
     "data": {
      "text/plain": [
       "2    seven\n",
       "3    SEVEN\n",
       "4    Seven\n",
       "6        칠\n",
       "dtype: object"
      ]
     },
     "execution_count": 6,
     "metadata": {},
     "output_type": "execute_result"
    }
   ],
   "source": [
    "# 알파벳, 한글로만 구성된 것들을 출력하기\n",
    "obj[obj.str.isalpha()]"
   ]
  },
  {
   "cell_type": "markdown",
   "id": "9811affe",
   "metadata": {
    "heading_collapsed": true
   },
   "source": [
    "### .str.isnumeric()/.str.isdigit() : 숫자로만 구성 여부를 체크하는 함수"
   ]
  },
  {
   "cell_type": "code",
   "execution_count": 7,
   "id": "926a4354",
   "metadata": {
    "ExecuteTime": {
     "end_time": "2023-01-11T12:44:02.687953Z",
     "start_time": "2023-01-11T12:44:02.673950Z"
    },
    "hidden": true
   },
   "outputs": [
    {
     "data": {
      "text/plain": [
       "0    False\n",
       "1     True\n",
       "2    False\n",
       "3    False\n",
       "4    False\n",
       "5    False\n",
       "6    False\n",
       "7    False\n",
       "8    False\n",
       "9    False\n",
       "dtype: bool"
      ]
     },
     "execution_count": 7,
     "metadata": {},
     "output_type": "execute_result"
    }
   ],
   "source": [
    "obj.str.isnumeric()"
   ]
  },
  {
   "cell_type": "code",
   "execution_count": 8,
   "id": "84e8acb0",
   "metadata": {
    "ExecuteTime": {
     "end_time": "2023-01-11T12:44:02.703958Z",
     "start_time": "2023-01-11T12:44:02.692954Z"
    },
    "hidden": true
   },
   "outputs": [
    {
     "data": {
      "text/plain": [
       "1    7\n",
       "dtype: object"
      ]
     },
     "execution_count": 8,
     "metadata": {},
     "output_type": "execute_result"
    }
   ],
   "source": [
    "obj[obj.str.isnumeric()]"
   ]
  },
  {
   "cell_type": "code",
   "execution_count": 9,
   "id": "de678d37",
   "metadata": {
    "ExecuteTime": {
     "end_time": "2023-01-11T12:44:02.718960Z",
     "start_time": "2023-01-11T12:44:02.709960Z"
    },
    "hidden": true
   },
   "outputs": [
    {
     "data": {
      "text/plain": [
       "0    False\n",
       "1     True\n",
       "2    False\n",
       "3    False\n",
       "4    False\n",
       "5    False\n",
       "6    False\n",
       "7    False\n",
       "8    False\n",
       "9    False\n",
       "dtype: bool"
      ]
     },
     "execution_count": 9,
     "metadata": {},
     "output_type": "execute_result"
    }
   ],
   "source": [
    "obj.str.isdigit()"
   ]
  },
  {
   "cell_type": "code",
   "execution_count": 10,
   "id": "8dc3a4b4",
   "metadata": {
    "ExecuteTime": {
     "end_time": "2023-01-11T12:44:02.734927Z",
     "start_time": "2023-01-11T12:44:02.721963Z"
    },
    "hidden": true
   },
   "outputs": [
    {
     "data": {
      "text/plain": [
       "1    7\n",
       "dtype: object"
      ]
     },
     "execution_count": 10,
     "metadata": {},
     "output_type": "execute_result"
    }
   ],
   "source": [
    "obj[obj.str.isdigit()]"
   ]
  },
  {
   "cell_type": "markdown",
   "id": "d6dae7c8",
   "metadata": {
    "heading_collapsed": true
   },
   "source": [
    "### .str.islower() : 소문자를 체크하는 함수 "
   ]
  },
  {
   "cell_type": "code",
   "execution_count": 11,
   "id": "e9b54c19",
   "metadata": {
    "ExecuteTime": {
     "end_time": "2023-01-11T12:44:02.749771Z",
     "start_time": "2023-01-11T12:44:02.736930Z"
    },
    "hidden": true
   },
   "outputs": [
    {
     "data": {
      "text/plain": [
       "0    False\n",
       "1    False\n",
       "2     True\n",
       "3    False\n",
       "4    False\n",
       "5     True\n",
       "6    False\n",
       "7    False\n",
       "8    False\n",
       "9    False\n",
       "dtype: bool"
      ]
     },
     "execution_count": 11,
     "metadata": {},
     "output_type": "execute_result"
    }
   ],
   "source": [
    "obj.str.islower()"
   ]
  },
  {
   "cell_type": "code",
   "execution_count": 12,
   "id": "4e7858fd",
   "metadata": {
    "ExecuteTime": {
     "end_time": "2023-01-11T12:44:02.764782Z",
     "start_time": "2023-01-11T12:44:02.752775Z"
    },
    "hidden": true
   },
   "outputs": [
    {
     "data": {
      "text/plain": [
       "2     seven\n",
       "5    seven7\n",
       "dtype: object"
      ]
     },
     "execution_count": 12,
     "metadata": {},
     "output_type": "execute_result"
    }
   ],
   "source": [
    "obj[obj.str.islower()]"
   ]
  },
  {
   "cell_type": "markdown",
   "id": "0a77db49",
   "metadata": {
    "heading_collapsed": true
   },
   "source": [
    "### .str.isupper() : 대문자 체크하는 함수 "
   ]
  },
  {
   "cell_type": "code",
   "execution_count": 13,
   "id": "83b5975b",
   "metadata": {
    "ExecuteTime": {
     "end_time": "2023-01-11T12:44:02.779789Z",
     "start_time": "2023-01-11T12:44:02.767784Z"
    },
    "hidden": true
   },
   "outputs": [
    {
     "data": {
      "text/plain": [
       "0    False\n",
       "1    False\n",
       "2    False\n",
       "3     True\n",
       "4    False\n",
       "5    False\n",
       "6    False\n",
       "7    False\n",
       "8    False\n",
       "9    False\n",
       "dtype: bool"
      ]
     },
     "execution_count": 13,
     "metadata": {},
     "output_type": "execute_result"
    }
   ],
   "source": [
    "obj.str.isupper()"
   ]
  },
  {
   "cell_type": "code",
   "execution_count": 14,
   "id": "07c3dbdf",
   "metadata": {
    "ExecuteTime": {
     "end_time": "2023-01-11T12:44:02.794791Z",
     "start_time": "2023-01-11T12:44:02.781788Z"
    },
    "hidden": true
   },
   "outputs": [
    {
     "data": {
      "text/plain": [
       "3    SEVEN\n",
       "dtype: object"
      ]
     },
     "execution_count": 14,
     "metadata": {},
     "output_type": "execute_result"
    }
   ],
   "source": [
    "obj[obj.str.isupper()]"
   ]
  },
  {
   "cell_type": "markdown",
   "id": "81e00bdc",
   "metadata": {
    "heading_collapsed": true
   },
   "source": [
    "### .str.istitle() : 첫 글자 대문자, 뒷 글자 소문자 체크하는 함수"
   ]
  },
  {
   "cell_type": "code",
   "execution_count": 15,
   "id": "064c6982",
   "metadata": {
    "ExecuteTime": {
     "end_time": "2023-01-11T12:44:02.809793Z",
     "start_time": "2023-01-11T12:44:02.797792Z"
    },
    "hidden": true
   },
   "outputs": [
    {
     "data": {
      "text/plain": [
       "0    False\n",
       "1    False\n",
       "2    False\n",
       "3    False\n",
       "4     True\n",
       "5    False\n",
       "6    False\n",
       "7    False\n",
       "8    False\n",
       "9    False\n",
       "dtype: bool"
      ]
     },
     "execution_count": 15,
     "metadata": {},
     "output_type": "execute_result"
    }
   ],
   "source": [
    "obj.str.istitle()"
   ]
  },
  {
   "cell_type": "code",
   "execution_count": 16,
   "id": "aad2082f",
   "metadata": {
    "ExecuteTime": {
     "end_time": "2023-01-11T12:44:02.824796Z",
     "start_time": "2023-01-11T12:44:02.812804Z"
    },
    "hidden": true
   },
   "outputs": [
    {
     "data": {
      "text/plain": [
       "4    Seven\n",
       "dtype: object"
      ]
     },
     "execution_count": 16,
     "metadata": {},
     "output_type": "execute_result"
    }
   ],
   "source": [
    "obj[obj.str.istitle()]"
   ]
  },
  {
   "cell_type": "markdown",
   "id": "73ab1617",
   "metadata": {},
   "source": [
    "### .str.isspace() : 공백으로만 구성 여부 체크하는 함수\n"
   ]
  },
  {
   "cell_type": "code",
   "execution_count": 17,
   "id": "3638fce2",
   "metadata": {
    "ExecuteTime": {
     "end_time": "2023-01-11T12:44:02.839816Z",
     "start_time": "2023-01-11T12:44:02.827808Z"
    }
   },
   "outputs": [
    {
     "data": {
      "text/plain": [
       "0    False\n",
       "1    False\n",
       "2    False\n",
       "3    False\n",
       "4    False\n",
       "5    False\n",
       "6    False\n",
       "7    False\n",
       "8     True\n",
       "9    False\n",
       "dtype: bool"
      ]
     },
     "execution_count": 17,
     "metadata": {},
     "output_type": "execute_result"
    }
   ],
   "source": [
    "obj.str.isspace()"
   ]
  },
  {
   "cell_type": "code",
   "execution_count": 18,
   "id": "ef8dc584",
   "metadata": {
    "ExecuteTime": {
     "end_time": "2023-01-11T12:44:02.855047Z",
     "start_time": "2023-01-11T12:44:02.842828Z"
    }
   },
   "outputs": [
    {
     "data": {
      "text/plain": [
       "8     \n",
       "dtype: object"
      ]
     },
     "execution_count": 18,
     "metadata": {},
     "output_type": "execute_result"
    }
   ],
   "source": [
    "obj[obj.str.isspace()]"
   ]
  },
  {
   "cell_type": "markdown",
   "id": "92aa1531",
   "metadata": {
    "heading_collapsed": true
   },
   "source": [
    "## x.str.slice_replace() : 특정한 인덱스 구간의 값을 다른 값으로 수정하는 함수\n",
    "\n",
    "* 인덱싱을 통해서 특정 값으로 수정하는 기능"
   ]
  },
  {
   "cell_type": "code",
   "execution_count": 19,
   "id": "90ab4ed8",
   "metadata": {
    "ExecuteTime": {
     "end_time": "2023-01-11T12:44:02.870061Z",
     "start_time": "2023-01-11T12:44:02.859061Z"
    },
    "hidden": true
   },
   "outputs": [
    {
     "data": {
      "text/plain": [
       "0         big\n",
       "1    big data\n",
       "dtype: object"
      ]
     },
     "execution_count": 19,
     "metadata": {},
     "output_type": "execute_result"
    }
   ],
   "source": [
    "obj = Series(['big','big data'])\n",
    "obj"
   ]
  },
  {
   "cell_type": "code",
   "execution_count": 20,
   "id": "e8c29af5",
   "metadata": {
    "ExecuteTime": {
     "end_time": "2023-01-11T12:44:02.885058Z",
     "start_time": "2023-01-11T12:44:02.873055Z"
    },
    "hidden": true
   },
   "outputs": [
    {
     "data": {
      "text/plain": [
       "0         Big\n",
       "1    Big data\n",
       "dtype: object"
      ]
     },
     "execution_count": 20,
     "metadata": {},
     "output_type": "execute_result"
    }
   ],
   "source": [
    "# b -> B로 수정하기\n",
    "## 기존 방법 : replace\n",
    "obj.str.replace('b','B') "
   ]
  },
  {
   "cell_type": "markdown",
   "id": "6f22483c",
   "metadata": {
    "hidden": true
   },
   "source": [
    "**replace는 첫 글자 B만 대문자로 수정하고 싶을 때 사용할 수 없다(모든 b를 B로 바꾸기 때문에)**"
   ]
  },
  {
   "cell_type": "code",
   "execution_count": 21,
   "id": "f4b2461c",
   "metadata": {
    "ExecuteTime": {
     "end_time": "2023-01-11T12:44:02.900059Z",
     "start_time": "2023-01-11T12:44:02.888058Z"
    },
    "hidden": true
   },
   "outputs": [
    {
     "data": {
      "text/plain": [
       "['Big', 'Big data']"
      ]
     },
     "execution_count": 21,
     "metadata": {},
     "output_type": "execute_result"
    }
   ],
   "source": [
    "## 리스트 내장 객체를 사용하기\n",
    "['B'+i[1:]for i in obj]"
   ]
  },
  {
   "cell_type": "markdown",
   "id": "13229021",
   "metadata": {
    "ExecuteTime": {
     "end_time": "2023-01-10T09:38:48.162366Z",
     "start_time": "2023-01-10T09:38:48.145806Z"
    },
    "hidden": true
   },
   "source": [
    "**특정한 인덱스 구간의 값을 다른 값으로 수정하는 함수**"
   ]
  },
  {
   "cell_type": "code",
   "execution_count": 22,
   "id": "b8262360",
   "metadata": {
    "ExecuteTime": {
     "end_time": "2023-01-11T12:44:02.915073Z",
     "start_time": "2023-01-11T12:44:02.904063Z"
    },
    "hidden": true
   },
   "outputs": [
    {
     "data": {
      "text/plain": [
       "0         BIg\n",
       "1    BIg data\n",
       "dtype: object"
      ]
     },
     "execution_count": 22,
     "metadata": {},
     "output_type": "execute_result"
    }
   ],
   "source": [
    "obj.str.slice_replace(start=0,stop=2,repl='BI')"
   ]
  },
  {
   "cell_type": "code",
   "execution_count": 23,
   "id": "86d83ba3",
   "metadata": {
    "ExecuteTime": {
     "end_time": "2023-01-11T12:44:02.930082Z",
     "start_time": "2023-01-11T12:44:02.918064Z"
    },
    "hidden": true
   },
   "outputs": [
    {
     "data": {
      "text/plain": [
       "0         Big\n",
       "1    Big data\n",
       "dtype: object"
      ]
     },
     "execution_count": 23,
     "metadata": {},
     "output_type": "execute_result"
    }
   ],
   "source": [
    "obj.str.slice_replace(start=0,stop=1,repl='B')"
   ]
  },
  {
   "cell_type": "markdown",
   "id": "1c42d009",
   "metadata": {
    "heading_collapsed": true,
    "hidden": true
   },
   "source": [
    "### .str.pad(width, side, fillchar) : 지정된 길이로 패딩 작업을 하는 함수\n",
    "* str.center(width, fillchar) : 중앙 정렬 \n",
    "* str.ljusct(width, fillchar) : 왼쪽 정렬 \n",
    "* str.rjusct(width, fillchar) : 오른쪽 정렬"
   ]
  },
  {
   "cell_type": "markdown",
   "id": "e3c7538e",
   "metadata": {
    "hidden": true
   },
   "source": [
    "CNN에서 패딩 작업을 할때 이런 메소드들이 내부에서 돌아간다"
   ]
  },
  {
   "cell_type": "code",
   "execution_count": 24,
   "id": "1638bdec",
   "metadata": {
    "ExecuteTime": {
     "end_time": "2023-01-11T12:44:02.945081Z",
     "start_time": "2023-01-11T12:44:02.933068Z"
    },
    "hidden": true
   },
   "outputs": [
    {
     "data": {
      "text/plain": [
       "0    _________________big\n",
       "1    ____________big data\n",
       "dtype: object"
      ]
     },
     "execution_count": 24,
     "metadata": {},
     "output_type": "execute_result"
    }
   ],
   "source": [
    "# 왼쪽\n",
    "obj.str.pad(width = 20, side = 'left', fillchar = '_') # width : 길이를 지정한다 "
   ]
  },
  {
   "cell_type": "code",
   "execution_count": 25,
   "id": "77df5276",
   "metadata": {
    "ExecuteTime": {
     "end_time": "2023-01-11T12:44:02.960083Z",
     "start_time": "2023-01-11T12:44:02.947079Z"
    },
    "hidden": true
   },
   "outputs": [
    {
     "data": {
      "text/plain": [
       "0    big_________________\n",
       "1    big data____________\n",
       "dtype: object"
      ]
     },
     "execution_count": 25,
     "metadata": {},
     "output_type": "execute_result"
    }
   ],
   "source": [
    "# 왼쪽 \n",
    "obj.str.ljust(width = 20, fillchar='_')"
   ]
  },
  {
   "cell_type": "code",
   "execution_count": 26,
   "id": "b365ec1d",
   "metadata": {
    "ExecuteTime": {
     "end_time": "2023-01-11T12:44:02.975078Z",
     "start_time": "2023-01-11T12:44:02.963074Z"
    },
    "hidden": true
   },
   "outputs": [
    {
     "data": {
      "text/plain": [
       "0    big_________________\n",
       "1    big data____________\n",
       "dtype: object"
      ]
     },
     "execution_count": 26,
     "metadata": {},
     "output_type": "execute_result"
    }
   ],
   "source": [
    "# 오른쪽\n",
    "obj.str.pad(width = 20, side = 'right', fillchar = '_')"
   ]
  },
  {
   "cell_type": "code",
   "execution_count": 27,
   "id": "4993b59e",
   "metadata": {
    "ExecuteTime": {
     "end_time": "2023-01-11T12:44:03.006101Z",
     "start_time": "2023-01-11T12:44:02.985079Z"
    },
    "hidden": true
   },
   "outputs": [
    {
     "data": {
      "text/plain": [
       "0    _________________big\n",
       "1    ____________big data\n",
       "dtype: object"
      ]
     },
     "execution_count": 27,
     "metadata": {},
     "output_type": "execute_result"
    }
   ],
   "source": [
    "# 오른쪽\n",
    "obj.str.rjust(width = 20, fillchar='_')"
   ]
  },
  {
   "cell_type": "code",
   "execution_count": 28,
   "id": "023ad101",
   "metadata": {
    "ExecuteTime": {
     "end_time": "2023-01-11T12:44:03.021104Z",
     "start_time": "2023-01-11T12:44:03.010095Z"
    },
    "hidden": true
   },
   "outputs": [
    {
     "data": {
      "text/plain": [
       "0    ________big_________\n",
       "1    ______big data______\n",
       "dtype: object"
      ]
     },
     "execution_count": 28,
     "metadata": {},
     "output_type": "execute_result"
    }
   ],
   "source": [
    "# 중앙\n",
    "obj.str.center(width = 20, fillchar='_')"
   ]
  },
  {
   "cell_type": "code",
   "execution_count": 29,
   "id": "f40453c5",
   "metadata": {
    "ExecuteTime": {
     "end_time": "2023-01-11T12:44:03.036098Z",
     "start_time": "2023-01-11T12:44:03.025088Z"
    },
    "hidden": true
   },
   "outputs": [
    {
     "data": {
      "text/plain": [
       "0    00000000000000000big\n",
       "1    000000000000big data\n",
       "dtype: object"
      ]
     },
     "execution_count": 29,
     "metadata": {},
     "output_type": "execute_result"
    }
   ],
   "source": [
    "obj.str.rjust(width = 20, fillchar = '0')\n",
    "obj.str.zfill(width = 20)"
   ]
  },
  {
   "cell_type": "markdown",
   "id": "9418c79f",
   "metadata": {
    "heading_collapsed": true,
    "hidden": true
   },
   "source": [
    "### str.split() :  특정한 문자를 기준으로 분리하는 함수"
   ]
  },
  {
   "cell_type": "code",
   "execution_count": 30,
   "id": "04246e5a",
   "metadata": {
    "ExecuteTime": {
     "end_time": "2023-01-11T12:44:03.051094Z",
     "start_time": "2023-01-11T12:44:03.039101Z"
    },
    "hidden": true
   },
   "outputs": [
    {
     "data": {
      "text/plain": [
       "0    itwill@itwill.com\n",
       "1               itwill\n",
       "dtype: object"
      ]
     },
     "execution_count": 30,
     "metadata": {},
     "output_type": "execute_result"
    }
   ],
   "source": [
    "obj = Series(['itwill@itwill.com','itwill'])\n",
    "obj"
   ]
  },
  {
   "cell_type": "code",
   "execution_count": 31,
   "id": "35b35086",
   "metadata": {
    "ExecuteTime": {
     "end_time": "2023-01-11T12:44:03.066099Z",
     "start_time": "2023-01-11T12:44:03.054096Z"
    },
    "hidden": true
   },
   "outputs": [
    {
     "data": {
      "text/plain": [
       "0    [itwill, itwill.com]\n",
       "1                [itwill]\n",
       "dtype: object"
      ]
     },
     "execution_count": 31,
     "metadata": {},
     "output_type": "execute_result"
    }
   ],
   "source": [
    "# list로 값을 출력함\n",
    "obj.str.split('@')"
   ]
  },
  {
   "cell_type": "code",
   "execution_count": 32,
   "id": "9ec24cdf",
   "metadata": {
    "ExecuteTime": {
     "end_time": "2023-01-11T12:44:03.096104Z",
     "start_time": "2023-01-11T12:44:03.069107Z"
    },
    "hidden": true
   },
   "outputs": [
    {
     "data": {
      "text/html": [
       "<div>\n",
       "<style scoped>\n",
       "    .dataframe tbody tr th:only-of-type {\n",
       "        vertical-align: middle;\n",
       "    }\n",
       "\n",
       "    .dataframe tbody tr th {\n",
       "        vertical-align: top;\n",
       "    }\n",
       "\n",
       "    .dataframe thead th {\n",
       "        text-align: right;\n",
       "    }\n",
       "</style>\n",
       "<table border=\"1\" class=\"dataframe\">\n",
       "  <thead>\n",
       "    <tr style=\"text-align: right;\">\n",
       "      <th></th>\n",
       "      <th>0</th>\n",
       "      <th>1</th>\n",
       "    </tr>\n",
       "  </thead>\n",
       "  <tbody>\n",
       "    <tr>\n",
       "      <th>0</th>\n",
       "      <td>itwill</td>\n",
       "      <td>itwill.com</td>\n",
       "    </tr>\n",
       "    <tr>\n",
       "      <th>1</th>\n",
       "      <td>itwill</td>\n",
       "      <td>None</td>\n",
       "    </tr>\n",
       "  </tbody>\n",
       "</table>\n",
       "</div>"
      ],
      "text/plain": [
       "        0           1\n",
       "0  itwill  itwill.com\n",
       "1  itwill        None"
      ]
     },
     "execution_count": 32,
     "metadata": {},
     "output_type": "execute_result"
    }
   ],
   "source": [
    "# expand = True : 분리 시켜서 개별 열로 값을 출력해 줌 \n",
    "obj.str.split('@',expand=True)"
   ]
  },
  {
   "cell_type": "markdown",
   "id": "f0445370",
   "metadata": {
    "heading_collapsed": true,
    "hidden": true
   },
   "source": [
    "### .str.partition() : 특정한 문자를 기준으로 분리하고, 개별 컬럼으로 값을 출력하는 함수\n",
    "\n",
    "* split와 다르게 특정 문자를 포함해서 결과를 반환한다"
   ]
  },
  {
   "cell_type": "code",
   "execution_count": 33,
   "id": "40de3def",
   "metadata": {
    "ExecuteTime": {
     "end_time": "2023-01-11T12:44:03.111107Z",
     "start_time": "2023-01-11T12:44:03.099104Z"
    },
    "hidden": true
   },
   "outputs": [
    {
     "data": {
      "text/html": [
       "<div>\n",
       "<style scoped>\n",
       "    .dataframe tbody tr th:only-of-type {\n",
       "        vertical-align: middle;\n",
       "    }\n",
       "\n",
       "    .dataframe tbody tr th {\n",
       "        vertical-align: top;\n",
       "    }\n",
       "\n",
       "    .dataframe thead th {\n",
       "        text-align: right;\n",
       "    }\n",
       "</style>\n",
       "<table border=\"1\" class=\"dataframe\">\n",
       "  <thead>\n",
       "    <tr style=\"text-align: right;\">\n",
       "      <th></th>\n",
       "      <th>0</th>\n",
       "      <th>1</th>\n",
       "      <th>2</th>\n",
       "    </tr>\n",
       "  </thead>\n",
       "  <tbody>\n",
       "    <tr>\n",
       "      <th>0</th>\n",
       "      <td>itwill</td>\n",
       "      <td>@</td>\n",
       "      <td>itwill.com</td>\n",
       "    </tr>\n",
       "    <tr>\n",
       "      <th>1</th>\n",
       "      <td>itwill</td>\n",
       "      <td></td>\n",
       "      <td></td>\n",
       "    </tr>\n",
       "  </tbody>\n",
       "</table>\n",
       "</div>"
      ],
      "text/plain": [
       "        0  1           2\n",
       "0  itwill  @  itwill.com\n",
       "1  itwill               "
      ]
     },
     "execution_count": 33,
     "metadata": {},
     "output_type": "execute_result"
    }
   ],
   "source": [
    "obj.str.partition('@')"
   ]
  },
  {
   "cell_type": "code",
   "execution_count": 34,
   "id": "93688ab3",
   "metadata": {
    "ExecuteTime": {
     "end_time": "2023-01-11T12:44:03.126127Z",
     "start_time": "2023-01-11T12:44:03.114121Z"
    },
    "hidden": true
   },
   "outputs": [
    {
     "data": {
      "text/html": [
       "<div>\n",
       "<style scoped>\n",
       "    .dataframe tbody tr th:only-of-type {\n",
       "        vertical-align: middle;\n",
       "    }\n",
       "\n",
       "    .dataframe tbody tr th {\n",
       "        vertical-align: top;\n",
       "    }\n",
       "\n",
       "    .dataframe thead th {\n",
       "        text-align: right;\n",
       "    }\n",
       "</style>\n",
       "<table border=\"1\" class=\"dataframe\">\n",
       "  <thead>\n",
       "    <tr style=\"text-align: right;\">\n",
       "      <th></th>\n",
       "      <th>0</th>\n",
       "      <th>1</th>\n",
       "      <th>2</th>\n",
       "    </tr>\n",
       "  </thead>\n",
       "  <tbody>\n",
       "    <tr>\n",
       "      <th>0</th>\n",
       "      <td>itwill</td>\n",
       "      <td>@</td>\n",
       "      <td>itwill.com</td>\n",
       "    </tr>\n",
       "    <tr>\n",
       "      <th>1</th>\n",
       "      <td></td>\n",
       "      <td></td>\n",
       "      <td>itwill</td>\n",
       "    </tr>\n",
       "  </tbody>\n",
       "</table>\n",
       "</div>"
      ],
      "text/plain": [
       "        0  1           2\n",
       "0  itwill  @  itwill.com\n",
       "1                 itwill"
      ]
     },
     "execution_count": 34,
     "metadata": {},
     "output_type": "execute_result"
    }
   ],
   "source": [
    "# 오른쪽 정렬해서 출력함\n",
    "obj.str.rpartition('@')"
   ]
  },
  {
   "cell_type": "markdown",
   "id": "e3072307",
   "metadata": {},
   "source": [
    "## 시리즈의 그룹함수 \n",
    "----------------\n",
    "* **obj.mean()** : 평균 \n",
    "* **obj.var()** : 분산\n",
    "* **obj.max()**\n",
    "* **obj.min()**\n",
    "----------------\n",
    "* **obj.idxmax()** #최대값 인덱스\n",
    "* **obj.idxmin()** #최소값 인덱스\n",
    "* **obj.argmax()** #최대값 인덱스\n",
    "* **obj.argmin()** #최소값 인덱스\n",
    "----------------\n",
    "* **obj.cumsum()** #누적합\n",
    "* **obj.cumprod()** #누적곱\n",
    "----------------\n",
    "* **obj.cummin()** # 누락 최소값\n",
    "* **obj.cummax()** # 누적 최대값\n",
    "---------------\n",
    "\n",
    "* **obj.count()** # nan 제외한 건수 \n",
    "* **len(obj)** #nan 포함한 건수 \n"
   ]
  },
  {
   "cell_type": "code",
   "execution_count": 35,
   "id": "504bc37a",
   "metadata": {
    "ExecuteTime": {
     "end_time": "2023-01-11T12:44:03.141124Z",
     "start_time": "2023-01-11T12:44:03.129112Z"
    }
   },
   "outputs": [],
   "source": [
    "obj = Series([3,6,4,2,None,6])"
   ]
  },
  {
   "cell_type": "code",
   "execution_count": 36,
   "id": "02da6182",
   "metadata": {
    "ExecuteTime": {
     "end_time": "2023-01-11T12:44:03.156126Z",
     "start_time": "2023-01-11T12:44:03.144125Z"
    }
   },
   "outputs": [
    {
     "data": {
      "text/plain": [
       "nan"
      ]
     },
     "execution_count": 36,
     "metadata": {},
     "output_type": "execute_result"
    }
   ],
   "source": [
    "obj.sum(skipna=True) # 기본값\n",
    "obj.sum(skipna=False)"
   ]
  },
  {
   "cell_type": "code",
   "execution_count": 37,
   "id": "0ea80313",
   "metadata": {
    "ExecuteTime": {
     "end_time": "2023-01-11T12:44:03.171120Z",
     "start_time": "2023-01-11T12:44:03.159118Z"
    }
   },
   "outputs": [
    {
     "data": {
      "text/plain": [
       "4.2"
      ]
     },
     "execution_count": 37,
     "metadata": {},
     "output_type": "execute_result"
    }
   ],
   "source": [
    "obj.mean() # 평균 "
   ]
  },
  {
   "cell_type": "code",
   "execution_count": 38,
   "id": "f6f62783",
   "metadata": {
    "ExecuteTime": {
     "end_time": "2023-01-11T12:44:03.186143Z",
     "start_time": "2023-01-11T12:44:03.174132Z"
    }
   },
   "outputs": [
    {
     "data": {
      "text/plain": [
       "3.2"
      ]
     },
     "execution_count": 38,
     "metadata": {},
     "output_type": "execute_result"
    }
   ],
   "source": [
    "obj.var() # 분산"
   ]
  },
  {
   "cell_type": "code",
   "execution_count": 39,
   "id": "4eee3545",
   "metadata": {
    "ExecuteTime": {
     "end_time": "2023-01-11T12:44:03.201135Z",
     "start_time": "2023-01-11T12:44:03.189135Z"
    }
   },
   "outputs": [
    {
     "data": {
      "text/plain": [
       "1.7888543819998317"
      ]
     },
     "execution_count": 39,
     "metadata": {},
     "output_type": "execute_result"
    }
   ],
   "source": [
    "obj.std() # 표준편차"
   ]
  },
  {
   "cell_type": "code",
   "execution_count": 40,
   "id": "5da52f21",
   "metadata": {
    "ExecuteTime": {
     "end_time": "2023-01-11T12:44:03.216140Z",
     "start_time": "2023-01-11T12:44:03.204145Z"
    }
   },
   "outputs": [
    {
     "data": {
      "text/plain": [
       "6.0"
      ]
     },
     "execution_count": 40,
     "metadata": {},
     "output_type": "execute_result"
    }
   ],
   "source": [
    "obj.max() # 최대값"
   ]
  },
  {
   "cell_type": "code",
   "execution_count": 41,
   "id": "f61543d5",
   "metadata": {
    "ExecuteTime": {
     "end_time": "2023-01-11T12:44:03.231135Z",
     "start_time": "2023-01-11T12:44:03.219147Z"
    }
   },
   "outputs": [
    {
     "data": {
      "text/plain": [
       "2.0"
      ]
     },
     "execution_count": 41,
     "metadata": {},
     "output_type": "execute_result"
    }
   ],
   "source": [
    "obj.min() # 최소값"
   ]
  },
  {
   "cell_type": "code",
   "execution_count": 42,
   "id": "f110ea4c",
   "metadata": {
    "ExecuteTime": {
     "end_time": "2023-01-11T12:44:03.246150Z",
     "start_time": "2023-01-11T12:44:03.234135Z"
    }
   },
   "outputs": [
    {
     "data": {
      "text/plain": [
       "1"
      ]
     },
     "execution_count": 42,
     "metadata": {},
     "output_type": "execute_result"
    }
   ],
   "source": [
    "# 처음으로 나오는 최대값의 인덱스를 보여준다 \n",
    "obj.idxmax()\n",
    "obj.argmax()"
   ]
  },
  {
   "cell_type": "code",
   "execution_count": 43,
   "id": "07072969",
   "metadata": {
    "ExecuteTime": {
     "end_time": "2023-01-11T12:44:03.262141Z",
     "start_time": "2023-01-11T12:44:03.249140Z"
    }
   },
   "outputs": [
    {
     "ename": "SyntaxError",
     "evalue": "invalid syntax (3659884572.py, line 3)",
     "output_type": "error",
     "traceback": [
      "\u001b[1;36m  Cell \u001b[1;32mIn[43], line 3\u001b[1;36m\u001b[0m\n\u001b[1;33m    obj.argmin()`\u001b[0m\n\u001b[1;37m                ^\u001b[0m\n\u001b[1;31mSyntaxError\u001b[0m\u001b[1;31m:\u001b[0m invalid syntax\n"
     ]
    }
   ],
   "source": [
    "#\\ 처음으로 나오는 최소값의 인덱스를 보여준다 \n",
    "obj.idxmin()\n",
    "obj.argmin()`"
   ]
  },
  {
   "cell_type": "code",
   "execution_count": null,
   "id": "02190f68",
   "metadata": {
    "ExecuteTime": {
     "end_time": "2023-01-11T12:44:03.280145Z",
     "start_time": "2023-01-11T12:44:03.280145Z"
    }
   },
   "outputs": [],
   "source": [
    "# 注 : 최대값의 위치를 모두 찾고싶을 때 \n",
    "obj[obj == obj.max()].index"
   ]
  },
  {
   "cell_type": "code",
   "execution_count": 44,
   "id": "73d15f88",
   "metadata": {
    "ExecuteTime": {
     "end_time": "2023-01-11T12:44:40.124077Z",
     "start_time": "2023-01-11T12:44:40.096933Z"
    }
   },
   "outputs": [
    {
     "data": {
      "text/plain": [
       "0     3.0\n",
       "1     9.0\n",
       "2    13.0\n",
       "3    15.0\n",
       "4     NaN\n",
       "5    21.0\n",
       "dtype: float64"
      ]
     },
     "execution_count": 44,
     "metadata": {},
     "output_type": "execute_result"
    }
   ],
   "source": [
    "obj.cumsum() # 누적합"
   ]
  },
  {
   "cell_type": "code",
   "execution_count": 45,
   "id": "0185588e",
   "metadata": {
    "ExecuteTime": {
     "end_time": "2023-01-11T12:44:52.759237Z",
     "start_time": "2023-01-11T12:44:52.748233Z"
    }
   },
   "outputs": [
    {
     "data": {
      "text/plain": [
       "0      3.0\n",
       "1     18.0\n",
       "2     72.0\n",
       "3    144.0\n",
       "4      NaN\n",
       "5    864.0\n",
       "dtype: float64"
      ]
     },
     "execution_count": 45,
     "metadata": {},
     "output_type": "execute_result"
    }
   ],
   "source": [
    "obj.cumprod() # 누적곱"
   ]
  },
  {
   "cell_type": "code",
   "execution_count": 46,
   "id": "105e4b9c",
   "metadata": {
    "ExecuteTime": {
     "end_time": "2023-01-11T12:45:12.491482Z",
     "start_time": "2023-01-11T12:45:12.474339Z"
    }
   },
   "outputs": [
    {
     "data": {
      "text/plain": [
       "0    3.0\n",
       "1    3.0\n",
       "2    3.0\n",
       "3    2.0\n",
       "4    NaN\n",
       "5    2.0\n",
       "dtype: float64"
      ]
     },
     "execution_count": 46,
     "metadata": {},
     "output_type": "execute_result"
    }
   ],
   "source": [
    "obj.cummin() # 누적 최소값"
   ]
  },
  {
   "cell_type": "code",
   "execution_count": 47,
   "id": "157d56f3",
   "metadata": {
    "ExecuteTime": {
     "end_time": "2023-01-11T12:45:21.919020Z",
     "start_time": "2023-01-11T12:45:21.900013Z"
    }
   },
   "outputs": [
    {
     "data": {
      "text/plain": [
       "0    3.0\n",
       "1    6.0\n",
       "2    6.0\n",
       "3    6.0\n",
       "4    NaN\n",
       "5    6.0\n",
       "dtype: float64"
      ]
     },
     "execution_count": 47,
     "metadata": {},
     "output_type": "execute_result"
    }
   ],
   "source": [
    "obj.cummax() # 누적 최대값"
   ]
  },
  {
   "cell_type": "code",
   "execution_count": 48,
   "id": "c8e29828",
   "metadata": {
    "ExecuteTime": {
     "end_time": "2023-01-11T12:45:33.254298Z",
     "start_time": "2023-01-11T12:45:33.229909Z"
    }
   },
   "outputs": [
    {
     "data": {
      "text/plain": [
       "5"
      ]
     },
     "execution_count": 48,
     "metadata": {},
     "output_type": "execute_result"
    }
   ],
   "source": [
    "obj.count() # nan를 제외한 건수 출력"
   ]
  },
  {
   "cell_type": "code",
   "execution_count": 50,
   "id": "4016a2e8",
   "metadata": {
    "ExecuteTime": {
     "end_time": "2023-01-11T12:45:40.983421Z",
     "start_time": "2023-01-11T12:45:40.963263Z"
    }
   },
   "outputs": [
    {
     "data": {
      "text/plain": [
       "6"
      ]
     },
     "execution_count": 50,
     "metadata": {},
     "output_type": "execute_result"
    }
   ],
   "source": [
    "len(obj) # nan을 포함함"
   ]
  },
  {
   "cell_type": "markdown",
   "id": "2f148475",
   "metadata": {},
   "source": [
    "**데이터 프레임의 집계함수**"
   ]
  },
  {
   "cell_type": "code",
   "execution_count": 51,
   "id": "d9262595",
   "metadata": {
    "ExecuteTime": {
     "end_time": "2023-01-11T12:48:33.277439Z",
     "start_time": "2023-01-11T12:48:33.254266Z"
    }
   },
   "outputs": [
    {
     "data": {
      "text/html": [
       "<div>\n",
       "<style scoped>\n",
       "    .dataframe tbody tr th:only-of-type {\n",
       "        vertical-align: middle;\n",
       "    }\n",
       "\n",
       "    .dataframe tbody tr th {\n",
       "        vertical-align: top;\n",
       "    }\n",
       "\n",
       "    .dataframe thead th {\n",
       "        text-align: right;\n",
       "    }\n",
       "</style>\n",
       "<table border=\"1\" class=\"dataframe\">\n",
       "  <thead>\n",
       "    <tr style=\"text-align: right;\">\n",
       "      <th></th>\n",
       "      <th>영어</th>\n",
       "      <th>수학</th>\n",
       "      <th>국어</th>\n",
       "    </tr>\n",
       "  </thead>\n",
       "  <tbody>\n",
       "    <tr>\n",
       "      <th>홍길동</th>\n",
       "      <td>60</td>\n",
       "      <td>80.0</td>\n",
       "      <td>70.0</td>\n",
       "    </tr>\n",
       "    <tr>\n",
       "      <th>박찬호</th>\n",
       "      <td>100</td>\n",
       "      <td>80.9</td>\n",
       "      <td>NaN</td>\n",
       "    </tr>\n",
       "    <tr>\n",
       "      <th>손흥민</th>\n",
       "      <td>60</td>\n",
       "      <td>90.5</td>\n",
       "      <td>NaN</td>\n",
       "    </tr>\n",
       "  </tbody>\n",
       "</table>\n",
       "</div>"
      ],
      "text/plain": [
       "      영어    수학    국어\n",
       "홍길동   60  80.0  70.0\n",
       "박찬호  100  80.9   NaN\n",
       "손흥민   60  90.5   NaN"
      ]
     },
     "execution_count": 51,
     "metadata": {},
     "output_type": "execute_result"
    }
   ],
   "source": [
    "df=DataFrame([[60,80,70],\n",
    "          [100,80.90],\n",
    "          [60,90.50]],\n",
    "          index = ['홍길동','박찬호','손흥민'],\n",
    "          columns=['영어','수학','국어'])\n",
    "\n",
    "df"
   ]
  },
  {
   "cell_type": "code",
   "execution_count": 59,
   "id": "cfef6f36",
   "metadata": {
    "ExecuteTime": {
     "end_time": "2023-01-11T12:50:21.204369Z",
     "start_time": "2023-01-11T12:50:21.191685Z"
    }
   },
   "outputs": [
    {
     "data": {
      "text/plain": [
       "영어    220.0\n",
       "수학    251.4\n",
       "국어     70.0\n",
       "dtype: float64"
      ]
     },
     "execution_count": 59,
     "metadata": {},
     "output_type": "execute_result"
    }
   ],
   "source": [
    "df.sum() # 컬럼을 기준으로 합을 출력함\n",
    "df.sum(axis=0)\n",
    "df.sum(axis = 'rows')"
   ]
  },
  {
   "cell_type": "code",
   "execution_count": 60,
   "id": "3f554da9",
   "metadata": {
    "ExecuteTime": {
     "end_time": "2023-01-11T12:50:25.504162Z",
     "start_time": "2023-01-11T12:50:25.486139Z"
    }
   },
   "outputs": [
    {
     "data": {
      "text/plain": [
       "홍길동    210.0\n",
       "박찬호    180.9\n",
       "손흥민    150.5\n",
       "dtype: float64"
      ]
     },
     "execution_count": 60,
     "metadata": {},
     "output_type": "execute_result"
    }
   ],
   "source": [
    "df.sum(axis=1) # rows를 기준으로 합을 출력함\n",
    "df.sum(axis = 'columns')"
   ]
  },
  {
   "cell_type": "code",
   "execution_count": 61,
   "id": "706fcfb0",
   "metadata": {
    "ExecuteTime": {
     "end_time": "2023-01-11T12:50:39.469551Z",
     "start_time": "2023-01-11T12:50:39.453592Z"
    }
   },
   "outputs": [
    {
     "data": {
      "text/plain": [
       "영어    73.333333\n",
       "수학    83.800000\n",
       "국어    70.000000\n",
       "dtype: float64"
      ]
     },
     "execution_count": 61,
     "metadata": {},
     "output_type": "execute_result"
    }
   ],
   "source": [
    "df.mean() # 열의 평균\n",
    "df.mean(axis = 1) # 행의 평균 "
   ]
  },
  {
   "cell_type": "code",
   "execution_count": 64,
   "id": "2c84472b",
   "metadata": {
    "ExecuteTime": {
     "end_time": "2023-01-11T12:51:16.390890Z",
     "start_time": "2023-01-11T12:51:16.375888Z"
    }
   },
   "outputs": [],
   "source": [
    "df.loc['제임스','영어'] = 100\n",
    "df.loc['제임스','수학']= None # NaN이 들어가면 실수형으로 바뀐다\n",
    "df.loc['제임스','국어'] = 90"
   ]
  },
  {
   "cell_type": "code",
   "execution_count": 66,
   "id": "9e1d6d3c",
   "metadata": {
    "ExecuteTime": {
     "end_time": "2023-01-11T12:51:23.897490Z",
     "start_time": "2023-01-11T12:51:23.858647Z"
    }
   },
   "outputs": [
    {
     "name": "stdout",
     "output_type": "stream",
     "text": [
      "<class 'pandas.core.frame.DataFrame'>\n",
      "Index: 4 entries, 홍길동 to 제임스\n",
      "Data columns (total 3 columns):\n",
      " #   Column  Non-Null Count  Dtype  \n",
      "---  ------  --------------  -----  \n",
      " 0   영어      4 non-null      float64\n",
      " 1   수학      3 non-null      float64\n",
      " 2   국어      2 non-null      float64\n",
      "dtypes: float64(3)\n",
      "memory usage: 300.0+ bytes\n"
     ]
    }
   ],
   "source": [
    "df.info()"
   ]
  },
  {
   "cell_type": "code",
   "execution_count": 67,
   "id": "877940c9",
   "metadata": {
    "ExecuteTime": {
     "end_time": "2023-01-11T12:51:51.964906Z",
     "start_time": "2023-01-11T12:51:51.939903Z"
    }
   },
   "outputs": [
    {
     "data": {
      "text/plain": [
       "영어    320.0\n",
       "수학      NaN\n",
       "국어      NaN\n",
       "dtype: float64"
      ]
     },
     "execution_count": 67,
     "metadata": {},
     "output_type": "execute_result"
    }
   ],
   "source": [
    "df.sum(axis = 0, skipna = False) # NaN값을 Skip할지 안 할지 결정. 해당 경우는 skip하지 않아 NaN값으로 출력됨"
   ]
  },
  {
   "cell_type": "code",
   "execution_count": 68,
   "id": "96a8c236",
   "metadata": {
    "ExecuteTime": {
     "end_time": "2023-01-11T12:52:10.765140Z",
     "start_time": "2023-01-11T12:52:10.741134Z"
    }
   },
   "outputs": [
    {
     "data": {
      "text/plain": [
       "영어    320.0\n",
       "수학    251.4\n",
       "국어    160.0\n",
       "dtype: float64"
      ]
     },
     "execution_count": 68,
     "metadata": {},
     "output_type": "execute_result"
    }
   ],
   "source": [
    "df.sum(axis = 'rows', skipna = True) # 기본 값은 True"
   ]
  },
  {
   "cell_type": "code",
   "execution_count": 73,
   "id": "b350e463",
   "metadata": {
    "ExecuteTime": {
     "end_time": "2023-01-11T12:53:07.818766Z",
     "start_time": "2023-01-11T12:53:07.807748Z"
    }
   },
   "outputs": [
    {
     "data": {
      "text/plain": [
       "75.25"
      ]
     },
     "execution_count": 73,
     "metadata": {},
     "output_type": "execute_result"
    }
   ],
   "source": [
    "df.loc['손흥민'].mean()"
   ]
  },
  {
   "cell_type": "markdown",
   "id": "0637b64b",
   "metadata": {},
   "source": [
    "# 문제 풀이"
   ]
  },
  {
   "cell_type": "markdown",
   "id": "949a5ca8",
   "metadata": {
    "heading_collapsed": true
   },
   "source": [
    "## [문제 83] salary값을 1000당 '*' 하나 출력 해주세요. \n",
    "\n",
    "5000 -> *****"
   ]
  },
  {
   "cell_type": "code",
   "execution_count": null,
   "id": "f8f22fab",
   "metadata": {
    "ExecuteTime": {
     "end_time": "2023-01-11T12:44:03.285146Z",
     "start_time": "2023-01-11T12:44:03.285146Z"
    },
    "hidden": true
   },
   "outputs": [],
   "source": [
    "import pandas as pd \n",
    "emp = pd.read_csv(\"c:/data/employees.csv\")\n",
    "emp.head()"
   ]
  },
  {
   "cell_type": "code",
   "execution_count": null,
   "id": "280dc2b5",
   "metadata": {
    "ExecuteTime": {
     "end_time": "2023-01-11T12:44:03.287147Z",
     "start_time": "2023-01-11T12:44:03.287147Z"
    },
    "hidden": true,
    "scrolled": true
   },
   "outputs": [],
   "source": [
    "# solution 1 \n",
    "['*' * int(i/1000) for i in emp['SALARY']]"
   ]
  },
  {
   "cell_type": "code",
   "execution_count": null,
   "id": "9b1a37e1",
   "metadata": {
    "ExecuteTime": {
     "end_time": "2023-01-11T12:44:03.289148Z",
     "start_time": "2023-01-11T12:44:03.289148Z"
    },
    "hidden": true
   },
   "outputs": [],
   "source": [
    "# soltuion 2 \n",
    "\n",
    "x = (emp['SALARY']/1000).astype('int')\n",
    "x.apply(lambda arg : Series('*').str.pad(width=arg, side = 'left', fillchar = '*'))"
   ]
  },
  {
   "cell_type": "markdown",
   "id": "205fcab6",
   "metadata": {
    "heading_collapsed": true
   },
   "source": [
    "## [문제 84] salary값을 1000당 '*' 하나로 만들어서 리스트 변수에 저장해주세요. 단 반복문을 사용하시오"
   ]
  },
  {
   "cell_type": "code",
   "execution_count": null,
   "id": "9ee5d81c",
   "metadata": {
    "ExecuteTime": {
     "end_time": "2023-01-11T12:44:03.292157Z",
     "start_time": "2023-01-11T12:44:03.292157Z"
    },
    "hidden": true
   },
   "outputs": [],
   "source": [
    "# 내 풀이 \n",
    "star = []\n",
    "x = []\n",
    "\n",
    "for i in emp['SALARY']:\n",
    "    x = int(i/1000)\n",
    "    s = x * '*'\n",
    "    star.append(s)\n",
    "\n",
    "star"
   ]
  },
  {
   "cell_type": "code",
   "execution_count": null,
   "id": "3721505c",
   "metadata": {
    "ExecuteTime": {
     "end_time": "2023-01-11T12:44:03.294149Z",
     "start_time": "2023-01-11T12:44:03.294149Z"
    },
    "hidden": true
   },
   "outputs": [],
   "source": [
    "# 선생님 풀이 \n",
    "\n",
    "star = []\n",
    "\n",
    "for i in emp['SALARY']:\n",
    "    y = ''\n",
    "    s = int(i/1000)\n",
    "    while True:\n",
    "        if s ==0:\n",
    "            break\n",
    "        else:\n",
    "            y += '*'\n",
    "            s -= 1 \n",
    "    star.append(y)\n",
    "\n",
    "star"
   ]
  },
  {
   "cell_type": "code",
   "execution_count": null,
   "id": "25cc4d0b",
   "metadata": {
    "ExecuteTime": {
     "end_time": "2023-01-11T12:44:03.296149Z",
     "start_time": "2023-01-11T12:44:03.296149Z"
    },
    "hidden": true
   },
   "outputs": [],
   "source": [
    "# 데이터 프레임에 넣어보기\n",
    "DataFrame({'sal':emp['SALARY'], 'star':star})"
   ]
  },
  {
   "cell_type": "code",
   "execution_count": null,
   "id": "9fed748c",
   "metadata": {
    "ExecuteTime": {
     "end_time": "2023-01-11T12:44:03.299150Z",
     "start_time": "2023-01-11T12:44:03.299150Z"
    },
    "hidden": true
   },
   "outputs": [],
   "source": [
    "obj = Series([3,6,4,2,None,5])"
   ]
  },
  {
   "cell_type": "markdown",
   "id": "89ed8424",
   "metadata": {},
   "source": [
    "## [문제 85] 20번 부서 사원들의 급여 합을 구하세요.\n"
   ]
  },
  {
   "cell_type": "markdown",
   "id": "372a5fb9",
   "metadata": {},
   "source": [
    "**solution 1 : pandas를 이용해서 급여의 합을 출력**"
   ]
  },
  {
   "cell_type": "code",
   "execution_count": 76,
   "id": "038f308e",
   "metadata": {
    "ExecuteTime": {
     "end_time": "2023-01-11T12:54:20.884519Z",
     "start_time": "2023-01-11T12:54:20.868508Z"
    }
   },
   "outputs": [
    {
     "data": {
      "text/plain": [
       "19000"
      ]
     },
     "execution_count": 76,
     "metadata": {},
     "output_type": "execute_result"
    }
   ],
   "source": [
    "import pandas as pd \n",
    "emp = pd.read_csv(\"c:/data/employees.csv\")\n",
    "\n",
    "emp[emp['DEPARTMENT_ID'] == 20]['SALARY'].sum()"
   ]
  },
  {
   "cell_type": "code",
   "execution_count": 77,
   "id": "3691855a",
   "metadata": {
    "ExecuteTime": {
     "end_time": "2023-01-11T13:02:42.001459Z",
     "start_time": "2023-01-11T13:02:41.991694Z"
    }
   },
   "outputs": [
    {
     "data": {
      "text/plain": [
       "19000"
      ]
     },
     "execution_count": 77,
     "metadata": {},
     "output_type": "execute_result"
    }
   ],
   "source": [
    "emp.loc[emp['DEPARTMENT_ID'] == 20, 'SALARY'].sum()"
   ]
  },
  {
   "cell_type": "markdown",
   "id": "0c884f2d",
   "metadata": {},
   "source": [
    "**pandas 사용하지 않고**"
   ]
  },
  {
   "cell_type": "code",
   "execution_count": 81,
   "id": "1402bf19",
   "metadata": {
    "ExecuteTime": {
     "end_time": "2023-01-11T13:04:32.483329Z",
     "start_time": "2023-01-11T13:04:32.457754Z"
    }
   },
   "outputs": [
    {
     "name": "stdout",
     "output_type": "stream",
     "text": [
      "19000\n"
     ]
    }
   ],
   "source": [
    "import csv \n",
    "\n",
    "file = open(\"c:/data/employees.csv\",\"r\")\n",
    "emp_csv = csv.reader(file)\n",
    "next(emp_csv)\n",
    "\n",
    "v_sal = 0\n",
    "\n",
    "for i in emp_csv:\n",
    "    if i[-1] == '20':\n",
    "        v_sal += int(i[7])\n",
    "\n",
    "file.close()\n",
    "print(v_sal)"
   ]
  },
  {
   "cell_type": "markdown",
   "id": "e919de91",
   "metadata": {
    "ExecuteTime": {
     "end_time": "2023-01-11T13:03:44.867202Z",
     "start_time": "2023-01-11T13:03:44.840196Z"
    }
   },
   "source": [
    "## [문제 86] 부서번호를 입력하면 그 부서의 급여 총액을 구하는 함수를 생성하세요.\n",
    "\n",
    "dept_sal_sum(20) = 19000 \n",
    "\n",
    "dept_sal_sum(None)\n",
    "부서코드를 입력해주세요\n",
    "\n",
    "dept_sal_sum(120)\n",
    "부서가 없습니다."
   ]
  },
  {
   "cell_type": "code",
   "execution_count": 94,
   "id": "633f6e2a",
   "metadata": {
    "ExecuteTime": {
     "end_time": "2023-01-11T13:07:40.502536Z",
     "start_time": "2023-01-11T13:07:40.489870Z"
    }
   },
   "outputs": [
    {
     "data": {
      "text/plain": [
       "0"
      ]
     },
     "execution_count": 94,
     "metadata": {},
     "output_type": "execute_result"
    }
   ],
   "source": [
    "# NaN인 경우와 없는 부서의 경우가 동일한 0값으로 출력됨\n",
    "# 이 둘의 케이스를 분리시켜야 함.\n",
    "emp[emp['DEPARTMENT_ID']==None]['SALARY'].sum()"
   ]
  },
  {
   "cell_type": "code",
   "execution_count": 93,
   "id": "401ca4fe",
   "metadata": {
    "ExecuteTime": {
     "end_time": "2023-01-11T13:07:24.629304Z",
     "start_time": "2023-01-11T13:07:24.613299Z"
    }
   },
   "outputs": [
    {
     "data": {
      "text/plain": [
       "0"
      ]
     },
     "execution_count": 93,
     "metadata": {},
     "output_type": "execute_result"
    }
   ],
   "source": [
    "emp[emp['DEPARTMENT_ID']==120]['SALARY'].sum()"
   ]
  },
  {
   "cell_type": "code",
   "execution_count": 95,
   "id": "420fff62",
   "metadata": {
    "ExecuteTime": {
     "end_time": "2023-01-11T13:07:53.098272Z",
     "start_time": "2023-01-11T13:07:53.076269Z"
    }
   },
   "outputs": [
    {
     "data": {
      "text/plain": [
       "{nan, 10.0, 20.0, 30.0, 40.0, 50.0, 60.0, 70.0, 80.0, 90.0, 100.0, 110.0}"
      ]
     },
     "execution_count": 95,
     "metadata": {},
     "output_type": "execute_result"
    }
   ],
   "source": [
    "# 유일한 부서만 따로 뽑아내기\n",
    "set(emp['DEPARTMENT_ID'])"
   ]
  },
  {
   "cell_type": "code",
   "execution_count": 96,
   "id": "ac78509b",
   "metadata": {
    "ExecuteTime": {
     "end_time": "2023-01-11T13:08:12.660131Z",
     "start_time": "2023-01-11T13:08:11.561393Z"
    }
   },
   "outputs": [
    {
     "ename": "TypeError",
     "evalue": "'set' type is unordered",
     "output_type": "error",
     "traceback": [
      "\u001b[1;31m---------------------------------------------------------------------------\u001b[0m",
      "\u001b[1;31mTypeError\u001b[0m                                 Traceback (most recent call last)",
      "Cell \u001b[1;32mIn[96], line 1\u001b[0m\n\u001b[1;32m----> 1\u001b[0m \u001b[43mSeries\u001b[49m\u001b[43m(\u001b[49m\u001b[38;5;28;43mset\u001b[39;49m\u001b[43m(\u001b[49m\u001b[43memp\u001b[49m\u001b[43m[\u001b[49m\u001b[38;5;124;43m'\u001b[39;49m\u001b[38;5;124;43mDEPARTMENT_ID\u001b[39;49m\u001b[38;5;124;43m'\u001b[39;49m\u001b[43m]\u001b[49m\u001b[43m)\u001b[49m\u001b[43m)\u001b[49m\n",
      "File \u001b[1;32m~\\anaconda3\\lib\\site-packages\\pandas\\core\\series.py:451\u001b[0m, in \u001b[0;36mSeries.__init__\u001b[1;34m(self, data, index, dtype, name, copy, fastpath)\u001b[0m\n\u001b[0;32m    449\u001b[0m         data \u001b[38;5;241m=\u001b[39m data\u001b[38;5;241m.\u001b[39mcopy()\n\u001b[0;32m    450\u001b[0m \u001b[38;5;28;01melse\u001b[39;00m:\n\u001b[1;32m--> 451\u001b[0m     data \u001b[38;5;241m=\u001b[39m \u001b[43msanitize_array\u001b[49m\u001b[43m(\u001b[49m\u001b[43mdata\u001b[49m\u001b[43m,\u001b[49m\u001b[43m \u001b[49m\u001b[43mindex\u001b[49m\u001b[43m,\u001b[49m\u001b[43m \u001b[49m\u001b[43mdtype\u001b[49m\u001b[43m,\u001b[49m\u001b[43m \u001b[49m\u001b[43mcopy\u001b[49m\u001b[43m)\u001b[49m\n\u001b[0;32m    453\u001b[0m     manager \u001b[38;5;241m=\u001b[39m get_option(\u001b[38;5;124m\"\u001b[39m\u001b[38;5;124mmode.data_manager\u001b[39m\u001b[38;5;124m\"\u001b[39m)\n\u001b[0;32m    454\u001b[0m     \u001b[38;5;28;01mif\u001b[39;00m manager \u001b[38;5;241m==\u001b[39m \u001b[38;5;124m\"\u001b[39m\u001b[38;5;124mblock\u001b[39m\u001b[38;5;124m\"\u001b[39m:\n",
      "File \u001b[1;32m~\\anaconda3\\lib\\site-packages\\pandas\\core\\construction.py:584\u001b[0m, in \u001b[0;36msanitize_array\u001b[1;34m(data, index, dtype, copy, raise_cast_failure, allow_2d)\u001b[0m\n\u001b[0;32m    581\u001b[0m \u001b[38;5;28;01melse\u001b[39;00m:\n\u001b[0;32m    582\u001b[0m     \u001b[38;5;28;01mif\u001b[39;00m \u001b[38;5;28misinstance\u001b[39m(data, (\u001b[38;5;28mset\u001b[39m, \u001b[38;5;28mfrozenset\u001b[39m)):\n\u001b[0;32m    583\u001b[0m         \u001b[38;5;66;03m# Raise only for unordered sets, e.g., not for dict_keys\u001b[39;00m\n\u001b[1;32m--> 584\u001b[0m         \u001b[38;5;28;01mraise\u001b[39;00m \u001b[38;5;167;01mTypeError\u001b[39;00m(\u001b[38;5;124mf\u001b[39m\u001b[38;5;124m\"\u001b[39m\u001b[38;5;124m'\u001b[39m\u001b[38;5;132;01m{\u001b[39;00m\u001b[38;5;28mtype\u001b[39m(data)\u001b[38;5;241m.\u001b[39m\u001b[38;5;18m__name__\u001b[39m\u001b[38;5;132;01m}\u001b[39;00m\u001b[38;5;124m'\u001b[39m\u001b[38;5;124m type is unordered\u001b[39m\u001b[38;5;124m\"\u001b[39m)\n\u001b[0;32m    586\u001b[0m     \u001b[38;5;66;03m# materialize e.g. generators, convert e.g. tuples, abc.ValueView\u001b[39;00m\n\u001b[0;32m    587\u001b[0m     \u001b[38;5;28;01mif\u001b[39;00m \u001b[38;5;28mhasattr\u001b[39m(data, \u001b[38;5;124m\"\u001b[39m\u001b[38;5;124m__array__\u001b[39m\u001b[38;5;124m\"\u001b[39m):\n\u001b[0;32m    588\u001b[0m         \u001b[38;5;66;03m# e.g. dask array GH#38645\u001b[39;00m\n",
      "\u001b[1;31mTypeError\u001b[0m: 'set' type is unordered"
     ]
    }
   ],
   "source": [
    "Series(set(emp['DEPARTMENT_ID'])) #오류, 순서(인덱스)가 없기 때문 "
   ]
  },
  {
   "cell_type": "code",
   "execution_count": 98,
   "id": "fcf6f5ad",
   "metadata": {
    "ExecuteTime": {
     "end_time": "2023-01-11T13:08:39.072883Z",
     "start_time": "2023-01-11T13:08:39.067892Z"
    }
   },
   "outputs": [],
   "source": [
    "id = Series(list(set(emp['DEPARTMENT_ID']))) # 선 리스트 후 시리즈 가능 "
   ]
  },
  {
   "cell_type": "code",
   "execution_count": 100,
   "id": "65434c51",
   "metadata": {
    "ExecuteTime": {
     "end_time": "2023-01-11T13:08:59.898849Z",
     "start_time": "2023-01-11T13:08:59.891884Z"
    }
   },
   "outputs": [],
   "source": [
    "# NaN 값은 제외시켜주기\n",
    "id = id[pd.notnull(id)]"
   ]
  },
  {
   "cell_type": "code",
   "execution_count": 104,
   "id": "3bd21ea8",
   "metadata": {
    "ExecuteTime": {
     "end_time": "2023-01-11T13:09:38.297033Z",
     "start_time": "2023-01-11T13:09:38.247021Z"
    }
   },
   "outputs": [
    {
     "ename": "ValueError",
     "evalue": "The truth value of a Series is ambiguous. Use a.empty, a.bool(), a.item(), a.any() or a.all().",
     "output_type": "error",
     "traceback": [
      "\u001b[1;31m---------------------------------------------------------------------------\u001b[0m",
      "\u001b[1;31mValueError\u001b[0m                                Traceback (most recent call last)",
      "Cell \u001b[1;32mIn[104], line 3\u001b[0m\n\u001b[0;32m      1\u001b[0m \u001b[38;5;28mid\u001b[39m \u001b[38;5;241m==\u001b[39m \u001b[38;5;241m20\u001b[39m\n\u001b[1;32m----> 3\u001b[0m \u001b[38;5;28;01mif\u001b[39;00m \u001b[38;5;241;43m20\u001b[39;49m\u001b[43m \u001b[49m\u001b[38;5;241;43m==\u001b[39;49m\u001b[43m \u001b[49m\u001b[38;5;28;43mid\u001b[39;49m: \u001b[38;5;66;03m# True False가 하나만 나와야 하는데 시리즈라서 여러개가 나옴 그래서 오류가 뜬다\u001b[39;00m\n\u001b[0;32m      4\u001b[0m     \u001b[38;5;28mprint\u001b[39m(\u001b[38;5;124m'\u001b[39m\u001b[38;5;124m성공\u001b[39m\u001b[38;5;124m'\u001b[39m)\n",
      "File \u001b[1;32m~\\anaconda3\\lib\\site-packages\\pandas\\core\\generic.py:1527\u001b[0m, in \u001b[0;36mNDFrame.__nonzero__\u001b[1;34m(self)\u001b[0m\n\u001b[0;32m   1525\u001b[0m \u001b[38;5;129m@final\u001b[39m\n\u001b[0;32m   1526\u001b[0m \u001b[38;5;28;01mdef\u001b[39;00m \u001b[38;5;21m__nonzero__\u001b[39m(\u001b[38;5;28mself\u001b[39m):\n\u001b[1;32m-> 1527\u001b[0m     \u001b[38;5;28;01mraise\u001b[39;00m \u001b[38;5;167;01mValueError\u001b[39;00m(\n\u001b[0;32m   1528\u001b[0m         \u001b[38;5;124mf\u001b[39m\u001b[38;5;124m\"\u001b[39m\u001b[38;5;124mThe truth value of a \u001b[39m\u001b[38;5;132;01m{\u001b[39;00m\u001b[38;5;28mtype\u001b[39m(\u001b[38;5;28mself\u001b[39m)\u001b[38;5;241m.\u001b[39m\u001b[38;5;18m__name__\u001b[39m\u001b[38;5;132;01m}\u001b[39;00m\u001b[38;5;124m is ambiguous. \u001b[39m\u001b[38;5;124m\"\u001b[39m\n\u001b[0;32m   1529\u001b[0m         \u001b[38;5;124m\"\u001b[39m\u001b[38;5;124mUse a.empty, a.bool(), a.item(), a.any() or a.all().\u001b[39m\u001b[38;5;124m\"\u001b[39m\n\u001b[0;32m   1530\u001b[0m     )\n",
      "\u001b[1;31mValueError\u001b[0m: The truth value of a Series is ambiguous. Use a.empty, a.bool(), a.item(), a.any() or a.all()."
     ]
    }
   ],
   "source": [
    "id == 20\n",
    "\n",
    "if 20 == id: # True False가 하나만 나와야 하는데 시리즈라서 여러개가 나옴 그래서 오류가 뜬다\n",
    "    print('성공')"
   ]
  },
  {
   "cell_type": "code",
   "execution_count": 105,
   "id": "69f2e2aa",
   "metadata": {
    "ExecuteTime": {
     "end_time": "2023-01-11T13:18:14.775217Z",
     "start_time": "2023-01-11T13:18:14.735604Z"
    }
   },
   "outputs": [
    {
     "ename": "ValueError",
     "evalue": "The truth value of a Series is ambiguous. Use a.empty, a.bool(), a.item(), a.any() or a.all().",
     "output_type": "error",
     "traceback": [
      "\u001b[1;31m---------------------------------------------------------------------------\u001b[0m",
      "\u001b[1;31mValueError\u001b[0m                                Traceback (most recent call last)",
      "Cell \u001b[1;32mIn[105], line 2\u001b[0m\n\u001b[0;32m      1\u001b[0m \u001b[38;5;28mid\u001b[39m \u001b[38;5;241m==\u001b[39m \u001b[38;5;241m20\u001b[39m\n\u001b[1;32m----> 2\u001b[0m \u001b[38;5;28;01mif\u001b[39;00m \u001b[38;5;241;43m20\u001b[39;49m\u001b[43m \u001b[49m\u001b[38;5;241;43m==\u001b[39;49m\u001b[43m \u001b[49m\u001b[38;5;28;43mid\u001b[39;49m:\n\u001b[0;32m      3\u001b[0m     \u001b[38;5;28mprint\u001b[39m(\u001b[38;5;124m'\u001b[39m\u001b[38;5;124m성공\u001b[39m\u001b[38;5;124m'\u001b[39m)\n",
      "File \u001b[1;32m~\\anaconda3\\lib\\site-packages\\pandas\\core\\generic.py:1527\u001b[0m, in \u001b[0;36mNDFrame.__nonzero__\u001b[1;34m(self)\u001b[0m\n\u001b[0;32m   1525\u001b[0m \u001b[38;5;129m@final\u001b[39m\n\u001b[0;32m   1526\u001b[0m \u001b[38;5;28;01mdef\u001b[39;00m \u001b[38;5;21m__nonzero__\u001b[39m(\u001b[38;5;28mself\u001b[39m):\n\u001b[1;32m-> 1527\u001b[0m     \u001b[38;5;28;01mraise\u001b[39;00m \u001b[38;5;167;01mValueError\u001b[39;00m(\n\u001b[0;32m   1528\u001b[0m         \u001b[38;5;124mf\u001b[39m\u001b[38;5;124m\"\u001b[39m\u001b[38;5;124mThe truth value of a \u001b[39m\u001b[38;5;132;01m{\u001b[39;00m\u001b[38;5;28mtype\u001b[39m(\u001b[38;5;28mself\u001b[39m)\u001b[38;5;241m.\u001b[39m\u001b[38;5;18m__name__\u001b[39m\u001b[38;5;132;01m}\u001b[39;00m\u001b[38;5;124m is ambiguous. \u001b[39m\u001b[38;5;124m\"\u001b[39m\n\u001b[0;32m   1529\u001b[0m         \u001b[38;5;124m\"\u001b[39m\u001b[38;5;124mUse a.empty, a.bool(), a.item(), a.any() or a.all().\u001b[39m\u001b[38;5;124m\"\u001b[39m\n\u001b[0;32m   1530\u001b[0m     )\n",
      "\u001b[1;31mValueError\u001b[0m: The truth value of a Series is ambiguous. Use a.empty, a.bool(), a.item(), a.any() or a.all()."
     ]
    }
   ],
   "source": [
    "id == 20\n",
    "if 20 == id:\n",
    "    print('성공')"
   ]
  },
  {
   "cell_type": "markdown",
   "id": "f8d67485",
   "metadata": {},
   "source": [
    "1     False\n",
    "\n",
    "2     False\n",
    "\n",
    "3     False\n",
    "\n",
    "4     False\n",
    "\n",
    "5     False\n",
    "\n",
    "6     False\n",
    "\n",
    "7     False\n",
    "\n",
    "8      True\n",
    "\n",
    "9     False\n",
    "\n",
    "10    False\n",
    "\n",
    "11    False\n",
    "\n",
    "이런 결과 값에서\n",
    "\n",
    "True or False or True ... \n",
    "\n",
    "이런 모습으로 만들고 싶다. \n",
    "이렇게 하면 하나만 출력이 되기 때문"
   ]
  },
  {
   "cell_type": "code",
   "execution_count": 107,
   "id": "a991f8f4",
   "metadata": {
    "ExecuteTime": {
     "end_time": "2023-01-11T13:20:41.898716Z",
     "start_time": "2023-01-11T13:20:41.885443Z"
    }
   },
   "outputs": [
    {
     "data": {
      "text/plain": [
       "True"
      ]
     },
     "execution_count": 107,
     "metadata": {},
     "output_type": "execute_result"
    }
   ],
   "source": [
    "# any() 함수는 잠재적으로 축을 통해 어떤 요소가 True인지 확인하는 데 사용됩니다.\n",
    "# https://www.w3resource.com/pandas/series/series-any.php\n",
    "(id == 20).any()"
   ]
  },
  {
   "cell_type": "code",
   "execution_count": 108,
   "id": "2ba6f9ee",
   "metadata": {
    "ExecuteTime": {
     "end_time": "2023-01-11T13:20:52.014645Z",
     "start_time": "2023-01-11T13:20:51.995660Z"
    }
   },
   "outputs": [
    {
     "name": "stdout",
     "output_type": "stream",
     "text": [
      "성공\n"
     ]
    }
   ],
   "source": [
    "if (20 == id).any():\n",
    "    print('성공')"
   ]
  },
  {
   "cell_type": "code",
   "execution_count": 110,
   "id": "78a2cb04",
   "metadata": {
    "ExecuteTime": {
     "end_time": "2023-01-11T13:21:45.319457Z",
     "start_time": "2023-01-11T13:21:45.304575Z"
    }
   },
   "outputs": [
    {
     "name": "stdout",
     "output_type": "stream",
     "text": [
      "실패\n"
     ]
    }
   ],
   "source": [
    "# all() 함수는 잠재적으로 축에 대해 모든 요소가 True인지 확인하는 데 사용됩니다.\n",
    "\n",
    "(id == 20).all()\n",
    "\n",
    "if (20 == id).all():\n",
    "    print('성공')\n",
    "else:\n",
    "    print('실패')"
   ]
  },
  {
   "cell_type": "code",
   "execution_count": 111,
   "id": "eba00452",
   "metadata": {
    "ExecuteTime": {
     "end_time": "2023-01-11T13:22:44.516821Z",
     "start_time": "2023-01-11T13:22:44.490786Z"
    }
   },
   "outputs": [
    {
     "name": "stdout",
     "output_type": "stream",
     "text": [
      "부서가 없습니다\n"
     ]
    }
   ],
   "source": [
    "x = 120 \n",
    "id = Series(list(set(emp['DEPARTMENT_ID'])))\n",
    "id = id[pd.notnull(id)]\n",
    "\n",
    "\n",
    "if (x==id).any():\n",
    "    print(emp[emp['DEPARTMENT_ID']==x]['SALARY'].sum())\n",
    "elif pd.isnull(x):\n",
    "    print('부서코드를 입력해주세요')\n",
    "else:\n",
    "    print('부서가 없습니다')"
   ]
  },
  {
   "cell_type": "code",
   "execution_count": 114,
   "id": "9142a66f",
   "metadata": {
    "ExecuteTime": {
     "end_time": "2023-01-11T13:24:55.193828Z",
     "start_time": "2023-01-11T13:24:55.177824Z"
    }
   },
   "outputs": [],
   "source": [
    "# 함수 만들기 \n",
    "\n",
    "def dept_sal_sum(arg):\n",
    "    # 데이터 불러오기\n",
    "    emp = pd.read_csv(\"c:/data/employees.csv\")\n",
    "    \n",
    "    id = Series(list(set(emp['DEPARTMENT_ID'])))\n",
    "    id = id[pd.notnull(id)]\n",
    "    \n",
    "    if (arg==id).any():\n",
    "        print(emp[emp['DEPARTMENT_ID']==arg]['SALARY'].sum())\n",
    "    elif pd.isnull(arg):\n",
    "        print('부서 코드를 입력해주세요.')\n",
    "    else:\n",
    "        print('부서가 없습니다')\n",
    "        return "
   ]
  },
  {
   "cell_type": "code",
   "execution_count": 115,
   "id": "2d4af8e5",
   "metadata": {
    "ExecuteTime": {
     "end_time": "2023-01-11T13:24:56.814036Z",
     "start_time": "2023-01-11T13:24:56.791032Z"
    }
   },
   "outputs": [
    {
     "name": "stdout",
     "output_type": "stream",
     "text": [
      "51608\n"
     ]
    }
   ],
   "source": [
    "dept_sal_sum(100)"
   ]
  },
  {
   "cell_type": "code",
   "execution_count": 116,
   "id": "70b453e7",
   "metadata": {
    "ExecuteTime": {
     "end_time": "2023-01-11T13:25:01.777683Z",
     "start_time": "2023-01-11T13:25:01.762658Z"
    }
   },
   "outputs": [
    {
     "name": "stdout",
     "output_type": "stream",
     "text": [
      "부서가 없습니다\n"
     ]
    }
   ],
   "source": [
    "dept_sal_sum(120)"
   ]
  },
  {
   "cell_type": "code",
   "execution_count": 122,
   "id": "e40d87c0",
   "metadata": {
    "ExecuteTime": {
     "end_time": "2023-01-11T13:25:38.250080Z",
     "start_time": "2023-01-11T13:25:38.235153Z"
    }
   },
   "outputs": [
    {
     "name": "stdout",
     "output_type": "stream",
     "text": [
      "부서 코드를 입력해주세요.\n"
     ]
    }
   ],
   "source": [
    "dept_sal_sum(None)"
   ]
  },
  {
   "cell_type": "markdown",
   "id": "4224c2f6",
   "metadata": {},
   "source": [
    "**any말고 다른 솔루션**"
   ]
  },
  {
   "cell_type": "code",
   "execution_count": 124,
   "id": "c44f6deb",
   "metadata": {
    "ExecuteTime": {
     "end_time": "2023-01-11T13:26:21.466776Z",
     "start_time": "2023-01-11T13:26:21.429665Z"
    },
    "scrolled": true
   },
   "outputs": [
    {
     "ename": "AttributeError",
     "evalue": "'list' object has no attribute 'any'",
     "output_type": "error",
     "traceback": [
      "\u001b[1;31m---------------------------------------------------------------------------\u001b[0m",
      "\u001b[1;31mAttributeError\u001b[0m                            Traceback (most recent call last)",
      "Cell \u001b[1;32mIn[124], line 2\u001b[0m\n\u001b[0;32m      1\u001b[0m b \u001b[38;5;241m=\u001b[39m [\u001b[38;5;28;01mTrue\u001b[39;00m, \u001b[38;5;28;01mFalse\u001b[39;00m, \u001b[38;5;28;01mTrue\u001b[39;00m]\n\u001b[1;32m----> 2\u001b[0m \u001b[43mb\u001b[49m\u001b[38;5;241;43m.\u001b[39;49m\u001b[43many\u001b[49m()\n",
      "\u001b[1;31mAttributeError\u001b[0m: 'list' object has no attribute 'any'"
     ]
    }
   ],
   "source": [
    "b = [True, False, True]\n",
    "b.any() # 오류, Series용 함수라서 시리즈로 사용해야 함"
   ]
  },
  {
   "cell_type": "code",
   "execution_count": 125,
   "id": "86c632f1",
   "metadata": {
    "ExecuteTime": {
     "end_time": "2023-01-11T13:26:31.948685Z",
     "start_time": "2023-01-11T13:26:31.928669Z"
    }
   },
   "outputs": [
    {
     "data": {
      "text/plain": [
       "False"
      ]
     },
     "execution_count": 125,
     "metadata": {},
     "output_type": "execute_result"
    }
   ],
   "source": [
    "b = Series([True,False,True])\n",
    "b.any() \n",
    "b.all()"
   ]
  },
  {
   "cell_type": "code",
   "execution_count": 126,
   "id": "ff63730c",
   "metadata": {
    "ExecuteTime": {
     "end_time": "2023-01-11T13:26:56.409657Z",
     "start_time": "2023-01-11T13:26:56.388385Z"
    }
   },
   "outputs": [
    {
     "data": {
      "text/plain": [
       "1     100.0\n",
       "2      70.0\n",
       "3      40.0\n",
       "4      10.0\n",
       "5     110.0\n",
       "6      80.0\n",
       "7      50.0\n",
       "8      20.0\n",
       "9      90.0\n",
       "10     60.0\n",
       "11     30.0\n",
       "dtype: float64"
      ]
     },
     "execution_count": 126,
     "metadata": {},
     "output_type": "execute_result"
    }
   ],
   "source": [
    "id = Series(list(set(emp['DEPARTMENT_ID'])))\n",
    "id = id[pd.notnull(id)]\n",
    "id"
   ]
  },
  {
   "cell_type": "code",
   "execution_count": 127,
   "id": "35a2f94a",
   "metadata": {
    "ExecuteTime": {
     "end_time": "2023-01-11T13:27:00.173593Z",
     "start_time": "2023-01-11T13:27:00.156587Z"
    }
   },
   "outputs": [
    {
     "data": {
      "text/plain": [
       "False"
      ]
     },
     "execution_count": 127,
     "metadata": {},
     "output_type": "execute_result"
    }
   ],
   "source": [
    "20 in id # 안나옴 "
   ]
  },
  {
   "cell_type": "code",
   "execution_count": 128,
   "id": "97eddd79",
   "metadata": {
    "ExecuteTime": {
     "end_time": "2023-01-11T13:27:18.766724Z",
     "start_time": "2023-01-11T13:27:18.753722Z"
    }
   },
   "outputs": [
    {
     "data": {
      "text/plain": [
       "True"
      ]
     },
     "execution_count": 128,
     "metadata": {},
     "output_type": "execute_result"
    }
   ],
   "source": [
    "20 in list(id) # in을 써야 할 때는 list로 형변환을 해야한다"
   ]
  },
  {
   "cell_type": "code",
   "execution_count": 129,
   "id": "c38bc8d6",
   "metadata": {
    "ExecuteTime": {
     "end_time": "2023-01-11T13:37:40.374049Z",
     "start_time": "2023-01-11T13:37:40.361047Z"
    }
   },
   "outputs": [],
   "source": [
    "def dept_sal_sum(arg):\n",
    "    # 데이터 불러오기\n",
    "    emp = pd.read_csv(\"c:/data/employees.csv\")\n",
    "    \n",
    "    id = Series(list(set(emp['DEPARTMENT_ID'])))\n",
    "    id = id[pd.notnull(id)]\n",
    "    \n",
    "    if arg in list(id):\n",
    "        print(emp[emp['DEPARTMENT_ID']==arg]['SALARY'].sum())\n",
    "    elif pd.isnull(arg):\n",
    "        print('부서 코드를 입력해주세요.')\n",
    "    else:\n",
    "        print('부서가 없습니다')\n",
    "        return "
   ]
  },
  {
   "cell_type": "markdown",
   "id": "3badbd98",
   "metadata": {
    "ExecuteTime": {
     "end_time": "2023-01-11T13:37:46.217358Z",
     "start_time": "2023-01-11T13:37:46.197346Z"
    }
   },
   "source": [
    "**set을 이용하지 않고 유일한 부서 값을 넣은 list 함수 만들기**"
   ]
  },
  {
   "cell_type": "code",
   "execution_count": 146,
   "id": "88f6fee2",
   "metadata": {
    "ExecuteTime": {
     "end_time": "2023-01-11T13:42:34.241712Z",
     "start_time": "2023-01-11T13:42:34.221976Z"
    }
   },
   "outputs": [
    {
     "data": {
      "text/plain": [
       "[10.0, 20.0, 30.0, 40.0, 50.0, 60.0, 70.0, 80.0, 90.0, 100.0, nan, 110.0]"
      ]
     },
     "execution_count": 146,
     "metadata": {},
     "output_type": "execute_result"
    }
   ],
   "source": [
    "# solution 1  \n",
    "\n",
    "dept_unique = []\n",
    "for i in emp['DEPARTMENT_ID']:\n",
    "    if i not in dept_unique:\n",
    "        dept_unique.append(i)\n",
    "\n",
    "sorted(dept_unique)"
   ]
  },
  {
   "cell_type": "code",
   "execution_count": 149,
   "id": "e3c6e34a",
   "metadata": {
    "ExecuteTime": {
     "end_time": "2023-01-11T13:43:20.123798Z",
     "start_time": "2023-01-11T13:43:20.114794Z"
    }
   },
   "outputs": [
    {
     "data": {
      "text/plain": [
       "dict_keys([90.0, 60.0, 100.0, 30.0, 50.0, 80.0, nan, 10.0, 20.0, 40.0, 70.0, 110.0])"
      ]
     },
     "execution_count": 149,
     "metadata": {},
     "output_type": "execute_result"
    }
   ],
   "source": [
    "# solution 2 -- 딕셔너리로 반환 \n",
    "\n",
    "import collections \n",
    "\n",
    "collections.Counter(emp['DEPARTMENT_ID']).keys()"
   ]
  },
  {
   "cell_type": "code",
   "execution_count": 150,
   "id": "14410dc8",
   "metadata": {
    "ExecuteTime": {
     "end_time": "2023-01-11T13:45:11.194645Z",
     "start_time": "2023-01-11T13:45:11.179642Z"
    }
   },
   "outputs": [
    {
     "data": {
      "text/plain": [
       "array([ 90.,  60., 100.,  30.,  50.,  80.,  nan,  10.,  20.,  40.,  70.,\n",
       "       110.])"
      ]
     },
     "execution_count": 150,
     "metadata": {},
     "output_type": "execute_result"
    }
   ],
   "source": [
    "# solution 3 -- array로 반환 \n",
    "\n",
    "emp['DEPARTMENT_ID'].unique()"
   ]
  },
  {
   "cell_type": "code",
   "execution_count": 152,
   "id": "5bf77961",
   "metadata": {
    "ExecuteTime": {
     "end_time": "2023-01-11T13:46:58.039564Z",
     "start_time": "2023-01-11T13:46:58.020558Z"
    }
   },
   "outputs": [
    {
     "data": {
      "text/plain": [
       "True"
      ]
     },
     "execution_count": 152,
     "metadata": {},
     "output_type": "execute_result"
    }
   ],
   "source": [
    "# 이미 array안에 list 모습으로 들어가있기 때문에 바로 in을 사용해서 수행해도 됨 \n",
    "\n",
    "20 in emp['DEPARTMENT_ID'].unique()"
   ]
  },
  {
   "cell_type": "code",
   "execution_count": 153,
   "id": "96dba878",
   "metadata": {
    "ExecuteTime": {
     "end_time": "2023-01-11T13:47:21.437591Z",
     "start_time": "2023-01-11T13:47:21.418535Z"
    }
   },
   "outputs": [],
   "source": [
    "def dept_sal_sum(arg):\n",
    "    # 데이터 불러오기\n",
    "    emp = pd.read_csv(\"c:/data/employees.csv\")\n",
    "    \n",
    "    id = emp['DEPARTMENT_ID'].unique()\n",
    "    id = id[pd.notnull(id)]\n",
    "    \n",
    "    if arg in id:\n",
    "        print(emp[emp['DEPARTMENT_ID']==arg]['SALARY'].sum())\n",
    "    elif pd.isnull(arg):\n",
    "        print('부서 코드를 입력해주세요.')\n",
    "    else:\n",
    "        print('부서가 없습니다')\n",
    "        return "
   ]
  },
  {
   "cell_type": "code",
   "execution_count": 154,
   "id": "747fd9c7",
   "metadata": {
    "ExecuteTime": {
     "end_time": "2023-01-11T13:47:30.626125Z",
     "start_time": "2023-01-11T13:47:30.597072Z"
    }
   },
   "outputs": [
    {
     "name": "stdout",
     "output_type": "stream",
     "text": [
      "부서 코드를 입력해주세요.\n"
     ]
    }
   ],
   "source": [
    "dept_sal_sum(None)"
   ]
  }
 ],
 "metadata": {
  "hide_input": false,
  "kernelspec": {
   "display_name": "Python 3 (ipykernel)",
   "language": "python",
   "name": "python3"
  },
  "language_info": {
   "codemirror_mode": {
    "name": "ipython",
    "version": 3
   },
   "file_extension": ".py",
   "mimetype": "text/x-python",
   "name": "python",
   "nbconvert_exporter": "python",
   "pygments_lexer": "ipython3",
   "version": "3.8.15"
  },
  "toc": {
   "base_numbering": 1,
   "nav_menu": {},
   "number_sections": true,
   "sideBar": true,
   "skip_h1_title": false,
   "title_cell": "Table of Contents",
   "title_sidebar": "Contents",
   "toc_cell": false,
   "toc_position": {},
   "toc_section_display": true,
   "toc_window_display": false
  },
  "varInspector": {
   "cols": {
    "lenName": 16,
    "lenType": 16,
    "lenVar": 40
   },
   "kernels_config": {
    "python": {
     "delete_cmd_postfix": "",
     "delete_cmd_prefix": "del ",
     "library": "var_list.py",
     "varRefreshCmd": "print(var_dic_list())"
    },
    "r": {
     "delete_cmd_postfix": ") ",
     "delete_cmd_prefix": "rm(",
     "library": "var_list.r",
     "varRefreshCmd": "cat(var_dic_list()) "
    }
   },
   "types_to_exclude": [
    "module",
    "function",
    "builtin_function_or_method",
    "instance",
    "_Feature"
   ],
   "window_display": false
  }
 },
 "nbformat": 4,
 "nbformat_minor": 5
}
