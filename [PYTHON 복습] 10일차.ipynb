{
 "cells": [
  {
   "cell_type": "markdown",
   "id": "0beb875d",
   "metadata": {},
   "source": [
    "## 문제 풀이"
   ]
  },
  {
   "cell_type": "markdown",
   "id": "b395d811",
   "metadata": {
    "heading_collapsed": true
   },
   "source": [
    "### [문제105] yob2013 ~ yob2016 년도별 출생수를 출력해주세요."
   ]
  },
  {
   "cell_type": "code",
   "execution_count": 16,
   "id": "fc24a6c6",
   "metadata": {
    "ExecuteTime": {
     "end_time": "2023-01-01T04:53:19.539479Z",
     "start_time": "2023-01-01T04:53:19.395463Z"
    },
    "hidden": true
   },
   "outputs": [
    {
     "data": {
      "text/plain": [
       "[[2013, 3634744], [2014, 3692930], [2015, 3683749], [2016, 3637321]]"
      ]
     },
     "execution_count": 16,
     "metadata": {},
     "output_type": "execute_result"
    }
   ],
   "source": [
    "import pandas as pd \n",
    "\n",
    "# for문 활용 \n",
    "\n",
    "years = []\n",
    "\n",
    "for i in range(2013,2017):\n",
    "    df = pd.read_csv(\"c:/data/yob{}.txt\".format(i), names = ['name','gender','birth'])\n",
    "    years.append([i,df['birth'].sum()])\n",
    "\n",
    "years"
   ]
  },
  {
   "cell_type": "code",
   "execution_count": 17,
   "id": "7d42bee6",
   "metadata": {
    "ExecuteTime": {
     "end_time": "2023-01-01T04:54:23.362230Z",
     "start_time": "2023-01-01T04:54:23.336226Z"
    },
    "hidden": true
   },
   "outputs": [],
   "source": [
    "# 연도별 birth.sum()을 txt로 저장하기\n",
    "\n",
    "with open(\"c:/data/years.txt\",\"w\") as file:\n",
    "    for i, j in years:\n",
    "        data = '{},{}\\n'.format(i,j)\n",
    "        file.write(data)"
   ]
  },
  {
   "cell_type": "markdown",
   "id": "274a8a5c",
   "metadata": {
    "heading_collapsed": true
   },
   "source": [
    "### [문제106] yob2013 ~ yob2016 성별 출생 현황을 year_gender_total.csv 파일로 생성해주세요."
   ]
  },
  {
   "cell_type": "code",
   "execution_count": 18,
   "id": "65493eb3",
   "metadata": {
    "ExecuteTime": {
     "end_time": "2023-01-01T04:57:28.339568Z",
     "start_time": "2023-01-01T04:57:28.156973Z"
    },
    "hidden": true
   },
   "outputs": [],
   "source": [
    "# solution 1 : file에 틀을 만들고 시작\n",
    "\n",
    "file = open(\"c:/data/yaer_gender_total.csv\",\"w\")\n",
    "file.write(\"년도,남자,여자\\n\")\n",
    "\n",
    "for i in range(2013,2017):\n",
    "    temp = pd.read_csv(\"c:/data/yob{}.txt\".format(i), names = ['name','gender','birth'])\n",
    "    m = temp[temp['gender'] == 'M']['birth'].sum()\n",
    "    f = temp[temp['gender'] == 'F']['birth'].sum()\n",
    "    txt = '{},{}.{}\\n'.format(i,m,f)\n",
    "    file.write(txt)\n",
    "\n",
    "file.close()"
   ]
  },
  {
   "cell_type": "code",
   "execution_count": 20,
   "id": "8c4f55e5",
   "metadata": {
    "ExecuteTime": {
     "end_time": "2023-01-01T05:00:01.994936Z",
     "start_time": "2023-01-01T05:00:01.832964Z"
    },
    "hidden": true
   },
   "outputs": [],
   "source": [
    "# solution 2 : csv file로 직접 쓰는 방법 \n",
    "\n",
    "import csv \n",
    "\n",
    "# newline : 빈 공백줄 없애기\n",
    "\n",
    "with open(\"c:/data/year_gender_total_new.csv\",\"w\",newline=\"\" ) as file:\n",
    "    w = csv.writer(file)\n",
    "    w.writerow(['년도','여자','남자']) # 행 추가 \n",
    "    \n",
    "    for i in range(2013,2017):\n",
    "        temp = pd.read_csv('c:/data/yob{}.txt'.format(i),names=['name','gender','birth'])\n",
    "        x = temp['birth'].groupby(temp['gender']).sum() #collections.Counter 한거랑 같겠다\n",
    "        w.writerow([i,x.loc['F'],x.loc['M']]) # 차례대로 행 추가하기 "
   ]
  },
  {
   "cell_type": "code",
   "execution_count": 25,
   "id": "faa0fa48",
   "metadata": {
    "ExecuteTime": {
     "end_time": "2023-01-01T05:03:48.609690Z",
     "start_time": "2023-01-01T05:03:48.448623Z"
    },
    "hidden": true
   },
   "outputs": [
    {
     "name": "stderr",
     "output_type": "stream",
     "text": [
      "C:\\Users\\82108\\AppData\\Local\\Temp\\ipykernel_13564\\1133679798.py:17: FutureWarning: The frame.append method is deprecated and will be removed from pandas in a future version. Use pandas.concat instead.\n",
      "  df = df.append({'년도':i,'여자':x.loc['F'], '남자':x.loc['M']},ignore_index=True)\n",
      "C:\\Users\\82108\\AppData\\Local\\Temp\\ipykernel_13564\\1133679798.py:17: FutureWarning: The frame.append method is deprecated and will be removed from pandas in a future version. Use pandas.concat instead.\n",
      "  df = df.append({'년도':i,'여자':x.loc['F'], '남자':x.loc['M']},ignore_index=True)\n",
      "C:\\Users\\82108\\AppData\\Local\\Temp\\ipykernel_13564\\1133679798.py:17: FutureWarning: The frame.append method is deprecated and will be removed from pandas in a future version. Use pandas.concat instead.\n",
      "  df = df.append({'년도':i,'여자':x.loc['F'], '남자':x.loc['M']},ignore_index=True)\n",
      "C:\\Users\\82108\\AppData\\Local\\Temp\\ipykernel_13564\\1133679798.py:17: FutureWarning: The frame.append method is deprecated and will be removed from pandas in a future version. Use pandas.concat instead.\n",
      "  df = df.append({'년도':i,'여자':x.loc['F'], '남자':x.loc['M']},ignore_index=True)\n"
     ]
    }
   ],
   "source": [
    "# solution 3 : df로 만들기 \n",
    "## ignore_index = True, 안하면 오류가 뜹니다 \n",
    "### 기존 df가 가지고 있는 index, 새로운 df가 가지고 있는 index가 충돌하기 때문에 기존 df가 가지고 있는 index를 무시하자 라는 명령을 넣어야 한다\n",
    "## x.to_csv : 데이터 프레임을 csv 파일로 떨어트려야 할때\n",
    "\n",
    "from pandas import Series, DataFrame \n",
    "\n",
    "new= DataFrame() # 빈 df 만들기 가능 \n",
    "new\n",
    "\n",
    "df = DataFrame(columns = ['년도','여자','남자'])\n",
    "df\n",
    "\n",
    "for i in range(2013,2017):\n",
    "    temp = pd.read_csv('c:/data/yob{}.txt'.format(i),names = ['name','gender','birth'])\n",
    "    x = temp['birth'].groupby(temp['gender']).sum()\n",
    "    df = df.append({'년도':i,'여자':x.loc['F'], '남자':x.loc['M']},ignore_index=True)     "
   ]
  },
  {
   "cell_type": "code",
   "execution_count": 26,
   "id": "fce260b6",
   "metadata": {
    "ExecuteTime": {
     "end_time": "2023-01-01T05:04:13.884398Z",
     "start_time": "2023-01-01T05:04:13.855405Z"
    },
    "hidden": true
   },
   "outputs": [],
   "source": [
    "## ★to_csv: pandas에서  제공, df를 csv 파일로 떨어트려야 할 때 (더 쉬움)\n",
    "\n",
    "df.to_csv(\"c:/data/new.csv\",index=False)"
   ]
  },
  {
   "cell_type": "markdown",
   "id": "7995d761",
   "metadata": {
    "hidden": true
   },
   "source": [
    "**file을 열때 주의**\n",
    "\n",
    "없는 파일까지 포함해서 열려고 하면\n",
    "\n",
    "*FileNotFoundError: [Errno 2] No such file or directory: 'c:/data/yob1995.txt'*\n",
    "이런 에러가 뜬다."
   ]
  },
  {
   "cell_type": "markdown",
   "id": "031a7cae",
   "metadata": {
    "heading_collapsed": true
   },
   "source": [
    "### [문제 108] 자신의 부서 평균 급여보다 더 많이 받는 사원들의 EMPLOYEE_ID, SALARY, AVG_SAL, DEPARTMENT_ID, DEPARTMENT_NAME 정보를 파일로 저장해주세요 "
   ]
  },
  {
   "cell_type": "code",
   "execution_count": 31,
   "id": "270268ac",
   "metadata": {
    "ExecuteTime": {
     "end_time": "2023-01-01T05:10:32.307162Z",
     "start_time": "2023-01-01T05:10:32.248071Z"
    },
    "hidden": true
   },
   "outputs": [],
   "source": [
    "# 데이터 불러오기\n",
    "\n",
    "emp = pd.read_csv(\"c:/data/employees.csv\")\n",
    "dept = pd.read_csv(\"c:/data/departments.csv\")"
   ]
  },
  {
   "cell_type": "code",
   "execution_count": 33,
   "id": "18ef6610",
   "metadata": {
    "ExecuteTime": {
     "end_time": "2023-01-01T05:10:47.110802Z",
     "start_time": "2023-01-01T05:10:47.083794Z"
    },
    "hidden": true
   },
   "outputs": [
    {
     "data": {
      "text/html": [
       "<div>\n",
       "<style scoped>\n",
       "    .dataframe tbody tr th:only-of-type {\n",
       "        vertical-align: middle;\n",
       "    }\n",
       "\n",
       "    .dataframe tbody tr th {\n",
       "        vertical-align: top;\n",
       "    }\n",
       "\n",
       "    .dataframe thead th {\n",
       "        text-align: right;\n",
       "    }\n",
       "</style>\n",
       "<table border=\"1\" class=\"dataframe\">\n",
       "  <thead>\n",
       "    <tr style=\"text-align: right;\">\n",
       "      <th></th>\n",
       "      <th>EMPLOYEE_ID</th>\n",
       "      <th>FIRST_NAME</th>\n",
       "      <th>LAST_NAME</th>\n",
       "      <th>EMAIL</th>\n",
       "      <th>PHONE_NUMBER</th>\n",
       "      <th>HIRE_DATE</th>\n",
       "      <th>JOB_ID</th>\n",
       "      <th>SALARY</th>\n",
       "      <th>COMMISSION_PCT</th>\n",
       "      <th>MANAGER_ID</th>\n",
       "      <th>DEPARTMENT_ID</th>\n",
       "    </tr>\n",
       "  </thead>\n",
       "  <tbody>\n",
       "    <tr>\n",
       "      <th>0</th>\n",
       "      <td>100</td>\n",
       "      <td>Steven</td>\n",
       "      <td>King</td>\n",
       "      <td>SKING</td>\n",
       "      <td>515.123.4567</td>\n",
       "      <td>2003-06-17</td>\n",
       "      <td>AD_PRES</td>\n",
       "      <td>24000</td>\n",
       "      <td>NaN</td>\n",
       "      <td>NaN</td>\n",
       "      <td>90.0</td>\n",
       "    </tr>\n",
       "    <tr>\n",
       "      <th>1</th>\n",
       "      <td>101</td>\n",
       "      <td>Neena</td>\n",
       "      <td>Kochhar</td>\n",
       "      <td>NKOCHHAR</td>\n",
       "      <td>515.123.4568</td>\n",
       "      <td>2005-09-21</td>\n",
       "      <td>AD_VP</td>\n",
       "      <td>17000</td>\n",
       "      <td>NaN</td>\n",
       "      <td>100.0</td>\n",
       "      <td>90.0</td>\n",
       "    </tr>\n",
       "    <tr>\n",
       "      <th>2</th>\n",
       "      <td>102</td>\n",
       "      <td>Lex</td>\n",
       "      <td>De Haan</td>\n",
       "      <td>LDEHAAN</td>\n",
       "      <td>515.123.4569</td>\n",
       "      <td>2001-01-13</td>\n",
       "      <td>AD_VP</td>\n",
       "      <td>17000</td>\n",
       "      <td>NaN</td>\n",
       "      <td>100.0</td>\n",
       "      <td>90.0</td>\n",
       "    </tr>\n",
       "    <tr>\n",
       "      <th>3</th>\n",
       "      <td>103</td>\n",
       "      <td>Alexander</td>\n",
       "      <td>Hunold</td>\n",
       "      <td>AHUNOLD</td>\n",
       "      <td>590.423.4567</td>\n",
       "      <td>2006-01-03</td>\n",
       "      <td>IT_PROG</td>\n",
       "      <td>9000</td>\n",
       "      <td>NaN</td>\n",
       "      <td>102.0</td>\n",
       "      <td>60.0</td>\n",
       "    </tr>\n",
       "    <tr>\n",
       "      <th>4</th>\n",
       "      <td>104</td>\n",
       "      <td>Bruce</td>\n",
       "      <td>Ernst</td>\n",
       "      <td>BERNST</td>\n",
       "      <td>590.423.4568</td>\n",
       "      <td>2007-05-21</td>\n",
       "      <td>IT_PROG</td>\n",
       "      <td>6000</td>\n",
       "      <td>NaN</td>\n",
       "      <td>103.0</td>\n",
       "      <td>60.0</td>\n",
       "    </tr>\n",
       "  </tbody>\n",
       "</table>\n",
       "</div>"
      ],
      "text/plain": [
       "   EMPLOYEE_ID FIRST_NAME LAST_NAME     EMAIL  PHONE_NUMBER   HIRE_DATE  \\\n",
       "0          100     Steven      King     SKING  515.123.4567  2003-06-17   \n",
       "1          101      Neena   Kochhar  NKOCHHAR  515.123.4568  2005-09-21   \n",
       "2          102        Lex   De Haan   LDEHAAN  515.123.4569  2001-01-13   \n",
       "3          103  Alexander    Hunold   AHUNOLD  590.423.4567  2006-01-03   \n",
       "4          104      Bruce     Ernst    BERNST  590.423.4568  2007-05-21   \n",
       "\n",
       "    JOB_ID  SALARY  COMMISSION_PCT  MANAGER_ID  DEPARTMENT_ID  \n",
       "0  AD_PRES   24000             NaN         NaN           90.0  \n",
       "1    AD_VP   17000             NaN       100.0           90.0  \n",
       "2    AD_VP   17000             NaN       100.0           90.0  \n",
       "3  IT_PROG    9000             NaN       102.0           60.0  \n",
       "4  IT_PROG    6000             NaN       103.0           60.0  "
      ]
     },
     "execution_count": 33,
     "metadata": {},
     "output_type": "execute_result"
    }
   ],
   "source": [
    "# 데이터 확인하기\n",
    "emp.head()"
   ]
  },
  {
   "cell_type": "code",
   "execution_count": 34,
   "id": "696f03a2",
   "metadata": {
    "ExecuteTime": {
     "end_time": "2023-01-01T05:10:51.756801Z",
     "start_time": "2023-01-01T05:10:51.731796Z"
    },
    "hidden": true
   },
   "outputs": [
    {
     "data": {
      "text/html": [
       "<div>\n",
       "<style scoped>\n",
       "    .dataframe tbody tr th:only-of-type {\n",
       "        vertical-align: middle;\n",
       "    }\n",
       "\n",
       "    .dataframe tbody tr th {\n",
       "        vertical-align: top;\n",
       "    }\n",
       "\n",
       "    .dataframe thead th {\n",
       "        text-align: right;\n",
       "    }\n",
       "</style>\n",
       "<table border=\"1\" class=\"dataframe\">\n",
       "  <thead>\n",
       "    <tr style=\"text-align: right;\">\n",
       "      <th></th>\n",
       "      <th>DEPARTMENT_ID</th>\n",
       "      <th>DEPARTMENT_NAME</th>\n",
       "      <th>MANAGER_ID</th>\n",
       "      <th>LOCATION_ID</th>\n",
       "    </tr>\n",
       "  </thead>\n",
       "  <tbody>\n",
       "    <tr>\n",
       "      <th>0</th>\n",
       "      <td>10</td>\n",
       "      <td>Administration</td>\n",
       "      <td>200.0</td>\n",
       "      <td>1700</td>\n",
       "    </tr>\n",
       "    <tr>\n",
       "      <th>1</th>\n",
       "      <td>20</td>\n",
       "      <td>Marketing</td>\n",
       "      <td>201.0</td>\n",
       "      <td>1800</td>\n",
       "    </tr>\n",
       "    <tr>\n",
       "      <th>2</th>\n",
       "      <td>30</td>\n",
       "      <td>Purchasing</td>\n",
       "      <td>114.0</td>\n",
       "      <td>1700</td>\n",
       "    </tr>\n",
       "    <tr>\n",
       "      <th>3</th>\n",
       "      <td>40</td>\n",
       "      <td>Human Resources</td>\n",
       "      <td>203.0</td>\n",
       "      <td>2400</td>\n",
       "    </tr>\n",
       "    <tr>\n",
       "      <th>4</th>\n",
       "      <td>50</td>\n",
       "      <td>Shipping</td>\n",
       "      <td>121.0</td>\n",
       "      <td>1500</td>\n",
       "    </tr>\n",
       "  </tbody>\n",
       "</table>\n",
       "</div>"
      ],
      "text/plain": [
       "   DEPARTMENT_ID  DEPARTMENT_NAME  MANAGER_ID  LOCATION_ID\n",
       "0             10   Administration       200.0         1700\n",
       "1             20        Marketing       201.0         1800\n",
       "2             30       Purchasing       114.0         1700\n",
       "3             40  Human Resources       203.0         2400\n",
       "4             50         Shipping       121.0         1500"
      ]
     },
     "execution_count": 34,
     "metadata": {},
     "output_type": "execute_result"
    }
   ],
   "source": [
    "dept.head()"
   ]
  },
  {
   "cell_type": "code",
   "execution_count": 36,
   "id": "d25f86a0",
   "metadata": {
    "ExecuteTime": {
     "end_time": "2023-01-01T05:11:35.774594Z",
     "start_time": "2023-01-01T05:11:35.750586Z"
    },
    "hidden": true
   },
   "outputs": [
    {
     "data": {
      "text/plain": [
       "DEPARTMENT_ID\n",
       "10.0      4400\n",
       "20.0      9500\n",
       "30.0      4150\n",
       "40.0      6500\n",
       "50.0      3475\n",
       "60.0      5760\n",
       "70.0     10000\n",
       "80.0      8955\n",
       "90.0     19333\n",
       "100.0     8601\n",
       "110.0    10154\n",
       "Name: SALARY, dtype: int32"
      ]
     },
     "execution_count": 36,
     "metadata": {},
     "output_type": "execute_result"
    }
   ],
   "source": [
    "# solution 1 \n",
    "\n",
    "# step 1 : 부서별 평균을 만들기 \n",
    "\n",
    "dept_sal = emp['SALARY'].groupby(emp['DEPARTMENT_ID']).mean()\n",
    "dept_sal.astype(int)"
   ]
  },
  {
   "cell_type": "code",
   "execution_count": 38,
   "id": "05506e03",
   "metadata": {
    "ExecuteTime": {
     "end_time": "2023-01-01T05:12:20.690091Z",
     "start_time": "2023-01-01T05:12:20.655087Z"
    },
    "hidden": true
   },
   "outputs": [
    {
     "name": "stdout",
     "output_type": "stream",
     "text": [
      "<class 'pandas.core.frame.DataFrame'>\n",
      "Int64Index: 106 entries, 100 to 106\n",
      "Data columns (total 12 columns):\n",
      " #   Column          Non-Null Count  Dtype  \n",
      "---  ------          --------------  -----  \n",
      " 0   SALARY_x        106 non-null    float64\n",
      " 1   EMPLOYEE_ID     106 non-null    int64  \n",
      " 2   FIRST_NAME      106 non-null    object \n",
      " 3   LAST_NAME       106 non-null    object \n",
      " 4   EMAIL           106 non-null    object \n",
      " 5   PHONE_NUMBER    106 non-null    object \n",
      " 6   HIRE_DATE       106 non-null    object \n",
      " 7   JOB_ID          106 non-null    object \n",
      " 8   SALARY_y        106 non-null    int64  \n",
      " 9   COMMISSION_PCT  34 non-null     float64\n",
      " 10  MANAGER_ID      105 non-null    float64\n",
      " 11  DEPARTMENT_ID   106 non-null    float64\n",
      "dtypes: float64(4), int64(2), object(6)\n",
      "memory usage: 10.8+ KB\n"
     ]
    }
   ],
   "source": [
    "# step 2 : avg_sal이랑 salary랑 비교하기 위해서 merge 시켜주기\n",
    "\n",
    "y = pd.merge(dept_sal, emp, left_index = True, right_on = 'DEPARTMENT_ID')\n",
    "y.info() # 똑같은 컬럼명이 있으면 x,y로 분리한다 "
   ]
  },
  {
   "cell_type": "code",
   "execution_count": 39,
   "id": "a76ead53",
   "metadata": {
    "ExecuteTime": {
     "end_time": "2023-01-01T05:13:22.442187Z",
     "start_time": "2023-01-01T05:13:22.408174Z"
    },
    "hidden": true
   },
   "outputs": [
    {
     "name": "stdout",
     "output_type": "stream",
     "text": [
      "<class 'pandas.core.frame.DataFrame'>\n",
      "Int64Index: 106 entries, 100 to 106\n",
      "Data columns (total 12 columns):\n",
      " #   Column          Non-Null Count  Dtype  \n",
      "---  ------          --------------  -----  \n",
      " 0   AVG_SAL         106 non-null    float64\n",
      " 1   EMPLOYEE_ID     106 non-null    int64  \n",
      " 2   FIRST_NAME      106 non-null    object \n",
      " 3   LAST_NAME       106 non-null    object \n",
      " 4   EMAIL           106 non-null    object \n",
      " 5   PHONE_NUMBER    106 non-null    object \n",
      " 6   HIRE_DATE       106 non-null    object \n",
      " 7   JOB_ID          106 non-null    object \n",
      " 8   SALARY          106 non-null    int64  \n",
      " 9   COMMISSION_PCT  34 non-null     float64\n",
      " 10  MANAGER_ID      105 non-null    float64\n",
      " 11  DEPARTMENT_ID   106 non-null    float64\n",
      "dtypes: float64(4), int64(2), object(6)\n",
      "memory usage: 10.8+ KB\n"
     ]
    }
   ],
   "source": [
    "# SALARY 이름 변경\n",
    "\n",
    "y = y.rename(columns = {'SALARY_x':'AVG_SAL'})\n",
    "y = y.rename(columns = {'SALARY_y':'SALARY'})\n",
    "\n",
    "y.info()"
   ]
  },
  {
   "cell_type": "code",
   "execution_count": 40,
   "id": "a7514c73",
   "metadata": {
    "ExecuteTime": {
     "end_time": "2023-01-01T05:14:07.900923Z",
     "start_time": "2023-01-01T05:14:07.877908Z"
    },
    "hidden": true
   },
   "outputs": [
    {
     "data": {
      "text/html": [
       "<div>\n",
       "<style scoped>\n",
       "    .dataframe tbody tr th:only-of-type {\n",
       "        vertical-align: middle;\n",
       "    }\n",
       "\n",
       "    .dataframe tbody tr th {\n",
       "        vertical-align: top;\n",
       "    }\n",
       "\n",
       "    .dataframe thead th {\n",
       "        text-align: right;\n",
       "    }\n",
       "</style>\n",
       "<table border=\"1\" class=\"dataframe\">\n",
       "  <thead>\n",
       "    <tr style=\"text-align: right;\">\n",
       "      <th></th>\n",
       "      <th>EMPLOYEE_ID</th>\n",
       "      <th>DEPARTMENT_ID</th>\n",
       "      <th>SALARY</th>\n",
       "      <th>AVG_SAL</th>\n",
       "    </tr>\n",
       "  </thead>\n",
       "  <tbody>\n",
       "    <tr>\n",
       "      <th>100</th>\n",
       "      <td>200</td>\n",
       "      <td>10.0</td>\n",
       "      <td>4400</td>\n",
       "      <td>4400.0</td>\n",
       "    </tr>\n",
       "    <tr>\n",
       "      <th>101</th>\n",
       "      <td>201</td>\n",
       "      <td>20.0</td>\n",
       "      <td>13000</td>\n",
       "      <td>9500.0</td>\n",
       "    </tr>\n",
       "    <tr>\n",
       "      <th>102</th>\n",
       "      <td>202</td>\n",
       "      <td>20.0</td>\n",
       "      <td>6000</td>\n",
       "      <td>9500.0</td>\n",
       "    </tr>\n",
       "    <tr>\n",
       "      <th>14</th>\n",
       "      <td>114</td>\n",
       "      <td>30.0</td>\n",
       "      <td>11000</td>\n",
       "      <td>4150.0</td>\n",
       "    </tr>\n",
       "    <tr>\n",
       "      <th>15</th>\n",
       "      <td>115</td>\n",
       "      <td>30.0</td>\n",
       "      <td>3100</td>\n",
       "      <td>4150.0</td>\n",
       "    </tr>\n",
       "  </tbody>\n",
       "</table>\n",
       "</div>"
      ],
      "text/plain": [
       "     EMPLOYEE_ID  DEPARTMENT_ID  SALARY  AVG_SAL\n",
       "100          200           10.0    4400   4400.0\n",
       "101          201           20.0   13000   9500.0\n",
       "102          202           20.0    6000   9500.0\n",
       "14           114           30.0   11000   4150.0\n",
       "15           115           30.0    3100   4150.0"
      ]
     },
     "execution_count": 40,
     "metadata": {},
     "output_type": "execute_result"
    }
   ],
   "source": [
    "# step 3 : avg_sal과 salary 비교하기 \n",
    "\n",
    "yy = y[['EMPLOYEE_ID', 'DEPARTMENT_ID','SALARY','AVG_SAL']]\n",
    "yy.head()"
   ]
  },
  {
   "cell_type": "code",
   "execution_count": 44,
   "id": "bf4eec69",
   "metadata": {
    "ExecuteTime": {
     "end_time": "2023-01-01T05:18:22.786383Z",
     "start_time": "2023-01-01T05:18:22.762388Z"
    },
    "hidden": true
   },
   "outputs": [
    {
     "data": {
      "text/html": [
       "<div>\n",
       "<style scoped>\n",
       "    .dataframe tbody tr th:only-of-type {\n",
       "        vertical-align: middle;\n",
       "    }\n",
       "\n",
       "    .dataframe tbody tr th {\n",
       "        vertical-align: top;\n",
       "    }\n",
       "\n",
       "    .dataframe thead th {\n",
       "        text-align: right;\n",
       "    }\n",
       "</style>\n",
       "<table border=\"1\" class=\"dataframe\">\n",
       "  <thead>\n",
       "    <tr style=\"text-align: right;\">\n",
       "      <th></th>\n",
       "      <th>EMPLOYEE_ID</th>\n",
       "      <th>DEPARTMENT_ID</th>\n",
       "      <th>SALARY</th>\n",
       "      <th>AVG_SAL</th>\n",
       "      <th>DEPARTMENT_NAME</th>\n",
       "    </tr>\n",
       "  </thead>\n",
       "  <tbody>\n",
       "    <tr>\n",
       "      <th>0</th>\n",
       "      <td>201</td>\n",
       "      <td>20.0</td>\n",
       "      <td>13000</td>\n",
       "      <td>9500.000000</td>\n",
       "      <td>Marketing</td>\n",
       "    </tr>\n",
       "    <tr>\n",
       "      <th>1</th>\n",
       "      <td>114</td>\n",
       "      <td>30.0</td>\n",
       "      <td>11000</td>\n",
       "      <td>4150.000000</td>\n",
       "      <td>Purchasing</td>\n",
       "    </tr>\n",
       "    <tr>\n",
       "      <th>2</th>\n",
       "      <td>120</td>\n",
       "      <td>50.0</td>\n",
       "      <td>8000</td>\n",
       "      <td>3475.555556</td>\n",
       "      <td>Shipping</td>\n",
       "    </tr>\n",
       "    <tr>\n",
       "      <th>3</th>\n",
       "      <td>121</td>\n",
       "      <td>50.0</td>\n",
       "      <td>8200</td>\n",
       "      <td>3475.555556</td>\n",
       "      <td>Shipping</td>\n",
       "    </tr>\n",
       "    <tr>\n",
       "      <th>4</th>\n",
       "      <td>122</td>\n",
       "      <td>50.0</td>\n",
       "      <td>7900</td>\n",
       "      <td>3475.555556</td>\n",
       "      <td>Shipping</td>\n",
       "    </tr>\n",
       "  </tbody>\n",
       "</table>\n",
       "</div>"
      ],
      "text/plain": [
       "   EMPLOYEE_ID  DEPARTMENT_ID  SALARY      AVG_SAL DEPARTMENT_NAME\n",
       "0          201           20.0   13000  9500.000000       Marketing\n",
       "1          114           30.0   11000  4150.000000      Purchasing\n",
       "2          120           50.0    8000  3475.555556        Shipping\n",
       "3          121           50.0    8200  3475.555556        Shipping\n",
       "4          122           50.0    7900  3475.555556        Shipping"
      ]
     },
     "execution_count": 44,
     "metadata": {},
     "output_type": "execute_result"
    }
   ],
   "source": [
    "result = pd.merge(yy.query('SALARY > AVG_SAL'), dept[['DEPARTMENT_ID','DEPARTMENT_NAME']])\n",
    "\n",
    "result.head()"
   ]
  },
  {
   "cell_type": "code",
   "execution_count": null,
   "id": "4ac1d70f",
   "metadata": {
    "hidden": true
   },
   "outputs": [],
   "source": [
    "# step 4 : result 저장하기\n",
    "\n",
    "result.to_csv(\"c:/data/dept_sal.csv\",index=False,float_format='%.1f') # 소수점 첫째자리 까지 출력 \n",
    "result.to_csv(\"c:/data/dept_sal.csv\",index=False,float_format='%.f') # 정수로 저장"
   ]
  },
  {
   "cell_type": "code",
   "execution_count": 45,
   "id": "5e42f622",
   "metadata": {
    "ExecuteTime": {
     "end_time": "2023-01-01T05:21:22.847178Z",
     "start_time": "2023-01-01T05:21:22.737471Z"
    },
    "hidden": true
   },
   "outputs": [
    {
     "name": "stdout",
     "output_type": "stream",
     "text": [
      "********************\n",
      "10.0\n",
      "     EMPLOYEE_ID  DEPARTMENT_ID  SALARY\n",
      "100          200           10.0    4400\n",
      "부서평균 4400.0\n",
      "Empty DataFrame\n",
      "Columns: [EMPLOYEE_ID, DEPARTMENT_ID, SALARY]\n",
      "Index: []\n",
      "********************\n",
      "20.0\n",
      "     EMPLOYEE_ID  DEPARTMENT_ID  SALARY\n",
      "101          201           20.0   13000\n",
      "102          202           20.0    6000\n",
      "부서평균 9500.0\n",
      "     EMPLOYEE_ID  DEPARTMENT_ID  SALARY\n",
      "101          201           20.0   13000\n",
      "********************\n",
      "30.0\n",
      "    EMPLOYEE_ID  DEPARTMENT_ID  SALARY\n",
      "14          114           30.0   11000\n",
      "15          115           30.0    3100\n",
      "16          116           30.0    2900\n",
      "17          117           30.0    2800\n",
      "18          118           30.0    2600\n",
      "19          119           30.0    2500\n",
      "부서평균 4150.0\n",
      "    EMPLOYEE_ID  DEPARTMENT_ID  SALARY\n",
      "14          114           30.0   11000\n",
      "********************\n",
      "40.0\n",
      "     EMPLOYEE_ID  DEPARTMENT_ID  SALARY\n",
      "103          203           40.0    6500\n",
      "부서평균 6500.0\n",
      "Empty DataFrame\n",
      "Columns: [EMPLOYEE_ID, DEPARTMENT_ID, SALARY]\n",
      "Index: []\n",
      "********************\n",
      "50.0\n",
      "    EMPLOYEE_ID  DEPARTMENT_ID  SALARY\n",
      "20          120           50.0    8000\n",
      "21          121           50.0    8200\n",
      "22          122           50.0    7900\n",
      "23          123           50.0    6500\n",
      "24          124           50.0    5800\n",
      "25          125           50.0    3200\n",
      "26          126           50.0    2700\n",
      "27          127           50.0    2400\n",
      "28          128           50.0    2200\n",
      "29          129           50.0    3300\n",
      "30          130           50.0    2800\n",
      "31          131           50.0    2500\n",
      "32          132           50.0    2100\n",
      "33          133           50.0    3300\n",
      "34          134           50.0    2900\n",
      "35          135           50.0    2400\n",
      "36          136           50.0    2200\n",
      "37          137           50.0    3600\n",
      "38          138           50.0    3200\n",
      "39          139           50.0    2700\n",
      "40          140           50.0    2500\n",
      "41          141           50.0    3500\n",
      "42          142           50.0    3100\n",
      "43          143           50.0    2600\n",
      "44          144           50.0    2500\n",
      "80          180           50.0    3200\n",
      "81          181           50.0    3100\n",
      "82          182           50.0    2500\n",
      "83          183           50.0    2800\n",
      "84          184           50.0    4200\n",
      "85          185           50.0    4100\n",
      "86          186           50.0    3400\n",
      "87          187           50.0    3000\n",
      "88          188           50.0    3800\n",
      "89          189           50.0    3600\n",
      "90          190           50.0    2900\n",
      "91          191           50.0    2500\n",
      "92          192           50.0    4000\n",
      "93          193           50.0    3900\n",
      "94          194           50.0    3200\n",
      "95          195           50.0    2800\n",
      "96          196           50.0    3100\n",
      "97          197           50.0    3000\n",
      "98          198           50.0    2600\n",
      "99          199           50.0    2600\n",
      "부서평균 3475.5555555555557\n",
      "    EMPLOYEE_ID  DEPARTMENT_ID  SALARY\n",
      "20          120           50.0    8000\n",
      "21          121           50.0    8200\n",
      "22          122           50.0    7900\n",
      "23          123           50.0    6500\n",
      "24          124           50.0    5800\n",
      "37          137           50.0    3600\n",
      "41          141           50.0    3500\n",
      "84          184           50.0    4200\n",
      "85          185           50.0    4100\n",
      "88          188           50.0    3800\n",
      "89          189           50.0    3600\n",
      "92          192           50.0    4000\n",
      "93          193           50.0    3900\n",
      "********************\n",
      "60.0\n",
      "   EMPLOYEE_ID  DEPARTMENT_ID  SALARY\n",
      "3          103           60.0    9000\n",
      "4          104           60.0    6000\n",
      "5          105           60.0    4800\n",
      "6          106           60.0    4800\n",
      "7          107           60.0    4200\n",
      "부서평균 5760.0\n",
      "   EMPLOYEE_ID  DEPARTMENT_ID  SALARY\n",
      "3          103           60.0    9000\n",
      "4          104           60.0    6000\n",
      "********************\n",
      "70.0\n",
      "     EMPLOYEE_ID  DEPARTMENT_ID  SALARY\n",
      "104          204           70.0   10000\n",
      "부서평균 10000.0\n",
      "Empty DataFrame\n",
      "Columns: [EMPLOYEE_ID, DEPARTMENT_ID, SALARY]\n",
      "Index: []\n",
      "********************\n",
      "80.0\n",
      "    EMPLOYEE_ID  DEPARTMENT_ID  SALARY\n",
      "45          145           80.0   14000\n",
      "46          146           80.0   13500\n",
      "47          147           80.0   12000\n",
      "48          148           80.0   11000\n",
      "49          149           80.0   10500\n",
      "50          150           80.0   10000\n",
      "51          151           80.0    9500\n",
      "52          152           80.0    9000\n",
      "53          153           80.0    8000\n",
      "54          154           80.0    7500\n",
      "55          155           80.0    7000\n",
      "56          156           80.0   10000\n",
      "57          157           80.0    9500\n",
      "58          158           80.0    9000\n",
      "59          159           80.0    8000\n",
      "60          160           80.0    7500\n",
      "61          161           80.0    7000\n",
      "62          162           80.0   10500\n",
      "63          163           80.0    9500\n",
      "64          164           80.0    7200\n",
      "65          165           80.0    6800\n",
      "66          166           80.0    6400\n",
      "67          167           80.0    6200\n",
      "68          168           80.0   11500\n",
      "69          169           80.0   10000\n",
      "70          170           80.0    9600\n",
      "71          171           80.0    7400\n",
      "72          172           80.0    7300\n",
      "73          173           80.0    6100\n",
      "74          174           80.0   11000\n",
      "75          175           80.0    8800\n",
      "76          176           80.0    8600\n",
      "77          177           80.0    8400\n",
      "79          179           80.0    6200\n",
      "부서평균 8955.882352941177\n",
      "    EMPLOYEE_ID  DEPARTMENT_ID  SALARY\n",
      "45          145           80.0   14000\n",
      "46          146           80.0   13500\n",
      "47          147           80.0   12000\n",
      "48          148           80.0   11000\n",
      "49          149           80.0   10500\n",
      "50          150           80.0   10000\n",
      "51          151           80.0    9500\n",
      "52          152           80.0    9000\n",
      "56          156           80.0   10000\n",
      "57          157           80.0    9500\n",
      "58          158           80.0    9000\n",
      "62          162           80.0   10500\n",
      "63          163           80.0    9500\n",
      "68          168           80.0   11500\n",
      "69          169           80.0   10000\n",
      "70          170           80.0    9600\n",
      "74          174           80.0   11000\n",
      "********************\n",
      "90.0\n",
      "   EMPLOYEE_ID  DEPARTMENT_ID  SALARY\n",
      "0          100           90.0   24000\n",
      "1          101           90.0   17000\n",
      "2          102           90.0   17000\n",
      "부서평균 19333.333333333332\n",
      "   EMPLOYEE_ID  DEPARTMENT_ID  SALARY\n",
      "0          100           90.0   24000\n",
      "********************\n",
      "100.0\n",
      "    EMPLOYEE_ID  DEPARTMENT_ID  SALARY\n",
      "8           108          100.0   12008\n",
      "9           109          100.0    9000\n",
      "10          110          100.0    8200\n",
      "11          111          100.0    7700\n",
      "12          112          100.0    7800\n",
      "13          113          100.0    6900\n",
      "부서평균 8601.333333333334\n",
      "   EMPLOYEE_ID  DEPARTMENT_ID  SALARY\n",
      "8          108          100.0   12008\n",
      "9          109          100.0    9000\n",
      "********************\n",
      "110.0\n",
      "     EMPLOYEE_ID  DEPARTMENT_ID  SALARY\n",
      "105          205          110.0   12008\n",
      "106          206          110.0    8300\n",
      "부서평균 10154.0\n",
      "     EMPLOYEE_ID  DEPARTMENT_ID  SALARY\n",
      "105          205          110.0   12008\n"
     ]
    },
    {
     "name": "stderr",
     "output_type": "stream",
     "text": [
      "C:\\Users\\82108\\AppData\\Local\\Temp\\ipykernel_13564\\1538227261.py:11: FutureWarning: The frame.append method is deprecated and will be removed from pandas in a future version. Use pandas.concat instead.\n",
      "  new = new.append(g[g.SALARY > g.SALARY.mean()])\n",
      "C:\\Users\\82108\\AppData\\Local\\Temp\\ipykernel_13564\\1538227261.py:11: FutureWarning: The frame.append method is deprecated and will be removed from pandas in a future version. Use pandas.concat instead.\n",
      "  new = new.append(g[g.SALARY > g.SALARY.mean()])\n",
      "C:\\Users\\82108\\AppData\\Local\\Temp\\ipykernel_13564\\1538227261.py:11: FutureWarning: The frame.append method is deprecated and will be removed from pandas in a future version. Use pandas.concat instead.\n",
      "  new = new.append(g[g.SALARY > g.SALARY.mean()])\n",
      "C:\\Users\\82108\\AppData\\Local\\Temp\\ipykernel_13564\\1538227261.py:11: FutureWarning: The frame.append method is deprecated and will be removed from pandas in a future version. Use pandas.concat instead.\n",
      "  new = new.append(g[g.SALARY > g.SALARY.mean()])\n",
      "C:\\Users\\82108\\AppData\\Local\\Temp\\ipykernel_13564\\1538227261.py:11: FutureWarning: The frame.append method is deprecated and will be removed from pandas in a future version. Use pandas.concat instead.\n",
      "  new = new.append(g[g.SALARY > g.SALARY.mean()])\n",
      "C:\\Users\\82108\\AppData\\Local\\Temp\\ipykernel_13564\\1538227261.py:11: FutureWarning: The frame.append method is deprecated and will be removed from pandas in a future version. Use pandas.concat instead.\n",
      "  new = new.append(g[g.SALARY > g.SALARY.mean()])\n",
      "C:\\Users\\82108\\AppData\\Local\\Temp\\ipykernel_13564\\1538227261.py:11: FutureWarning: The frame.append method is deprecated and will be removed from pandas in a future version. Use pandas.concat instead.\n",
      "  new = new.append(g[g.SALARY > g.SALARY.mean()])\n",
      "C:\\Users\\82108\\AppData\\Local\\Temp\\ipykernel_13564\\1538227261.py:11: FutureWarning: The frame.append method is deprecated and will be removed from pandas in a future version. Use pandas.concat instead.\n",
      "  new = new.append(g[g.SALARY > g.SALARY.mean()])\n",
      "C:\\Users\\82108\\AppData\\Local\\Temp\\ipykernel_13564\\1538227261.py:11: FutureWarning: The frame.append method is deprecated and will be removed from pandas in a future version. Use pandas.concat instead.\n",
      "  new = new.append(g[g.SALARY > g.SALARY.mean()])\n",
      "C:\\Users\\82108\\AppData\\Local\\Temp\\ipykernel_13564\\1538227261.py:11: FutureWarning: The frame.append method is deprecated and will be removed from pandas in a future version. Use pandas.concat instead.\n",
      "  new = new.append(g[g.SALARY > g.SALARY.mean()])\n",
      "C:\\Users\\82108\\AppData\\Local\\Temp\\ipykernel_13564\\1538227261.py:11: FutureWarning: The frame.append method is deprecated and will be removed from pandas in a future version. Use pandas.concat instead.\n",
      "  new = new.append(g[g.SALARY > g.SALARY.mean()])\n"
     ]
    },
    {
     "data": {
      "text/html": [
       "<div>\n",
       "<style scoped>\n",
       "    .dataframe tbody tr th:only-of-type {\n",
       "        vertical-align: middle;\n",
       "    }\n",
       "\n",
       "    .dataframe tbody tr th {\n",
       "        vertical-align: top;\n",
       "    }\n",
       "\n",
       "    .dataframe thead th {\n",
       "        text-align: right;\n",
       "    }\n",
       "</style>\n",
       "<table border=\"1\" class=\"dataframe\">\n",
       "  <thead>\n",
       "    <tr style=\"text-align: right;\">\n",
       "      <th></th>\n",
       "      <th>EMPLOYEE_ID</th>\n",
       "      <th>DEPARTMENT_ID</th>\n",
       "      <th>SALARY</th>\n",
       "    </tr>\n",
       "  </thead>\n",
       "  <tbody>\n",
       "    <tr>\n",
       "      <th>101</th>\n",
       "      <td>201</td>\n",
       "      <td>20.0</td>\n",
       "      <td>13000</td>\n",
       "    </tr>\n",
       "    <tr>\n",
       "      <th>14</th>\n",
       "      <td>114</td>\n",
       "      <td>30.0</td>\n",
       "      <td>11000</td>\n",
       "    </tr>\n",
       "    <tr>\n",
       "      <th>20</th>\n",
       "      <td>120</td>\n",
       "      <td>50.0</td>\n",
       "      <td>8000</td>\n",
       "    </tr>\n",
       "    <tr>\n",
       "      <th>21</th>\n",
       "      <td>121</td>\n",
       "      <td>50.0</td>\n",
       "      <td>8200</td>\n",
       "    </tr>\n",
       "    <tr>\n",
       "      <th>22</th>\n",
       "      <td>122</td>\n",
       "      <td>50.0</td>\n",
       "      <td>7900</td>\n",
       "    </tr>\n",
       "    <tr>\n",
       "      <th>23</th>\n",
       "      <td>123</td>\n",
       "      <td>50.0</td>\n",
       "      <td>6500</td>\n",
       "    </tr>\n",
       "    <tr>\n",
       "      <th>24</th>\n",
       "      <td>124</td>\n",
       "      <td>50.0</td>\n",
       "      <td>5800</td>\n",
       "    </tr>\n",
       "    <tr>\n",
       "      <th>37</th>\n",
       "      <td>137</td>\n",
       "      <td>50.0</td>\n",
       "      <td>3600</td>\n",
       "    </tr>\n",
       "    <tr>\n",
       "      <th>41</th>\n",
       "      <td>141</td>\n",
       "      <td>50.0</td>\n",
       "      <td>3500</td>\n",
       "    </tr>\n",
       "    <tr>\n",
       "      <th>84</th>\n",
       "      <td>184</td>\n",
       "      <td>50.0</td>\n",
       "      <td>4200</td>\n",
       "    </tr>\n",
       "    <tr>\n",
       "      <th>85</th>\n",
       "      <td>185</td>\n",
       "      <td>50.0</td>\n",
       "      <td>4100</td>\n",
       "    </tr>\n",
       "    <tr>\n",
       "      <th>88</th>\n",
       "      <td>188</td>\n",
       "      <td>50.0</td>\n",
       "      <td>3800</td>\n",
       "    </tr>\n",
       "    <tr>\n",
       "      <th>89</th>\n",
       "      <td>189</td>\n",
       "      <td>50.0</td>\n",
       "      <td>3600</td>\n",
       "    </tr>\n",
       "    <tr>\n",
       "      <th>92</th>\n",
       "      <td>192</td>\n",
       "      <td>50.0</td>\n",
       "      <td>4000</td>\n",
       "    </tr>\n",
       "    <tr>\n",
       "      <th>93</th>\n",
       "      <td>193</td>\n",
       "      <td>50.0</td>\n",
       "      <td>3900</td>\n",
       "    </tr>\n",
       "    <tr>\n",
       "      <th>3</th>\n",
       "      <td>103</td>\n",
       "      <td>60.0</td>\n",
       "      <td>9000</td>\n",
       "    </tr>\n",
       "    <tr>\n",
       "      <th>4</th>\n",
       "      <td>104</td>\n",
       "      <td>60.0</td>\n",
       "      <td>6000</td>\n",
       "    </tr>\n",
       "    <tr>\n",
       "      <th>45</th>\n",
       "      <td>145</td>\n",
       "      <td>80.0</td>\n",
       "      <td>14000</td>\n",
       "    </tr>\n",
       "    <tr>\n",
       "      <th>46</th>\n",
       "      <td>146</td>\n",
       "      <td>80.0</td>\n",
       "      <td>13500</td>\n",
       "    </tr>\n",
       "    <tr>\n",
       "      <th>47</th>\n",
       "      <td>147</td>\n",
       "      <td>80.0</td>\n",
       "      <td>12000</td>\n",
       "    </tr>\n",
       "    <tr>\n",
       "      <th>48</th>\n",
       "      <td>148</td>\n",
       "      <td>80.0</td>\n",
       "      <td>11000</td>\n",
       "    </tr>\n",
       "    <tr>\n",
       "      <th>49</th>\n",
       "      <td>149</td>\n",
       "      <td>80.0</td>\n",
       "      <td>10500</td>\n",
       "    </tr>\n",
       "    <tr>\n",
       "      <th>50</th>\n",
       "      <td>150</td>\n",
       "      <td>80.0</td>\n",
       "      <td>10000</td>\n",
       "    </tr>\n",
       "    <tr>\n",
       "      <th>51</th>\n",
       "      <td>151</td>\n",
       "      <td>80.0</td>\n",
       "      <td>9500</td>\n",
       "    </tr>\n",
       "    <tr>\n",
       "      <th>52</th>\n",
       "      <td>152</td>\n",
       "      <td>80.0</td>\n",
       "      <td>9000</td>\n",
       "    </tr>\n",
       "    <tr>\n",
       "      <th>56</th>\n",
       "      <td>156</td>\n",
       "      <td>80.0</td>\n",
       "      <td>10000</td>\n",
       "    </tr>\n",
       "    <tr>\n",
       "      <th>57</th>\n",
       "      <td>157</td>\n",
       "      <td>80.0</td>\n",
       "      <td>9500</td>\n",
       "    </tr>\n",
       "    <tr>\n",
       "      <th>58</th>\n",
       "      <td>158</td>\n",
       "      <td>80.0</td>\n",
       "      <td>9000</td>\n",
       "    </tr>\n",
       "    <tr>\n",
       "      <th>62</th>\n",
       "      <td>162</td>\n",
       "      <td>80.0</td>\n",
       "      <td>10500</td>\n",
       "    </tr>\n",
       "    <tr>\n",
       "      <th>63</th>\n",
       "      <td>163</td>\n",
       "      <td>80.0</td>\n",
       "      <td>9500</td>\n",
       "    </tr>\n",
       "    <tr>\n",
       "      <th>68</th>\n",
       "      <td>168</td>\n",
       "      <td>80.0</td>\n",
       "      <td>11500</td>\n",
       "    </tr>\n",
       "    <tr>\n",
       "      <th>69</th>\n",
       "      <td>169</td>\n",
       "      <td>80.0</td>\n",
       "      <td>10000</td>\n",
       "    </tr>\n",
       "    <tr>\n",
       "      <th>70</th>\n",
       "      <td>170</td>\n",
       "      <td>80.0</td>\n",
       "      <td>9600</td>\n",
       "    </tr>\n",
       "    <tr>\n",
       "      <th>74</th>\n",
       "      <td>174</td>\n",
       "      <td>80.0</td>\n",
       "      <td>11000</td>\n",
       "    </tr>\n",
       "    <tr>\n",
       "      <th>0</th>\n",
       "      <td>100</td>\n",
       "      <td>90.0</td>\n",
       "      <td>24000</td>\n",
       "    </tr>\n",
       "    <tr>\n",
       "      <th>8</th>\n",
       "      <td>108</td>\n",
       "      <td>100.0</td>\n",
       "      <td>12008</td>\n",
       "    </tr>\n",
       "    <tr>\n",
       "      <th>9</th>\n",
       "      <td>109</td>\n",
       "      <td>100.0</td>\n",
       "      <td>9000</td>\n",
       "    </tr>\n",
       "    <tr>\n",
       "      <th>105</th>\n",
       "      <td>205</td>\n",
       "      <td>110.0</td>\n",
       "      <td>12008</td>\n",
       "    </tr>\n",
       "  </tbody>\n",
       "</table>\n",
       "</div>"
      ],
      "text/plain": [
       "     EMPLOYEE_ID  DEPARTMENT_ID  SALARY\n",
       "101          201           20.0   13000\n",
       "14           114           30.0   11000\n",
       "20           120           50.0    8000\n",
       "21           121           50.0    8200\n",
       "22           122           50.0    7900\n",
       "23           123           50.0    6500\n",
       "24           124           50.0    5800\n",
       "37           137           50.0    3600\n",
       "41           141           50.0    3500\n",
       "84           184           50.0    4200\n",
       "85           185           50.0    4100\n",
       "88           188           50.0    3800\n",
       "89           189           50.0    3600\n",
       "92           192           50.0    4000\n",
       "93           193           50.0    3900\n",
       "3            103           60.0    9000\n",
       "4            104           60.0    6000\n",
       "45           145           80.0   14000\n",
       "46           146           80.0   13500\n",
       "47           147           80.0   12000\n",
       "48           148           80.0   11000\n",
       "49           149           80.0   10500\n",
       "50           150           80.0   10000\n",
       "51           151           80.0    9500\n",
       "52           152           80.0    9000\n",
       "56           156           80.0   10000\n",
       "57           157           80.0    9500\n",
       "58           158           80.0    9000\n",
       "62           162           80.0   10500\n",
       "63           163           80.0    9500\n",
       "68           168           80.0   11500\n",
       "69           169           80.0   10000\n",
       "70           170           80.0    9600\n",
       "74           174           80.0   11000\n",
       "0            100           90.0   24000\n",
       "8            108          100.0   12008\n",
       "9            109          100.0    9000\n",
       "105          205          110.0   12008"
      ]
     },
     "execution_count": 45,
     "metadata": {},
     "output_type": "execute_result"
    }
   ],
   "source": [
    "# soltuion 2 : 조금 더 간단하게 만들기, emp 테이블만 활용함 \n",
    "\n",
    "new = DataFrame()\n",
    "\n",
    "for n, g in emp[['EMPLOYEE_ID','DEPARTMENT_ID','SALARY']].groupby('DEPARTMENT_ID'):\n",
    "    print(\"*\"*20)\n",
    "    print(n) # department_id\n",
    "    print(g)\n",
    "    print('부서평균',g.SALARY.mean())\n",
    "    print(g[g.SALARY > g.SALARY.mean()])\n",
    "    new = new.append(g[g.SALARY > g.SALARY.mean()])\n",
    "\n",
    "    \n",
    "new"
   ]
  },
  {
   "cell_type": "code",
   "execution_count": 47,
   "id": "89a266c2",
   "metadata": {
    "ExecuteTime": {
     "end_time": "2023-01-01T05:25:29.303165Z",
     "start_time": "2023-01-01T05:25:29.194148Z"
    },
    "hidden": true
   },
   "outputs": [
    {
     "name": "stdout",
     "output_type": "stream",
     "text": [
      "********************\n",
      "10.0\n",
      "     EMPLOYEE_ID  SALARY  DEPARTMENT_ID\n",
      "100          200    4400           10.0\n",
      "부서평균:  4400.0\n",
      "Empty DataFrame\n",
      "Columns: [EMPLOYEE_ID, SALARY, DEPARTMENT_ID]\n",
      "Index: []\n",
      "********************\n",
      "20.0\n",
      "     EMPLOYEE_ID  SALARY  DEPARTMENT_ID\n",
      "101          201   13000           20.0\n",
      "102          202    6000           20.0\n",
      "부서평균:  9500.0\n",
      "     EMPLOYEE_ID  SALARY  DEPARTMENT_ID\n",
      "101          201   13000           20.0\n",
      "********************\n",
      "30.0\n",
      "    EMPLOYEE_ID  SALARY  DEPARTMENT_ID\n",
      "14          114   11000           30.0\n",
      "15          115    3100           30.0\n",
      "16          116    2900           30.0\n",
      "17          117    2800           30.0\n",
      "18          118    2600           30.0\n",
      "19          119    2500           30.0\n",
      "부서평균:  4150.0\n",
      "    EMPLOYEE_ID  SALARY  DEPARTMENT_ID\n",
      "14          114   11000           30.0\n",
      "********************\n",
      "40.0\n",
      "     EMPLOYEE_ID  SALARY  DEPARTMENT_ID\n",
      "103          203    6500           40.0\n",
      "부서평균:  6500.0\n",
      "Empty DataFrame\n",
      "Columns: [EMPLOYEE_ID, SALARY, DEPARTMENT_ID]\n",
      "Index: []\n",
      "********************\n",
      "50.0\n",
      "    EMPLOYEE_ID  SALARY  DEPARTMENT_ID\n",
      "20          120    8000           50.0\n",
      "21          121    8200           50.0\n",
      "22          122    7900           50.0\n",
      "23          123    6500           50.0\n",
      "24          124    5800           50.0\n",
      "25          125    3200           50.0\n",
      "26          126    2700           50.0\n",
      "27          127    2400           50.0\n",
      "28          128    2200           50.0\n",
      "29          129    3300           50.0\n",
      "30          130    2800           50.0\n",
      "31          131    2500           50.0\n",
      "32          132    2100           50.0\n",
      "33          133    3300           50.0\n",
      "34          134    2900           50.0\n",
      "35          135    2400           50.0\n",
      "36          136    2200           50.0\n",
      "37          137    3600           50.0\n",
      "38          138    3200           50.0\n",
      "39          139    2700           50.0\n",
      "40          140    2500           50.0\n",
      "41          141    3500           50.0\n",
      "42          142    3100           50.0\n",
      "43          143    2600           50.0\n",
      "44          144    2500           50.0\n",
      "80          180    3200           50.0\n",
      "81          181    3100           50.0\n",
      "82          182    2500           50.0\n",
      "83          183    2800           50.0\n",
      "84          184    4200           50.0\n",
      "85          185    4100           50.0\n",
      "86          186    3400           50.0\n",
      "87          187    3000           50.0\n",
      "88          188    3800           50.0\n",
      "89          189    3600           50.0\n",
      "90          190    2900           50.0\n",
      "91          191    2500           50.0\n",
      "92          192    4000           50.0\n",
      "93          193    3900           50.0\n",
      "94          194    3200           50.0\n",
      "95          195    2800           50.0\n",
      "96          196    3100           50.0\n",
      "97          197    3000           50.0\n",
      "98          198    2600           50.0\n",
      "99          199    2600           50.0\n",
      "부서평균:  3475.5555555555557\n",
      "    EMPLOYEE_ID  SALARY  DEPARTMENT_ID\n",
      "20          120    8000           50.0\n",
      "21          121    8200           50.0\n",
      "22          122    7900           50.0\n",
      "23          123    6500           50.0\n",
      "24          124    5800           50.0\n",
      "37          137    3600           50.0\n",
      "41          141    3500           50.0\n",
      "84          184    4200           50.0\n",
      "85          185    4100           50.0\n",
      "88          188    3800           50.0\n",
      "89          189    3600           50.0\n",
      "92          192    4000           50.0\n",
      "93          193    3900           50.0\n",
      "********************\n",
      "60.0\n",
      "   EMPLOYEE_ID  SALARY  DEPARTMENT_ID\n",
      "3          103    9000           60.0\n",
      "4          104    6000           60.0\n",
      "5          105    4800           60.0\n",
      "6          106    4800           60.0\n",
      "7          107    4200           60.0\n",
      "부서평균:  5760.0\n",
      "   EMPLOYEE_ID  SALARY  DEPARTMENT_ID\n",
      "3          103    9000           60.0\n",
      "4          104    6000           60.0\n",
      "********************\n",
      "70.0\n",
      "     EMPLOYEE_ID  SALARY  DEPARTMENT_ID\n",
      "104          204   10000           70.0\n",
      "부서평균:  10000.0\n",
      "Empty DataFrame\n",
      "Columns: [EMPLOYEE_ID, SALARY, DEPARTMENT_ID]\n",
      "Index: []\n",
      "********************\n",
      "80.0\n",
      "    EMPLOYEE_ID  SALARY  DEPARTMENT_ID\n",
      "45          145   14000           80.0\n",
      "46          146   13500           80.0\n",
      "47          147   12000           80.0\n",
      "48          148   11000           80.0\n",
      "49          149   10500           80.0\n",
      "50          150   10000           80.0\n",
      "51          151    9500           80.0\n",
      "52          152    9000           80.0\n",
      "53          153    8000           80.0\n",
      "54          154    7500           80.0\n",
      "55          155    7000           80.0\n",
      "56          156   10000           80.0\n",
      "57          157    9500           80.0\n",
      "58          158    9000           80.0\n",
      "59          159    8000           80.0\n",
      "60          160    7500           80.0\n",
      "61          161    7000           80.0\n",
      "62          162   10500           80.0\n",
      "63          163    9500           80.0\n",
      "64          164    7200           80.0\n",
      "65          165    6800           80.0\n",
      "66          166    6400           80.0\n",
      "67          167    6200           80.0\n",
      "68          168   11500           80.0\n",
      "69          169   10000           80.0\n",
      "70          170    9600           80.0\n",
      "71          171    7400           80.0\n",
      "72          172    7300           80.0\n",
      "73          173    6100           80.0\n",
      "74          174   11000           80.0\n",
      "75          175    8800           80.0\n",
      "76          176    8600           80.0\n",
      "77          177    8400           80.0\n",
      "79          179    6200           80.0\n",
      "부서평균:  8955.882352941177\n",
      "    EMPLOYEE_ID  SALARY  DEPARTMENT_ID\n",
      "45          145   14000           80.0\n",
      "46          146   13500           80.0\n",
      "47          147   12000           80.0\n",
      "48          148   11000           80.0\n",
      "49          149   10500           80.0\n",
      "50          150   10000           80.0\n",
      "51          151    9500           80.0\n",
      "52          152    9000           80.0\n",
      "56          156   10000           80.0\n",
      "57          157    9500           80.0\n",
      "58          158    9000           80.0\n",
      "62          162   10500           80.0\n",
      "63          163    9500           80.0\n",
      "68          168   11500           80.0\n",
      "69          169   10000           80.0\n",
      "70          170    9600           80.0\n",
      "74          174   11000           80.0\n",
      "********************\n",
      "90.0\n",
      "   EMPLOYEE_ID  SALARY  DEPARTMENT_ID\n",
      "0          100   24000           90.0\n",
      "1          101   17000           90.0\n",
      "2          102   17000           90.0\n",
      "부서평균:  19333.333333333332\n",
      "   EMPLOYEE_ID  SALARY  DEPARTMENT_ID\n",
      "0          100   24000           90.0\n",
      "********************\n",
      "100.0\n",
      "    EMPLOYEE_ID  SALARY  DEPARTMENT_ID\n",
      "8           108   12008          100.0\n",
      "9           109    9000          100.0\n",
      "10          110    8200          100.0\n",
      "11          111    7700          100.0\n",
      "12          112    7800          100.0\n",
      "13          113    6900          100.0\n",
      "부서평균:  8601.333333333334\n",
      "   EMPLOYEE_ID  SALARY  DEPARTMENT_ID\n",
      "8          108   12008          100.0\n",
      "9          109    9000          100.0\n",
      "********************\n",
      "110.0\n",
      "     EMPLOYEE_ID  SALARY  DEPARTMENT_ID\n",
      "105          205   12008          110.0\n",
      "106          206    8300          110.0\n",
      "부서평균:  10154.0\n",
      "     EMPLOYEE_ID  SALARY  DEPARTMENT_ID\n",
      "105          205   12008          110.0\n"
     ]
    },
    {
     "data": {
      "text/html": [
       "<div>\n",
       "<style scoped>\n",
       "    .dataframe tbody tr th:only-of-type {\n",
       "        vertical-align: middle;\n",
       "    }\n",
       "\n",
       "    .dataframe tbody tr th {\n",
       "        vertical-align: top;\n",
       "    }\n",
       "\n",
       "    .dataframe thead th {\n",
       "        text-align: right;\n",
       "    }\n",
       "</style>\n",
       "<table border=\"1\" class=\"dataframe\">\n",
       "  <thead>\n",
       "    <tr style=\"text-align: right;\">\n",
       "      <th></th>\n",
       "      <th>EMPLOYEE_ID</th>\n",
       "      <th>SALARY</th>\n",
       "      <th>DEPARTMENT_ID</th>\n",
       "    </tr>\n",
       "  </thead>\n",
       "  <tbody>\n",
       "    <tr>\n",
       "      <th>101</th>\n",
       "      <td>201</td>\n",
       "      <td>13000</td>\n",
       "      <td>20.0</td>\n",
       "    </tr>\n",
       "    <tr>\n",
       "      <th>14</th>\n",
       "      <td>114</td>\n",
       "      <td>11000</td>\n",
       "      <td>30.0</td>\n",
       "    </tr>\n",
       "    <tr>\n",
       "      <th>20</th>\n",
       "      <td>120</td>\n",
       "      <td>8000</td>\n",
       "      <td>50.0</td>\n",
       "    </tr>\n",
       "    <tr>\n",
       "      <th>21</th>\n",
       "      <td>121</td>\n",
       "      <td>8200</td>\n",
       "      <td>50.0</td>\n",
       "    </tr>\n",
       "    <tr>\n",
       "      <th>22</th>\n",
       "      <td>122</td>\n",
       "      <td>7900</td>\n",
       "      <td>50.0</td>\n",
       "    </tr>\n",
       "    <tr>\n",
       "      <th>23</th>\n",
       "      <td>123</td>\n",
       "      <td>6500</td>\n",
       "      <td>50.0</td>\n",
       "    </tr>\n",
       "    <tr>\n",
       "      <th>24</th>\n",
       "      <td>124</td>\n",
       "      <td>5800</td>\n",
       "      <td>50.0</td>\n",
       "    </tr>\n",
       "    <tr>\n",
       "      <th>37</th>\n",
       "      <td>137</td>\n",
       "      <td>3600</td>\n",
       "      <td>50.0</td>\n",
       "    </tr>\n",
       "    <tr>\n",
       "      <th>41</th>\n",
       "      <td>141</td>\n",
       "      <td>3500</td>\n",
       "      <td>50.0</td>\n",
       "    </tr>\n",
       "    <tr>\n",
       "      <th>84</th>\n",
       "      <td>184</td>\n",
       "      <td>4200</td>\n",
       "      <td>50.0</td>\n",
       "    </tr>\n",
       "    <tr>\n",
       "      <th>85</th>\n",
       "      <td>185</td>\n",
       "      <td>4100</td>\n",
       "      <td>50.0</td>\n",
       "    </tr>\n",
       "    <tr>\n",
       "      <th>88</th>\n",
       "      <td>188</td>\n",
       "      <td>3800</td>\n",
       "      <td>50.0</td>\n",
       "    </tr>\n",
       "    <tr>\n",
       "      <th>89</th>\n",
       "      <td>189</td>\n",
       "      <td>3600</td>\n",
       "      <td>50.0</td>\n",
       "    </tr>\n",
       "    <tr>\n",
       "      <th>92</th>\n",
       "      <td>192</td>\n",
       "      <td>4000</td>\n",
       "      <td>50.0</td>\n",
       "    </tr>\n",
       "    <tr>\n",
       "      <th>93</th>\n",
       "      <td>193</td>\n",
       "      <td>3900</td>\n",
       "      <td>50.0</td>\n",
       "    </tr>\n",
       "    <tr>\n",
       "      <th>3</th>\n",
       "      <td>103</td>\n",
       "      <td>9000</td>\n",
       "      <td>60.0</td>\n",
       "    </tr>\n",
       "    <tr>\n",
       "      <th>4</th>\n",
       "      <td>104</td>\n",
       "      <td>6000</td>\n",
       "      <td>60.0</td>\n",
       "    </tr>\n",
       "    <tr>\n",
       "      <th>45</th>\n",
       "      <td>145</td>\n",
       "      <td>14000</td>\n",
       "      <td>80.0</td>\n",
       "    </tr>\n",
       "    <tr>\n",
       "      <th>46</th>\n",
       "      <td>146</td>\n",
       "      <td>13500</td>\n",
       "      <td>80.0</td>\n",
       "    </tr>\n",
       "    <tr>\n",
       "      <th>47</th>\n",
       "      <td>147</td>\n",
       "      <td>12000</td>\n",
       "      <td>80.0</td>\n",
       "    </tr>\n",
       "    <tr>\n",
       "      <th>48</th>\n",
       "      <td>148</td>\n",
       "      <td>11000</td>\n",
       "      <td>80.0</td>\n",
       "    </tr>\n",
       "    <tr>\n",
       "      <th>49</th>\n",
       "      <td>149</td>\n",
       "      <td>10500</td>\n",
       "      <td>80.0</td>\n",
       "    </tr>\n",
       "    <tr>\n",
       "      <th>50</th>\n",
       "      <td>150</td>\n",
       "      <td>10000</td>\n",
       "      <td>80.0</td>\n",
       "    </tr>\n",
       "    <tr>\n",
       "      <th>51</th>\n",
       "      <td>151</td>\n",
       "      <td>9500</td>\n",
       "      <td>80.0</td>\n",
       "    </tr>\n",
       "    <tr>\n",
       "      <th>52</th>\n",
       "      <td>152</td>\n",
       "      <td>9000</td>\n",
       "      <td>80.0</td>\n",
       "    </tr>\n",
       "    <tr>\n",
       "      <th>56</th>\n",
       "      <td>156</td>\n",
       "      <td>10000</td>\n",
       "      <td>80.0</td>\n",
       "    </tr>\n",
       "    <tr>\n",
       "      <th>57</th>\n",
       "      <td>157</td>\n",
       "      <td>9500</td>\n",
       "      <td>80.0</td>\n",
       "    </tr>\n",
       "    <tr>\n",
       "      <th>58</th>\n",
       "      <td>158</td>\n",
       "      <td>9000</td>\n",
       "      <td>80.0</td>\n",
       "    </tr>\n",
       "    <tr>\n",
       "      <th>62</th>\n",
       "      <td>162</td>\n",
       "      <td>10500</td>\n",
       "      <td>80.0</td>\n",
       "    </tr>\n",
       "    <tr>\n",
       "      <th>63</th>\n",
       "      <td>163</td>\n",
       "      <td>9500</td>\n",
       "      <td>80.0</td>\n",
       "    </tr>\n",
       "    <tr>\n",
       "      <th>68</th>\n",
       "      <td>168</td>\n",
       "      <td>11500</td>\n",
       "      <td>80.0</td>\n",
       "    </tr>\n",
       "    <tr>\n",
       "      <th>69</th>\n",
       "      <td>169</td>\n",
       "      <td>10000</td>\n",
       "      <td>80.0</td>\n",
       "    </tr>\n",
       "    <tr>\n",
       "      <th>70</th>\n",
       "      <td>170</td>\n",
       "      <td>9600</td>\n",
       "      <td>80.0</td>\n",
       "    </tr>\n",
       "    <tr>\n",
       "      <th>74</th>\n",
       "      <td>174</td>\n",
       "      <td>11000</td>\n",
       "      <td>80.0</td>\n",
       "    </tr>\n",
       "    <tr>\n",
       "      <th>0</th>\n",
       "      <td>100</td>\n",
       "      <td>24000</td>\n",
       "      <td>90.0</td>\n",
       "    </tr>\n",
       "    <tr>\n",
       "      <th>8</th>\n",
       "      <td>108</td>\n",
       "      <td>12008</td>\n",
       "      <td>100.0</td>\n",
       "    </tr>\n",
       "    <tr>\n",
       "      <th>9</th>\n",
       "      <td>109</td>\n",
       "      <td>9000</td>\n",
       "      <td>100.0</td>\n",
       "    </tr>\n",
       "    <tr>\n",
       "      <th>105</th>\n",
       "      <td>205</td>\n",
       "      <td>12008</td>\n",
       "      <td>110.0</td>\n",
       "    </tr>\n",
       "  </tbody>\n",
       "</table>\n",
       "</div>"
      ],
      "text/plain": [
       "     EMPLOYEE_ID  SALARY  DEPARTMENT_ID\n",
       "101          201   13000           20.0\n",
       "14           114   11000           30.0\n",
       "20           120    8000           50.0\n",
       "21           121    8200           50.0\n",
       "22           122    7900           50.0\n",
       "23           123    6500           50.0\n",
       "24           124    5800           50.0\n",
       "37           137    3600           50.0\n",
       "41           141    3500           50.0\n",
       "84           184    4200           50.0\n",
       "85           185    4100           50.0\n",
       "88           188    3800           50.0\n",
       "89           189    3600           50.0\n",
       "92           192    4000           50.0\n",
       "93           193    3900           50.0\n",
       "3            103    9000           60.0\n",
       "4            104    6000           60.0\n",
       "45           145   14000           80.0\n",
       "46           146   13500           80.0\n",
       "47           147   12000           80.0\n",
       "48           148   11000           80.0\n",
       "49           149   10500           80.0\n",
       "50           150   10000           80.0\n",
       "51           151    9500           80.0\n",
       "52           152    9000           80.0\n",
       "56           156   10000           80.0\n",
       "57           157    9500           80.0\n",
       "58           158    9000           80.0\n",
       "62           162   10500           80.0\n",
       "63           163    9500           80.0\n",
       "68           168   11500           80.0\n",
       "69           169   10000           80.0\n",
       "70           170    9600           80.0\n",
       "74           174   11000           80.0\n",
       "0            100   24000           90.0\n",
       "8            108   12008          100.0\n",
       "9            109    9000          100.0\n",
       "105          205   12008          110.0"
      ]
     },
     "execution_count": 47,
     "metadata": {},
     "output_type": "execute_result"
    }
   ],
   "source": [
    "## solution 3: concat\n",
    "\n",
    "new = DataFrame() \n",
    "\n",
    "for n, g in emp[['EMPLOYEE_ID','SALARY','DEPARTMENT_ID']].groupby('DEPARTMENT_ID'):\n",
    "    print(\"*\" * 20)\n",
    "    print(n) # department_id\n",
    "    print(g) \n",
    "    print('부서평균: ', g.SALARY.mean())\n",
    "    print(g[g.SALARY> g.SALARY.mean()])\n",
    "    new = pd.concat([new,g[g.SALARY> g.SALARY.mean()]])\n",
    "\n",
    "new\n"
   ]
  },
  {
   "cell_type": "markdown",
   "id": "63f9e003",
   "metadata": {
    "heading_collapsed": true
   },
   "source": [
    "### [문제109] 2003년 이전의 입사한 사원들의 정보를 출력하세요."
   ]
  },
  {
   "cell_type": "code",
   "execution_count": 84,
   "id": "b5306cdb",
   "metadata": {
    "ExecuteTime": {
     "end_time": "2023-01-01T08:11:54.684597Z",
     "start_time": "2023-01-01T08:11:54.663726Z"
    },
    "hidden": true
   },
   "outputs": [
    {
     "data": {
      "text/html": [
       "<div>\n",
       "<style scoped>\n",
       "    .dataframe tbody tr th:only-of-type {\n",
       "        vertical-align: middle;\n",
       "    }\n",
       "\n",
       "    .dataframe tbody tr th {\n",
       "        vertical-align: top;\n",
       "    }\n",
       "\n",
       "    .dataframe thead th {\n",
       "        text-align: right;\n",
       "    }\n",
       "</style>\n",
       "<table border=\"1\" class=\"dataframe\">\n",
       "  <thead>\n",
       "    <tr style=\"text-align: right;\">\n",
       "      <th></th>\n",
       "      <th>EMPLOYEE_ID</th>\n",
       "      <th>FIRST_NAME</th>\n",
       "      <th>LAST_NAME</th>\n",
       "      <th>EMAIL</th>\n",
       "      <th>PHONE_NUMBER</th>\n",
       "      <th>HIRE_DATE</th>\n",
       "      <th>JOB_ID</th>\n",
       "      <th>SALARY</th>\n",
       "      <th>COMMISSION_PCT</th>\n",
       "      <th>MANAGER_ID</th>\n",
       "      <th>DEPARTMENT_ID</th>\n",
       "    </tr>\n",
       "  </thead>\n",
       "  <tbody>\n",
       "    <tr>\n",
       "      <th>0</th>\n",
       "      <td>100</td>\n",
       "      <td>Steven</td>\n",
       "      <td>King</td>\n",
       "      <td>SKING</td>\n",
       "      <td>515.123.4567</td>\n",
       "      <td>2003-06-17</td>\n",
       "      <td>AD_PRES</td>\n",
       "      <td>24000</td>\n",
       "      <td>NaN</td>\n",
       "      <td>NaN</td>\n",
       "      <td>90.0</td>\n",
       "    </tr>\n",
       "    <tr>\n",
       "      <th>2</th>\n",
       "      <td>102</td>\n",
       "      <td>Lex</td>\n",
       "      <td>De Haan</td>\n",
       "      <td>LDEHAAN</td>\n",
       "      <td>515.123.4569</td>\n",
       "      <td>2001-01-13</td>\n",
       "      <td>AD_VP</td>\n",
       "      <td>17000</td>\n",
       "      <td>NaN</td>\n",
       "      <td>100.0</td>\n",
       "      <td>90.0</td>\n",
       "    </tr>\n",
       "    <tr>\n",
       "      <th>8</th>\n",
       "      <td>108</td>\n",
       "      <td>Nancy</td>\n",
       "      <td>Greenberg</td>\n",
       "      <td>NGREENBE</td>\n",
       "      <td>515.124.4569</td>\n",
       "      <td>2002-08-17</td>\n",
       "      <td>FI_MGR</td>\n",
       "      <td>12008</td>\n",
       "      <td>NaN</td>\n",
       "      <td>101.0</td>\n",
       "      <td>100.0</td>\n",
       "    </tr>\n",
       "    <tr>\n",
       "      <th>9</th>\n",
       "      <td>109</td>\n",
       "      <td>Daniel</td>\n",
       "      <td>Faviet</td>\n",
       "      <td>DFAVIET</td>\n",
       "      <td>515.124.4169</td>\n",
       "      <td>2002-08-16</td>\n",
       "      <td>FI_ACCOUNT</td>\n",
       "      <td>9000</td>\n",
       "      <td>NaN</td>\n",
       "      <td>108.0</td>\n",
       "      <td>100.0</td>\n",
       "    </tr>\n",
       "    <tr>\n",
       "      <th>14</th>\n",
       "      <td>114</td>\n",
       "      <td>Den</td>\n",
       "      <td>Raphaely</td>\n",
       "      <td>DRAPHEAL</td>\n",
       "      <td>515.127.4561</td>\n",
       "      <td>2002-12-07</td>\n",
       "      <td>PU_MAN</td>\n",
       "      <td>11000</td>\n",
       "      <td>NaN</td>\n",
       "      <td>100.0</td>\n",
       "      <td>30.0</td>\n",
       "    </tr>\n",
       "    <tr>\n",
       "      <th>15</th>\n",
       "      <td>115</td>\n",
       "      <td>Alexander</td>\n",
       "      <td>Khoo</td>\n",
       "      <td>AKHOO</td>\n",
       "      <td>515.127.4562</td>\n",
       "      <td>2003-05-18</td>\n",
       "      <td>PU_CLERK</td>\n",
       "      <td>3100</td>\n",
       "      <td>NaN</td>\n",
       "      <td>114.0</td>\n",
       "      <td>30.0</td>\n",
       "    </tr>\n",
       "    <tr>\n",
       "      <th>22</th>\n",
       "      <td>122</td>\n",
       "      <td>Payam</td>\n",
       "      <td>Kaufling</td>\n",
       "      <td>PKAUFLIN</td>\n",
       "      <td>650.123.3234</td>\n",
       "      <td>2003-05-01</td>\n",
       "      <td>ST_MAN</td>\n",
       "      <td>7900</td>\n",
       "      <td>NaN</td>\n",
       "      <td>100.0</td>\n",
       "      <td>50.0</td>\n",
       "    </tr>\n",
       "    <tr>\n",
       "      <th>37</th>\n",
       "      <td>137</td>\n",
       "      <td>Renske</td>\n",
       "      <td>Ladwig</td>\n",
       "      <td>RLADWIG</td>\n",
       "      <td>650.121.1234</td>\n",
       "      <td>2003-07-14</td>\n",
       "      <td>ST_CLERK</td>\n",
       "      <td>3600</td>\n",
       "      <td>NaN</td>\n",
       "      <td>123.0</td>\n",
       "      <td>50.0</td>\n",
       "    </tr>\n",
       "    <tr>\n",
       "      <th>41</th>\n",
       "      <td>141</td>\n",
       "      <td>Trenna</td>\n",
       "      <td>Rajs</td>\n",
       "      <td>TRAJS</td>\n",
       "      <td>650.121.8009</td>\n",
       "      <td>2003-10-17</td>\n",
       "      <td>ST_CLERK</td>\n",
       "      <td>3500</td>\n",
       "      <td>NaN</td>\n",
       "      <td>124.0</td>\n",
       "      <td>50.0</td>\n",
       "    </tr>\n",
       "    <tr>\n",
       "      <th>100</th>\n",
       "      <td>200</td>\n",
       "      <td>Jennifer</td>\n",
       "      <td>Whalen</td>\n",
       "      <td>JWHALEN</td>\n",
       "      <td>515.123.4444</td>\n",
       "      <td>2003-09-17</td>\n",
       "      <td>AD_ASST</td>\n",
       "      <td>4400</td>\n",
       "      <td>NaN</td>\n",
       "      <td>101.0</td>\n",
       "      <td>10.0</td>\n",
       "    </tr>\n",
       "    <tr>\n",
       "      <th>103</th>\n",
       "      <td>203</td>\n",
       "      <td>Susan</td>\n",
       "      <td>Mavris</td>\n",
       "      <td>SMAVRIS</td>\n",
       "      <td>515.123.7777</td>\n",
       "      <td>2002-06-07</td>\n",
       "      <td>HR_REP</td>\n",
       "      <td>6500</td>\n",
       "      <td>NaN</td>\n",
       "      <td>101.0</td>\n",
       "      <td>40.0</td>\n",
       "    </tr>\n",
       "    <tr>\n",
       "      <th>104</th>\n",
       "      <td>204</td>\n",
       "      <td>Hermann</td>\n",
       "      <td>Baer</td>\n",
       "      <td>HBAER</td>\n",
       "      <td>515.123.8888</td>\n",
       "      <td>2002-06-07</td>\n",
       "      <td>PR_REP</td>\n",
       "      <td>10000</td>\n",
       "      <td>NaN</td>\n",
       "      <td>101.0</td>\n",
       "      <td>70.0</td>\n",
       "    </tr>\n",
       "    <tr>\n",
       "      <th>105</th>\n",
       "      <td>205</td>\n",
       "      <td>Shelley</td>\n",
       "      <td>Higgins</td>\n",
       "      <td>SHIGGINS</td>\n",
       "      <td>515.123.8080</td>\n",
       "      <td>2002-06-07</td>\n",
       "      <td>AC_MGR</td>\n",
       "      <td>12008</td>\n",
       "      <td>NaN</td>\n",
       "      <td>101.0</td>\n",
       "      <td>110.0</td>\n",
       "    </tr>\n",
       "    <tr>\n",
       "      <th>106</th>\n",
       "      <td>206</td>\n",
       "      <td>William</td>\n",
       "      <td>Gietz</td>\n",
       "      <td>WGIETZ</td>\n",
       "      <td>515.123.8181</td>\n",
       "      <td>2002-06-07</td>\n",
       "      <td>AC_ACCOUNT</td>\n",
       "      <td>8300</td>\n",
       "      <td>NaN</td>\n",
       "      <td>205.0</td>\n",
       "      <td>110.0</td>\n",
       "    </tr>\n",
       "  </tbody>\n",
       "</table>\n",
       "</div>"
      ],
      "text/plain": [
       "     EMPLOYEE_ID FIRST_NAME  LAST_NAME     EMAIL  PHONE_NUMBER   HIRE_DATE  \\\n",
       "0            100     Steven       King     SKING  515.123.4567  2003-06-17   \n",
       "2            102        Lex    De Haan   LDEHAAN  515.123.4569  2001-01-13   \n",
       "8            108      Nancy  Greenberg  NGREENBE  515.124.4569  2002-08-17   \n",
       "9            109     Daniel     Faviet   DFAVIET  515.124.4169  2002-08-16   \n",
       "14           114        Den   Raphaely  DRAPHEAL  515.127.4561  2002-12-07   \n",
       "15           115  Alexander       Khoo     AKHOO  515.127.4562  2003-05-18   \n",
       "22           122      Payam   Kaufling  PKAUFLIN  650.123.3234  2003-05-01   \n",
       "37           137     Renske     Ladwig   RLADWIG  650.121.1234  2003-07-14   \n",
       "41           141     Trenna       Rajs     TRAJS  650.121.8009  2003-10-17   \n",
       "100          200   Jennifer     Whalen   JWHALEN  515.123.4444  2003-09-17   \n",
       "103          203      Susan     Mavris   SMAVRIS  515.123.7777  2002-06-07   \n",
       "104          204    Hermann       Baer     HBAER  515.123.8888  2002-06-07   \n",
       "105          205    Shelley    Higgins  SHIGGINS  515.123.8080  2002-06-07   \n",
       "106          206    William      Gietz    WGIETZ  515.123.8181  2002-06-07   \n",
       "\n",
       "         JOB_ID  SALARY  COMMISSION_PCT  MANAGER_ID  DEPARTMENT_ID  \n",
       "0       AD_PRES   24000             NaN         NaN           90.0  \n",
       "2         AD_VP   17000             NaN       100.0           90.0  \n",
       "8        FI_MGR   12008             NaN       101.0          100.0  \n",
       "9    FI_ACCOUNT    9000             NaN       108.0          100.0  \n",
       "14       PU_MAN   11000             NaN       100.0           30.0  \n",
       "15     PU_CLERK    3100             NaN       114.0           30.0  \n",
       "22       ST_MAN    7900             NaN       100.0           50.0  \n",
       "37     ST_CLERK    3600             NaN       123.0           50.0  \n",
       "41     ST_CLERK    3500             NaN       124.0           50.0  \n",
       "100     AD_ASST    4400             NaN       101.0           10.0  \n",
       "103      HR_REP    6500             NaN       101.0           40.0  \n",
       "104      PR_REP   10000             NaN       101.0           70.0  \n",
       "105      AC_MGR   12008             NaN       101.0          110.0  \n",
       "106  AC_ACCOUNT    8300             NaN       205.0          110.0  "
      ]
     },
     "execution_count": 84,
     "metadata": {},
     "output_type": "execute_result"
    }
   ],
   "source": [
    "# soltuion 1 : str로 비교하기\n",
    "## str.slice : Series에서 slice로 비교하는 방법\n",
    "\n",
    "emp[emp['HIRE_DATE'].str.slice(0,4) <= '2003'] # 그래도 값을 비교할때는 date형으로 비교하는게 낫다"
   ]
  },
  {
   "cell_type": "code",
   "execution_count": 85,
   "id": "78c51faa",
   "metadata": {
    "ExecuteTime": {
     "end_time": "2023-01-01T08:12:28.863293Z",
     "start_time": "2023-01-01T08:12:28.838587Z"
    },
    "hidden": true
   },
   "outputs": [
    {
     "data": {
      "text/html": [
       "<div>\n",
       "<style scoped>\n",
       "    .dataframe tbody tr th:only-of-type {\n",
       "        vertical-align: middle;\n",
       "    }\n",
       "\n",
       "    .dataframe tbody tr th {\n",
       "        vertical-align: top;\n",
       "    }\n",
       "\n",
       "    .dataframe thead th {\n",
       "        text-align: right;\n",
       "    }\n",
       "</style>\n",
       "<table border=\"1\" class=\"dataframe\">\n",
       "  <thead>\n",
       "    <tr style=\"text-align: right;\">\n",
       "      <th></th>\n",
       "      <th>EMPLOYEE_ID</th>\n",
       "      <th>HIRE_DATE</th>\n",
       "    </tr>\n",
       "  </thead>\n",
       "  <tbody>\n",
       "    <tr>\n",
       "      <th>0</th>\n",
       "      <td>100</td>\n",
       "      <td>2003-06-17</td>\n",
       "    </tr>\n",
       "    <tr>\n",
       "      <th>2</th>\n",
       "      <td>102</td>\n",
       "      <td>2001-01-13</td>\n",
       "    </tr>\n",
       "    <tr>\n",
       "      <th>8</th>\n",
       "      <td>108</td>\n",
       "      <td>2002-08-17</td>\n",
       "    </tr>\n",
       "    <tr>\n",
       "      <th>9</th>\n",
       "      <td>109</td>\n",
       "      <td>2002-08-16</td>\n",
       "    </tr>\n",
       "    <tr>\n",
       "      <th>14</th>\n",
       "      <td>114</td>\n",
       "      <td>2002-12-07</td>\n",
       "    </tr>\n",
       "    <tr>\n",
       "      <th>15</th>\n",
       "      <td>115</td>\n",
       "      <td>2003-05-18</td>\n",
       "    </tr>\n",
       "    <tr>\n",
       "      <th>22</th>\n",
       "      <td>122</td>\n",
       "      <td>2003-05-01</td>\n",
       "    </tr>\n",
       "    <tr>\n",
       "      <th>37</th>\n",
       "      <td>137</td>\n",
       "      <td>2003-07-14</td>\n",
       "    </tr>\n",
       "    <tr>\n",
       "      <th>41</th>\n",
       "      <td>141</td>\n",
       "      <td>2003-10-17</td>\n",
       "    </tr>\n",
       "    <tr>\n",
       "      <th>100</th>\n",
       "      <td>200</td>\n",
       "      <td>2003-09-17</td>\n",
       "    </tr>\n",
       "    <tr>\n",
       "      <th>103</th>\n",
       "      <td>203</td>\n",
       "      <td>2002-06-07</td>\n",
       "    </tr>\n",
       "    <tr>\n",
       "      <th>104</th>\n",
       "      <td>204</td>\n",
       "      <td>2002-06-07</td>\n",
       "    </tr>\n",
       "    <tr>\n",
       "      <th>105</th>\n",
       "      <td>205</td>\n",
       "      <td>2002-06-07</td>\n",
       "    </tr>\n",
       "    <tr>\n",
       "      <th>106</th>\n",
       "      <td>206</td>\n",
       "      <td>2002-06-07</td>\n",
       "    </tr>\n",
       "  </tbody>\n",
       "</table>\n",
       "</div>"
      ],
      "text/plain": [
       "     EMPLOYEE_ID   HIRE_DATE\n",
       "0            100  2003-06-17\n",
       "2            102  2001-01-13\n",
       "8            108  2002-08-17\n",
       "9            109  2002-08-16\n",
       "14           114  2002-12-07\n",
       "15           115  2003-05-18\n",
       "22           122  2003-05-01\n",
       "37           137  2003-07-14\n",
       "41           141  2003-10-17\n",
       "100          200  2003-09-17\n",
       "103          203  2002-06-07\n",
       "104          204  2002-06-07\n",
       "105          205  2002-06-07\n",
       "106          206  2002-06-07"
      ]
     },
     "execution_count": 85,
     "metadata": {},
     "output_type": "execute_result"
    }
   ],
   "source": [
    "emp[emp['HIRE_DATE'].str.slice(0,4).astype('int') <= 2003][['EMPLOYEE_ID','HIRE_DATE']]"
   ]
  },
  {
   "cell_type": "code",
   "execution_count": 86,
   "id": "17583178",
   "metadata": {
    "ExecuteTime": {
     "end_time": "2023-01-01T08:12:53.924813Z",
     "start_time": "2023-01-01T08:12:53.913790Z"
    },
    "hidden": true
   },
   "outputs": [
    {
     "data": {
      "text/html": [
       "<div>\n",
       "<style scoped>\n",
       "    .dataframe tbody tr th:only-of-type {\n",
       "        vertical-align: middle;\n",
       "    }\n",
       "\n",
       "    .dataframe tbody tr th {\n",
       "        vertical-align: top;\n",
       "    }\n",
       "\n",
       "    .dataframe thead th {\n",
       "        text-align: right;\n",
       "    }\n",
       "</style>\n",
       "<table border=\"1\" class=\"dataframe\">\n",
       "  <thead>\n",
       "    <tr style=\"text-align: right;\">\n",
       "      <th></th>\n",
       "      <th>EMPLOYEE_ID</th>\n",
       "      <th>HIRE_DATE</th>\n",
       "    </tr>\n",
       "  </thead>\n",
       "  <tbody>\n",
       "    <tr>\n",
       "      <th>2</th>\n",
       "      <td>102</td>\n",
       "      <td>2001-01-13</td>\n",
       "    </tr>\n",
       "    <tr>\n",
       "      <th>8</th>\n",
       "      <td>108</td>\n",
       "      <td>2002-08-17</td>\n",
       "    </tr>\n",
       "    <tr>\n",
       "      <th>9</th>\n",
       "      <td>109</td>\n",
       "      <td>2002-08-16</td>\n",
       "    </tr>\n",
       "    <tr>\n",
       "      <th>14</th>\n",
       "      <td>114</td>\n",
       "      <td>2002-12-07</td>\n",
       "    </tr>\n",
       "    <tr>\n",
       "      <th>103</th>\n",
       "      <td>203</td>\n",
       "      <td>2002-06-07</td>\n",
       "    </tr>\n",
       "    <tr>\n",
       "      <th>104</th>\n",
       "      <td>204</td>\n",
       "      <td>2002-06-07</td>\n",
       "    </tr>\n",
       "    <tr>\n",
       "      <th>105</th>\n",
       "      <td>205</td>\n",
       "      <td>2002-06-07</td>\n",
       "    </tr>\n",
       "    <tr>\n",
       "      <th>106</th>\n",
       "      <td>206</td>\n",
       "      <td>2002-06-07</td>\n",
       "    </tr>\n",
       "  </tbody>\n",
       "</table>\n",
       "</div>"
      ],
      "text/plain": [
       "     EMPLOYEE_ID   HIRE_DATE\n",
       "2            102  2001-01-13\n",
       "8            108  2002-08-17\n",
       "9            109  2002-08-16\n",
       "14           114  2002-12-07\n",
       "103          203  2002-06-07\n",
       "104          204  2002-06-07\n",
       "105          205  2002-06-07\n",
       "106          206  2002-06-07"
      ]
     },
     "execution_count": 86,
     "metadata": {},
     "output_type": "execute_result"
    }
   ],
   "source": [
    "# solution 2 \n",
    "\n",
    "emp[emp['HIRE_DATE']<='2003-01-01'][['EMPLOYEE_ID','HIRE_DATE']]"
   ]
  },
  {
   "cell_type": "code",
   "execution_count": 87,
   "id": "48b0b433",
   "metadata": {
    "ExecuteTime": {
     "end_time": "2023-01-01T08:13:38.769256Z",
     "start_time": "2023-01-01T08:13:38.757258Z"
    },
    "hidden": true
   },
   "outputs": [
    {
     "data": {
      "text/html": [
       "<div>\n",
       "<style scoped>\n",
       "    .dataframe tbody tr th:only-of-type {\n",
       "        vertical-align: middle;\n",
       "    }\n",
       "\n",
       "    .dataframe tbody tr th {\n",
       "        vertical-align: top;\n",
       "    }\n",
       "\n",
       "    .dataframe thead th {\n",
       "        text-align: right;\n",
       "    }\n",
       "</style>\n",
       "<table border=\"1\" class=\"dataframe\">\n",
       "  <thead>\n",
       "    <tr style=\"text-align: right;\">\n",
       "      <th></th>\n",
       "      <th>EMPLOYEE_ID</th>\n",
       "      <th>HIRE_DATE</th>\n",
       "    </tr>\n",
       "  </thead>\n",
       "  <tbody>\n",
       "    <tr>\n",
       "      <th>2</th>\n",
       "      <td>102</td>\n",
       "      <td>2001-01-13</td>\n",
       "    </tr>\n",
       "    <tr>\n",
       "      <th>8</th>\n",
       "      <td>108</td>\n",
       "      <td>2002-08-17</td>\n",
       "    </tr>\n",
       "    <tr>\n",
       "      <th>9</th>\n",
       "      <td>109</td>\n",
       "      <td>2002-08-16</td>\n",
       "    </tr>\n",
       "    <tr>\n",
       "      <th>14</th>\n",
       "      <td>114</td>\n",
       "      <td>2002-12-07</td>\n",
       "    </tr>\n",
       "    <tr>\n",
       "      <th>103</th>\n",
       "      <td>203</td>\n",
       "      <td>2002-06-07</td>\n",
       "    </tr>\n",
       "    <tr>\n",
       "      <th>104</th>\n",
       "      <td>204</td>\n",
       "      <td>2002-06-07</td>\n",
       "    </tr>\n",
       "    <tr>\n",
       "      <th>105</th>\n",
       "      <td>205</td>\n",
       "      <td>2002-06-07</td>\n",
       "    </tr>\n",
       "    <tr>\n",
       "      <th>106</th>\n",
       "      <td>206</td>\n",
       "      <td>2002-06-07</td>\n",
       "    </tr>\n",
       "  </tbody>\n",
       "</table>\n",
       "</div>"
      ],
      "text/plain": [
       "     EMPLOYEE_ID   HIRE_DATE\n",
       "2            102  2001-01-13\n",
       "8            108  2002-08-17\n",
       "9            109  2002-08-16\n",
       "14           114  2002-12-07\n",
       "103          203  2002-06-07\n",
       "104          204  2002-06-07\n",
       "105          205  2002-06-07\n",
       "106          206  2002-06-07"
      ]
     },
     "execution_count": 87,
     "metadata": {},
     "output_type": "execute_result"
    }
   ],
   "source": [
    "# soltuion 3 : date type으로 변환\n",
    "\n",
    "emp[pd.to_datetime(emp['HIRE_DATE'],format = '%Y-%m-%d') <= '2003-01-01'][['EMPLOYEE_ID','HIRE_DATE']]"
   ]
  },
  {
   "cell_type": "code",
   "execution_count": 88,
   "id": "7eaca1bc",
   "metadata": {
    "ExecuteTime": {
     "end_time": "2023-01-01T08:29:45.251343Z",
     "start_time": "2023-01-01T08:29:45.225229Z"
    },
    "hidden": true
   },
   "outputs": [
    {
     "data": {
      "text/html": [
       "<div>\n",
       "<style scoped>\n",
       "    .dataframe tbody tr th:only-of-type {\n",
       "        vertical-align: middle;\n",
       "    }\n",
       "\n",
       "    .dataframe tbody tr th {\n",
       "        vertical-align: top;\n",
       "    }\n",
       "\n",
       "    .dataframe thead th {\n",
       "        text-align: right;\n",
       "    }\n",
       "</style>\n",
       "<table border=\"1\" class=\"dataframe\">\n",
       "  <thead>\n",
       "    <tr style=\"text-align: right;\">\n",
       "      <th></th>\n",
       "      <th>EMPLOYEE_ID</th>\n",
       "      <th>FIRST_NAME</th>\n",
       "      <th>LAST_NAME</th>\n",
       "      <th>EMAIL</th>\n",
       "      <th>PHONE_NUMBER</th>\n",
       "      <th>HIRE_DATE</th>\n",
       "      <th>JOB_ID</th>\n",
       "      <th>SALARY</th>\n",
       "      <th>COMMISSION_PCT</th>\n",
       "      <th>MANAGER_ID</th>\n",
       "      <th>DEPARTMENT_ID</th>\n",
       "    </tr>\n",
       "  </thead>\n",
       "  <tbody>\n",
       "    <tr>\n",
       "      <th>2</th>\n",
       "      <td>102</td>\n",
       "      <td>Lex</td>\n",
       "      <td>De Haan</td>\n",
       "      <td>LDEHAAN</td>\n",
       "      <td>515.123.4569</td>\n",
       "      <td>2001-01-13</td>\n",
       "      <td>AD_VP</td>\n",
       "      <td>17000</td>\n",
       "      <td>NaN</td>\n",
       "      <td>100.0</td>\n",
       "      <td>90.0</td>\n",
       "    </tr>\n",
       "    <tr>\n",
       "      <th>8</th>\n",
       "      <td>108</td>\n",
       "      <td>Nancy</td>\n",
       "      <td>Greenberg</td>\n",
       "      <td>NGREENBE</td>\n",
       "      <td>515.124.4569</td>\n",
       "      <td>2002-08-17</td>\n",
       "      <td>FI_MGR</td>\n",
       "      <td>12008</td>\n",
       "      <td>NaN</td>\n",
       "      <td>101.0</td>\n",
       "      <td>100.0</td>\n",
       "    </tr>\n",
       "    <tr>\n",
       "      <th>9</th>\n",
       "      <td>109</td>\n",
       "      <td>Daniel</td>\n",
       "      <td>Faviet</td>\n",
       "      <td>DFAVIET</td>\n",
       "      <td>515.124.4169</td>\n",
       "      <td>2002-08-16</td>\n",
       "      <td>FI_ACCOUNT</td>\n",
       "      <td>9000</td>\n",
       "      <td>NaN</td>\n",
       "      <td>108.0</td>\n",
       "      <td>100.0</td>\n",
       "    </tr>\n",
       "    <tr>\n",
       "      <th>14</th>\n",
       "      <td>114</td>\n",
       "      <td>Den</td>\n",
       "      <td>Raphaely</td>\n",
       "      <td>DRAPHEAL</td>\n",
       "      <td>515.127.4561</td>\n",
       "      <td>2002-12-07</td>\n",
       "      <td>PU_MAN</td>\n",
       "      <td>11000</td>\n",
       "      <td>NaN</td>\n",
       "      <td>100.0</td>\n",
       "      <td>30.0</td>\n",
       "    </tr>\n",
       "    <tr>\n",
       "      <th>103</th>\n",
       "      <td>203</td>\n",
       "      <td>Susan</td>\n",
       "      <td>Mavris</td>\n",
       "      <td>SMAVRIS</td>\n",
       "      <td>515.123.7777</td>\n",
       "      <td>2002-06-07</td>\n",
       "      <td>HR_REP</td>\n",
       "      <td>6500</td>\n",
       "      <td>NaN</td>\n",
       "      <td>101.0</td>\n",
       "      <td>40.0</td>\n",
       "    </tr>\n",
       "    <tr>\n",
       "      <th>104</th>\n",
       "      <td>204</td>\n",
       "      <td>Hermann</td>\n",
       "      <td>Baer</td>\n",
       "      <td>HBAER</td>\n",
       "      <td>515.123.8888</td>\n",
       "      <td>2002-06-07</td>\n",
       "      <td>PR_REP</td>\n",
       "      <td>10000</td>\n",
       "      <td>NaN</td>\n",
       "      <td>101.0</td>\n",
       "      <td>70.0</td>\n",
       "    </tr>\n",
       "    <tr>\n",
       "      <th>105</th>\n",
       "      <td>205</td>\n",
       "      <td>Shelley</td>\n",
       "      <td>Higgins</td>\n",
       "      <td>SHIGGINS</td>\n",
       "      <td>515.123.8080</td>\n",
       "      <td>2002-06-07</td>\n",
       "      <td>AC_MGR</td>\n",
       "      <td>12008</td>\n",
       "      <td>NaN</td>\n",
       "      <td>101.0</td>\n",
       "      <td>110.0</td>\n",
       "    </tr>\n",
       "    <tr>\n",
       "      <th>106</th>\n",
       "      <td>206</td>\n",
       "      <td>William</td>\n",
       "      <td>Gietz</td>\n",
       "      <td>WGIETZ</td>\n",
       "      <td>515.123.8181</td>\n",
       "      <td>2002-06-07</td>\n",
       "      <td>AC_ACCOUNT</td>\n",
       "      <td>8300</td>\n",
       "      <td>NaN</td>\n",
       "      <td>205.0</td>\n",
       "      <td>110.0</td>\n",
       "    </tr>\n",
       "  </tbody>\n",
       "</table>\n",
       "</div>"
      ],
      "text/plain": [
       "     EMPLOYEE_ID FIRST_NAME  LAST_NAME     EMAIL  PHONE_NUMBER   HIRE_DATE  \\\n",
       "2            102        Lex    De Haan   LDEHAAN  515.123.4569  2001-01-13   \n",
       "8            108      Nancy  Greenberg  NGREENBE  515.124.4569  2002-08-17   \n",
       "9            109     Daniel     Faviet   DFAVIET  515.124.4169  2002-08-16   \n",
       "14           114        Den   Raphaely  DRAPHEAL  515.127.4561  2002-12-07   \n",
       "103          203      Susan     Mavris   SMAVRIS  515.123.7777  2002-06-07   \n",
       "104          204    Hermann       Baer     HBAER  515.123.8888  2002-06-07   \n",
       "105          205    Shelley    Higgins  SHIGGINS  515.123.8080  2002-06-07   \n",
       "106          206    William      Gietz    WGIETZ  515.123.8181  2002-06-07   \n",
       "\n",
       "         JOB_ID  SALARY  COMMISSION_PCT  MANAGER_ID  DEPARTMENT_ID  \n",
       "2         AD_VP   17000             NaN       100.0           90.0  \n",
       "8        FI_MGR   12008             NaN       101.0          100.0  \n",
       "9    FI_ACCOUNT    9000             NaN       108.0          100.0  \n",
       "14       PU_MAN   11000             NaN       100.0           30.0  \n",
       "103      HR_REP    6500             NaN       101.0           40.0  \n",
       "104      PR_REP   10000             NaN       101.0           70.0  \n",
       "105      AC_MGR   12008             NaN       101.0          110.0  \n",
       "106  AC_ACCOUNT    8300             NaN       205.0          110.0  "
      ]
     },
     "execution_count": 88,
     "metadata": {},
     "output_type": "execute_result"
    }
   ],
   "source": [
    "emp[pd.to_datetime(emp['HIRE_DATE'],format='%Y-%m-%d')< pd.to_datetime('2003-01-01')]"
   ]
  },
  {
   "cell_type": "markdown",
   "id": "740ba1ff",
   "metadata": {
    "heading_collapsed": true
   },
   "source": [
    "### [문제110] 2005년도에 입사한 사원들의 급여의 총액을 구하세요"
   ]
  },
  {
   "cell_type": "code",
   "execution_count": 89,
   "id": "1500c2d5",
   "metadata": {
    "ExecuteTime": {
     "end_time": "2023-01-01T08:30:26.248004Z",
     "start_time": "2023-01-01T08:30:26.233516Z"
    },
    "hidden": true
   },
   "outputs": [
    {
     "data": {
      "text/plain": [
       "197900"
      ]
     },
     "execution_count": 89,
     "metadata": {},
     "output_type": "execute_result"
    }
   ],
   "source": [
    "# solution : str \n",
    "\n",
    "emp[emp['HIRE_DATE'].str.slice(0,4).astype(int) == 2005]['SALARY'].sum()"
   ]
  },
  {
   "cell_type": "code",
   "execution_count": 94,
   "id": "6650d3c8",
   "metadata": {
    "ExecuteTime": {
     "end_time": "2023-01-01T08:31:34.433304Z",
     "start_time": "2023-01-01T08:31:34.414223Z"
    },
    "hidden": true
   },
   "outputs": [
    {
     "data": {
      "text/plain": [
       "197900"
      ]
     },
     "execution_count": 94,
     "metadata": {},
     "output_type": "execute_result"
    }
   ],
   "source": [
    "# solution 2 : date \n",
    "\n",
    "emp[pd.to_datetime(emp['HIRE_DATE'],format = '%Y-%m-%d').dt.year == 2005]['SALARY'].sum()"
   ]
  },
  {
   "cell_type": "code",
   "execution_count": 97,
   "id": "363f3a3b",
   "metadata": {
    "ExecuteTime": {
     "end_time": "2023-01-01T08:33:29.595250Z",
     "start_time": "2023-01-01T08:33:29.569329Z"
    },
    "hidden": true,
    "scrolled": true
   },
   "outputs": [
    {
     "name": "stdout",
     "output_type": "stream",
     "text": [
      "<class 'pandas.core.frame.DataFrame'>\n",
      "RangeIndex: 107 entries, 0 to 106\n",
      "Data columns (total 11 columns):\n",
      " #   Column          Non-Null Count  Dtype         \n",
      "---  ------          --------------  -----         \n",
      " 0   EMPLOYEE_ID     107 non-null    int64         \n",
      " 1   FIRST_NAME      107 non-null    object        \n",
      " 2   LAST_NAME       107 non-null    object        \n",
      " 3   EMAIL           107 non-null    object        \n",
      " 4   PHONE_NUMBER    107 non-null    object        \n",
      " 5   HIRE_DATE       107 non-null    datetime64[ns]\n",
      " 6   JOB_ID          107 non-null    object        \n",
      " 7   SALARY          107 non-null    int64         \n",
      " 8   COMMISSION_PCT  35 non-null     float64       \n",
      " 9   MANAGER_ID      106 non-null    float64       \n",
      " 10  DEPARTMENT_ID   106 non-null    float64       \n",
      "dtypes: datetime64[ns](1), float64(3), int64(2), object(5)\n",
      "memory usage: 9.3+ KB\n"
     ]
    }
   ],
   "source": [
    "# soltuion 3: hire_date를 date 형식으로 수정 후 사용\n",
    "emp['HIRE_DATE'] = pd.to_datetime(emp['HIRE_DATE'],format = '%Y-%m-%d')\n",
    "emp.info()"
   ]
  },
  {
   "cell_type": "code",
   "execution_count": 100,
   "id": "034864d9",
   "metadata": {
    "ExecuteTime": {
     "end_time": "2023-01-01T08:35:25.018930Z",
     "start_time": "2023-01-01T08:35:24.991943Z"
    },
    "hidden": true
   },
   "outputs": [
    {
     "name": "stdout",
     "output_type": "stream",
     "text": [
      "<class 'pandas.core.frame.DataFrame'>\n",
      "RangeIndex: 107 entries, 0 to 106\n",
      "Data columns (total 11 columns):\n",
      " #   Column          Non-Null Count  Dtype         \n",
      "---  ------          --------------  -----         \n",
      " 0   EMPLOYEE_ID     107 non-null    int64         \n",
      " 1   FIRST_NAME      107 non-null    object        \n",
      " 2   LAST_NAME       107 non-null    object        \n",
      " 3   EMAIL           107 non-null    object        \n",
      " 4   PHONE_NUMBER    107 non-null    object        \n",
      " 5   HIRE_DATE       107 non-null    datetime64[ns]\n",
      " 6   JOB_ID          107 non-null    object        \n",
      " 7   SALARY          107 non-null    int64         \n",
      " 8   COMMISSION_PCT  35 non-null     float64       \n",
      " 9   MANAGER_ID      106 non-null    float64       \n",
      " 10  DEPARTMENT_ID   106 non-null    float64       \n",
      "dtypes: datetime64[ns](1), float64(3), int64(2), object(5)\n",
      "memory usage: 9.3+ KB\n"
     ]
    }
   ],
   "source": [
    "# parse_dates : csv read시 datetime으로 불러오기\n",
    "## 이 테이블에 대해서 기본 정보를 알 수 있을 때, parser_dates로 불러올 수 있는데 format이 다를 수 있기 때문에 date_parser 사용해서 format 지정해주기\n",
    "\n",
    "emp = pd.read_csv(\"c:/data/employees.csv\", parse_dates = ['HIRE_DATE'], date_parser= lambda arg: pd.to_datetime(arg, format = '%Y-%m-%d'))\n",
    "\n",
    "emp.info()"
   ]
  },
  {
   "cell_type": "markdown",
   "id": "59851108",
   "metadata": {
    "heading_collapsed": true
   },
   "source": [
    "### [문제111] 년도별 총액급여를 출력해주세요."
   ]
  },
  {
   "cell_type": "code",
   "execution_count": 102,
   "id": "276ed009",
   "metadata": {
    "ExecuteTime": {
     "end_time": "2023-01-01T08:36:04.207309Z",
     "start_time": "2023-01-01T08:36:04.187309Z"
    },
    "hidden": true
   },
   "outputs": [
    {
     "data": {
      "text/plain": [
       "HIRE_DATE\n",
       "2001     17000\n",
       "2002     68816\n",
       "2003     46500\n",
       "2004     86000\n",
       "2005    197900\n",
       "2006    121100\n",
       "2007     94900\n",
       "2008     59200\n",
       "Name: SALARY, dtype: int64"
      ]
     },
     "execution_count": 102,
     "metadata": {},
     "output_type": "execute_result"
    }
   ],
   "source": [
    "emp['SALARY'].groupby(emp['HIRE_DATE'].dt.year).sum()"
   ]
  },
  {
   "cell_type": "markdown",
   "id": "5a989514",
   "metadata": {
    "heading_collapsed": true
   },
   "source": [
    "### [문제112] 요일별 입사 인원수를 출력해주세요. 출력되는 화면의 요일은 한글로 출력해주세요."
   ]
  },
  {
   "cell_type": "code",
   "execution_count": 103,
   "id": "f26343f4",
   "metadata": {
    "ExecuteTime": {
     "end_time": "2023-01-01T08:44:42.349897Z",
     "start_time": "2023-01-01T08:44:42.330876Z"
    },
    "hidden": true
   },
   "outputs": [
    {
     "data": {
      "text/plain": [
       "HIRE_DATE\n",
       "Friday       19\n",
       "Monday       10\n",
       "Saturday     19\n",
       "Sunday       15\n",
       "Thursday     16\n",
       "Tuesday      13\n",
       "Wednesday    15\n",
       "Name: EMPLOYEE_ID, dtype: int64"
      ]
     },
     "execution_count": 103,
     "metadata": {},
     "output_type": "execute_result"
    }
   ],
   "source": [
    "# 입사 인원 수 뽑기\n",
    "\n",
    "emp['EMPLOYEE_ID'].groupby(emp['HIRE_DATE'].dt.day_name()).count()"
   ]
  },
  {
   "cell_type": "code",
   "execution_count": 114,
   "id": "5b440719",
   "metadata": {
    "ExecuteTime": {
     "end_time": "2023-01-01T08:46:30.636365Z",
     "start_time": "2023-01-01T08:46:30.612856Z"
    },
    "hidden": true
   },
   "outputs": [
    {
     "data": {
      "text/plain": [
       "HIRE_DATE\n",
       "0    10\n",
       "1    13\n",
       "2    15\n",
       "3    16\n",
       "4    19\n",
       "5    19\n",
       "6    15\n",
       "Name: EMPLOYEE_ID, dtype: int64"
      ]
     },
     "execution_count": 114,
     "metadata": {},
     "output_type": "execute_result"
    }
   ],
   "source": [
    "# weekday 이용해서 index를 월~일로 변경하기 \n",
    "\n",
    "week = emp['EMPLOYEE_ID'].groupby(emp['HIRE_DATE'].dt.dayofweek).count()\n",
    "week.sort_index(ascending = True)"
   ]
  },
  {
   "cell_type": "code",
   "execution_count": 115,
   "id": "1a211939",
   "metadata": {
    "ExecuteTime": {
     "end_time": "2023-01-01T08:46:31.886946Z",
     "start_time": "2023-01-01T08:46:31.865628Z"
    },
    "hidden": true
   },
   "outputs": [
    {
     "data": {
      "text/html": [
       "<div>\n",
       "<style scoped>\n",
       "    .dataframe tbody tr th:only-of-type {\n",
       "        vertical-align: middle;\n",
       "    }\n",
       "\n",
       "    .dataframe tbody tr th {\n",
       "        vertical-align: top;\n",
       "    }\n",
       "\n",
       "    .dataframe thead th {\n",
       "        text-align: right;\n",
       "    }\n",
       "</style>\n",
       "<table border=\"1\" class=\"dataframe\">\n",
       "  <thead>\n",
       "    <tr style=\"text-align: right;\">\n",
       "      <th></th>\n",
       "      <th>요일</th>\n",
       "      <th>인원수</th>\n",
       "    </tr>\n",
       "  </thead>\n",
       "  <tbody>\n",
       "    <tr>\n",
       "      <th>0</th>\n",
       "      <td>월</td>\n",
       "      <td>10</td>\n",
       "    </tr>\n",
       "    <tr>\n",
       "      <th>1</th>\n",
       "      <td>화</td>\n",
       "      <td>13</td>\n",
       "    </tr>\n",
       "    <tr>\n",
       "      <th>2</th>\n",
       "      <td>수</td>\n",
       "      <td>15</td>\n",
       "    </tr>\n",
       "    <tr>\n",
       "      <th>3</th>\n",
       "      <td>목</td>\n",
       "      <td>16</td>\n",
       "    </tr>\n",
       "    <tr>\n",
       "      <th>4</th>\n",
       "      <td>금</td>\n",
       "      <td>19</td>\n",
       "    </tr>\n",
       "    <tr>\n",
       "      <th>5</th>\n",
       "      <td>토</td>\n",
       "      <td>19</td>\n",
       "    </tr>\n",
       "    <tr>\n",
       "      <th>6</th>\n",
       "      <td>일</td>\n",
       "      <td>15</td>\n",
       "    </tr>\n",
       "  </tbody>\n",
       "</table>\n",
       "</div>"
      ],
      "text/plain": [
       "  요일  인원수\n",
       "0  월   10\n",
       "1  화   13\n",
       "2  수   15\n",
       "3  목   16\n",
       "4  금   19\n",
       "5  토   19\n",
       "6  일   15"
      ]
     },
     "execution_count": 115,
     "metadata": {},
     "output_type": "execute_result"
    }
   ],
   "source": [
    "week.index = ['월','화','수','목','금','토','일']\n",
    "week = week.reset_index()\n",
    "\n",
    "week.columns = ['요일','인원수'] #편한거로 선택\n",
    "\n",
    "week"
   ]
  },
  {
   "cell_type": "markdown",
   "id": "42d0d04d",
   "metadata": {},
   "source": [
    "### [문제113] 년도, 분기별 급여 총액을 출력해주세요.\n"
   ]
  },
  {
   "cell_type": "code",
   "execution_count": 123,
   "id": "4cf33cf0",
   "metadata": {
    "ExecuteTime": {
     "end_time": "2023-01-01T08:48:40.796082Z",
     "start_time": "2023-01-01T08:48:40.768511Z"
    }
   },
   "outputs": [
    {
     "data": {
      "text/html": [
       "<div>\n",
       "<style scoped>\n",
       "    .dataframe tbody tr th:only-of-type {\n",
       "        vertical-align: middle;\n",
       "    }\n",
       "\n",
       "    .dataframe tbody tr th {\n",
       "        vertical-align: top;\n",
       "    }\n",
       "\n",
       "    .dataframe thead th {\n",
       "        text-align: right;\n",
       "    }\n",
       "</style>\n",
       "<table border=\"1\" class=\"dataframe\">\n",
       "  <thead>\n",
       "    <tr style=\"text-align: right;\">\n",
       "      <th></th>\n",
       "      <th>1분기</th>\n",
       "      <th>2분기</th>\n",
       "      <th>3분기</th>\n",
       "      <th>4분기</th>\n",
       "    </tr>\n",
       "    <tr>\n",
       "      <th>년도</th>\n",
       "      <th></th>\n",
       "      <th></th>\n",
       "      <th></th>\n",
       "      <th></th>\n",
       "    </tr>\n",
       "  </thead>\n",
       "  <tbody>\n",
       "    <tr>\n",
       "      <th>2001</th>\n",
       "      <td>17000.0</td>\n",
       "      <td>0.0</td>\n",
       "      <td>0.0</td>\n",
       "      <td>0.0</td>\n",
       "    </tr>\n",
       "    <tr>\n",
       "      <th>2002</th>\n",
       "      <td>0.0</td>\n",
       "      <td>36808.0</td>\n",
       "      <td>21008.0</td>\n",
       "      <td>11000.0</td>\n",
       "    </tr>\n",
       "    <tr>\n",
       "      <th>2003</th>\n",
       "      <td>0.0</td>\n",
       "      <td>35000.0</td>\n",
       "      <td>8000.0</td>\n",
       "      <td>3500.0</td>\n",
       "    </tr>\n",
       "    <tr>\n",
       "      <th>2004</th>\n",
       "      <td>40700.0</td>\n",
       "      <td>14300.0</td>\n",
       "      <td>17000.0</td>\n",
       "      <td>14000.0</td>\n",
       "    </tr>\n",
       "    <tr>\n",
       "      <th>2005</th>\n",
       "      <td>86900.0</td>\n",
       "      <td>16800.0</td>\n",
       "      <td>60800.0</td>\n",
       "      <td>33400.0</td>\n",
       "    </tr>\n",
       "    <tr>\n",
       "      <th>2006</th>\n",
       "      <td>69400.0</td>\n",
       "      <td>20400.0</td>\n",
       "      <td>14200.0</td>\n",
       "      <td>17100.0</td>\n",
       "    </tr>\n",
       "    <tr>\n",
       "      <th>2007</th>\n",
       "      <td>36600.0</td>\n",
       "      <td>20200.0</td>\n",
       "      <td>2500.0</td>\n",
       "      <td>35600.0</td>\n",
       "    </tr>\n",
       "    <tr>\n",
       "      <th>2008</th>\n",
       "      <td>46900.0</td>\n",
       "      <td>12300.0</td>\n",
       "      <td>0.0</td>\n",
       "      <td>0.0</td>\n",
       "    </tr>\n",
       "  </tbody>\n",
       "</table>\n",
       "</div>"
      ],
      "text/plain": [
       "          1분기      2분기      3분기      4분기\n",
       "년도                                      \n",
       "2001  17000.0      0.0      0.0      0.0\n",
       "2002      0.0  36808.0  21008.0  11000.0\n",
       "2003      0.0  35000.0   8000.0   3500.0\n",
       "2004  40700.0  14300.0  17000.0  14000.0\n",
       "2005  86900.0  16800.0  60800.0  33400.0\n",
       "2006  69400.0  20400.0  14200.0  17100.0\n",
       "2007  36600.0  20200.0   2500.0  35600.0\n",
       "2008  46900.0  12300.0      0.0      0.0"
      ]
     },
     "execution_count": 123,
     "metadata": {},
     "output_type": "execute_result"
    }
   ],
   "source": [
    "## soltuion 1 : Series 다중 인덱스 \n",
    "\n",
    "x = emp.groupby([emp['HIRE_DATE'].dt.year, emp['HIRE_DATE'].dt.quarter])['SALARY'].sum()\n",
    "result = x.unstack().fillna(0) # 피봇, NaN값 채우기\n",
    "result.columns = ['1분기','2분기','3분기','4분기']\n",
    "result.index.name = '년도'\n",
    "result"
   ]
  },
  {
   "cell_type": "code",
   "execution_count": 126,
   "id": "5959f479",
   "metadata": {
    "ExecuteTime": {
     "end_time": "2023-01-01T08:49:49.955188Z",
     "start_time": "2023-01-01T08:49:49.914195Z"
    }
   },
   "outputs": [
    {
     "data": {
      "text/html": [
       "<div>\n",
       "<style scoped>\n",
       "    .dataframe tbody tr th:only-of-type {\n",
       "        vertical-align: middle;\n",
       "    }\n",
       "\n",
       "    .dataframe tbody tr th {\n",
       "        vertical-align: top;\n",
       "    }\n",
       "\n",
       "    .dataframe thead th {\n",
       "        text-align: right;\n",
       "    }\n",
       "</style>\n",
       "<table border=\"1\" class=\"dataframe\">\n",
       "  <thead>\n",
       "    <tr style=\"text-align: right;\">\n",
       "      <th></th>\n",
       "      <th>1분기</th>\n",
       "      <th>2분기</th>\n",
       "      <th>3분기</th>\n",
       "      <th>4분기</th>\n",
       "    </tr>\n",
       "    <tr>\n",
       "      <th>년도</th>\n",
       "      <th></th>\n",
       "      <th></th>\n",
       "      <th></th>\n",
       "      <th></th>\n",
       "    </tr>\n",
       "  </thead>\n",
       "  <tbody>\n",
       "    <tr>\n",
       "      <th>2001</th>\n",
       "      <td>17000</td>\n",
       "      <td>0</td>\n",
       "      <td>0</td>\n",
       "      <td>0</td>\n",
       "    </tr>\n",
       "    <tr>\n",
       "      <th>2002</th>\n",
       "      <td>0</td>\n",
       "      <td>36808</td>\n",
       "      <td>21008</td>\n",
       "      <td>11000</td>\n",
       "    </tr>\n",
       "    <tr>\n",
       "      <th>2003</th>\n",
       "      <td>0</td>\n",
       "      <td>35000</td>\n",
       "      <td>8000</td>\n",
       "      <td>3500</td>\n",
       "    </tr>\n",
       "    <tr>\n",
       "      <th>2004</th>\n",
       "      <td>40700</td>\n",
       "      <td>14300</td>\n",
       "      <td>17000</td>\n",
       "      <td>14000</td>\n",
       "    </tr>\n",
       "    <tr>\n",
       "      <th>2005</th>\n",
       "      <td>86900</td>\n",
       "      <td>16800</td>\n",
       "      <td>60800</td>\n",
       "      <td>33400</td>\n",
       "    </tr>\n",
       "    <tr>\n",
       "      <th>2006</th>\n",
       "      <td>69400</td>\n",
       "      <td>20400</td>\n",
       "      <td>14200</td>\n",
       "      <td>17100</td>\n",
       "    </tr>\n",
       "    <tr>\n",
       "      <th>2007</th>\n",
       "      <td>36600</td>\n",
       "      <td>20200</td>\n",
       "      <td>2500</td>\n",
       "      <td>35600</td>\n",
       "    </tr>\n",
       "    <tr>\n",
       "      <th>2008</th>\n",
       "      <td>46900</td>\n",
       "      <td>12300</td>\n",
       "      <td>0</td>\n",
       "      <td>0</td>\n",
       "    </tr>\n",
       "  </tbody>\n",
       "</table>\n",
       "</div>"
      ],
      "text/plain": [
       "        1분기    2분기    3분기    4분기\n",
       "년도                              \n",
       "2001  17000      0      0      0\n",
       "2002      0  36808  21008  11000\n",
       "2003      0  35000   8000   3500\n",
       "2004  40700  14300  17000  14000\n",
       "2005  86900  16800  60800  33400\n",
       "2006  69400  20400  14200  17100\n",
       "2007  36600  20200   2500  35600\n",
       "2008  46900  12300      0      0"
      ]
     },
     "execution_count": 126,
     "metadata": {},
     "output_type": "execute_result"
    }
   ],
   "source": [
    "# solution 2 : pd.pivot_table \n",
    "\n",
    "result = pd.pivot_table(data = emp,\n",
    "                        index = emp['HIRE_DATE'].dt.year,\n",
    "                       columns = emp['HIRE_DATE'].dt.quarter,\n",
    "                       values = 'SALARY',\n",
    "                       aggfunc = 'sum',\n",
    "                       fill_value = 0)\n",
    "\n",
    "result.columns = ['1분기','2분기','3분기','4분기']\n",
    "result.index.name = '년도'\n",
    "\n",
    "result "
   ]
  },
  {
   "cell_type": "markdown",
   "id": "a40140b1",
   "metadata": {},
   "source": [
    "### [문제114] 년도, 요일별 입사 인원수를 구하세요"
   ]
  },
  {
   "cell_type": "code",
   "execution_count": 133,
   "id": "1676928c",
   "metadata": {
    "ExecuteTime": {
     "end_time": "2023-01-01T08:52:19.090123Z",
     "start_time": "2023-01-01T08:52:19.061986Z"
    }
   },
   "outputs": [
    {
     "data": {
      "text/html": [
       "<div>\n",
       "<style scoped>\n",
       "    .dataframe tbody tr th:only-of-type {\n",
       "        vertical-align: middle;\n",
       "    }\n",
       "\n",
       "    .dataframe tbody tr th {\n",
       "        vertical-align: top;\n",
       "    }\n",
       "\n",
       "    .dataframe thead th {\n",
       "        text-align: right;\n",
       "    }\n",
       "</style>\n",
       "<table border=\"1\" class=\"dataframe\">\n",
       "  <thead>\n",
       "    <tr style=\"text-align: right;\">\n",
       "      <th></th>\n",
       "      <th>월</th>\n",
       "      <th>화</th>\n",
       "      <th>수</th>\n",
       "      <th>목</th>\n",
       "      <th>금</th>\n",
       "      <th>토</th>\n",
       "      <th>일</th>\n",
       "    </tr>\n",
       "    <tr>\n",
       "      <th>년도</th>\n",
       "      <th></th>\n",
       "      <th></th>\n",
       "      <th></th>\n",
       "      <th></th>\n",
       "      <th></th>\n",
       "      <th></th>\n",
       "      <th></th>\n",
       "    </tr>\n",
       "  </thead>\n",
       "  <tbody>\n",
       "    <tr>\n",
       "      <th>2001</th>\n",
       "      <td>0</td>\n",
       "      <td>0</td>\n",
       "      <td>0</td>\n",
       "      <td>0</td>\n",
       "      <td>0</td>\n",
       "      <td>1</td>\n",
       "      <td>0</td>\n",
       "    </tr>\n",
       "    <tr>\n",
       "      <th>2002</th>\n",
       "      <td>0</td>\n",
       "      <td>0</td>\n",
       "      <td>0</td>\n",
       "      <td>0</td>\n",
       "      <td>5</td>\n",
       "      <td>2</td>\n",
       "      <td>0</td>\n",
       "    </tr>\n",
       "    <tr>\n",
       "      <th>2003</th>\n",
       "      <td>1</td>\n",
       "      <td>1</td>\n",
       "      <td>1</td>\n",
       "      <td>1</td>\n",
       "      <td>1</td>\n",
       "      <td>0</td>\n",
       "      <td>1</td>\n",
       "    </tr>\n",
       "    <tr>\n",
       "      <th>2004</th>\n",
       "      <td>1</td>\n",
       "      <td>3</td>\n",
       "      <td>1</td>\n",
       "      <td>1</td>\n",
       "      <td>2</td>\n",
       "      <td>0</td>\n",
       "      <td>2</td>\n",
       "    </tr>\n",
       "    <tr>\n",
       "      <th>2005</th>\n",
       "      <td>1</td>\n",
       "      <td>1</td>\n",
       "      <td>6</td>\n",
       "      <td>5</td>\n",
       "      <td>3</td>\n",
       "      <td>8</td>\n",
       "      <td>5</td>\n",
       "    </tr>\n",
       "    <tr>\n",
       "      <th>2006</th>\n",
       "      <td>1</td>\n",
       "      <td>6</td>\n",
       "      <td>2</td>\n",
       "      <td>5</td>\n",
       "      <td>2</td>\n",
       "      <td>4</td>\n",
       "      <td>4</td>\n",
       "    </tr>\n",
       "    <tr>\n",
       "      <th>2007</th>\n",
       "      <td>3</td>\n",
       "      <td>1</td>\n",
       "      <td>4</td>\n",
       "      <td>2</td>\n",
       "      <td>5</td>\n",
       "      <td>2</td>\n",
       "      <td>1</td>\n",
       "    </tr>\n",
       "    <tr>\n",
       "      <th>2008</th>\n",
       "      <td>3</td>\n",
       "      <td>1</td>\n",
       "      <td>1</td>\n",
       "      <td>1</td>\n",
       "      <td>1</td>\n",
       "      <td>2</td>\n",
       "      <td>2</td>\n",
       "    </tr>\n",
       "  </tbody>\n",
       "</table>\n",
       "</div>"
      ],
      "text/plain": [
       "      월  화  수  목  금  토  일\n",
       "년도                       \n",
       "2001  0  0  0  0  0  1  0\n",
       "2002  0  0  0  0  5  2  0\n",
       "2003  1  1  1  1  1  0  1\n",
       "2004  1  3  1  1  2  0  2\n",
       "2005  1  1  6  5  3  8  5\n",
       "2006  1  6  2  5  2  4  4\n",
       "2007  3  1  4  2  5  2  1\n",
       "2008  3  1  1  1  1  2  2"
      ]
     },
     "execution_count": 133,
     "metadata": {},
     "output_type": "execute_result"
    }
   ],
   "source": [
    "# soltuion 1 \n",
    "\n",
    "result = emp.groupby([emp['HIRE_DATE'].dt.year,emp['HIRE_DATE'].dt.dayofweek])['DEPARTMENT_ID'].count()\n",
    "result = result.unstack().fillna(0)\n",
    "result.columns = ['월','화','수','목','금','토','일']\n",
    "result.index.name='년도'\n",
    "result = result.astype('int')\n",
    "result"
   ]
  },
  {
   "cell_type": "code",
   "execution_count": 134,
   "id": "8db90853",
   "metadata": {
    "ExecuteTime": {
     "end_time": "2023-01-01T08:52:44.317308Z",
     "start_time": "2023-01-01T08:52:44.280758Z"
    }
   },
   "outputs": [
    {
     "data": {
      "text/html": [
       "<div>\n",
       "<style scoped>\n",
       "    .dataframe tbody tr th:only-of-type {\n",
       "        vertical-align: middle;\n",
       "    }\n",
       "\n",
       "    .dataframe tbody tr th {\n",
       "        vertical-align: top;\n",
       "    }\n",
       "\n",
       "    .dataframe thead th {\n",
       "        text-align: right;\n",
       "    }\n",
       "</style>\n",
       "<table border=\"1\" class=\"dataframe\">\n",
       "  <thead>\n",
       "    <tr style=\"text-align: right;\">\n",
       "      <th></th>\n",
       "      <th>월</th>\n",
       "      <th>화</th>\n",
       "      <th>수</th>\n",
       "      <th>목</th>\n",
       "      <th>금</th>\n",
       "      <th>토</th>\n",
       "      <th>일</th>\n",
       "      <th>합</th>\n",
       "    </tr>\n",
       "    <tr>\n",
       "      <th>년도</th>\n",
       "      <th></th>\n",
       "      <th></th>\n",
       "      <th></th>\n",
       "      <th></th>\n",
       "      <th></th>\n",
       "      <th></th>\n",
       "      <th></th>\n",
       "      <th></th>\n",
       "    </tr>\n",
       "  </thead>\n",
       "  <tbody>\n",
       "    <tr>\n",
       "      <th>2001</th>\n",
       "      <td>0</td>\n",
       "      <td>0</td>\n",
       "      <td>0</td>\n",
       "      <td>0</td>\n",
       "      <td>0</td>\n",
       "      <td>1</td>\n",
       "      <td>0</td>\n",
       "      <td>1</td>\n",
       "    </tr>\n",
       "    <tr>\n",
       "      <th>2002</th>\n",
       "      <td>0</td>\n",
       "      <td>0</td>\n",
       "      <td>0</td>\n",
       "      <td>0</td>\n",
       "      <td>5</td>\n",
       "      <td>2</td>\n",
       "      <td>0</td>\n",
       "      <td>7</td>\n",
       "    </tr>\n",
       "    <tr>\n",
       "      <th>2003</th>\n",
       "      <td>1</td>\n",
       "      <td>1</td>\n",
       "      <td>1</td>\n",
       "      <td>1</td>\n",
       "      <td>1</td>\n",
       "      <td>0</td>\n",
       "      <td>1</td>\n",
       "      <td>6</td>\n",
       "    </tr>\n",
       "    <tr>\n",
       "      <th>2004</th>\n",
       "      <td>1</td>\n",
       "      <td>3</td>\n",
       "      <td>1</td>\n",
       "      <td>1</td>\n",
       "      <td>2</td>\n",
       "      <td>0</td>\n",
       "      <td>2</td>\n",
       "      <td>10</td>\n",
       "    </tr>\n",
       "    <tr>\n",
       "      <th>2005</th>\n",
       "      <td>1</td>\n",
       "      <td>1</td>\n",
       "      <td>6</td>\n",
       "      <td>5</td>\n",
       "      <td>3</td>\n",
       "      <td>8</td>\n",
       "      <td>5</td>\n",
       "      <td>29</td>\n",
       "    </tr>\n",
       "    <tr>\n",
       "      <th>2006</th>\n",
       "      <td>1</td>\n",
       "      <td>6</td>\n",
       "      <td>2</td>\n",
       "      <td>5</td>\n",
       "      <td>2</td>\n",
       "      <td>4</td>\n",
       "      <td>4</td>\n",
       "      <td>24</td>\n",
       "    </tr>\n",
       "    <tr>\n",
       "      <th>2007</th>\n",
       "      <td>3</td>\n",
       "      <td>1</td>\n",
       "      <td>4</td>\n",
       "      <td>3</td>\n",
       "      <td>5</td>\n",
       "      <td>2</td>\n",
       "      <td>1</td>\n",
       "      <td>19</td>\n",
       "    </tr>\n",
       "    <tr>\n",
       "      <th>2008</th>\n",
       "      <td>3</td>\n",
       "      <td>1</td>\n",
       "      <td>1</td>\n",
       "      <td>1</td>\n",
       "      <td>1</td>\n",
       "      <td>2</td>\n",
       "      <td>2</td>\n",
       "      <td>11</td>\n",
       "    </tr>\n",
       "    <tr>\n",
       "      <th>합</th>\n",
       "      <td>10</td>\n",
       "      <td>13</td>\n",
       "      <td>15</td>\n",
       "      <td>16</td>\n",
       "      <td>19</td>\n",
       "      <td>19</td>\n",
       "      <td>15</td>\n",
       "      <td>107</td>\n",
       "    </tr>\n",
       "  </tbody>\n",
       "</table>\n",
       "</div>"
      ],
      "text/plain": [
       "       월   화   수   목   금   토   일    합\n",
       "년도                                   \n",
       "2001   0   0   0   0   0   1   0    1\n",
       "2002   0   0   0   0   5   2   0    7\n",
       "2003   1   1   1   1   1   0   1    6\n",
       "2004   1   3   1   1   2   0   2   10\n",
       "2005   1   1   6   5   3   8   5   29\n",
       "2006   1   6   2   5   2   4   4   24\n",
       "2007   3   1   4   3   5   2   1   19\n",
       "2008   3   1   1   1   1   2   2   11\n",
       "합     10  13  15  16  19  19  15  107"
      ]
     },
     "execution_count": 134,
     "metadata": {},
     "output_type": "execute_result"
    }
   ],
   "source": [
    "# soltuion 2 \n",
    "\n",
    "result = pd.pivot_table(data=emp,\n",
    "               index=emp['HIRE_DATE'].dt.year,\n",
    "               columns = emp['HIRE_DATE'].dt.weekday,\n",
    "               values = 'EMPLOYEE_ID',\n",
    "               aggfunc='count',\n",
    "               fill_value=0)\n",
    "\n",
    "result.columns = ['월','화','수','목','금','토','일']\n",
    "result.index.name='년도'\n",
    "result['합'] = result.sum(axis=1) # 행의 합 == 열의 합 \n",
    "result.loc['합'] = result.sum(axis=0) # 열의 합 == 행의 합\n",
    "result = result.astype('int')\n",
    "result"
   ]
  },
  {
   "cell_type": "markdown",
   "id": "dd948ba4",
   "metadata": {},
   "source": [
    "### [문제115] last_name, 근무일수를 출력해주세요.\n"
   ]
  },
  {
   "cell_type": "code",
   "execution_count": 136,
   "id": "6c419b72",
   "metadata": {
    "ExecuteTime": {
     "end_time": "2023-01-01T08:54:44.944319Z",
     "start_time": "2023-01-01T08:54:44.926605Z"
    }
   },
   "outputs": [
    {
     "data": {
      "text/html": [
       "<div>\n",
       "<style scoped>\n",
       "    .dataframe tbody tr th:only-of-type {\n",
       "        vertical-align: middle;\n",
       "    }\n",
       "\n",
       "    .dataframe tbody tr th {\n",
       "        vertical-align: top;\n",
       "    }\n",
       "\n",
       "    .dataframe thead th {\n",
       "        text-align: right;\n",
       "    }\n",
       "</style>\n",
       "<table border=\"1\" class=\"dataframe\">\n",
       "  <thead>\n",
       "    <tr style=\"text-align: right;\">\n",
       "      <th></th>\n",
       "      <th>이름</th>\n",
       "      <th>근무일수</th>\n",
       "    </tr>\n",
       "  </thead>\n",
       "  <tbody>\n",
       "    <tr>\n",
       "      <th>0</th>\n",
       "      <td>King</td>\n",
       "      <td>7138</td>\n",
       "    </tr>\n",
       "    <tr>\n",
       "      <th>1</th>\n",
       "      <td>Kochhar</td>\n",
       "      <td>6311</td>\n",
       "    </tr>\n",
       "    <tr>\n",
       "      <th>2</th>\n",
       "      <td>De Haan</td>\n",
       "      <td>8023</td>\n",
       "    </tr>\n",
       "    <tr>\n",
       "      <th>3</th>\n",
       "      <td>Hunold</td>\n",
       "      <td>6207</td>\n",
       "    </tr>\n",
       "    <tr>\n",
       "      <th>4</th>\n",
       "      <td>Ernst</td>\n",
       "      <td>5704</td>\n",
       "    </tr>\n",
       "    <tr>\n",
       "      <th>...</th>\n",
       "      <td>...</td>\n",
       "      <td>...</td>\n",
       "    </tr>\n",
       "    <tr>\n",
       "      <th>102</th>\n",
       "      <td>Fay</td>\n",
       "      <td>6346</td>\n",
       "    </tr>\n",
       "    <tr>\n",
       "      <th>103</th>\n",
       "      <td>Mavris</td>\n",
       "      <td>7513</td>\n",
       "    </tr>\n",
       "    <tr>\n",
       "      <th>104</th>\n",
       "      <td>Baer</td>\n",
       "      <td>7513</td>\n",
       "    </tr>\n",
       "    <tr>\n",
       "      <th>105</th>\n",
       "      <td>Higgins</td>\n",
       "      <td>7513</td>\n",
       "    </tr>\n",
       "    <tr>\n",
       "      <th>106</th>\n",
       "      <td>Gietz</td>\n",
       "      <td>7513</td>\n",
       "    </tr>\n",
       "  </tbody>\n",
       "</table>\n",
       "<p>107 rows × 2 columns</p>\n",
       "</div>"
      ],
      "text/plain": [
       "          이름  근무일수\n",
       "0       King  7138\n",
       "1    Kochhar  6311\n",
       "2    De Haan  8023\n",
       "3     Hunold  6207\n",
       "4      Ernst  5704\n",
       "..       ...   ...\n",
       "102      Fay  6346\n",
       "103   Mavris  7513\n",
       "104     Baer  7513\n",
       "105  Higgins  7513\n",
       "106    Gietz  7513\n",
       "\n",
       "[107 rows x 2 columns]"
      ]
     },
     "execution_count": 136,
     "metadata": {},
     "output_type": "execute_result"
    }
   ],
   "source": [
    "DataFrame({'이름' : emp['LAST_NAME'],\n",
    "           '근무일수':(pd.Timestamp.now() - emp['HIRE_DATE']).dt.days})"
   ]
  },
  {
   "cell_type": "markdown",
   "id": "6046b1c7",
   "metadata": {
    "heading_collapsed": true
   },
   "source": [
    "## df.to_csv(경로) \n",
    "* pandas에서 제공\n",
    "* DataFrame을 CSV 파일로 떨어트릴 때 유용하다."
   ]
  },
  {
   "cell_type": "code",
   "execution_count": 27,
   "id": "68abca29",
   "metadata": {
    "ExecuteTime": {
     "end_time": "2023-01-01T05:05:45.025453Z",
     "start_time": "2023-01-01T05:05:45.005449Z"
    },
    "hidden": true
   },
   "outputs": [],
   "source": [
    "new= DataFrame() # 빈 df 만들기 가능 \n",
    "df.to_csv(\"c:/data/new.csv\",index=False)"
   ]
  },
  {
   "cell_type": "markdown",
   "id": "1f2cdcdc",
   "metadata": {
    "heading_collapsed": true
   },
   "source": [
    "## os.path.exists : 파일의 존재유무를 체크하는 함수 "
   ]
  },
  {
   "cell_type": "code",
   "execution_count": 29,
   "id": "39cbeaaf",
   "metadata": {
    "ExecuteTime": {
     "end_time": "2023-01-01T05:08:26.185747Z",
     "start_time": "2023-01-01T05:08:26.164733Z"
    },
    "hidden": true
   },
   "outputs": [
    {
     "data": {
      "text/plain": [
       "False"
      ]
     },
     "execution_count": 29,
     "metadata": {},
     "output_type": "execute_result"
    }
   ],
   "source": [
    "import os \n",
    "\n",
    "os.path.exists(\"c:/data/yob1997.txt\") # 있다면 True, 없으면 False"
   ]
  },
  {
   "cell_type": "code",
   "execution_count": 30,
   "id": "f09ba71e",
   "metadata": {
    "ExecuteTime": {
     "end_time": "2023-01-01T05:08:47.443501Z",
     "start_time": "2023-01-01T05:08:47.275906Z"
    },
    "hidden": true
   },
   "outputs": [
    {
     "name": "stdout",
     "output_type": "stream",
     "text": [
      "c:/data/yob2001.txt No file\n",
      "c:/data/yob2002.txt No file\n",
      "c:/data/yob2003.txt No file\n",
      "c:/data/yob2004.txt No file\n",
      "c:/data/yob2005.txt No file\n",
      "c:/data/yob2006.txt No file\n",
      "c:/data/yob2007.txt No file\n",
      "c:/data/yob2008.txt No file\n",
      "c:/data/yob2009.txt No file\n",
      "c:/data/yob2010.txt No file\n",
      "c:/data/yob2011.txt No file\n",
      "c:/data/yob2012.txt No file\n"
     ]
    },
    {
     "name": "stderr",
     "output_type": "stream",
     "text": [
      "C:\\Users\\82108\\AppData\\Local\\Temp\\ipykernel_13564\\3723049611.py:8: FutureWarning: The frame.append method is deprecated and will be removed from pandas in a future version. Use pandas.concat instead.\n",
      "  df = df.append({'년도':i,'여자':x.loc['F'], '남자':x.loc['M']},ignore_index=True) # df에 append하려면 list\n",
      "C:\\Users\\82108\\AppData\\Local\\Temp\\ipykernel_13564\\3723049611.py:8: FutureWarning: The frame.append method is deprecated and will be removed from pandas in a future version. Use pandas.concat instead.\n",
      "  df = df.append({'년도':i,'여자':x.loc['F'], '남자':x.loc['M']},ignore_index=True) # df에 append하려면 list\n",
      "C:\\Users\\82108\\AppData\\Local\\Temp\\ipykernel_13564\\3723049611.py:8: FutureWarning: The frame.append method is deprecated and will be removed from pandas in a future version. Use pandas.concat instead.\n",
      "  df = df.append({'년도':i,'여자':x.loc['F'], '남자':x.loc['M']},ignore_index=True) # df에 append하려면 list\n",
      "C:\\Users\\82108\\AppData\\Local\\Temp\\ipykernel_13564\\3723049611.py:8: FutureWarning: The frame.append method is deprecated and will be removed from pandas in a future version. Use pandas.concat instead.\n",
      "  df = df.append({'년도':i,'여자':x.loc['F'], '남자':x.loc['M']},ignore_index=True) # df에 append하려면 list\n"
     ]
    }
   ],
   "source": [
    "##  file이 존재하지 않으면 작업을 종료하고 싶다 \n",
    "\n",
    "for i in range(2001,2017):\n",
    "    file = 'c:/data/yob{}.txt'.format(i)\n",
    "    if os.path.exists(file):\n",
    "        temp = pd.read_csv('c:/data/yob{}.txt'.format(i),names = ['name','gender','birth'])\n",
    "        x = temp['birth'].groupby(temp['gender']).sum()\n",
    "        df = df.append({'년도':i,'여자':x.loc['F'], '남자':x.loc['M']},ignore_index=True) # df에 append하려면 list        \n",
    "    else:\n",
    "        print(file,'No file')"
   ]
  },
  {
   "cell_type": "markdown",
   "id": "8077ec12",
   "metadata": {},
   "source": [
    "## 판다스의 날짜 함수들\n",
    "\n",
    "* datetime \n",
    "* Timestamp \n",
    "* Timedelta\n",
    "* x.dt.year/month..."
   ]
  },
  {
   "cell_type": "code",
   "execution_count": 50,
   "id": "aadece2c",
   "metadata": {
    "ExecuteTime": {
     "end_time": "2023-01-01T05:34:39.295567Z",
     "start_time": "2023-01-01T05:34:39.280531Z"
    }
   },
   "outputs": [],
   "source": [
    "import pandas as pd \n",
    "import datetime "
   ]
  },
  {
   "cell_type": "code",
   "execution_count": 51,
   "id": "b3fa0c43",
   "metadata": {
    "ExecuteTime": {
     "end_time": "2023-01-01T05:34:44.368004Z",
     "start_time": "2023-01-01T05:34:44.348476Z"
    }
   },
   "outputs": [
    {
     "data": {
      "text/plain": [
       "datetime.datetime(2023, 1, 1, 14, 34, 44, 351480)"
      ]
     },
     "execution_count": 51,
     "metadata": {},
     "output_type": "execute_result"
    }
   ],
   "source": [
    "datetime.datetime.now()"
   ]
  },
  {
   "cell_type": "code",
   "execution_count": 52,
   "id": "2078c178",
   "metadata": {
    "ExecuteTime": {
     "end_time": "2023-01-01T05:34:51.624893Z",
     "start_time": "2023-01-01T05:34:51.609891Z"
    }
   },
   "outputs": [
    {
     "name": "stderr",
     "output_type": "stream",
     "text": [
      "C:\\Users\\82108\\AppData\\Local\\Temp\\ipykernel_13564\\627754903.py:1: FutureWarning: The pandas.datetime class is deprecated and will be removed from pandas in a future version. Import from datetime module instead.\n",
      "  pd.datetime.now()\n"
     ]
    },
    {
     "data": {
      "text/plain": [
       "datetime.datetime(2023, 1, 1, 14, 34, 51, 612891)"
      ]
     },
     "execution_count": 52,
     "metadata": {},
     "output_type": "execute_result"
    }
   ],
   "source": [
    "pd.datetime.now()"
   ]
  },
  {
   "cell_type": "code",
   "execution_count": 53,
   "id": "062cecc0",
   "metadata": {
    "ExecuteTime": {
     "end_time": "2023-01-01T05:35:23.780484Z",
     "start_time": "2023-01-01T05:35:23.767472Z"
    }
   },
   "outputs": [
    {
     "data": {
      "text/plain": [
       "Timestamp('2023-01-01 14:35:23.771476')"
      ]
     },
     "execution_count": 53,
     "metadata": {},
     "output_type": "execute_result"
    }
   ],
   "source": [
    "pd.Timestamp.today()"
   ]
  },
  {
   "cell_type": "code",
   "execution_count": 54,
   "id": "d05dd6bb",
   "metadata": {
    "ExecuteTime": {
     "end_time": "2023-01-01T05:35:33.100431Z",
     "start_time": "2023-01-01T05:35:33.088430Z"
    }
   },
   "outputs": [
    {
     "data": {
      "text/plain": [
       "Timestamp('2023-01-01 14:35:33.092428')"
      ]
     },
     "execution_count": 54,
     "metadata": {},
     "output_type": "execute_result"
    }
   ],
   "source": [
    "pd.Timestamp.now()"
   ]
  },
  {
   "cell_type": "markdown",
   "id": "189cd359",
   "metadata": {
    "heading_collapsed": true
   },
   "source": [
    "### 사용자 정의 시간 : 날짜를 고정해야 할 때 사용됨"
   ]
  },
  {
   "cell_type": "code",
   "execution_count": 55,
   "id": "66e70a3f",
   "metadata": {
    "ExecuteTime": {
     "end_time": "2023-01-01T05:36:25.551607Z",
     "start_time": "2023-01-01T05:36:24.640214Z"
    },
    "hidden": true
   },
   "outputs": [
    {
     "data": {
      "text/plain": [
       "Timestamp('2021-09-28 14:05:10.000001+0900', tz='Asia/Seoul')"
      ]
     },
     "execution_count": 55,
     "metadata": {},
     "output_type": "execute_result"
    }
   ],
   "source": [
    "pd.Timestamp(year = 2021, month = 9, day = 28, hour= 14, minute = 5, second= 10, microsecond=1,tz='Asia/Seoul')"
   ]
  },
  {
   "cell_type": "markdown",
   "id": "db5214cd",
   "metadata": {
    "heading_collapsed": true
   },
   "source": [
    "### pd.to_datetime : char -> timestasmp 형 변환 함수 \n",
    "* 4.1.과 같이 하나하나 지정하기 힘들 때 심플하게 사용 가능 "
   ]
  },
  {
   "cell_type": "code",
   "execution_count": 57,
   "id": "7aecfce5",
   "metadata": {
    "ExecuteTime": {
     "end_time": "2023-01-01T05:37:21.779607Z",
     "start_time": "2023-01-01T05:37:21.760594Z"
    },
    "hidden": true
   },
   "outputs": [
    {
     "data": {
      "text/plain": [
       "Timestamp('2021-09-28 00:00:00')"
      ]
     },
     "execution_count": 57,
     "metadata": {},
     "output_type": "execute_result"
    }
   ],
   "source": [
    "pd.to_datetime('2021-09-28')\n",
    "pd.to_datetime('2021-9-28')\n",
    "pd.to_datetime('2021/09/28')\n",
    "pd.to_datetime('20210928')"
   ]
  },
  {
   "cell_type": "code",
   "execution_count": 59,
   "id": "90454e1e",
   "metadata": {
    "ExecuteTime": {
     "end_time": "2023-01-01T05:43:01.316142Z",
     "start_time": "2023-01-01T05:43:01.019883Z"
    },
    "hidden": true
   },
   "outputs": [
    {
     "ename": "ParserError",
     "evalue": "month must be in 1..12: 09282021",
     "output_type": "error",
     "traceback": [
      "\u001b[1;31m---------------------------------------------------------------------------\u001b[0m",
      "\u001b[1;31mValueError\u001b[0m                                Traceback (most recent call last)",
      "File \u001b[1;32m~\\anaconda3\\lib\\site-packages\\dateutil\\parser\\_parser.py:649\u001b[0m, in \u001b[0;36mparser.parse\u001b[1;34m(self, timestr, default, ignoretz, tzinfos, **kwargs)\u001b[0m\n\u001b[0;32m    648\u001b[0m \u001b[38;5;28;01mtry\u001b[39;00m:\n\u001b[1;32m--> 649\u001b[0m     ret \u001b[38;5;241m=\u001b[39m \u001b[38;5;28;43mself\u001b[39;49m\u001b[38;5;241;43m.\u001b[39;49m\u001b[43m_build_naive\u001b[49m\u001b[43m(\u001b[49m\u001b[43mres\u001b[49m\u001b[43m,\u001b[49m\u001b[43m \u001b[49m\u001b[43mdefault\u001b[49m\u001b[43m)\u001b[49m\n\u001b[0;32m    650\u001b[0m \u001b[38;5;28;01mexcept\u001b[39;00m \u001b[38;5;167;01mValueError\u001b[39;00m \u001b[38;5;28;01mas\u001b[39;00m e:\n",
      "File \u001b[1;32m~\\anaconda3\\lib\\site-packages\\dateutil\\parser\\_parser.py:1235\u001b[0m, in \u001b[0;36mparser._build_naive\u001b[1;34m(self, res, default)\u001b[0m\n\u001b[0;32m   1233\u001b[0m         repl[\u001b[38;5;124m'\u001b[39m\u001b[38;5;124mday\u001b[39m\u001b[38;5;124m'\u001b[39m] \u001b[38;5;241m=\u001b[39m monthrange(cyear, cmonth)[\u001b[38;5;241m1\u001b[39m]\n\u001b[1;32m-> 1235\u001b[0m naive \u001b[38;5;241m=\u001b[39m \u001b[43mdefault\u001b[49m\u001b[38;5;241;43m.\u001b[39;49m\u001b[43mreplace\u001b[49m\u001b[43m(\u001b[49m\u001b[38;5;241;43m*\u001b[39;49m\u001b[38;5;241;43m*\u001b[39;49m\u001b[43mrepl\u001b[49m\u001b[43m)\u001b[49m\n\u001b[0;32m   1237\u001b[0m \u001b[38;5;28;01mif\u001b[39;00m res\u001b[38;5;241m.\u001b[39mweekday \u001b[38;5;129;01mis\u001b[39;00m \u001b[38;5;129;01mnot\u001b[39;00m \u001b[38;5;28;01mNone\u001b[39;00m \u001b[38;5;129;01mand\u001b[39;00m \u001b[38;5;129;01mnot\u001b[39;00m res\u001b[38;5;241m.\u001b[39mday:\n",
      "\u001b[1;31mValueError\u001b[0m: month must be in 1..12",
      "\nThe above exception was the direct cause of the following exception:\n",
      "\u001b[1;31mParserError\u001b[0m                               Traceback (most recent call last)",
      "File \u001b[1;32m~\\anaconda3\\lib\\site-packages\\pandas\\_libs\\tslib.pyx:536\u001b[0m, in \u001b[0;36mpandas._libs.tslib.array_to_datetime\u001b[1;34m()\u001b[0m\n",
      "File \u001b[1;32m~\\anaconda3\\lib\\site-packages\\pandas\\_libs\\tslibs\\parsing.pyx:281\u001b[0m, in \u001b[0;36mpandas._libs.tslibs.parsing.parse_datetime_string\u001b[1;34m()\u001b[0m\n",
      "File \u001b[1;32m~\\anaconda3\\lib\\site-packages\\dateutil\\parser\\_parser.py:1368\u001b[0m, in \u001b[0;36mparse\u001b[1;34m(timestr, parserinfo, **kwargs)\u001b[0m\n\u001b[0;32m   1367\u001b[0m \u001b[38;5;28;01melse\u001b[39;00m:\n\u001b[1;32m-> 1368\u001b[0m     \u001b[38;5;28;01mreturn\u001b[39;00m \u001b[43mDEFAULTPARSER\u001b[49m\u001b[38;5;241;43m.\u001b[39;49m\u001b[43mparse\u001b[49m\u001b[43m(\u001b[49m\u001b[43mtimestr\u001b[49m\u001b[43m,\u001b[49m\u001b[43m \u001b[49m\u001b[38;5;241;43m*\u001b[39;49m\u001b[38;5;241;43m*\u001b[39;49m\u001b[43mkwargs\u001b[49m\u001b[43m)\u001b[49m\n",
      "File \u001b[1;32m~\\anaconda3\\lib\\site-packages\\dateutil\\parser\\_parser.py:651\u001b[0m, in \u001b[0;36mparser.parse\u001b[1;34m(self, timestr, default, ignoretz, tzinfos, **kwargs)\u001b[0m\n\u001b[0;32m    650\u001b[0m \u001b[38;5;28;01mexcept\u001b[39;00m \u001b[38;5;167;01mValueError\u001b[39;00m \u001b[38;5;28;01mas\u001b[39;00m e:\n\u001b[1;32m--> 651\u001b[0m     \u001b[43msix\u001b[49m\u001b[38;5;241;43m.\u001b[39;49m\u001b[43mraise_from\u001b[49m\u001b[43m(\u001b[49m\u001b[43mParserError\u001b[49m\u001b[43m(\u001b[49m\u001b[38;5;28;43mstr\u001b[39;49m\u001b[43m(\u001b[49m\u001b[43me\u001b[49m\u001b[43m)\u001b[49m\u001b[43m \u001b[49m\u001b[38;5;241;43m+\u001b[39;49m\u001b[43m \u001b[49m\u001b[38;5;124;43m\"\u001b[39;49m\u001b[38;5;124;43m: \u001b[39;49m\u001b[38;5;132;43;01m%s\u001b[39;49;00m\u001b[38;5;124;43m\"\u001b[39;49m\u001b[43m,\u001b[49m\u001b[43m \u001b[49m\u001b[43mtimestr\u001b[49m\u001b[43m)\u001b[49m\u001b[43m,\u001b[49m\u001b[43m \u001b[49m\u001b[43me\u001b[49m\u001b[43m)\u001b[49m\n\u001b[0;32m    653\u001b[0m \u001b[38;5;28;01mif\u001b[39;00m \u001b[38;5;129;01mnot\u001b[39;00m ignoretz:\n",
      "File \u001b[1;32m<string>:3\u001b[0m, in \u001b[0;36mraise_from\u001b[1;34m(value, from_value)\u001b[0m\n",
      "\u001b[1;31mParserError\u001b[0m: month must be in 1..12: 09282021",
      "\nDuring handling of the above exception, another exception occurred:\n",
      "\u001b[1;31mTypeError\u001b[0m                                 Traceback (most recent call last)",
      "File \u001b[1;32m~\\anaconda3\\lib\\site-packages\\pandas\\_libs\\tslib.pyx:547\u001b[0m, in \u001b[0;36mpandas._libs.tslib.array_to_datetime\u001b[1;34m()\u001b[0m\n",
      "\u001b[1;31mTypeError\u001b[0m: invalid string coercion to datetime",
      "\nDuring handling of the above exception, another exception occurred:\n",
      "\u001b[1;31mValueError\u001b[0m                                Traceback (most recent call last)",
      "File \u001b[1;32m~\\anaconda3\\lib\\site-packages\\dateutil\\parser\\_parser.py:649\u001b[0m, in \u001b[0;36mparser.parse\u001b[1;34m(self, timestr, default, ignoretz, tzinfos, **kwargs)\u001b[0m\n\u001b[0;32m    648\u001b[0m \u001b[38;5;28;01mtry\u001b[39;00m:\n\u001b[1;32m--> 649\u001b[0m     ret \u001b[38;5;241m=\u001b[39m \u001b[38;5;28;43mself\u001b[39;49m\u001b[38;5;241;43m.\u001b[39;49m\u001b[43m_build_naive\u001b[49m\u001b[43m(\u001b[49m\u001b[43mres\u001b[49m\u001b[43m,\u001b[49m\u001b[43m \u001b[49m\u001b[43mdefault\u001b[49m\u001b[43m)\u001b[49m\n\u001b[0;32m    650\u001b[0m \u001b[38;5;28;01mexcept\u001b[39;00m \u001b[38;5;167;01mValueError\u001b[39;00m \u001b[38;5;28;01mas\u001b[39;00m e:\n",
      "File \u001b[1;32m~\\anaconda3\\lib\\site-packages\\dateutil\\parser\\_parser.py:1235\u001b[0m, in \u001b[0;36mparser._build_naive\u001b[1;34m(self, res, default)\u001b[0m\n\u001b[0;32m   1233\u001b[0m         repl[\u001b[38;5;124m'\u001b[39m\u001b[38;5;124mday\u001b[39m\u001b[38;5;124m'\u001b[39m] \u001b[38;5;241m=\u001b[39m monthrange(cyear, cmonth)[\u001b[38;5;241m1\u001b[39m]\n\u001b[1;32m-> 1235\u001b[0m naive \u001b[38;5;241m=\u001b[39m \u001b[43mdefault\u001b[49m\u001b[38;5;241;43m.\u001b[39;49m\u001b[43mreplace\u001b[49m\u001b[43m(\u001b[49m\u001b[38;5;241;43m*\u001b[39;49m\u001b[38;5;241;43m*\u001b[39;49m\u001b[43mrepl\u001b[49m\u001b[43m)\u001b[49m\n\u001b[0;32m   1237\u001b[0m \u001b[38;5;28;01mif\u001b[39;00m res\u001b[38;5;241m.\u001b[39mweekday \u001b[38;5;129;01mis\u001b[39;00m \u001b[38;5;129;01mnot\u001b[39;00m \u001b[38;5;28;01mNone\u001b[39;00m \u001b[38;5;129;01mand\u001b[39;00m \u001b[38;5;129;01mnot\u001b[39;00m res\u001b[38;5;241m.\u001b[39mday:\n",
      "\u001b[1;31mValueError\u001b[0m: month must be in 1..12",
      "\nThe above exception was the direct cause of the following exception:\n",
      "\u001b[1;31mParserError\u001b[0m                               Traceback (most recent call last)",
      "Cell \u001b[1;32mIn[59], line 1\u001b[0m\n\u001b[1;32m----> 1\u001b[0m \u001b[43mpd\u001b[49m\u001b[38;5;241;43m.\u001b[39;49m\u001b[43mto_datetime\u001b[49m\u001b[43m(\u001b[49m\u001b[38;5;124;43m'\u001b[39;49m\u001b[38;5;124;43m09282021\u001b[39;49m\u001b[38;5;124;43m'\u001b[39;49m\u001b[43m)\u001b[49m\n",
      "File \u001b[1;32m~\\anaconda3\\lib\\site-packages\\pandas\\core\\tools\\datetimes.py:1078\u001b[0m, in \u001b[0;36mto_datetime\u001b[1;34m(arg, errors, dayfirst, yearfirst, utc, format, exact, unit, infer_datetime_format, origin, cache)\u001b[0m\n\u001b[0;32m   1076\u001b[0m         result \u001b[38;5;241m=\u001b[39m convert_listlike(arg, \u001b[38;5;28mformat\u001b[39m)\n\u001b[0;32m   1077\u001b[0m \u001b[38;5;28;01melse\u001b[39;00m:\n\u001b[1;32m-> 1078\u001b[0m     result \u001b[38;5;241m=\u001b[39m \u001b[43mconvert_listlike\u001b[49m\u001b[43m(\u001b[49m\u001b[43mnp\u001b[49m\u001b[38;5;241;43m.\u001b[39;49m\u001b[43marray\u001b[49m\u001b[43m(\u001b[49m\u001b[43m[\u001b[49m\u001b[43marg\u001b[49m\u001b[43m]\u001b[49m\u001b[43m)\u001b[49m\u001b[43m,\u001b[49m\u001b[43m \u001b[49m\u001b[38;5;28;43mformat\u001b[39;49m\u001b[43m)\u001b[49m[\u001b[38;5;241m0\u001b[39m]\n\u001b[0;32m   1080\u001b[0m \u001b[38;5;66;03m#  error: Incompatible return value type (got \"Union[Timestamp, NaTType,\u001b[39;00m\n\u001b[0;32m   1081\u001b[0m \u001b[38;5;66;03m# Series, Index]\", expected \"Union[DatetimeIndex, Series, float, str,\u001b[39;00m\n\u001b[0;32m   1082\u001b[0m \u001b[38;5;66;03m# NaTType, None]\")\u001b[39;00m\n\u001b[0;32m   1083\u001b[0m \u001b[38;5;28;01mreturn\u001b[39;00m result\n",
      "File \u001b[1;32m~\\anaconda3\\lib\\site-packages\\pandas\\core\\tools\\datetimes.py:402\u001b[0m, in \u001b[0;36m_convert_listlike_datetimes\u001b[1;34m(arg, format, name, tz, unit, errors, infer_datetime_format, dayfirst, yearfirst, exact)\u001b[0m\n\u001b[0;32m    400\u001b[0m \u001b[38;5;28;01massert\u001b[39;00m \u001b[38;5;28mformat\u001b[39m \u001b[38;5;129;01mis\u001b[39;00m \u001b[38;5;28;01mNone\u001b[39;00m \u001b[38;5;129;01mor\u001b[39;00m infer_datetime_format\n\u001b[0;32m    401\u001b[0m utc \u001b[38;5;241m=\u001b[39m tz \u001b[38;5;241m==\u001b[39m \u001b[38;5;124m\"\u001b[39m\u001b[38;5;124mutc\u001b[39m\u001b[38;5;124m\"\u001b[39m\n\u001b[1;32m--> 402\u001b[0m result, tz_parsed \u001b[38;5;241m=\u001b[39m \u001b[43mobjects_to_datetime64ns\u001b[49m\u001b[43m(\u001b[49m\n\u001b[0;32m    403\u001b[0m \u001b[43m    \u001b[49m\u001b[43marg\u001b[49m\u001b[43m,\u001b[49m\n\u001b[0;32m    404\u001b[0m \u001b[43m    \u001b[49m\u001b[43mdayfirst\u001b[49m\u001b[38;5;241;43m=\u001b[39;49m\u001b[43mdayfirst\u001b[49m\u001b[43m,\u001b[49m\n\u001b[0;32m    405\u001b[0m \u001b[43m    \u001b[49m\u001b[43myearfirst\u001b[49m\u001b[38;5;241;43m=\u001b[39;49m\u001b[43myearfirst\u001b[49m\u001b[43m,\u001b[49m\n\u001b[0;32m    406\u001b[0m \u001b[43m    \u001b[49m\u001b[43mutc\u001b[49m\u001b[38;5;241;43m=\u001b[39;49m\u001b[43mutc\u001b[49m\u001b[43m,\u001b[49m\n\u001b[0;32m    407\u001b[0m \u001b[43m    \u001b[49m\u001b[43merrors\u001b[49m\u001b[38;5;241;43m=\u001b[39;49m\u001b[43merrors\u001b[49m\u001b[43m,\u001b[49m\n\u001b[0;32m    408\u001b[0m \u001b[43m    \u001b[49m\u001b[43mrequire_iso8601\u001b[49m\u001b[38;5;241;43m=\u001b[39;49m\u001b[43mrequire_iso8601\u001b[49m\u001b[43m,\u001b[49m\n\u001b[0;32m    409\u001b[0m \u001b[43m    \u001b[49m\u001b[43mallow_object\u001b[49m\u001b[38;5;241;43m=\u001b[39;49m\u001b[38;5;28;43;01mTrue\u001b[39;49;00m\u001b[43m,\u001b[49m\n\u001b[0;32m    410\u001b[0m \u001b[43m\u001b[49m\u001b[43m)\u001b[49m\n\u001b[0;32m    412\u001b[0m \u001b[38;5;28;01mif\u001b[39;00m tz_parsed \u001b[38;5;129;01mis\u001b[39;00m \u001b[38;5;129;01mnot\u001b[39;00m \u001b[38;5;28;01mNone\u001b[39;00m:\n\u001b[0;32m    413\u001b[0m     \u001b[38;5;66;03m# We can take a shortcut since the datetime64 numpy array\u001b[39;00m\n\u001b[0;32m    414\u001b[0m     \u001b[38;5;66;03m# is in UTC\u001b[39;00m\n\u001b[0;32m    415\u001b[0m     dta \u001b[38;5;241m=\u001b[39m DatetimeArray(result, dtype\u001b[38;5;241m=\u001b[39mtz_to_dtype(tz_parsed))\n",
      "File \u001b[1;32m~\\anaconda3\\lib\\site-packages\\pandas\\core\\arrays\\datetimes.py:2242\u001b[0m, in \u001b[0;36mobjects_to_datetime64ns\u001b[1;34m(data, dayfirst, yearfirst, utc, errors, require_iso8601, allow_object, allow_mixed)\u001b[0m\n\u001b[0;32m   2240\u001b[0m         \u001b[38;5;28;01mreturn\u001b[39;00m values\u001b[38;5;241m.\u001b[39mview(\u001b[38;5;124m\"\u001b[39m\u001b[38;5;124mi8\u001b[39m\u001b[38;5;124m\"\u001b[39m), tz_parsed\n\u001b[0;32m   2241\u001b[0m     \u001b[38;5;28;01mexcept\u001b[39;00m (\u001b[38;5;167;01mValueError\u001b[39;00m, \u001b[38;5;167;01mTypeError\u001b[39;00m):\n\u001b[1;32m-> 2242\u001b[0m         \u001b[38;5;28;01mraise\u001b[39;00m err\n\u001b[0;32m   2244\u001b[0m \u001b[38;5;28;01mif\u001b[39;00m tz_parsed \u001b[38;5;129;01mis\u001b[39;00m \u001b[38;5;129;01mnot\u001b[39;00m \u001b[38;5;28;01mNone\u001b[39;00m:\n\u001b[0;32m   2245\u001b[0m     \u001b[38;5;66;03m# We can take a shortcut since the datetime64 numpy array\u001b[39;00m\n\u001b[0;32m   2246\u001b[0m     \u001b[38;5;66;03m#  is in UTC\u001b[39;00m\n\u001b[0;32m   2247\u001b[0m     \u001b[38;5;66;03m# Return i8 values to denote unix timestamps\u001b[39;00m\n\u001b[0;32m   2248\u001b[0m     \u001b[38;5;28;01mreturn\u001b[39;00m result\u001b[38;5;241m.\u001b[39mview(\u001b[38;5;124m\"\u001b[39m\u001b[38;5;124mi8\u001b[39m\u001b[38;5;124m\"\u001b[39m), tz_parsed\n",
      "File \u001b[1;32m~\\anaconda3\\lib\\site-packages\\pandas\\core\\arrays\\datetimes.py:2224\u001b[0m, in \u001b[0;36mobjects_to_datetime64ns\u001b[1;34m(data, dayfirst, yearfirst, utc, errors, require_iso8601, allow_object, allow_mixed)\u001b[0m\n\u001b[0;32m   2222\u001b[0m order: Literal[\u001b[38;5;124m\"\u001b[39m\u001b[38;5;124mF\u001b[39m\u001b[38;5;124m\"\u001b[39m, \u001b[38;5;124m\"\u001b[39m\u001b[38;5;124mC\u001b[39m\u001b[38;5;124m\"\u001b[39m] \u001b[38;5;241m=\u001b[39m \u001b[38;5;124m\"\u001b[39m\u001b[38;5;124mF\u001b[39m\u001b[38;5;124m\"\u001b[39m \u001b[38;5;28;01mif\u001b[39;00m flags\u001b[38;5;241m.\u001b[39mf_contiguous \u001b[38;5;28;01melse\u001b[39;00m \u001b[38;5;124m\"\u001b[39m\u001b[38;5;124mC\u001b[39m\u001b[38;5;124m\"\u001b[39m\n\u001b[0;32m   2223\u001b[0m \u001b[38;5;28;01mtry\u001b[39;00m:\n\u001b[1;32m-> 2224\u001b[0m     result, tz_parsed \u001b[38;5;241m=\u001b[39m \u001b[43mtslib\u001b[49m\u001b[38;5;241;43m.\u001b[39;49m\u001b[43marray_to_datetime\u001b[49m\u001b[43m(\u001b[49m\n\u001b[0;32m   2225\u001b[0m \u001b[43m        \u001b[49m\u001b[43mdata\u001b[49m\u001b[38;5;241;43m.\u001b[39;49m\u001b[43mravel\u001b[49m\u001b[43m(\u001b[49m\u001b[38;5;124;43m\"\u001b[39;49m\u001b[38;5;124;43mK\u001b[39;49m\u001b[38;5;124;43m\"\u001b[39;49m\u001b[43m)\u001b[49m\u001b[43m,\u001b[49m\n\u001b[0;32m   2226\u001b[0m \u001b[43m        \u001b[49m\u001b[43merrors\u001b[49m\u001b[38;5;241;43m=\u001b[39;49m\u001b[43merrors\u001b[49m\u001b[43m,\u001b[49m\n\u001b[0;32m   2227\u001b[0m \u001b[43m        \u001b[49m\u001b[43mutc\u001b[49m\u001b[38;5;241;43m=\u001b[39;49m\u001b[43mutc\u001b[49m\u001b[43m,\u001b[49m\n\u001b[0;32m   2228\u001b[0m \u001b[43m        \u001b[49m\u001b[43mdayfirst\u001b[49m\u001b[38;5;241;43m=\u001b[39;49m\u001b[43mdayfirst\u001b[49m\u001b[43m,\u001b[49m\n\u001b[0;32m   2229\u001b[0m \u001b[43m        \u001b[49m\u001b[43myearfirst\u001b[49m\u001b[38;5;241;43m=\u001b[39;49m\u001b[43myearfirst\u001b[49m\u001b[43m,\u001b[49m\n\u001b[0;32m   2230\u001b[0m \u001b[43m        \u001b[49m\u001b[43mrequire_iso8601\u001b[49m\u001b[38;5;241;43m=\u001b[39;49m\u001b[43mrequire_iso8601\u001b[49m\u001b[43m,\u001b[49m\n\u001b[0;32m   2231\u001b[0m \u001b[43m        \u001b[49m\u001b[43mallow_mixed\u001b[49m\u001b[38;5;241;43m=\u001b[39;49m\u001b[43mallow_mixed\u001b[49m\u001b[43m,\u001b[49m\n\u001b[0;32m   2232\u001b[0m \u001b[43m    \u001b[49m\u001b[43m)\u001b[49m\n\u001b[0;32m   2233\u001b[0m     result \u001b[38;5;241m=\u001b[39m result\u001b[38;5;241m.\u001b[39mreshape(data\u001b[38;5;241m.\u001b[39mshape, order\u001b[38;5;241m=\u001b[39morder)\n\u001b[0;32m   2234\u001b[0m \u001b[38;5;28;01mexcept\u001b[39;00m \u001b[38;5;167;01mValueError\u001b[39;00m \u001b[38;5;28;01mas\u001b[39;00m err:\n",
      "File \u001b[1;32m~\\anaconda3\\lib\\site-packages\\pandas\\_libs\\tslib.pyx:381\u001b[0m, in \u001b[0;36mpandas._libs.tslib.array_to_datetime\u001b[1;34m()\u001b[0m\n",
      "File \u001b[1;32m~\\anaconda3\\lib\\site-packages\\pandas\\_libs\\tslib.pyx:613\u001b[0m, in \u001b[0;36mpandas._libs.tslib.array_to_datetime\u001b[1;34m()\u001b[0m\n",
      "File \u001b[1;32m~\\anaconda3\\lib\\site-packages\\pandas\\_libs\\tslib.pyx:751\u001b[0m, in \u001b[0;36mpandas._libs.tslib._array_to_datetime_object\u001b[1;34m()\u001b[0m\n",
      "File \u001b[1;32m~\\anaconda3\\lib\\site-packages\\pandas\\_libs\\tslib.pyx:742\u001b[0m, in \u001b[0;36mpandas._libs.tslib._array_to_datetime_object\u001b[1;34m()\u001b[0m\n",
      "File \u001b[1;32m~\\anaconda3\\lib\\site-packages\\pandas\\_libs\\tslibs\\parsing.pyx:281\u001b[0m, in \u001b[0;36mpandas._libs.tslibs.parsing.parse_datetime_string\u001b[1;34m()\u001b[0m\n",
      "File \u001b[1;32m~\\anaconda3\\lib\\site-packages\\dateutil\\parser\\_parser.py:1368\u001b[0m, in \u001b[0;36mparse\u001b[1;34m(timestr, parserinfo, **kwargs)\u001b[0m\n\u001b[0;32m   1366\u001b[0m     \u001b[38;5;28;01mreturn\u001b[39;00m parser(parserinfo)\u001b[38;5;241m.\u001b[39mparse(timestr, \u001b[38;5;241m*\u001b[39m\u001b[38;5;241m*\u001b[39mkwargs)\n\u001b[0;32m   1367\u001b[0m \u001b[38;5;28;01melse\u001b[39;00m:\n\u001b[1;32m-> 1368\u001b[0m     \u001b[38;5;28;01mreturn\u001b[39;00m \u001b[43mDEFAULTPARSER\u001b[49m\u001b[38;5;241;43m.\u001b[39;49m\u001b[43mparse\u001b[49m\u001b[43m(\u001b[49m\u001b[43mtimestr\u001b[49m\u001b[43m,\u001b[49m\u001b[43m \u001b[49m\u001b[38;5;241;43m*\u001b[39;49m\u001b[38;5;241;43m*\u001b[39;49m\u001b[43mkwargs\u001b[49m\u001b[43m)\u001b[49m\n",
      "File \u001b[1;32m~\\anaconda3\\lib\\site-packages\\dateutil\\parser\\_parser.py:651\u001b[0m, in \u001b[0;36mparser.parse\u001b[1;34m(self, timestr, default, ignoretz, tzinfos, **kwargs)\u001b[0m\n\u001b[0;32m    649\u001b[0m     ret \u001b[38;5;241m=\u001b[39m \u001b[38;5;28mself\u001b[39m\u001b[38;5;241m.\u001b[39m_build_naive(res, default)\n\u001b[0;32m    650\u001b[0m \u001b[38;5;28;01mexcept\u001b[39;00m \u001b[38;5;167;01mValueError\u001b[39;00m \u001b[38;5;28;01mas\u001b[39;00m e:\n\u001b[1;32m--> 651\u001b[0m     \u001b[43msix\u001b[49m\u001b[38;5;241;43m.\u001b[39;49m\u001b[43mraise_from\u001b[49m\u001b[43m(\u001b[49m\u001b[43mParserError\u001b[49m\u001b[43m(\u001b[49m\u001b[38;5;28;43mstr\u001b[39;49m\u001b[43m(\u001b[49m\u001b[43me\u001b[49m\u001b[43m)\u001b[49m\u001b[43m \u001b[49m\u001b[38;5;241;43m+\u001b[39;49m\u001b[43m \u001b[49m\u001b[38;5;124;43m\"\u001b[39;49m\u001b[38;5;124;43m: \u001b[39;49m\u001b[38;5;132;43;01m%s\u001b[39;49;00m\u001b[38;5;124;43m\"\u001b[39;49m\u001b[43m,\u001b[49m\u001b[43m \u001b[49m\u001b[43mtimestr\u001b[49m\u001b[43m)\u001b[49m\u001b[43m,\u001b[49m\u001b[43m \u001b[49m\u001b[43me\u001b[49m\u001b[43m)\u001b[49m\n\u001b[0;32m    653\u001b[0m \u001b[38;5;28;01mif\u001b[39;00m \u001b[38;5;129;01mnot\u001b[39;00m ignoretz:\n\u001b[0;32m    654\u001b[0m     ret \u001b[38;5;241m=\u001b[39m \u001b[38;5;28mself\u001b[39m\u001b[38;5;241m.\u001b[39m_build_tzaware(ret, res, tzinfos)\n",
      "File \u001b[1;32m<string>:3\u001b[0m, in \u001b[0;36mraise_from\u001b[1;34m(value, from_value)\u001b[0m\n",
      "\u001b[1;31mParserError\u001b[0m: month must be in 1..12: 09282021"
     ]
    }
   ],
   "source": [
    "pd.to_datetime('09282021') # format이 맞지 않아 error "
   ]
  },
  {
   "cell_type": "code",
   "execution_count": 60,
   "id": "17765d7b",
   "metadata": {
    "ExecuteTime": {
     "end_time": "2023-01-01T05:43:05.567679Z",
     "start_time": "2023-01-01T05:43:05.555667Z"
    },
    "hidden": true
   },
   "outputs": [
    {
     "data": {
      "text/plain": [
       "Timestamp('2021-09-28 00:00:00')"
      ]
     },
     "execution_count": 60,
     "metadata": {},
     "output_type": "execute_result"
    }
   ],
   "source": [
    "pd.to_datetime('09282021',format='%m%d%Y') # format 사용하면 됨"
   ]
  },
  {
   "cell_type": "code",
   "execution_count": 61,
   "id": "eca33a95",
   "metadata": {
    "ExecuteTime": {
     "end_time": "2023-01-01T05:43:13.018688Z",
     "start_time": "2023-01-01T05:43:13.002856Z"
    },
    "hidden": true
   },
   "outputs": [
    {
     "data": {
      "text/plain": [
       "Timestamp('2021-09-28 14:10:00')"
      ]
     },
     "execution_count": 61,
     "metadata": {},
     "output_type": "execute_result"
    }
   ],
   "source": [
    "pd.to_datetime('20210928141000',format='%Y%m%d%H%M%S') "
   ]
  },
  {
   "cell_type": "code",
   "execution_count": 62,
   "id": "0108ee9c",
   "metadata": {
    "ExecuteTime": {
     "end_time": "2023-01-01T05:43:29.924180Z",
     "start_time": "2023-01-01T05:43:29.907181Z"
    },
    "hidden": true
   },
   "outputs": [
    {
     "data": {
      "text/plain": [
       "['2021-09-27', '2021-09-28']"
      ]
     },
     "execution_count": 62,
     "metadata": {},
     "output_type": "execute_result"
    }
   ],
   "source": [
    "day = ['2021-09-27','2021-09-28']\n",
    "day"
   ]
  },
  {
   "cell_type": "code",
   "execution_count": 64,
   "id": "008619b9",
   "metadata": {
    "ExecuteTime": {
     "end_time": "2023-01-01T05:43:55.591022Z",
     "start_time": "2023-01-01T05:43:55.576288Z"
    },
    "hidden": true
   },
   "outputs": [
    {
     "data": {
      "text/plain": [
       "Int64Index([2021, 2021], dtype='int64')"
      ]
     },
     "execution_count": 64,
     "metadata": {},
     "output_type": "execute_result"
    }
   ],
   "source": [
    "# pd.to_datetime(Series(day)).year # Series라서 사용이 안됨 \n",
    "pd.to_datetime(day).year # list는 사용이 가능"
   ]
  },
  {
   "cell_type": "markdown",
   "id": "f0f8232d",
   "metadata": {
    "heading_collapsed": true
   },
   "source": [
    "### 특정한 날짜 추출하기 \n",
    "\n",
    "* year \n",
    "* month \n",
    "* day\n",
    "* hour..."
   ]
  },
  {
   "cell_type": "code",
   "execution_count": 65,
   "id": "00128d60",
   "metadata": {
    "ExecuteTime": {
     "end_time": "2023-01-01T05:44:30.929946Z",
     "start_time": "2023-01-01T05:44:30.915917Z"
    },
    "hidden": true
   },
   "outputs": [
    {
     "data": {
      "text/plain": [
       "1"
      ]
     },
     "execution_count": 65,
     "metadata": {},
     "output_type": "execute_result"
    }
   ],
   "source": [
    "pd.Timestamp.now()\n",
    "pd.Timestamp.now().year\n",
    "pd.Timestamp.now().month\n",
    "pd.Timestamp.now().day\n",
    "pd.Timestamp.now().hour\n",
    "pd.Timestamp.now().minute\n",
    "pd.Timestamp.now().second\n",
    "pd.Timestamp.now().microsecond\n",
    "pd.Timestamp.now().dayofweek #0~6, 월~일\n",
    "pd.Timestamp.now().day_name()\n",
    "pd.Timestamp.now().quarter"
   ]
  },
  {
   "cell_type": "code",
   "execution_count": 68,
   "id": "22ce97da",
   "metadata": {
    "ExecuteTime": {
     "end_time": "2023-01-01T07:23:02.689395Z",
     "start_time": "2023-01-01T07:23:02.675396Z"
    },
    "hidden": true
   },
   "outputs": [
    {
     "data": {
      "text/plain": [
       "-395"
      ]
     },
     "execution_count": 68,
     "metadata": {},
     "output_type": "execute_result"
    }
   ],
   "source": [
    "pd.Timestamp.now() - pd.to_datetime('2021-12-3')\n",
    "(pd.to_datetime('2021-12-3')-pd.Timestamp.now()).days"
   ]
  },
  {
   "cell_type": "markdown",
   "id": "07887149",
   "metadata": {
    "heading_collapsed": true
   },
   "source": [
    "### Timedelta(x) : x 만큼의 날짜를 연산한다.\n",
    "* year 연산이 불가능하다"
   ]
  },
  {
   "cell_type": "code",
   "execution_count": 71,
   "id": "2d2786cf",
   "metadata": {
    "ExecuteTime": {
     "end_time": "2023-01-01T08:07:13.779822Z",
     "start_time": "2023-01-01T08:07:13.763866Z"
    },
    "hidden": true
   },
   "outputs": [
    {
     "data": {
      "text/plain": [
       "Timestamp('2022-09-23 17:07:13.766867')"
      ]
     },
     "execution_count": 71,
     "metadata": {},
     "output_type": "execute_result"
    }
   ],
   "source": [
    "pd.Timestamp.now() + pd.Timedelta('100 days')\n",
    "pd.Timestamp.now() - pd.Timedelta('100 days') "
   ]
  },
  {
   "cell_type": "code",
   "execution_count": 72,
   "id": "371d4a7c",
   "metadata": {
    "ExecuteTime": {
     "end_time": "2023-01-01T08:07:30.976055Z",
     "start_time": "2023-01-01T08:07:30.970052Z"
    },
    "hidden": true
   },
   "outputs": [
    {
     "data": {
      "text/plain": [
       "Timestamp('2023-01-01 21:07:30.972053')"
      ]
     },
     "execution_count": 72,
     "metadata": {},
     "output_type": "execute_result"
    }
   ],
   "source": [
    "pd.Timestamp.now() + pd.Timedelta('4 hours')"
   ]
  },
  {
   "cell_type": "code",
   "execution_count": 73,
   "id": "ec1ddbd6",
   "metadata": {
    "ExecuteTime": {
     "end_time": "2023-01-01T08:07:50.745694Z",
     "start_time": "2023-01-01T08:07:50.732721Z"
    },
    "hidden": true
   },
   "outputs": [
    {
     "data": {
      "text/plain": [
       "Timestamp('2023-01-01 18:06:50.734727')"
      ]
     },
     "execution_count": 73,
     "metadata": {},
     "output_type": "execute_result"
    }
   ],
   "source": [
    "pd.Timestamp.now() + pd.Timedelta('60 minutes') \n",
    "pd.Timestamp.now() + pd.Timedelta('59 min') "
   ]
  },
  {
   "cell_type": "code",
   "execution_count": 74,
   "id": "a5cbe75e",
   "metadata": {
    "ExecuteTime": {
     "end_time": "2023-01-01T08:07:56.255427Z",
     "start_time": "2023-01-01T08:07:56.238918Z"
    },
    "hidden": true
   },
   "outputs": [
    {
     "data": {
      "text/plain": [
       "Timestamp('2023-01-01 18:07:56.240919')"
      ]
     },
     "execution_count": 74,
     "metadata": {},
     "output_type": "execute_result"
    }
   ],
   "source": [
    "pd.Timestamp.now() + pd.Timedelta('3600 second') \n",
    "pd.Timestamp.now() + pd.Timedelta('3600 sec') "
   ]
  },
  {
   "cell_type": "code",
   "execution_count": 75,
   "id": "8eba2341",
   "metadata": {
    "ExecuteTime": {
     "end_time": "2023-01-01T08:08:07.216670Z",
     "start_time": "2023-01-01T08:08:07.204582Z"
    },
    "hidden": true
   },
   "outputs": [
    {
     "data": {
      "text/plain": [
       "Timestamp('2023-01-01 21:18:07.207585')"
      ]
     },
     "execution_count": 75,
     "metadata": {},
     "output_type": "execute_result"
    }
   ],
   "source": [
    "# 복잡한 연산도 가능하다 \n",
    "pd.Timestamp.now() + pd.Timedelta('1 days 10 hours') \n",
    "pd.Timestamp.now() + pd.Timedelta('4:10:00') "
   ]
  },
  {
   "cell_type": "code",
   "execution_count": 76,
   "id": "edb9db50",
   "metadata": {
    "ExecuteTime": {
     "end_time": "2023-01-01T08:08:33.248058Z",
     "start_time": "2023-01-01T08:08:33.209640Z"
    },
    "hidden": true
   },
   "outputs": [
    {
     "ename": "ValueError",
     "evalue": "invalid unit abbreviation: years",
     "output_type": "error",
     "traceback": [
      "\u001b[1;31m---------------------------------------------------------------------------\u001b[0m",
      "\u001b[1;31mKeyError\u001b[0m                                  Traceback (most recent call last)",
      "File \u001b[1;32m~\\anaconda3\\lib\\site-packages\\pandas\\_libs\\tslibs\\timedeltas.pyx:611\u001b[0m, in \u001b[0;36mpandas._libs.tslibs.timedeltas.parse_timedelta_unit\u001b[1;34m()\u001b[0m\n",
      "\u001b[1;31mKeyError\u001b[0m: 'years'",
      "\nDuring handling of the above exception, another exception occurred:\n",
      "\u001b[1;31mValueError\u001b[0m                                Traceback (most recent call last)",
      "Cell \u001b[1;32mIn[76], line 1\u001b[0m\n\u001b[1;32m----> 1\u001b[0m pd\u001b[38;5;241m.\u001b[39mTimestamp\u001b[38;5;241m.\u001b[39mnow() \u001b[38;5;241m+\u001b[39m \u001b[43mpd\u001b[49m\u001b[38;5;241;43m.\u001b[39;49m\u001b[43mTimedelta\u001b[49m\u001b[43m(\u001b[49m\u001b[38;5;124;43m'\u001b[39;49m\u001b[38;5;124;43m1 years\u001b[39;49m\u001b[38;5;124;43m'\u001b[39;49m\u001b[43m)\u001b[49m\n",
      "File \u001b[1;32m~\\anaconda3\\lib\\site-packages\\pandas\\_libs\\tslibs\\timedeltas.pyx:1344\u001b[0m, in \u001b[0;36mpandas._libs.tslibs.timedeltas.Timedelta.__new__\u001b[1;34m()\u001b[0m\n",
      "File \u001b[1;32m~\\anaconda3\\lib\\site-packages\\pandas\\_libs\\tslibs\\timedeltas.pyx:522\u001b[0m, in \u001b[0;36mpandas._libs.tslibs.timedeltas.parse_timedelta_string\u001b[1;34m()\u001b[0m\n",
      "File \u001b[1;32m~\\anaconda3\\lib\\site-packages\\pandas\\_libs\\tslibs\\timedeltas.pyx:583\u001b[0m, in \u001b[0;36mpandas._libs.tslibs.timedeltas.timedelta_from_spec\u001b[1;34m()\u001b[0m\n",
      "File \u001b[1;32m~\\anaconda3\\lib\\site-packages\\pandas\\_libs\\tslibs\\timedeltas.pyx:613\u001b[0m, in \u001b[0;36mpandas._libs.tslibs.timedeltas.parse_timedelta_unit\u001b[1;34m()\u001b[0m\n",
      "\u001b[1;31mValueError\u001b[0m: invalid unit abbreviation: years"
     ]
    }
   ],
   "source": [
    "pd.Timestamp.now() + pd.Timedelta('1 years') # error"
   ]
  },
  {
   "cell_type": "markdown",
   "id": "9c9d2bc8",
   "metadata": {},
   "source": [
    "### pd.offsets.DateOffset() : 날짜를 더함. year도 가능.\n",
    "* 단위를 지정해서 연산이 가능하다(단위를 지정하지 않으면 에러가 뜸) "
   ]
  },
  {
   "cell_type": "code",
   "execution_count": 77,
   "id": "e06426a9",
   "metadata": {
    "ExecuteTime": {
     "end_time": "2023-01-01T08:09:14.688483Z",
     "start_time": "2023-01-01T08:09:14.662391Z"
    }
   },
   "outputs": [
    {
     "data": {
      "text/plain": [
       "Timestamp('2024-01-01 17:09:14.664417')"
      ]
     },
     "execution_count": 77,
     "metadata": {},
     "output_type": "execute_result"
    }
   ],
   "source": [
    "pd.Timestamp.now() + pd.offsets.DateOffset(years = 1)"
   ]
  },
  {
   "cell_type": "code",
   "execution_count": 79,
   "id": "e0ae3fce",
   "metadata": {
    "ExecuteTime": {
     "end_time": "2023-01-01T08:09:28.761505Z",
     "start_time": "2023-01-01T08:09:28.754826Z"
    }
   },
   "outputs": [
    {
     "data": {
      "text/plain": [
       "Timestamp('2002-01-01 00:00:28.757504')"
      ]
     },
     "execution_count": 79,
     "metadata": {},
     "output_type": "execute_result"
    }
   ],
   "source": [
    "# 지정해서 연산이 가능하다\n",
    "pd.Timestamp.now() + pd.DateOffset(year=2002,month=1,day=1,hour=0,minute=0)"
   ]
  },
  {
   "cell_type": "code",
   "execution_count": 82,
   "id": "6e6d7b52",
   "metadata": {
    "ExecuteTime": {
     "end_time": "2023-01-01T08:09:58.581009Z",
     "start_time": "2023-01-01T08:09:58.551991Z"
    }
   },
   "outputs": [
    {
     "ename": "TypeError",
     "evalue": "`n` argument must be an integer, got <class 'str'>",
     "output_type": "error",
     "traceback": [
      "\u001b[1;31m---------------------------------------------------------------------------\u001b[0m",
      "\u001b[1;31mValueError\u001b[0m                                Traceback (most recent call last)",
      "File \u001b[1;32m~\\anaconda3\\lib\\site-packages\\pandas\\_libs\\tslibs\\offsets.pyx:691\u001b[0m, in \u001b[0;36mpandas._libs.tslibs.offsets.BaseOffset._validate_n\u001b[1;34m()\u001b[0m\n",
      "\u001b[1;31mValueError\u001b[0m: invalid literal for int() with base 10: '4:10:00'",
      "\nDuring handling of the above exception, another exception occurred:\n",
      "\u001b[1;31mTypeError\u001b[0m                                 Traceback (most recent call last)",
      "Cell \u001b[1;32mIn[82], line 2\u001b[0m\n\u001b[0;32m      1\u001b[0m \u001b[38;5;66;03m# 단위를 지정하지 않으면 연산이 불가능하다 \u001b[39;00m\n\u001b[1;32m----> 2\u001b[0m pd\u001b[38;5;241m.\u001b[39mTimestamp\u001b[38;5;241m.\u001b[39mnow() \u001b[38;5;241m+\u001b[39m \u001b[43mpd\u001b[49m\u001b[38;5;241;43m.\u001b[39;49m\u001b[43mDateOffset\u001b[49m\u001b[43m(\u001b[49m\u001b[38;5;124;43m'\u001b[39;49m\u001b[38;5;124;43m4:10:00\u001b[39;49m\u001b[38;5;124;43m'\u001b[39;49m\u001b[43m)\u001b[49m\n",
      "File \u001b[1;32m~\\anaconda3\\lib\\site-packages\\pandas\\_libs\\tslibs\\offsets.pyx:1027\u001b[0m, in \u001b[0;36mpandas._libs.tslibs.offsets.RelativeDeltaOffset.__init__\u001b[1;34m()\u001b[0m\n",
      "File \u001b[1;32m~\\anaconda3\\lib\\site-packages\\pandas\\_libs\\tslibs\\offsets.pyx:376\u001b[0m, in \u001b[0;36mpandas._libs.tslibs.offsets.BaseOffset.__init__\u001b[1;34m()\u001b[0m\n",
      "File \u001b[1;32m~\\anaconda3\\lib\\site-packages\\pandas\\_libs\\tslibs\\offsets.pyx:693\u001b[0m, in \u001b[0;36mpandas._libs.tslibs.offsets.BaseOffset._validate_n\u001b[1;34m()\u001b[0m\n",
      "\u001b[1;31mTypeError\u001b[0m: `n` argument must be an integer, got <class 'str'>"
     ]
    }
   ],
   "source": [
    "# 단위를 지정하지 않으면 연산이 불가능하다 \n",
    "pd.Timestamp.now() + pd.DateOffset('4:10:00')"
   ]
  },
  {
   "cell_type": "markdown",
   "id": "ab437ad7",
   "metadata": {},
   "source": [
    "### x.dt.year/month/day... : 특정 날짜를 뽑아낼 수 있는 함수 "
   ]
  },
  {
   "cell_type": "code",
   "execution_count": 96,
   "id": "c6d0761e",
   "metadata": {
    "ExecuteTime": {
     "end_time": "2023-01-01T08:32:51.946598Z",
     "start_time": "2023-01-01T08:32:51.924589Z"
    }
   },
   "outputs": [
    {
     "data": {
      "text/plain": [
       "0      2\n",
       "1      3\n",
       "2      1\n",
       "3      1\n",
       "4      2\n",
       "      ..\n",
       "102    3\n",
       "103    2\n",
       "104    2\n",
       "105    2\n",
       "106    2\n",
       "Name: HIRE_DATE, Length: 107, dtype: int64"
      ]
     },
     "execution_count": 96,
     "metadata": {},
     "output_type": "execute_result"
    }
   ],
   "source": [
    "pd.to_datetime(emp['HIRE_DATE'],format='%Y-%m-%d').dt.year\n",
    "pd.to_datetime(emp['HIRE_DATE'],format='%Y-%m-%d').dt.month\n",
    "pd.to_datetime(emp['HIRE_DATE'],format='%Y-%m-%d').dt.day\n",
    "pd.to_datetime(emp['HIRE_DATE'],format='%Y-%m-%d').dt.hour\n",
    "pd.to_datetime(emp['HIRE_DATE'],format='%Y-%m-%d').dt.minute\n",
    "pd.to_datetime(emp['HIRE_DATE'],format='%Y-%m-%d').dt.second\n",
    "pd.to_datetime(emp['HIRE_DATE'],format='%Y-%m-%d').dt.microsecond\n",
    "pd.to_datetime(emp['HIRE_DATE'],format='%Y-%m-%d').dt.dayofweek\n",
    "pd.to_datetime(emp['HIRE_DATE'],format='%Y-%m-%d').dt.weekday\n",
    "pd.to_datetime(emp['HIRE_DATE'],format='%Y-%m-%d').dt.day_name()\n",
    "pd.to_datetime(emp['HIRE_DATE'],format='%Y-%m-%d').dt.quarter"
   ]
  },
  {
   "cell_type": "code",
   "execution_count": null,
   "id": "dcb33ddd",
   "metadata": {},
   "outputs": [],
   "source": []
  }
 ],
 "metadata": {
  "hide_input": false,
  "kernelspec": {
   "display_name": "Python 3 (ipykernel)",
   "language": "python",
   "name": "python3"
  },
  "language_info": {
   "codemirror_mode": {
    "name": "ipython",
    "version": 3
   },
   "file_extension": ".py",
   "mimetype": "text/x-python",
   "name": "python",
   "nbconvert_exporter": "python",
   "pygments_lexer": "ipython3",
   "version": "3.8.15"
  },
  "toc": {
   "base_numbering": 1,
   "nav_menu": {},
   "number_sections": true,
   "sideBar": true,
   "skip_h1_title": false,
   "title_cell": "Table of Contents",
   "title_sidebar": "Contents",
   "toc_cell": false,
   "toc_position": {},
   "toc_section_display": true,
   "toc_window_display": false
  },
  "varInspector": {
   "cols": {
    "lenName": 16,
    "lenType": 16,
    "lenVar": 40
   },
   "kernels_config": {
    "python": {
     "delete_cmd_postfix": "",
     "delete_cmd_prefix": "del ",
     "library": "var_list.py",
     "varRefreshCmd": "print(var_dic_list())"
    },
    "r": {
     "delete_cmd_postfix": ") ",
     "delete_cmd_prefix": "rm(",
     "library": "var_list.r",
     "varRefreshCmd": "cat(var_dic_list()) "
    }
   },
   "types_to_exclude": [
    "module",
    "function",
    "builtin_function_or_method",
    "instance",
    "_Feature"
   ],
   "window_display": false
  }
 },
 "nbformat": 4,
 "nbformat_minor": 5
}
