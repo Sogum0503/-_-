{
 "cells": [
  {
   "cell_type": "markdown",
   "id": "39891421",
   "metadata": {},
   "source": [
    "# Chapter 17 : 자료 구조 다루기 "
   ]
  },
  {
   "cell_type": "markdown",
   "id": "5acff59e",
   "metadata": {},
   "source": [
    "**리스트**\n",
    "* 만들기 : []\n",
    "* 수정 : 가능\n",
    "* 인덱스로 추출 : 가능 \n",
    "\n",
    "**튜플**\n",
    "* 만들기 : ()\n",
    "* 수정 : 불가\n",
    "* 인덱스로 추출 : 가능 \n",
    "\n",
    "**딕셔너리**\n",
    "* 만들기 : {키:값}\n",
    "* 수정 : 가능\n",
    "* 인덱스로 추출 : 키 X, 값 O "
   ]
  },
  {
   "cell_type": "markdown",
   "id": "4797a5b6",
   "metadata": {
    "heading_collapsed": true
   },
   "source": [
    "## 스칼라\n",
    "\n",
    "스칼라는 하나의 값으로 구성된 자료 구조입니다.\n",
    "\n",
    "스칼라는 자료 구조를 만드는 가장 작은 기본 단위입니다. 다른 자료 구조도 스칼라가 여러개 모여서 만들어집니다. "
   ]
  },
  {
   "cell_type": "markdown",
   "id": "a1d9a8bb",
   "metadata": {
    "hidden": true
   },
   "source": [
    "**1. 스칼라 만들기**"
   ]
  },
  {
   "cell_type": "code",
   "execution_count": 2,
   "id": "664f1bb7",
   "metadata": {
    "ExecuteTime": {
     "end_time": "2022-11-05T11:47:02.197105Z",
     "start_time": "2022-11-05T11:47:02.173102Z"
    },
    "hidden": true
   },
   "outputs": [
    {
     "data": {
      "text/plain": [
       "int"
      ]
     },
     "execution_count": 2,
     "metadata": {},
     "output_type": "execute_result"
    }
   ],
   "source": [
    "# int : 정수 \n",
    "x = 1 \n",
    "type(x)"
   ]
  },
  {
   "cell_type": "code",
   "execution_count": 3,
   "id": "39e7df9e",
   "metadata": {
    "ExecuteTime": {
     "end_time": "2022-11-05T11:47:09.416867Z",
     "start_time": "2022-11-05T11:47:09.405880Z"
    },
    "hidden": true
   },
   "outputs": [
    {
     "data": {
      "text/plain": [
       "float"
      ]
     },
     "execution_count": 3,
     "metadata": {},
     "output_type": "execute_result"
    }
   ],
   "source": [
    "# float : 실수\n",
    "x = 1.5\n",
    "type(x)"
   ]
  },
  {
   "cell_type": "code",
   "execution_count": 4,
   "id": "b555d319",
   "metadata": {
    "ExecuteTime": {
     "end_time": "2022-11-05T11:47:17.398836Z",
     "start_time": "2022-11-05T11:47:17.378836Z"
    },
    "hidden": true
   },
   "outputs": [
    {
     "data": {
      "text/plain": [
       "str"
      ]
     },
     "execution_count": 4,
     "metadata": {},
     "output_type": "execute_result"
    }
   ],
   "source": [
    "# str : 문자열 \n",
    "x = 'apple'\n",
    "type(x)"
   ]
  },
  {
   "cell_type": "markdown",
   "id": "d8a43a20",
   "metadata": {
    "hidden": true
   },
   "source": [
    "**2. 타입 바꾸기**"
   ]
  },
  {
   "cell_type": "code",
   "execution_count": 5,
   "id": "f7fa12ec",
   "metadata": {
    "ExecuteTime": {
     "end_time": "2022-11-05T11:49:01.627093Z",
     "start_time": "2022-11-05T11:49:01.617080Z"
    },
    "hidden": true
   },
   "outputs": [
    {
     "data": {
      "text/plain": [
       "int"
      ]
     },
     "execution_count": 5,
     "metadata": {},
     "output_type": "execute_result"
    }
   ],
   "source": [
    "# int 만들기 \n",
    "var1 = 1 \n",
    "type(var1)"
   ]
  },
  {
   "cell_type": "code",
   "execution_count": 6,
   "id": "820dc72d",
   "metadata": {
    "ExecuteTime": {
     "end_time": "2022-11-05T11:49:21.273948Z",
     "start_time": "2022-11-05T11:49:21.254966Z"
    },
    "hidden": true
   },
   "outputs": [
    {
     "data": {
      "text/plain": [
       "float"
      ]
     },
     "execution_count": 6,
     "metadata": {},
     "output_type": "execute_result"
    }
   ],
   "source": [
    "# int -> float \n",
    "var2 = float(var1)\n",
    "type(var2)"
   ]
  },
  {
   "cell_type": "code",
   "execution_count": 7,
   "id": "f0b27369",
   "metadata": {
    "ExecuteTime": {
     "end_time": "2022-11-05T11:49:33.827896Z",
     "start_time": "2022-11-05T11:49:33.819896Z"
    },
    "hidden": true
   },
   "outputs": [
    {
     "data": {
      "text/plain": [
       "str"
      ]
     },
     "execution_count": 7,
     "metadata": {},
     "output_type": "execute_result"
    }
   ],
   "source": [
    "# float -> str \n",
    "var3 = str(var2)\n",
    "type(var3)"
   ]
  },
  {
   "cell_type": "markdown",
   "id": "5ed6c78f",
   "metadata": {
    "heading_collapsed": true
   },
   "source": [
    "## 리스트\n",
    "\n",
    "리스트는 여러 값을 나열한 자료 구조입니다. 스칼라를 여러개 나열하면 리스트가 됩니다. 데이터를 다루면서 여러 값을 사용할 때 대부분 리스트를 이용합니다. "
   ]
  },
  {
   "cell_type": "code",
   "execution_count": 8,
   "id": "d46e7708",
   "metadata": {
    "ExecuteTime": {
     "end_time": "2022-11-05T11:50:23.026038Z",
     "start_time": "2022-11-05T11:50:23.011036Z"
    },
    "hidden": true
   },
   "outputs": [
    {
     "data": {
      "text/plain": [
       "list"
      ]
     },
     "execution_count": 8,
     "metadata": {},
     "output_type": "execute_result"
    }
   ],
   "source": [
    "# 리스트 만들기 \n",
    "x = [1,2,'a','b']\n",
    "type(x)"
   ]
  },
  {
   "cell_type": "code",
   "execution_count": 10,
   "id": "6d0d7e6e",
   "metadata": {
    "ExecuteTime": {
     "end_time": "2022-11-05T11:50:47.729037Z",
     "start_time": "2022-11-05T11:50:47.709036Z"
    },
    "hidden": true
   },
   "outputs": [
    {
     "data": {
      "text/plain": [
       "[1, 2, 'a', 'b']"
      ]
     },
     "execution_count": 10,
     "metadata": {},
     "output_type": "execute_result"
    }
   ],
   "source": [
    "# index를 이용해서 추출하기 \n",
    "x[0]"
   ]
  },
  {
   "cell_type": "code",
   "execution_count": 11,
   "id": "6a076ced",
   "metadata": {
    "ExecuteTime": {
     "end_time": "2022-11-05T11:51:09.207829Z",
     "start_time": "2022-11-05T11:51:09.191823Z"
    },
    "hidden": true
   },
   "outputs": [
    {
     "data": {
      "text/plain": [
       "[2, 'a']"
      ]
     },
     "execution_count": 11,
     "metadata": {},
     "output_type": "execute_result"
    }
   ],
   "source": [
    "# :를 이용해서 연속된 값을 출력하기 \n",
    "x[1:3]"
   ]
  },
  {
   "cell_type": "markdown",
   "id": "d4140b65",
   "metadata": {
    "hidden": true
   },
   "source": [
    "**리스트 수정하기**"
   ]
  },
  {
   "cell_type": "code",
   "execution_count": 12,
   "id": "1922339e",
   "metadata": {
    "ExecuteTime": {
     "end_time": "2022-11-05T11:51:50.141725Z",
     "start_time": "2022-11-05T11:51:50.128725Z"
    },
    "hidden": true
   },
   "outputs": [
    {
     "data": {
      "text/plain": [
       "[1, 2, 'a', 'b', 8]"
      ]
     },
     "execution_count": 12,
     "metadata": {},
     "output_type": "execute_result"
    }
   ],
   "source": [
    "x.append(8) # x에 8을 추가 \n",
    "x"
   ]
  },
  {
   "cell_type": "markdown",
   "id": "b386f367",
   "metadata": {
    "hidden": true
   },
   "source": [
    "**삭제하기**"
   ]
  },
  {
   "cell_type": "code",
   "execution_count": 13,
   "id": "3f9c0dae",
   "metadata": {
    "ExecuteTime": {
     "end_time": "2022-11-05T11:52:07.007827Z",
     "start_time": "2022-11-05T11:52:06.997825Z"
    },
    "hidden": true
   },
   "outputs": [
    {
     "data": {
      "text/plain": [
       "[1, 'a', 'b', 8]"
      ]
     },
     "execution_count": 13,
     "metadata": {},
     "output_type": "execute_result"
    }
   ],
   "source": [
    "x.remove(2) # x에서 2 삭제하기 \n",
    "x"
   ]
  },
  {
   "cell_type": "markdown",
   "id": "7561d150",
   "metadata": {
    "hidden": true
   },
   "source": [
    "**변경하기**"
   ]
  },
  {
   "cell_type": "code",
   "execution_count": 15,
   "id": "6ef7d1a2",
   "metadata": {
    "ExecuteTime": {
     "end_time": "2022-11-05T11:52:40.121664Z",
     "start_time": "2022-11-05T11:52:40.111676Z"
    },
    "hidden": true
   },
   "outputs": [
    {
     "data": {
      "text/plain": [
       "[9, 'a', 'b', 8]"
      ]
     },
     "execution_count": 15,
     "metadata": {},
     "output_type": "execute_result"
    }
   ],
   "source": [
    "# index를 이용해서 값의 위치를 지정한 다음 새 값을 할당하기 \n",
    "x[0] = 9 \n",
    "x"
   ]
  },
  {
   "cell_type": "markdown",
   "id": "57bfe010",
   "metadata": {
    "hidden": true
   },
   "source": [
    "**리스트 활용하기**"
   ]
  },
  {
   "cell_type": "code",
   "execution_count": 24,
   "id": "65356eb0",
   "metadata": {
    "ExecuteTime": {
     "end_time": "2022-11-05T11:55:40.759484Z",
     "start_time": "2022-11-05T11:55:40.734476Z"
    },
    "hidden": true
   },
   "outputs": [
    {
     "data": {
      "text/html": [
       "<div>\n",
       "<style scoped>\n",
       "    .dataframe tbody tr th:only-of-type {\n",
       "        vertical-align: middle;\n",
       "    }\n",
       "\n",
       "    .dataframe tbody tr th {\n",
       "        vertical-align: top;\n",
       "    }\n",
       "\n",
       "    .dataframe thead th {\n",
       "        text-align: right;\n",
       "    }\n",
       "</style>\n",
       "<table border=\"1\" class=\"dataframe\">\n",
       "  <thead>\n",
       "    <tr style=\"text-align: right;\">\n",
       "      <th></th>\n",
       "      <th>id</th>\n",
       "      <th>nclass</th>\n",
       "      <th>math</th>\n",
       "      <th>english</th>\n",
       "      <th>science</th>\n",
       "    </tr>\n",
       "  </thead>\n",
       "  <tbody>\n",
       "    <tr>\n",
       "      <th>0</th>\n",
       "      <td>1</td>\n",
       "      <td>1</td>\n",
       "      <td>50</td>\n",
       "      <td>98</td>\n",
       "      <td>50</td>\n",
       "    </tr>\n",
       "    <tr>\n",
       "      <th>1</th>\n",
       "      <td>2</td>\n",
       "      <td>1</td>\n",
       "      <td>60</td>\n",
       "      <td>97</td>\n",
       "      <td>60</td>\n",
       "    </tr>\n",
       "    <tr>\n",
       "      <th>2</th>\n",
       "      <td>3</td>\n",
       "      <td>1</td>\n",
       "      <td>45</td>\n",
       "      <td>86</td>\n",
       "      <td>78</td>\n",
       "    </tr>\n",
       "    <tr>\n",
       "      <th>3</th>\n",
       "      <td>4</td>\n",
       "      <td>1</td>\n",
       "      <td>30</td>\n",
       "      <td>98</td>\n",
       "      <td>58</td>\n",
       "    </tr>\n",
       "    <tr>\n",
       "      <th>4</th>\n",
       "      <td>5</td>\n",
       "      <td>2</td>\n",
       "      <td>25</td>\n",
       "      <td>80</td>\n",
       "      <td>65</td>\n",
       "    </tr>\n",
       "    <tr>\n",
       "      <th>5</th>\n",
       "      <td>6</td>\n",
       "      <td>2</td>\n",
       "      <td>50</td>\n",
       "      <td>89</td>\n",
       "      <td>98</td>\n",
       "    </tr>\n",
       "    <tr>\n",
       "      <th>6</th>\n",
       "      <td>7</td>\n",
       "      <td>2</td>\n",
       "      <td>80</td>\n",
       "      <td>90</td>\n",
       "      <td>45</td>\n",
       "    </tr>\n",
       "    <tr>\n",
       "      <th>7</th>\n",
       "      <td>8</td>\n",
       "      <td>2</td>\n",
       "      <td>90</td>\n",
       "      <td>78</td>\n",
       "      <td>25</td>\n",
       "    </tr>\n",
       "    <tr>\n",
       "      <th>8</th>\n",
       "      <td>9</td>\n",
       "      <td>3</td>\n",
       "      <td>20</td>\n",
       "      <td>98</td>\n",
       "      <td>15</td>\n",
       "    </tr>\n",
       "    <tr>\n",
       "      <th>9</th>\n",
       "      <td>10</td>\n",
       "      <td>3</td>\n",
       "      <td>50</td>\n",
       "      <td>98</td>\n",
       "      <td>45</td>\n",
       "    </tr>\n",
       "    <tr>\n",
       "      <th>10</th>\n",
       "      <td>11</td>\n",
       "      <td>3</td>\n",
       "      <td>65</td>\n",
       "      <td>65</td>\n",
       "      <td>65</td>\n",
       "    </tr>\n",
       "    <tr>\n",
       "      <th>11</th>\n",
       "      <td>12</td>\n",
       "      <td>3</td>\n",
       "      <td>45</td>\n",
       "      <td>85</td>\n",
       "      <td>32</td>\n",
       "    </tr>\n",
       "  </tbody>\n",
       "</table>\n",
       "</div>"
      ],
      "text/plain": [
       "    id  nclass  math  english  science\n",
       "0    1       1    50       98       50\n",
       "1    2       1    60       97       60\n",
       "2    3       1    45       86       78\n",
       "3    4       1    30       98       58\n",
       "4    5       2    25       80       65\n",
       "5    6       2    50       89       98\n",
       "6    7       2    80       90       45\n",
       "7    8       2    90       78       25\n",
       "8    9       3    20       98       15\n",
       "9   10       3    50       98       45\n",
       "10  11       3    65       65       65\n",
       "11  12       3    45       85       32"
      ]
     },
     "execution_count": 24,
     "metadata": {},
     "output_type": "execute_result"
    }
   ],
   "source": [
    "import pandas as pd\n",
    "exam = pd.read_csv('c:/data/do_it_python/exam_new.csv')\n",
    "mpg = pd.read_csv('c:/data/do_it_python/mpg.csv')\n",
    "\n",
    "# df.query()로 목록에 해당하는 행 추출하기 \n",
    "exam.query('nclass in [1,2,3]')"
   ]
  },
  {
   "cell_type": "code",
   "execution_count": 25,
   "id": "9fabd3c4",
   "metadata": {
    "ExecuteTime": {
     "end_time": "2022-11-05T11:55:42.828370Z",
     "start_time": "2022-11-05T11:55:42.791364Z"
    },
    "hidden": true
   },
   "outputs": [
    {
     "data": {
      "text/html": [
       "<div>\n",
       "<style scoped>\n",
       "    .dataframe tbody tr th:only-of-type {\n",
       "        vertical-align: middle;\n",
       "    }\n",
       "\n",
       "    .dataframe tbody tr th {\n",
       "        vertical-align: top;\n",
       "    }\n",
       "\n",
       "    .dataframe thead th {\n",
       "        text-align: right;\n",
       "    }\n",
       "</style>\n",
       "<table border=\"1\" class=\"dataframe\">\n",
       "  <thead>\n",
       "    <tr style=\"text-align: right;\">\n",
       "      <th></th>\n",
       "      <th></th>\n",
       "      <th>mean_cty</th>\n",
       "    </tr>\n",
       "    <tr>\n",
       "      <th>manufacturer</th>\n",
       "      <th>drv</th>\n",
       "      <th></th>\n",
       "    </tr>\n",
       "  </thead>\n",
       "  <tbody>\n",
       "    <tr>\n",
       "      <th rowspan=\"2\" valign=\"top\">audi</th>\n",
       "      <th>4</th>\n",
       "      <td>16.818182</td>\n",
       "    </tr>\n",
       "    <tr>\n",
       "      <th>f</th>\n",
       "      <td>18.857143</td>\n",
       "    </tr>\n",
       "    <tr>\n",
       "      <th rowspan=\"3\" valign=\"top\">chevrolet</th>\n",
       "      <th>4</th>\n",
       "      <td>12.500000</td>\n",
       "    </tr>\n",
       "    <tr>\n",
       "      <th>f</th>\n",
       "      <td>18.800000</td>\n",
       "    </tr>\n",
       "    <tr>\n",
       "      <th>r</th>\n",
       "      <td>14.100000</td>\n",
       "    </tr>\n",
       "    <tr>\n",
       "      <th rowspan=\"2\" valign=\"top\">dodge</th>\n",
       "      <th>4</th>\n",
       "      <td>12.000000</td>\n",
       "    </tr>\n",
       "    <tr>\n",
       "      <th>f</th>\n",
       "      <td>15.818182</td>\n",
       "    </tr>\n",
       "    <tr>\n",
       "      <th rowspan=\"2\" valign=\"top\">ford</th>\n",
       "      <th>4</th>\n",
       "      <td>13.307692</td>\n",
       "    </tr>\n",
       "    <tr>\n",
       "      <th>r</th>\n",
       "      <td>14.750000</td>\n",
       "    </tr>\n",
       "    <tr>\n",
       "      <th>honda</th>\n",
       "      <th>f</th>\n",
       "      <td>24.444444</td>\n",
       "    </tr>\n",
       "    <tr>\n",
       "      <th>hyundai</th>\n",
       "      <th>f</th>\n",
       "      <td>18.642857</td>\n",
       "    </tr>\n",
       "    <tr>\n",
       "      <th>jeep</th>\n",
       "      <th>4</th>\n",
       "      <td>13.500000</td>\n",
       "    </tr>\n",
       "    <tr>\n",
       "      <th>land rover</th>\n",
       "      <th>4</th>\n",
       "      <td>11.500000</td>\n",
       "    </tr>\n",
       "    <tr>\n",
       "      <th>lincoln</th>\n",
       "      <th>r</th>\n",
       "      <td>11.333333</td>\n",
       "    </tr>\n",
       "    <tr>\n",
       "      <th>mercury</th>\n",
       "      <th>4</th>\n",
       "      <td>13.250000</td>\n",
       "    </tr>\n",
       "    <tr>\n",
       "      <th rowspan=\"2\" valign=\"top\">nissan</th>\n",
       "      <th>4</th>\n",
       "      <td>13.750000</td>\n",
       "    </tr>\n",
       "    <tr>\n",
       "      <th>f</th>\n",
       "      <td>20.000000</td>\n",
       "    </tr>\n",
       "    <tr>\n",
       "      <th>pontiac</th>\n",
       "      <th>f</th>\n",
       "      <td>17.000000</td>\n",
       "    </tr>\n",
       "    <tr>\n",
       "      <th>subaru</th>\n",
       "      <th>4</th>\n",
       "      <td>19.285714</td>\n",
       "    </tr>\n",
       "    <tr>\n",
       "      <th rowspan=\"2\" valign=\"top\">toyota</th>\n",
       "      <th>4</th>\n",
       "      <td>14.933333</td>\n",
       "    </tr>\n",
       "    <tr>\n",
       "      <th>f</th>\n",
       "      <td>21.368421</td>\n",
       "    </tr>\n",
       "    <tr>\n",
       "      <th>volkswagen</th>\n",
       "      <th>f</th>\n",
       "      <td>20.925926</td>\n",
       "    </tr>\n",
       "  </tbody>\n",
       "</table>\n",
       "</div>"
      ],
      "text/plain": [
       "                   mean_cty\n",
       "manufacturer drv           \n",
       "audi         4    16.818182\n",
       "             f    18.857143\n",
       "chevrolet    4    12.500000\n",
       "             f    18.800000\n",
       "             r    14.100000\n",
       "dodge        4    12.000000\n",
       "             f    15.818182\n",
       "ford         4    13.307692\n",
       "             r    14.750000\n",
       "honda        f    24.444444\n",
       "hyundai      f    18.642857\n",
       "jeep         4    13.500000\n",
       "land rover   4    11.500000\n",
       "lincoln      r    11.333333\n",
       "mercury      4    13.250000\n",
       "nissan       4    13.750000\n",
       "             f    20.000000\n",
       "pontiac      f    17.000000\n",
       "subaru       4    19.285714\n",
       "toyota       4    14.933333\n",
       "             f    21.368421\n",
       "volkswagen   f    20.925926"
      ]
     },
     "execution_count": 25,
     "metadata": {},
     "output_type": "execute_result"
    }
   ],
   "source": [
    "# df.groupby()에 여러 변수 지정하기\n",
    "mpg.groupby(['manufacturer','drv'])\\\n",
    "    .agg(mean_cty = ('cty','mean'))"
   ]
  },
  {
   "cell_type": "markdown",
   "id": "09f4620a",
   "metadata": {
    "heading_collapsed": true
   },
   "source": [
    "## 튜플\n",
    "\n",
    "튜플은 리스트와 마찬가지로 여러 값을 나열한 자료구조 입니다. 리스트와 다른 점은 **한번 만들면 값을 수정할 수 없다**는 것입니다. "
   ]
  },
  {
   "cell_type": "markdown",
   "id": "861a81a7",
   "metadata": {
    "hidden": true
   },
   "source": [
    "**튜플 만들기**"
   ]
  },
  {
   "cell_type": "code",
   "execution_count": 26,
   "id": "e4ca3e7b",
   "metadata": {
    "ExecuteTime": {
     "end_time": "2022-11-05T12:00:38.752358Z",
     "start_time": "2022-11-05T12:00:38.746357Z"
    },
    "hidden": true
   },
   "outputs": [
    {
     "data": {
      "text/plain": [
       "(1, 2, 'a', 'b')"
      ]
     },
     "execution_count": 26,
     "metadata": {},
     "output_type": "execute_result"
    }
   ],
   "source": [
    "x = (1,2,'a','b')\n",
    "x"
   ]
  },
  {
   "cell_type": "code",
   "execution_count": 27,
   "id": "31e715c7",
   "metadata": {
    "ExecuteTime": {
     "end_time": "2022-11-05T12:00:49.333342Z",
     "start_time": "2022-11-05T12:00:49.326354Z"
    },
    "hidden": true
   },
   "outputs": [
    {
     "data": {
      "text/plain": [
       "(1, 2, 'a', 'b')"
      ]
     },
     "execution_count": 27,
     "metadata": {},
     "output_type": "execute_result"
    }
   ],
   "source": [
    "x2 = 1,2,'a','b'\n",
    "x2"
   ]
  },
  {
   "cell_type": "markdown",
   "id": "352426b6",
   "metadata": {
    "hidden": true
   },
   "source": [
    "**튜플 추출하기** \n",
    "\n",
    "리스트와 마찬가지로 인덱스 번호를 이용해 값을 추출할 수 있습니다.\n"
   ]
  },
  {
   "cell_type": "code",
   "execution_count": 28,
   "id": "501d655e",
   "metadata": {
    "ExecuteTime": {
     "end_time": "2022-11-05T12:01:19.031992Z",
     "start_time": "2022-11-05T12:01:19.026990Z"
    },
    "hidden": true
   },
   "outputs": [
    {
     "data": {
      "text/plain": [
       "1"
      ]
     },
     "execution_count": 28,
     "metadata": {},
     "output_type": "execute_result"
    }
   ],
   "source": [
    "# 0번째 값 추출 \n",
    "x[0]"
   ]
  },
  {
   "cell_type": "code",
   "execution_count": 30,
   "id": "778c5780",
   "metadata": {
    "ExecuteTime": {
     "end_time": "2022-11-05T12:01:49.146233Z",
     "start_time": "2022-11-05T12:01:49.138246Z"
    },
    "hidden": true
   },
   "outputs": [
    {
     "data": {
      "text/plain": [
       "(2, 'a')"
      ]
     },
     "execution_count": 30,
     "metadata": {},
     "output_type": "execute_result"
    }
   ],
   "source": [
    "# 1~2번째 값 추출\n",
    "x[1:3]"
   ]
  },
  {
   "cell_type": "markdown",
   "id": "d599aa44",
   "metadata": {
    "hidden": true
   },
   "source": [
    "**튜플은 수정할 수 없다**\n",
    "\n",
    "튜플은 한 번 만들면 수정할 수 없습니다.\n",
    "\n",
    "리스트는 값을 추가하거나 삭제하거나 변경할 수 있지만 튜플은 불가능합니다."
   ]
  },
  {
   "cell_type": "code",
   "execution_count": 31,
   "id": "842aba2c",
   "metadata": {
    "ExecuteTime": {
     "end_time": "2022-11-05T12:02:38.396893Z",
     "start_time": "2022-11-05T12:02:38.374900Z"
    },
    "hidden": true
   },
   "outputs": [
    {
     "ename": "AttributeError",
     "evalue": "'tuple' object has no attribute 'append'",
     "output_type": "error",
     "traceback": [
      "\u001b[1;31m---------------------------------------------------------------------------\u001b[0m",
      "\u001b[1;31mAttributeError\u001b[0m                            Traceback (most recent call last)",
      "\u001b[1;32m<ipython-input-31-883258d5177b>\u001b[0m in \u001b[0;36m<module>\u001b[1;34m\u001b[0m\n\u001b[1;32m----> 1\u001b[1;33m \u001b[0mx\u001b[0m\u001b[1;33m.\u001b[0m\u001b[0mappend\u001b[0m\u001b[1;33m(\u001b[0m\u001b[1;36m8\u001b[0m\u001b[1;33m)\u001b[0m \u001b[1;31m# 추가\u001b[0m\u001b[1;33m\u001b[0m\u001b[1;33m\u001b[0m\u001b[0m\n\u001b[0m",
      "\u001b[1;31mAttributeError\u001b[0m: 'tuple' object has no attribute 'append'"
     ]
    }
   ],
   "source": [
    "x.append(8) # 추가 "
   ]
  },
  {
   "cell_type": "code",
   "execution_count": 32,
   "id": "56861aba",
   "metadata": {
    "ExecuteTime": {
     "end_time": "2022-11-05T12:02:44.468451Z",
     "start_time": "2022-11-05T12:02:44.452462Z"
    },
    "hidden": true
   },
   "outputs": [
    {
     "ename": "AttributeError",
     "evalue": "'tuple' object has no attribute 'remove'",
     "output_type": "error",
     "traceback": [
      "\u001b[1;31m---------------------------------------------------------------------------\u001b[0m",
      "\u001b[1;31mAttributeError\u001b[0m                            Traceback (most recent call last)",
      "\u001b[1;32m<ipython-input-32-c4efe2720efe>\u001b[0m in \u001b[0;36m<module>\u001b[1;34m\u001b[0m\n\u001b[1;32m----> 1\u001b[1;33m \u001b[0mx\u001b[0m\u001b[1;33m.\u001b[0m\u001b[0mremove\u001b[0m\u001b[1;33m(\u001b[0m\u001b[1;36m3\u001b[0m\u001b[1;33m)\u001b[0m\u001b[1;33m\u001b[0m\u001b[1;33m\u001b[0m\u001b[0m\n\u001b[0m",
      "\u001b[1;31mAttributeError\u001b[0m: 'tuple' object has no attribute 'remove'"
     ]
    }
   ],
   "source": [
    "x.remove(3)"
   ]
  },
  {
   "cell_type": "code",
   "execution_count": 33,
   "id": "a1c6ae68",
   "metadata": {
    "ExecuteTime": {
     "end_time": "2022-11-05T12:02:49.179001Z",
     "start_time": "2022-11-05T12:02:49.158011Z"
    },
    "hidden": true
   },
   "outputs": [
    {
     "ename": "TypeError",
     "evalue": "'tuple' object does not support item assignment",
     "output_type": "error",
     "traceback": [
      "\u001b[1;31m---------------------------------------------------------------------------\u001b[0m",
      "\u001b[1;31mTypeError\u001b[0m                                 Traceback (most recent call last)",
      "\u001b[1;32m<ipython-input-33-5d4b64d9fa2d>\u001b[0m in \u001b[0;36m<module>\u001b[1;34m\u001b[0m\n\u001b[1;32m----> 1\u001b[1;33m \u001b[0mx\u001b[0m\u001b[1;33m[\u001b[0m\u001b[1;36m0\u001b[0m\u001b[1;33m]\u001b[0m \u001b[1;33m=\u001b[0m \u001b[1;36m9\u001b[0m\u001b[1;33m\u001b[0m\u001b[1;33m\u001b[0m\u001b[0m\n\u001b[0m",
      "\u001b[1;31mTypeError\u001b[0m: 'tuple' object does not support item assignment"
     ]
    }
   ],
   "source": [
    "x[0] = 9"
   ]
  },
  {
   "cell_type": "markdown",
   "id": "c2aba1c9",
   "metadata": {
    "hidden": true
   },
   "source": [
    "**튜플 활용하기**\n",
    "\n",
    "튜플은 함수의 파라미터에 값을 입력할 때 자주 사용합니다. 다음과 같이 코드에 ()가 들어가면 튜플을 사용한 것입니다."
   ]
  },
  {
   "cell_type": "code",
   "execution_count": 34,
   "id": "496c5b5e",
   "metadata": {
    "ExecuteTime": {
     "end_time": "2022-11-05T12:03:40.005243Z",
     "start_time": "2022-11-05T12:03:39.982230Z"
    },
    "hidden": true
   },
   "outputs": [
    {
     "data": {
      "text/html": [
       "<div>\n",
       "<style scoped>\n",
       "    .dataframe tbody tr th:only-of-type {\n",
       "        vertical-align: middle;\n",
       "    }\n",
       "\n",
       "    .dataframe tbody tr th {\n",
       "        vertical-align: top;\n",
       "    }\n",
       "\n",
       "    .dataframe thead th {\n",
       "        text-align: right;\n",
       "    }\n",
       "</style>\n",
       "<table border=\"1\" class=\"dataframe\">\n",
       "  <thead>\n",
       "    <tr style=\"text-align: right;\">\n",
       "      <th></th>\n",
       "      <th>math</th>\n",
       "    </tr>\n",
       "  </thead>\n",
       "  <tbody>\n",
       "    <tr>\n",
       "      <th>mean_math</th>\n",
       "      <td>57.45</td>\n",
       "    </tr>\n",
       "  </tbody>\n",
       "</table>\n",
       "</div>"
      ],
      "text/plain": [
       "            math\n",
       "mean_math  57.45"
      ]
     },
     "execution_count": 34,
     "metadata": {},
     "output_type": "execute_result"
    }
   ],
   "source": [
    "# df.agg()로 요약 통계량 만들기 \n",
    "exam.agg(mean_math = ('math','mean'))"
   ]
  },
  {
   "cell_type": "code",
   "execution_count": 37,
   "id": "179edbea",
   "metadata": {
    "ExecuteTime": {
     "end_time": "2022-11-05T12:04:43.280838Z",
     "start_time": "2022-11-05T12:04:42.947429Z"
    },
    "hidden": true
   },
   "outputs": [
    {
     "data": {
      "text/plain": [
       "[(3.0, 6.0)]"
      ]
     },
     "execution_count": 37,
     "metadata": {},
     "output_type": "execute_result"
    },
    {
     "data": {
      "image/png": "[encoded data removed]",
      "text/plain": [
       "<Figure size 432x288 with 1 Axes>"
      ]
     },
     "metadata": {
      "needs_background": "light"
     },
     "output_type": "display_data"
    }
   ],
   "source": [
    "# sns.scatterplot.set()으로 축 범위 제한하기\n",
    "import seaborn as sns\n",
    "\n",
    "sns.scatterplot(data = mpg, \n",
    "                x = 'displ',\n",
    "              y = 'hwy').set(xlim= (3,6))"
   ]
  },
  {
   "cell_type": "markdown",
   "id": "73cc9c64",
   "metadata": {
    "heading_collapsed": true
   },
   "source": [
    "## 딕셔너리 \n",
    "\n",
    "키와 값이 짝을 이루어 나열된 자료 구조.\n",
    "\n",
    "단어와 설명의 쌍으로 이루어진 사전처럼 딕셔너리도 키와 값의 쌍으로 이루어집니다"
   ]
  },
  {
   "cell_type": "markdown",
   "id": "054a0f00",
   "metadata": {
    "hidden": true
   },
   "source": [
    "**딕셔너리 만들기**"
   ]
  },
  {
   "cell_type": "code",
   "execution_count": 38,
   "id": "1344ee55",
   "metadata": {
    "ExecuteTime": {
     "end_time": "2022-11-05T12:05:41.973643Z",
     "start_time": "2022-11-05T12:05:41.955649Z"
    },
    "hidden": true
   },
   "outputs": [
    {
     "data": {
      "text/plain": [
       "{'name': 'kim'}"
      ]
     },
     "execution_count": 38,
     "metadata": {},
     "output_type": "execute_result"
    }
   ],
   "source": [
    "x = {'name' : 'kim'}\n",
    "x "
   ]
  },
  {
   "cell_type": "markdown",
   "id": "089f4077",
   "metadata": {
    "hidden": true
   },
   "source": [
    "한 딕셔너리에 키-값 쌍을 여러 개 담을 수 있습니다. 값은 스칼라, 리스트, 튜플 등 다양한 자료 구조로 만들 수 있습니다. "
   ]
  },
  {
   "cell_type": "code",
   "execution_count": 39,
   "id": "2c26cb56",
   "metadata": {
    "ExecuteTime": {
     "end_time": "2022-11-05T12:06:49.601533Z",
     "start_time": "2022-11-05T12:06:49.594531Z"
    },
    "hidden": true
   },
   "outputs": [
    {
     "data": {
      "text/plain": [
       "{'id': 1, 'name': ['kim', 'park'], 'nclass': (1, 2, 3)}"
      ]
     },
     "execution_count": 39,
     "metadata": {},
     "output_type": "execute_result"
    }
   ],
   "source": [
    "x = {'id' : 1,\n",
    "    'name' : ['kim','park'],\n",
    "    'nclass' : (1,2,3)}\n",
    "\n",
    "x"
   ]
  },
  {
   "cell_type": "markdown",
   "id": "44c48519",
   "metadata": {
    "hidden": true
   },
   "source": [
    "**딕셔너리 추출하기**\n",
    "\n",
    "값을 추출할 때 리스트나 튜플과 다른 점은 인덱스가 아니라 **키**를 이용한다는 점입니다."
   ]
  },
  {
   "cell_type": "code",
   "execution_count": 40,
   "id": "e0d26c90",
   "metadata": {
    "ExecuteTime": {
     "end_time": "2022-11-05T12:07:37.899216Z",
     "start_time": "2022-11-05T12:07:37.890213Z"
    },
    "hidden": true
   },
   "outputs": [
    {
     "data": {
      "text/plain": [
       "1"
      ]
     },
     "execution_count": 40,
     "metadata": {},
     "output_type": "execute_result"
    }
   ],
   "source": [
    "# id키의 값을 추출 \n",
    "x['id']"
   ]
  },
  {
   "cell_type": "code",
   "execution_count": 41,
   "id": "3c363970",
   "metadata": {
    "ExecuteTime": {
     "end_time": "2022-11-05T12:07:48.635463Z",
     "start_time": "2022-11-05T12:07:48.626474Z"
    },
    "hidden": true
   },
   "outputs": [
    {
     "data": {
      "text/plain": [
       "['kim', 'park']"
      ]
     },
     "execution_count": 41,
     "metadata": {},
     "output_type": "execute_result"
    }
   ],
   "source": [
    "# name 키의 값 추출\n",
    "x['name']"
   ]
  },
  {
   "cell_type": "markdown",
   "id": "46a14bdf",
   "metadata": {
    "hidden": true
   },
   "source": [
    "키-값 쌍은 인덱스를 사용할 수 없습니다. "
   ]
  },
  {
   "cell_type": "code",
   "execution_count": 42,
   "id": "6dc04b9c",
   "metadata": {
    "ExecuteTime": {
     "end_time": "2022-11-05T12:08:06.578577Z",
     "start_time": "2022-11-05T12:08:06.548575Z"
    },
    "hidden": true
   },
   "outputs": [
    {
     "ename": "KeyError",
     "evalue": "1",
     "output_type": "error",
     "traceback": [
      "\u001b[1;31m---------------------------------------------------------------------------\u001b[0m",
      "\u001b[1;31mKeyError\u001b[0m                                  Traceback (most recent call last)",
      "\u001b[1;32m<ipython-input-42-fb0e0080324e>\u001b[0m in \u001b[0;36m<module>\u001b[1;34m\u001b[0m\n\u001b[1;32m----> 1\u001b[1;33m \u001b[0mx\u001b[0m\u001b[1;33m[\u001b[0m\u001b[1;36m1\u001b[0m\u001b[1;33m]\u001b[0m\u001b[1;33m\u001b[0m\u001b[1;33m\u001b[0m\u001b[0m\n\u001b[0m",
      "\u001b[1;31mKeyError\u001b[0m: 1"
     ]
    }
   ],
   "source": [
    "x[1]"
   ]
  },
  {
   "cell_type": "markdown",
   "id": "2f92730b",
   "metadata": {
    "hidden": true
   },
   "source": [
    "키에 들어 있는 값의 개별 요소는 인덱스를 이용해 추출할 수 있습니다."
   ]
  },
  {
   "cell_type": "code",
   "execution_count": 43,
   "id": "e9dffca8",
   "metadata": {
    "ExecuteTime": {
     "end_time": "2022-11-05T12:08:48.948398Z",
     "start_time": "2022-11-05T12:08:48.931388Z"
    },
    "hidden": true
   },
   "outputs": [
    {
     "data": {
      "text/plain": [
       "'kim'"
      ]
     },
     "execution_count": 43,
     "metadata": {},
     "output_type": "execute_result"
    }
   ],
   "source": [
    "# name 키의 0번째 값 추출\n",
    "x['name'][0]"
   ]
  },
  {
   "cell_type": "code",
   "execution_count": 44,
   "id": "0e84d688",
   "metadata": {
    "ExecuteTime": {
     "end_time": "2022-11-05T12:08:59.581440Z",
     "start_time": "2022-11-05T12:08:59.563455Z"
    },
    "hidden": true
   },
   "outputs": [
    {
     "data": {
      "text/plain": [
       "2"
      ]
     },
     "execution_count": 44,
     "metadata": {},
     "output_type": "execute_result"
    }
   ],
   "source": [
    "# nlcass 키의 1번째 값 추출\n",
    "x['nclass'][1]"
   ]
  },
  {
   "cell_type": "markdown",
   "id": "0142c98f",
   "metadata": {
    "hidden": true
   },
   "source": [
    "**딕셔너리 수정하기**"
   ]
  },
  {
   "cell_type": "code",
   "execution_count": 46,
   "id": "e2d2018e",
   "metadata": {
    "ExecuteTime": {
     "end_time": "2022-11-05T12:11:38.809222Z",
     "start_time": "2022-11-05T12:11:38.802222Z"
    },
    "hidden": true
   },
   "outputs": [
    {
     "data": {
      "text/plain": [
       "{'id': 1, 'name': ['kim', 'park'], 'nclass': (1, 2, 3), 'score': [5, 6, 7]}"
      ]
     },
     "execution_count": 46,
     "metadata": {},
     "output_type": "execute_result"
    }
   ],
   "source": [
    "# 추가하기\n",
    "x['score'] = [5,6,7]\n",
    "x"
   ]
  },
  {
   "cell_type": "code",
   "execution_count": 47,
   "id": "59c1b6b3",
   "metadata": {
    "ExecuteTime": {
     "end_time": "2022-11-05T12:11:53.823994Z",
     "start_time": "2022-11-05T12:11:53.805994Z"
    },
    "hidden": true
   },
   "outputs": [
    {
     "data": {
      "text/plain": [
       "{'name': ['kim', 'park'], 'nclass': (1, 2, 3), 'score': [5, 6, 7]}"
      ]
     },
     "execution_count": 47,
     "metadata": {},
     "output_type": "execute_result"
    }
   ],
   "source": [
    "# 삭제하기\n",
    "del x['id']\n",
    "x"
   ]
  },
  {
   "cell_type": "code",
   "execution_count": 55,
   "id": "a0da4f8b",
   "metadata": {
    "ExecuteTime": {
     "end_time": "2022-11-05T12:13:03.124109Z",
     "start_time": "2022-11-05T12:13:03.113060Z"
    },
    "hidden": true
   },
   "outputs": [
    {
     "data": {
      "text/plain": [
       "{'name': ['kim'], 'nclass': (1, 2, 3), 'score': [5, 6, 7]}"
      ]
     },
     "execution_count": 55,
     "metadata": {},
     "output_type": "execute_result"
    }
   ],
   "source": [
    "# name 키의 1번째 요소만 삭제하기\n",
    "del x['name'][1]\n",
    "x "
   ]
  },
  {
   "cell_type": "code",
   "execution_count": 56,
   "id": "b427fdf0",
   "metadata": {
    "ExecuteTime": {
     "end_time": "2022-11-05T12:13:19.216572Z",
     "start_time": "2022-11-05T12:13:19.198570Z"
    },
    "hidden": true
   },
   "outputs": [
    {
     "data": {
      "text/plain": [
       "{'name': ['kim'], 'nclass': (1, 2, 3), 'score': [7, 8, 9]}"
      ]
     },
     "execution_count": 56,
     "metadata": {},
     "output_type": "execute_result"
    }
   ],
   "source": [
    "# score의 값 변경\n",
    "x['score'] = [7,8,9]\n",
    "x"
   ]
  },
  {
   "cell_type": "code",
   "execution_count": 58,
   "id": "7455bd0d",
   "metadata": {
    "ExecuteTime": {
     "end_time": "2022-11-05T12:13:42.370021Z",
     "start_time": "2022-11-05T12:13:42.351012Z"
    },
    "hidden": true
   },
   "outputs": [
    {
     "data": {
      "text/plain": [
       "{'name': ['kim'], 'nclass': (1, 2, 3), 'score': [7, 8, 99]}"
      ]
     },
     "execution_count": 58,
     "metadata": {},
     "output_type": "execute_result"
    }
   ],
   "source": [
    "# score 키의 2번째 값 변경\n",
    "x['score'][2] = 99\n",
    "x"
   ]
  },
  {
   "cell_type": "markdown",
   "id": "7cd8b868",
   "metadata": {
    "hidden": true
   },
   "source": [
    "**키 변경하기**\n",
    "\n",
    "키를 변경하려면 \n",
    "* 기존 키를 새 키에 할당한 다음 \n",
    "* 기존 키를 `del`을 이용해 삭제하면 됩니다. "
   ]
  },
  {
   "cell_type": "code",
   "execution_count": 59,
   "id": "1c894b7a",
   "metadata": {
    "ExecuteTime": {
     "end_time": "2022-11-05T15:33:27.768919Z",
     "start_time": "2022-11-05T15:33:27.762923Z"
    },
    "hidden": true
   },
   "outputs": [
    {
     "data": {
      "text/plain": [
       "{'name': ['kim'], 'nclass': (1, 2, 3), 'score': [7, 8, 99], 'math': [7, 8, 99]}"
      ]
     },
     "execution_count": 59,
     "metadata": {},
     "output_type": "execute_result"
    }
   ],
   "source": [
    "# 1) 기존 키를 새 키에 할당 \n",
    "x['math'] = x['score']\n",
    "x"
   ]
  },
  {
   "cell_type": "code",
   "execution_count": 60,
   "id": "5d001388",
   "metadata": {
    "ExecuteTime": {
     "end_time": "2022-11-05T15:33:46.173878Z",
     "start_time": "2022-11-05T15:33:46.159874Z"
    },
    "hidden": true
   },
   "outputs": [
    {
     "data": {
      "text/plain": [
       "{'name': ['kim'], 'nclass': (1, 2, 3), 'math': [7, 8, 99]}"
      ]
     },
     "execution_count": 60,
     "metadata": {},
     "output_type": "execute_result"
    }
   ],
   "source": [
    "# 2) 기존 키 삭제 \n",
    "del x['score']\n",
    "x"
   ]
  },
  {
   "cell_type": "markdown",
   "id": "df386350",
   "metadata": {
    "hidden": true
   },
   "source": [
    "**딕셔너리 활용하기**\n",
    "\n",
    "딕셔너리는 함수의 파라미터 값을 입력할 때 자주 사용됩니다. "
   ]
  },
  {
   "cell_type": "code",
   "execution_count": 64,
   "id": "d9cec91f",
   "metadata": {
    "ExecuteTime": {
     "end_time": "2022-11-05T15:35:26.957826Z",
     "start_time": "2022-11-05T15:35:26.947663Z"
    },
    "hidden": true
   },
   "outputs": [
    {
     "data": {
      "text/html": [
       "<div>\n",
       "<style scoped>\n",
       "    .dataframe tbody tr th:only-of-type {\n",
       "        vertical-align: middle;\n",
       "    }\n",
       "\n",
       "    .dataframe tbody tr th {\n",
       "        vertical-align: top;\n",
       "    }\n",
       "\n",
       "    .dataframe thead th {\n",
       "        text-align: right;\n",
       "    }\n",
       "</style>\n",
       "<table border=\"1\" class=\"dataframe\">\n",
       "  <thead>\n",
       "    <tr style=\"text-align: right;\">\n",
       "      <th></th>\n",
       "      <th>id</th>\n",
       "    </tr>\n",
       "  </thead>\n",
       "  <tbody>\n",
       "    <tr>\n",
       "      <th>0</th>\n",
       "      <td>1</td>\n",
       "    </tr>\n",
       "    <tr>\n",
       "      <th>1</th>\n",
       "      <td>2</td>\n",
       "    </tr>\n",
       "    <tr>\n",
       "      <th>2</th>\n",
       "      <td>3</td>\n",
       "    </tr>\n",
       "  </tbody>\n",
       "</table>\n",
       "</div>"
      ],
      "text/plain": [
       "   id\n",
       "0   1\n",
       "1   2\n",
       "2   3"
      ]
     },
     "execution_count": 64,
     "metadata": {},
     "output_type": "execute_result"
    }
   ],
   "source": [
    "# pd.DataFrame()으로 데이터 프레임 만들기\n",
    "df = pd.DataFrame({'id' : [1,2,3]})\n",
    "df"
   ]
  },
  {
   "cell_type": "code",
   "execution_count": 65,
   "id": "b8b98de1",
   "metadata": {
    "ExecuteTime": {
     "end_time": "2022-11-05T15:35:29.127951Z",
     "start_time": "2022-11-05T15:35:29.109958Z"
    },
    "hidden": true
   },
   "outputs": [
    {
     "data": {
      "text/html": [
       "<div>\n",
       "<style scoped>\n",
       "    .dataframe tbody tr th:only-of-type {\n",
       "        vertical-align: middle;\n",
       "    }\n",
       "\n",
       "    .dataframe tbody tr th {\n",
       "        vertical-align: top;\n",
       "    }\n",
       "\n",
       "    .dataframe thead th {\n",
       "        text-align: right;\n",
       "    }\n",
       "</style>\n",
       "<table border=\"1\" class=\"dataframe\">\n",
       "  <thead>\n",
       "    <tr style=\"text-align: right;\">\n",
       "      <th></th>\n",
       "      <th>manufacturer</th>\n",
       "      <th>model</th>\n",
       "      <th>displ</th>\n",
       "      <th>year</th>\n",
       "      <th>cyl</th>\n",
       "      <th>trans</th>\n",
       "      <th>drv</th>\n",
       "      <th>city</th>\n",
       "      <th>hwy</th>\n",
       "      <th>fl</th>\n",
       "      <th>category</th>\n",
       "    </tr>\n",
       "  </thead>\n",
       "  <tbody>\n",
       "    <tr>\n",
       "      <th>0</th>\n",
       "      <td>audi</td>\n",
       "      <td>a4</td>\n",
       "      <td>1.8</td>\n",
       "      <td>1999</td>\n",
       "      <td>4</td>\n",
       "      <td>auto(l5)</td>\n",
       "      <td>f</td>\n",
       "      <td>18</td>\n",
       "      <td>29</td>\n",
       "      <td>p</td>\n",
       "      <td>compact</td>\n",
       "    </tr>\n",
       "    <tr>\n",
       "      <th>1</th>\n",
       "      <td>audi</td>\n",
       "      <td>a4</td>\n",
       "      <td>1.8</td>\n",
       "      <td>1999</td>\n",
       "      <td>4</td>\n",
       "      <td>manual(m5)</td>\n",
       "      <td>f</td>\n",
       "      <td>21</td>\n",
       "      <td>29</td>\n",
       "      <td>p</td>\n",
       "      <td>compact</td>\n",
       "    </tr>\n",
       "    <tr>\n",
       "      <th>2</th>\n",
       "      <td>audi</td>\n",
       "      <td>a4</td>\n",
       "      <td>2.0</td>\n",
       "      <td>2008</td>\n",
       "      <td>4</td>\n",
       "      <td>manual(m6)</td>\n",
       "      <td>f</td>\n",
       "      <td>20</td>\n",
       "      <td>31</td>\n",
       "      <td>p</td>\n",
       "      <td>compact</td>\n",
       "    </tr>\n",
       "    <tr>\n",
       "      <th>3</th>\n",
       "      <td>audi</td>\n",
       "      <td>a4</td>\n",
       "      <td>2.0</td>\n",
       "      <td>2008</td>\n",
       "      <td>4</td>\n",
       "      <td>auto(av)</td>\n",
       "      <td>f</td>\n",
       "      <td>21</td>\n",
       "      <td>30</td>\n",
       "      <td>p</td>\n",
       "      <td>compact</td>\n",
       "    </tr>\n",
       "    <tr>\n",
       "      <th>4</th>\n",
       "      <td>audi</td>\n",
       "      <td>a4</td>\n",
       "      <td>2.8</td>\n",
       "      <td>1999</td>\n",
       "      <td>6</td>\n",
       "      <td>auto(l5)</td>\n",
       "      <td>f</td>\n",
       "      <td>16</td>\n",
       "      <td>26</td>\n",
       "      <td>p</td>\n",
       "      <td>compact</td>\n",
       "    </tr>\n",
       "    <tr>\n",
       "      <th>...</th>\n",
       "      <td>...</td>\n",
       "      <td>...</td>\n",
       "      <td>...</td>\n",
       "      <td>...</td>\n",
       "      <td>...</td>\n",
       "      <td>...</td>\n",
       "      <td>...</td>\n",
       "      <td>...</td>\n",
       "      <td>...</td>\n",
       "      <td>...</td>\n",
       "      <td>...</td>\n",
       "    </tr>\n",
       "    <tr>\n",
       "      <th>229</th>\n",
       "      <td>volkswagen</td>\n",
       "      <td>passat</td>\n",
       "      <td>2.0</td>\n",
       "      <td>2008</td>\n",
       "      <td>4</td>\n",
       "      <td>auto(s6)</td>\n",
       "      <td>f</td>\n",
       "      <td>19</td>\n",
       "      <td>28</td>\n",
       "      <td>p</td>\n",
       "      <td>midsize</td>\n",
       "    </tr>\n",
       "    <tr>\n",
       "      <th>230</th>\n",
       "      <td>volkswagen</td>\n",
       "      <td>passat</td>\n",
       "      <td>2.0</td>\n",
       "      <td>2008</td>\n",
       "      <td>4</td>\n",
       "      <td>manual(m6)</td>\n",
       "      <td>f</td>\n",
       "      <td>21</td>\n",
       "      <td>29</td>\n",
       "      <td>p</td>\n",
       "      <td>midsize</td>\n",
       "    </tr>\n",
       "    <tr>\n",
       "      <th>231</th>\n",
       "      <td>volkswagen</td>\n",
       "      <td>passat</td>\n",
       "      <td>2.8</td>\n",
       "      <td>1999</td>\n",
       "      <td>6</td>\n",
       "      <td>auto(l5)</td>\n",
       "      <td>f</td>\n",
       "      <td>16</td>\n",
       "      <td>26</td>\n",
       "      <td>p</td>\n",
       "      <td>midsize</td>\n",
       "    </tr>\n",
       "    <tr>\n",
       "      <th>232</th>\n",
       "      <td>volkswagen</td>\n",
       "      <td>passat</td>\n",
       "      <td>2.8</td>\n",
       "      <td>1999</td>\n",
       "      <td>6</td>\n",
       "      <td>manual(m5)</td>\n",
       "      <td>f</td>\n",
       "      <td>18</td>\n",
       "      <td>26</td>\n",
       "      <td>p</td>\n",
       "      <td>midsize</td>\n",
       "    </tr>\n",
       "    <tr>\n",
       "      <th>233</th>\n",
       "      <td>volkswagen</td>\n",
       "      <td>passat</td>\n",
       "      <td>3.6</td>\n",
       "      <td>2008</td>\n",
       "      <td>6</td>\n",
       "      <td>auto(s6)</td>\n",
       "      <td>f</td>\n",
       "      <td>17</td>\n",
       "      <td>26</td>\n",
       "      <td>p</td>\n",
       "      <td>midsize</td>\n",
       "    </tr>\n",
       "  </tbody>\n",
       "</table>\n",
       "<p>234 rows × 11 columns</p>\n",
       "</div>"
      ],
      "text/plain": [
       "    manufacturer   model  displ  year  cyl       trans drv  city  hwy fl  \\\n",
       "0           audi      a4    1.8  1999    4    auto(l5)   f    18   29  p   \n",
       "1           audi      a4    1.8  1999    4  manual(m5)   f    21   29  p   \n",
       "2           audi      a4    2.0  2008    4  manual(m6)   f    20   31  p   \n",
       "3           audi      a4    2.0  2008    4    auto(av)   f    21   30  p   \n",
       "4           audi      a4    2.8  1999    6    auto(l5)   f    16   26  p   \n",
       "..           ...     ...    ...   ...  ...         ...  ..   ...  ... ..   \n",
       "229   volkswagen  passat    2.0  2008    4    auto(s6)   f    19   28  p   \n",
       "230   volkswagen  passat    2.0  2008    4  manual(m6)   f    21   29  p   \n",
       "231   volkswagen  passat    2.8  1999    6    auto(l5)   f    16   26  p   \n",
       "232   volkswagen  passat    2.8  1999    6  manual(m5)   f    18   26  p   \n",
       "233   volkswagen  passat    3.6  2008    6    auto(s6)   f    17   26  p   \n",
       "\n",
       "    category  \n",
       "0    compact  \n",
       "1    compact  \n",
       "2    compact  \n",
       "3    compact  \n",
       "4    compact  \n",
       "..       ...  \n",
       "229  midsize  \n",
       "230  midsize  \n",
       "231  midsize  \n",
       "232  midsize  \n",
       "233  midsize  \n",
       "\n",
       "[234 rows x 11 columns]"
      ]
     },
     "execution_count": 65,
     "metadata": {},
     "output_type": "execute_result"
    }
   ],
   "source": [
    "# df.rename()으로 변수명 바꾸기\n",
    "mpg.rename(columns = {'cty' : 'city'})"
   ]
  },
  {
   "cell_type": "markdown",
   "id": "2d4aad36",
   "metadata": {
    "heading_collapsed": true
   },
   "source": [
    "## 시리즈"
   ]
  },
  {
   "cell_type": "markdown",
   "id": "7e74c239",
   "metadata": {
    "hidden": true
   },
   "source": [
    "시리즈는 여러 값을 나열한 구조입니다. 시리즈는 데이터 프레임을 구성하는 하위요소로, 데이터 프레임을 다루는 함수는 대부분 시리즈를 이용해 연산합니다. 시리즈는 앞에서 다룬 자료 구조와 달리 파이썬에 내장되어 있지 않고 `pandas` 패키지를 이용해야 활용할 수 있습니다."
   ]
  },
  {
   "cell_type": "markdown",
   "id": "212ba411",
   "metadata": {
    "hidden": true
   },
   "source": [
    "### 시리즈 만들기 \n",
    "* pd.Series() "
   ]
  },
  {
   "cell_type": "code",
   "execution_count": 66,
   "id": "492136e7",
   "metadata": {
    "ExecuteTime": {
     "end_time": "2022-11-05T15:39:11.177648Z",
     "start_time": "2022-11-05T15:39:11.159657Z"
    },
    "hidden": true
   },
   "outputs": [
    {
     "data": {
      "text/plain": [
       "0    3\n",
       "1    4\n",
       "2    5\n",
       "dtype: int64"
      ]
     },
     "execution_count": 66,
     "metadata": {},
     "output_type": "execute_result"
    }
   ],
   "source": [
    "# 시리즈 만들기 \n",
    "import pandas as pd \n",
    "x_num = pd.Series([3,4,5])\n",
    "x_num"
   ]
  },
  {
   "cell_type": "code",
   "execution_count": 67,
   "id": "900155f0",
   "metadata": {
    "ExecuteTime": {
     "end_time": "2022-11-05T15:39:17.314660Z",
     "start_time": "2022-11-05T15:39:17.303656Z"
    },
    "hidden": true
   },
   "outputs": [
    {
     "data": {
      "text/plain": [
       "pandas.core.series.Series"
      ]
     },
     "execution_count": 67,
     "metadata": {},
     "output_type": "execute_result"
    }
   ],
   "source": [
    "type(x_num)"
   ]
  },
  {
   "cell_type": "code",
   "execution_count": 68,
   "id": "b0df9963",
   "metadata": {
    "ExecuteTime": {
     "end_time": "2022-11-05T15:39:47.671626Z",
     "start_time": "2022-11-05T15:39:47.657614Z"
    },
    "hidden": true
   },
   "outputs": [
    {
     "data": {
      "text/plain": [
       "kim     3\n",
       "lee     4\n",
       "park    5\n",
       "dtype: int64"
      ]
     },
     "execution_count": 68,
     "metadata": {},
     "output_type": "execute_result"
    }
   ],
   "source": [
    "# 인덱스 정하기 \n",
    "x_label = pd.Series([3,4,5], index = ['kim','lee','park'])\n",
    "x_label"
   ]
  },
  {
   "cell_type": "markdown",
   "id": "cf6400cb",
   "metadata": {
    "hidden": true
   },
   "source": [
    "### 시리즈 추출하기 \n",
    "* 인덱스 번호나 문자열 사용 가능\n",
    "* `loc[]`과 `iloc[]` 사용 가능 \n",
    "    * loc **컬럼명을 직접 적거나, 특정 조건식**을 통해 데이터에 접근 \n",
    "    * iloc = integer location, **행이나 컬럼의 순서를 나타내는 정수**로 특정 값을 추출"
   ]
  },
  {
   "cell_type": "code",
   "execution_count": 69,
   "id": "3f662a42",
   "metadata": {
    "ExecuteTime": {
     "end_time": "2022-11-05T15:40:03.053723Z",
     "start_time": "2022-11-05T15:40:03.037729Z"
    },
    "hidden": true
   },
   "outputs": [
    {
     "data": {
      "text/plain": [
       "3"
      ]
     },
     "execution_count": 69,
     "metadata": {},
     "output_type": "execute_result"
    }
   ],
   "source": [
    "# 0번째 값 추출 \n",
    "x_num[0]"
   ]
  },
  {
   "cell_type": "code",
   "execution_count": 71,
   "id": "4eec2048",
   "metadata": {
    "ExecuteTime": {
     "end_time": "2022-11-05T15:40:18.260537Z",
     "start_time": "2022-11-05T15:40:18.255547Z"
    },
    "hidden": true
   },
   "outputs": [
    {
     "data": {
      "text/plain": [
       "3"
      ]
     },
     "execution_count": 71,
     "metadata": {},
     "output_type": "execute_result"
    }
   ],
   "source": [
    "# 인덱스 kim의 값 추출 \n",
    "x_label['kim']"
   ]
  },
  {
   "cell_type": "code",
   "execution_count": 72,
   "id": "fd136b53",
   "metadata": {
    "ExecuteTime": {
     "end_time": "2022-11-05T15:41:02.388086Z",
     "start_time": "2022-11-05T15:41:02.374079Z"
    },
    "hidden": true
   },
   "outputs": [
    {
     "data": {
      "text/plain": [
       "3"
      ]
     },
     "execution_count": 72,
     "metadata": {},
     "output_type": "execute_result"
    }
   ],
   "source": [
    "x_label.loc['kim'] "
   ]
  },
  {
   "cell_type": "code",
   "execution_count": 73,
   "id": "30b06c77",
   "metadata": {
    "ExecuteTime": {
     "end_time": "2022-11-05T15:41:09.935470Z",
     "start_time": "2022-11-05T15:41:09.929476Z"
    },
    "hidden": true
   },
   "outputs": [
    {
     "data": {
      "text/plain": [
       "3"
      ]
     },
     "execution_count": 73,
     "metadata": {},
     "output_type": "execute_result"
    }
   ],
   "source": [
    "x_label.iloc[0]"
   ]
  },
  {
   "cell_type": "markdown",
   "id": "36b53cc0",
   "metadata": {
    "hidden": true
   },
   "source": [
    "### 시리즈 수정하기 "
   ]
  },
  {
   "cell_type": "markdown",
   "id": "4ee31020",
   "metadata": {
    "hidden": true
   },
   "source": [
    "**추가하기**"
   ]
  },
  {
   "cell_type": "code",
   "execution_count": 76,
   "id": "b8ea5638",
   "metadata": {
    "ExecuteTime": {
     "end_time": "2022-11-05T15:43:43.738299Z",
     "start_time": "2022-11-05T15:43:43.721288Z"
    },
    "hidden": true
   },
   "outputs": [
    {
     "data": {
      "text/plain": [
       "0    3\n",
       "1    4\n",
       "2    5\n",
       "3    9\n",
       "dtype: int64"
      ]
     },
     "execution_count": 76,
     "metadata": {},
     "output_type": "execute_result"
    }
   ],
   "source": [
    "# 3번째 인덱스에 9 할당 \n",
    "x_num[3] = 9\n",
    "x_num"
   ]
  },
  {
   "cell_type": "code",
   "execution_count": 77,
   "id": "8ffef13b",
   "metadata": {
    "ExecuteTime": {
     "end_time": "2022-11-05T15:44:08.553017Z",
     "start_time": "2022-11-05T15:44:08.537025Z"
    },
    "hidden": true
   },
   "outputs": [
    {
     "data": {
      "text/plain": [
       "kim     3\n",
       "lee     4\n",
       "park    5\n",
       "choi    6\n",
       "dtype: int64"
      ]
     },
     "execution_count": 77,
     "metadata": {},
     "output_type": "execute_result"
    }
   ],
   "source": [
    "# 인덱스 choi에 6 할당 \n",
    "x_label['choi'] = 6\n",
    "x_label"
   ]
  },
  {
   "cell_type": "markdown",
   "id": "e72edacf",
   "metadata": {
    "hidden": true
   },
   "source": [
    "**삭제하기**"
   ]
  },
  {
   "cell_type": "code",
   "execution_count": 78,
   "id": "0998f314",
   "metadata": {
    "ExecuteTime": {
     "end_time": "2022-11-05T15:44:41.890702Z",
     "start_time": "2022-11-05T15:44:41.883698Z"
    },
    "hidden": true
   },
   "outputs": [
    {
     "data": {
      "text/plain": [
       "0    3\n",
       "1    4\n",
       "3    9\n",
       "dtype: int64"
      ]
     },
     "execution_count": 78,
     "metadata": {},
     "output_type": "execute_result"
    }
   ],
   "source": [
    "# 2번째 인덱스 삭제 \n",
    "del x_num[2]\n",
    "x_num"
   ]
  },
  {
   "cell_type": "code",
   "execution_count": 79,
   "id": "c2b5ff18",
   "metadata": {
    "ExecuteTime": {
     "end_time": "2022-11-05T15:44:56.470209Z",
     "start_time": "2022-11-05T15:44:56.458208Z"
    },
    "hidden": true
   },
   "outputs": [
    {
     "data": {
      "text/plain": [
       "kim     3\n",
       "lee     4\n",
       "choi    6\n",
       "dtype: int64"
      ]
     },
     "execution_count": 79,
     "metadata": {},
     "output_type": "execute_result"
    }
   ],
   "source": [
    "# park 삭제\n",
    "del x_label['park']\n",
    "x_label"
   ]
  },
  {
   "cell_type": "markdown",
   "id": "b2c010c9",
   "metadata": {
    "hidden": true
   },
   "source": [
    "**변경하기**"
   ]
  },
  {
   "cell_type": "code",
   "execution_count": 80,
   "id": "0f1d5425",
   "metadata": {
    "ExecuteTime": {
     "end_time": "2022-11-05T15:45:18.805166Z",
     "start_time": "2022-11-05T15:45:18.790169Z"
    },
    "hidden": true
   },
   "outputs": [
    {
     "data": {
      "text/plain": [
       "0    3\n",
       "1    4\n",
       "3    4\n",
       "dtype: int64"
      ]
     },
     "execution_count": 80,
     "metadata": {},
     "output_type": "execute_result"
    }
   ],
   "source": [
    "# 3번째 인덱스의 값을 4로 변경 \n",
    "x_num[3] = 4\n",
    "x_num"
   ]
  },
  {
   "cell_type": "code",
   "execution_count": 81,
   "id": "f8dd19ed",
   "metadata": {
    "ExecuteTime": {
     "end_time": "2022-11-05T15:45:31.609170Z",
     "start_time": "2022-11-05T15:45:31.597162Z"
    },
    "hidden": true
   },
   "outputs": [
    {
     "data": {
      "text/plain": [
       "kim     5\n",
       "lee     4\n",
       "choi    6\n",
       "dtype: int64"
      ]
     },
     "execution_count": 81,
     "metadata": {},
     "output_type": "execute_result"
    }
   ],
   "source": [
    "# 인덱스 kim의 값을 5로 변경\n",
    "x_label['kim'] = 5 \n",
    "x_label"
   ]
  },
  {
   "cell_type": "markdown",
   "id": "801680ab",
   "metadata": {
    "hidden": true
   },
   "source": [
    "### 시리즈 활용하기 \n",
    "\n",
    "**데이터 프레임에서 변수 추출해 활용하기**\n",
    "데이터 프레임을 구성하는 각각의 변수는 시리즈입니다. 데이터 프레임에서 변수를 추출해 연산하는 작업은 대부분 시리즈를 이용합니다. 다음 코드에서 `mpg['hwy']`의 출력 결과는 시리즈 자료구조 입니다."
   ]
  },
  {
   "cell_type": "code",
   "execution_count": 82,
   "id": "25cdcd69",
   "metadata": {
    "ExecuteTime": {
     "end_time": "2022-11-05T15:46:50.106054Z",
     "start_time": "2022-11-05T15:46:50.096037Z"
    },
    "hidden": true
   },
   "outputs": [
    {
     "data": {
      "text/plain": [
       "23.44017094017094"
      ]
     },
     "execution_count": 82,
     "metadata": {},
     "output_type": "execute_result"
    }
   ],
   "source": [
    "mpg['hwy'].mean()"
   ]
  },
  {
   "cell_type": "markdown",
   "id": "07427a83",
   "metadata": {
    "hidden": true
   },
   "source": [
    "**pandas 함수의 출력 결과 활용하기**\n",
    "\n",
    "`pandas` 함수의 출력 결과는 시리즈일 때가 많습니다. `df.value_counts()`의 출력 결과는 시리즈이므로 시리즈를 다루는 방법으로 활용할 수 있습니다."
   ]
  },
  {
   "cell_type": "code",
   "execution_count": 83,
   "id": "79ba701d",
   "metadata": {
    "ExecuteTime": {
     "end_time": "2022-11-05T15:47:52.264948Z",
     "start_time": "2022-11-05T15:47:52.244948Z"
    },
    "hidden": true
   },
   "outputs": [
    {
     "data": {
      "text/plain": [
       "suv           62\n",
       "compact       47\n",
       "midsize       41\n",
       "subcompact    35\n",
       "pickup        33\n",
       "minivan       11\n",
       "2seater        5\n",
       "Name: category, dtype: int64"
      ]
     },
     "execution_count": 83,
     "metadata": {},
     "output_type": "execute_result"
    }
   ],
   "source": [
    "n_category = mpg['category'].value_counts()\n",
    "n_category"
   ]
  },
  {
   "cell_type": "code",
   "execution_count": 84,
   "id": "ec1fc0bb",
   "metadata": {
    "ExecuteTime": {
     "end_time": "2022-11-05T15:55:39.505507Z",
     "start_time": "2022-11-05T15:55:39.493333Z"
    },
    "hidden": true
   },
   "outputs": [
    {
     "data": {
      "text/plain": [
       "pandas.core.series.Series"
      ]
     },
     "execution_count": 84,
     "metadata": {},
     "output_type": "execute_result"
    }
   ],
   "source": [
    "type(n_category)"
   ]
  },
  {
   "cell_type": "code",
   "execution_count": 85,
   "id": "6b16027b",
   "metadata": {
    "ExecuteTime": {
     "end_time": "2022-11-05T15:55:49.382331Z",
     "start_time": "2022-11-05T15:55:49.372313Z"
    },
    "hidden": true
   },
   "outputs": [
    {
     "data": {
      "text/plain": [
       "suv        62\n",
       "compact    47\n",
       "Name: category, dtype: int64"
      ]
     },
     "execution_count": 85,
     "metadata": {},
     "output_type": "execute_result"
    }
   ],
   "source": [
    "# 인덱스 번호로 추출하기 \n",
    "n_category[0:2]"
   ]
  },
  {
   "cell_type": "code",
   "execution_count": 86,
   "id": "07a28449",
   "metadata": {
    "ExecuteTime": {
     "end_time": "2022-11-05T15:56:07.626248Z",
     "start_time": "2022-11-05T15:56:07.606256Z"
    },
    "hidden": true
   },
   "outputs": [
    {
     "data": {
      "text/plain": [
       "suv        62\n",
       "compact    47\n",
       "Name: category, dtype: int64"
      ]
     },
     "execution_count": 86,
     "metadata": {},
     "output_type": "execute_result"
    }
   ],
   "source": [
    "# 인덱스 문자열로 추출하기\n",
    "n_category[['suv','compact']]"
   ]
  },
  {
   "cell_type": "markdown",
   "id": "539f9ad7",
   "metadata": {
    "heading_collapsed": true
   },
   "source": [
    "## 데이터 프레임\n",
    "\n",
    "데이터 프레임은 행과 열로 구성된 사각형 모양의 표처럼 생긴 자료 구조 입니다. 데이터 프레임은 데이터를 다룰 때 가장 많이 사용되는 자료 구조 입니다. "
   ]
  },
  {
   "cell_type": "markdown",
   "id": "602eb0d4",
   "metadata": {
    "hidden": true
   },
   "source": [
    "### 데이터 프레임 만들기 \n",
    "* `pd.DataFrame()`"
   ]
  },
  {
   "cell_type": "code",
   "execution_count": 91,
   "id": "c1aa87a9",
   "metadata": {
    "ExecuteTime": {
     "end_time": "2022-11-05T15:58:42.757740Z",
     "start_time": "2022-11-05T15:58:42.740736Z"
    },
    "hidden": true
   },
   "outputs": [
    {
     "data": {
      "text/html": [
       "<div>\n",
       "<style scoped>\n",
       "    .dataframe tbody tr th:only-of-type {\n",
       "        vertical-align: middle;\n",
       "    }\n",
       "\n",
       "    .dataframe tbody tr th {\n",
       "        vertical-align: top;\n",
       "    }\n",
       "\n",
       "    .dataframe thead th {\n",
       "        text-align: right;\n",
       "    }\n",
       "</style>\n",
       "<table border=\"1\" class=\"dataframe\">\n",
       "  <thead>\n",
       "    <tr style=\"text-align: right;\">\n",
       "      <th></th>\n",
       "      <th>var1</th>\n",
       "      <th>var2</th>\n",
       "    </tr>\n",
       "  </thead>\n",
       "  <tbody>\n",
       "    <tr>\n",
       "      <th>kim</th>\n",
       "      <td>1</td>\n",
       "      <td>4</td>\n",
       "    </tr>\n",
       "    <tr>\n",
       "      <th>lee</th>\n",
       "      <td>2</td>\n",
       "      <td>5</td>\n",
       "    </tr>\n",
       "    <tr>\n",
       "      <th>park</th>\n",
       "      <td>3</td>\n",
       "      <td>6</td>\n",
       "    </tr>\n",
       "  </tbody>\n",
       "</table>\n",
       "</div>"
      ],
      "text/plain": [
       "      var1  var2\n",
       "kim      1     4\n",
       "lee      2     5\n",
       "park     3     6"
      ]
     },
     "execution_count": 91,
     "metadata": {},
     "output_type": "execute_result"
    }
   ],
   "source": [
    "# 데이터 프레임 만들기\n",
    "df = pd.DataFrame({'var1' : [1,2,3],\n",
    "                  'var2' : [4,5,6]},\n",
    "                 index = ['kim','lee','park'])\n",
    "\n",
    "df"
   ]
  },
  {
   "cell_type": "code",
   "execution_count": 90,
   "id": "e996ce26",
   "metadata": {
    "ExecuteTime": {
     "end_time": "2022-11-05T15:58:22.137071Z",
     "start_time": "2022-11-05T15:58:22.130074Z"
    },
    "hidden": true
   },
   "outputs": [
    {
     "data": {
      "text/plain": [
       "pandas.core.frame.DataFrame"
      ]
     },
     "execution_count": 90,
     "metadata": {},
     "output_type": "execute_result"
    }
   ],
   "source": [
    "type(df)"
   ]
  },
  {
   "cell_type": "markdown",
   "id": "9521876a",
   "metadata": {
    "hidden": true
   },
   "source": [
    "데이터 프레임에서 변수를 추출하면 시리즈가 됩니다."
   ]
  },
  {
   "cell_type": "code",
   "execution_count": 92,
   "id": "4bdb7a10",
   "metadata": {
    "ExecuteTime": {
     "end_time": "2022-11-05T15:59:04.386053Z",
     "start_time": "2022-11-05T15:59:04.372054Z"
    },
    "hidden": true
   },
   "outputs": [
    {
     "data": {
      "text/plain": [
       "pandas.core.series.Series"
      ]
     },
     "execution_count": 92,
     "metadata": {},
     "output_type": "execute_result"
    }
   ],
   "source": [
    "x = df['var1']\n",
    "type(x)"
   ]
  },
  {
   "cell_type": "markdown",
   "id": "a907b39d",
   "metadata": {
    "hidden": true
   },
   "source": [
    "### 데이터 프레임 자료 구조 바꾸기 "
   ]
  },
  {
   "cell_type": "code",
   "execution_count": 95,
   "id": "afc3f343",
   "metadata": {
    "ExecuteTime": {
     "end_time": "2022-11-05T16:00:46.689922Z",
     "start_time": "2022-11-05T16:00:46.673914Z"
    },
    "hidden": true
   },
   "outputs": [
    {
     "ename": "AttributeError",
     "evalue": "'list' object has no attribute 'mean'",
     "output_type": "error",
     "traceback": [
      "\u001b[1;31m---------------------------------------------------------------------------\u001b[0m",
      "\u001b[1;31mAttributeError\u001b[0m                            Traceback (most recent call last)",
      "\u001b[1;32m<ipython-input-95-976deaf7a37e>\u001b[0m in \u001b[0;36m<module>\u001b[1;34m\u001b[0m\n\u001b[0;32m      1\u001b[0m \u001b[0mx\u001b[0m \u001b[1;33m=\u001b[0m \u001b[1;33m[\u001b[0m\u001b[1;36m1\u001b[0m\u001b[1;33m,\u001b[0m\u001b[1;36m1\u001b[0m\u001b[1;33m,\u001b[0m\u001b[1;36m2\u001b[0m\u001b[1;33m,\u001b[0m\u001b[1;36m3\u001b[0m\u001b[1;33m]\u001b[0m\u001b[1;33m\u001b[0m\u001b[1;33m\u001b[0m\u001b[0m\n\u001b[1;32m----> 2\u001b[1;33m \u001b[0mx\u001b[0m\u001b[1;33m.\u001b[0m\u001b[0mmean\u001b[0m\u001b[1;33m(\u001b[0m\u001b[1;33m)\u001b[0m\u001b[1;33m\u001b[0m\u001b[1;33m\u001b[0m\u001b[0m\n\u001b[0m",
      "\u001b[1;31mAttributeError\u001b[0m: 'list' object has no attribute 'mean'"
     ]
    }
   ],
   "source": [
    "x = [1,1,2,3]\n",
    "x.mean()"
   ]
  },
  {
   "cell_type": "code",
   "execution_count": 97,
   "id": "777a6282",
   "metadata": {
    "ExecuteTime": {
     "end_time": "2022-11-05T16:00:58.429891Z",
     "start_time": "2022-11-05T16:00:58.406869Z"
    },
    "hidden": true
   },
   "outputs": [
    {
     "ename": "AttributeError",
     "evalue": "'list' object has no attribute 'value_counts'",
     "output_type": "error",
     "traceback": [
      "\u001b[1;31m---------------------------------------------------------------------------\u001b[0m",
      "\u001b[1;31mAttributeError\u001b[0m                            Traceback (most recent call last)",
      "\u001b[1;32m<ipython-input-97-164e3a0657d4>\u001b[0m in \u001b[0;36m<module>\u001b[1;34m\u001b[0m\n\u001b[1;32m----> 1\u001b[1;33m \u001b[0mx\u001b[0m\u001b[1;33m.\u001b[0m\u001b[0mvalue_counts\u001b[0m\u001b[1;33m(\u001b[0m\u001b[1;33m)\u001b[0m\u001b[1;33m\u001b[0m\u001b[1;33m\u001b[0m\u001b[0m\n\u001b[0m",
      "\u001b[1;31mAttributeError\u001b[0m: 'list' object has no attribute 'value_counts'"
     ]
    }
   ],
   "source": [
    "x.value_counts()"
   ]
  },
  {
   "cell_type": "code",
   "execution_count": 98,
   "id": "1552a4f2",
   "metadata": {
    "ExecuteTime": {
     "end_time": "2022-11-05T16:01:13.192901Z",
     "start_time": "2022-11-05T16:01:13.182900Z"
    },
    "hidden": true
   },
   "outputs": [
    {
     "data": {
      "text/plain": [
       "pandas.core.frame.DataFrame"
      ]
     },
     "execution_count": 98,
     "metadata": {},
     "output_type": "execute_result"
    }
   ],
   "source": [
    "# 데이터 프레임으로 바꾸기\n",
    "df_x = pd.DataFrame(x)\n",
    "type(df_x)"
   ]
  },
  {
   "cell_type": "code",
   "execution_count": 99,
   "id": "de6c5df6",
   "metadata": {
    "ExecuteTime": {
     "end_time": "2022-11-05T16:01:19.097872Z",
     "start_time": "2022-11-05T16:01:19.084875Z"
    },
    "hidden": true
   },
   "outputs": [
    {
     "data": {
      "text/plain": [
       "0    1.75\n",
       "dtype: float64"
      ]
     },
     "execution_count": 99,
     "metadata": {},
     "output_type": "execute_result"
    }
   ],
   "source": [
    "df_x.mean()"
   ]
  },
  {
   "cell_type": "code",
   "execution_count": 102,
   "id": "2d8d2246",
   "metadata": {
    "ExecuteTime": {
     "end_time": "2022-11-05T16:01:34.356246Z",
     "start_time": "2022-11-05T16:01:34.335856Z"
    },
    "hidden": true
   },
   "outputs": [
    {
     "data": {
      "text/plain": [
       "1    2\n",
       "2    1\n",
       "3    1\n",
       "dtype: int64"
      ]
     },
     "execution_count": 102,
     "metadata": {},
     "output_type": "execute_result"
    }
   ],
   "source": [
    "df_x.value_counts()"
   ]
  },
  {
   "cell_type": "markdown",
   "id": "37f1992a",
   "metadata": {
    "heading_collapsed": true
   },
   "source": [
    "##  어떤 자료 구조를 사용해야 할까?\n",
    "\n",
    "함수마다 입력할 수 있는 자료 구조가 다릅니다.\n",
    "함수에 어떤 자료 구조를 입력해야 하는지 알려면 함수의 메뉴얼을 보면 됩니다."
   ]
  },
  {
   "cell_type": "code",
   "execution_count": 94,
   "id": "61c1b001",
   "metadata": {
    "ExecuteTime": {
     "end_time": "2022-11-05T16:00:10.242481Z",
     "start_time": "2022-11-05T16:00:10.235493Z"
    },
    "hidden": true
   },
   "outputs": [],
   "source": [
    "# 함수 메뉴얼 보기 \n",
    "pd.DataFrame?"
   ]
  },
  {
   "cell_type": "markdown",
   "id": "4adc9ef4",
   "metadata": {
    "hidden": true
   },
   "source": [
    "\n"
   ]
  }
 ],
 "metadata": {
  "hide_input": false,
  "kernelspec": {
   "display_name": "Python 3",
   "language": "python",
   "name": "python3"
  },
  "language_info": {
   "codemirror_mode": {
    "name": "ipython",
    "version": 3
   },
   "file_extension": ".py",
   "mimetype": "text/x-python",
   "name": "python",
   "nbconvert_exporter": "python",
   "pygments_lexer": "ipython3",
   "version": "3.8.8"
  },
  "toc": {
   "base_numbering": 1,
   "nav_menu": {},
   "number_sections": true,
   "sideBar": true,
   "skip_h1_title": false,
   "title_cell": "Table of Contents",
   "title_sidebar": "Contents",
   "toc_cell": false,
   "toc_position": {},
   "toc_section_display": true,
   "toc_window_display": false
  },
  "varInspector": {
   "cols": {
    "lenName": 16,
    "lenType": 16,
    "lenVar": 40
   },
   "kernels_config": {
    "python": {
     "delete_cmd_postfix": "",
     "delete_cmd_prefix": "del ",
     "library": "var_list.py",
     "varRefreshCmd": "print(var_dic_list())"
    },
    "r": {
     "delete_cmd_postfix": ") ",
     "delete_cmd_prefix": "rm(",
     "library": "var_list.r",
     "varRefreshCmd": "cat(var_dic_list()) "
    }
   },
   "types_to_exclude": [
    "module",
    "function",
    "builtin_function_or_method",
    "instance",
    "_Feature"
   ],
   "window_display": false
  }
 },
 "nbformat": 4,
 "nbformat_minor": 5
}
