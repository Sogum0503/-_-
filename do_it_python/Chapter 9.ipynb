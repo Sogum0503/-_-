{
 "cells": [
  {
   "cell_type": "code",
   "execution_count": 1,
   "id": "2596be51",
   "metadata": {
    "ExecuteTime": {
     "end_time": "2022-11-04T06:33:44.580905Z",
     "start_time": "2022-11-04T06:33:34.540883Z"
    }
   },
   "outputs": [
    {
     "name": "stdout",
     "output_type": "stream",
     "text": [
      "Requirement already satisfied: pyreadstat in c:\\users\\82108\\anaconda3\\lib\\site-packages (1.1.9)\n",
      "Requirement already satisfied: pandas>=1.2.0 in c:\\users\\82108\\anaconda3\\lib\\site-packages (from pyreadstat) (1.2.4)\n",
      "Requirement already satisfied: numpy>=1.16.5 in c:\\users\\82108\\anaconda3\\lib\\site-packages (from pandas>=1.2.0->pyreadstat) (1.20.1)\n",
      "Requirement already satisfied: python-dateutil>=2.7.3 in c:\\users\\82108\\anaconda3\\lib\\site-packages (from pandas>=1.2.0->pyreadstat) (2.8.1)\n",
      "Requirement already satisfied: pytz>=2017.3 in c:\\users\\82108\\anaconda3\\lib\\site-packages (from pandas>=1.2.0->pyreadstat) (2021.1)\n",
      "Requirement already satisfied: six>=1.5 in c:\\users\\82108\\anaconda3\\lib\\site-packages (from python-dateutil>=2.7.3->pandas>=1.2.0->pyreadstat) (1.12.0)\n",
      "Note: you may need to restart the kernel to use updated packages.\n"
     ]
    },
    {
     "name": "stderr",
     "output_type": "stream",
     "text": [
      "WARNING: You are using pip version 22.0.4; however, version 22.3 is available.\n",
      "You should consider upgrading via the 'C:\\Users\\82108\\anaconda3\\python.exe -m pip install --upgrade pip' command.\n"
     ]
    }
   ],
   "source": [
    "pip install pyreadstat"
   ]
  },
  {
   "cell_type": "code",
   "execution_count": 116,
   "id": "d5829341",
   "metadata": {
    "ExecuteTime": {
     "end_time": "2022-11-04T08:55:14.176870Z",
     "start_time": "2022-11-04T08:55:14.162866Z"
    }
   },
   "outputs": [],
   "source": [
    "# 필요한 라이브러리 불러오기\n",
    "import pandas as pd \n",
    "import numpy as np\n",
    "import seaborn as sns\n",
    "import matplotlib.pyplot as plt"
   ]
  },
  {
   "cell_type": "code",
   "execution_count": 3,
   "id": "e41d75e5",
   "metadata": {
    "ExecuteTime": {
     "end_time": "2022-11-04T06:35:17.185809Z",
     "start_time": "2022-11-04T06:35:14.364127Z"
    }
   },
   "outputs": [],
   "source": [
    "# 데이터 불러오기\n",
    "raw_welfare = pd.read_spss('c:/data/Koweps_hpwc14_2019_beta2.sav')\n",
    "\n",
    "# 복사본 만들기\n",
    "welfare = raw_welfare.copy()"
   ]
  },
  {
   "cell_type": "markdown",
   "id": "29a4fcb8",
   "metadata": {
    "heading_collapsed": true
   },
   "source": [
    "### 데이터 검토하기 \n",
    "데이터의 구조와 특징을 파악해보겠습니다."
   ]
  },
  {
   "cell_type": "code",
   "execution_count": 4,
   "id": "54472c06",
   "metadata": {
    "ExecuteTime": {
     "end_time": "2022-11-04T06:36:42.138980Z",
     "start_time": "2022-11-04T06:36:39.879778Z"
    },
    "hidden": true
   },
   "outputs": [
    {
     "name": "stdout",
     "output_type": "stream",
     "text": [
      "<class 'pandas.core.frame.DataFrame'>\n",
      "RangeIndex: 14418 entries, 0 to 14417\n",
      "Columns: 830 entries, h14_id to h14_pers_income5\n",
      "dtypes: float64(826), object(4)\n",
      "memory usage: 91.3+ MB\n"
     ]
    },
    {
     "data": {
      "text/html": [
       "<div>\n",
       "<style scoped>\n",
       "    .dataframe tbody tr th:only-of-type {\n",
       "        vertical-align: middle;\n",
       "    }\n",
       "\n",
       "    .dataframe tbody tr th {\n",
       "        vertical-align: top;\n",
       "    }\n",
       "\n",
       "    .dataframe thead th {\n",
       "        text-align: right;\n",
       "    }\n",
       "</style>\n",
       "<table border=\"1\" class=\"dataframe\">\n",
       "  <thead>\n",
       "    <tr style=\"text-align: right;\">\n",
       "      <th></th>\n",
       "      <th>h14_id</th>\n",
       "      <th>h14_ind</th>\n",
       "      <th>h14_sn</th>\n",
       "      <th>h14_merkey</th>\n",
       "      <th>h_new</th>\n",
       "      <th>h14_cobf</th>\n",
       "      <th>p14_wsc</th>\n",
       "      <th>p14_wsl</th>\n",
       "      <th>p14_wgc</th>\n",
       "      <th>p14_wgl</th>\n",
       "      <th>...</th>\n",
       "      <th>wc14_63</th>\n",
       "      <th>wc14_64</th>\n",
       "      <th>wc14_5aq4</th>\n",
       "      <th>wc14_5aq5</th>\n",
       "      <th>wc14_5aq6</th>\n",
       "      <th>h14_pers_income1</th>\n",
       "      <th>h14_pers_income2</th>\n",
       "      <th>h14_pers_income3</th>\n",
       "      <th>h14_pers_income4</th>\n",
       "      <th>h14_pers_income5</th>\n",
       "    </tr>\n",
       "  </thead>\n",
       "  <tbody>\n",
       "    <tr>\n",
       "      <th>count</th>\n",
       "      <td>14418.000000</td>\n",
       "      <td>14418.000000</td>\n",
       "      <td>14418.000000</td>\n",
       "      <td>1.441800e+04</td>\n",
       "      <td>14418.000000</td>\n",
       "      <td>121.000000</td>\n",
       "      <td>11513.000000</td>\n",
       "      <td>11513.000000</td>\n",
       "      <td>11513.000000</td>\n",
       "      <td>11513.000000</td>\n",
       "      <td>...</td>\n",
       "      <td>2027.000000</td>\n",
       "      <td>2027.000000</td>\n",
       "      <td>2027.000000</td>\n",
       "      <td>2027.000000</td>\n",
       "      <td>2027.000000</td>\n",
       "      <td>2659.000000</td>\n",
       "      <td>3331.000000</td>\n",
       "      <td>989.000000</td>\n",
       "      <td>14418.000000</td>\n",
       "      <td>715.000000</td>\n",
       "    </tr>\n",
       "    <tr>\n",
       "      <th>mean</th>\n",
       "      <td>4672.108406</td>\n",
       "      <td>3.121723</td>\n",
       "      <td>1.004855</td>\n",
       "      <td>4.672140e+07</td>\n",
       "      <td>0.201484</td>\n",
       "      <td>2.256198</td>\n",
       "      <td>1.000000</td>\n",
       "      <td>1.000000</td>\n",
       "      <td>4484.952219</td>\n",
       "      <td>4484.952541</td>\n",
       "      <td>...</td>\n",
       "      <td>3.211643</td>\n",
       "      <td>3.743957</td>\n",
       "      <td>3.513567</td>\n",
       "      <td>4.100641</td>\n",
       "      <td>3.233350</td>\n",
       "      <td>4141.380594</td>\n",
       "      <td>1389.440408</td>\n",
       "      <td>3457.835187</td>\n",
       "      <td>2.038702</td>\n",
       "      <td>1183.292308</td>\n",
       "    </tr>\n",
       "    <tr>\n",
       "      <th>std</th>\n",
       "      <td>2792.998128</td>\n",
       "      <td>3.297963</td>\n",
       "      <td>0.143205</td>\n",
       "      <td>2.793014e+07</td>\n",
       "      <td>0.401123</td>\n",
       "      <td>1.675952</td>\n",
       "      <td>0.906021</td>\n",
       "      <td>1.016782</td>\n",
       "      <td>4063.459773</td>\n",
       "      <td>4560.218659</td>\n",
       "      <td>...</td>\n",
       "      <td>2.174768</td>\n",
       "      <td>3.138629</td>\n",
       "      <td>1.045929</td>\n",
       "      <td>0.937712</td>\n",
       "      <td>1.289456</td>\n",
       "      <td>2583.755449</td>\n",
       "      <td>1211.910836</td>\n",
       "      <td>6619.516319</td>\n",
       "      <td>32.965477</td>\n",
       "      <td>2147.418274</td>\n",
       "    </tr>\n",
       "    <tr>\n",
       "      <th>min</th>\n",
       "      <td>2.000000</td>\n",
       "      <td>1.000000</td>\n",
       "      <td>1.000000</td>\n",
       "      <td>2.010100e+04</td>\n",
       "      <td>0.000000</td>\n",
       "      <td>1.000000</td>\n",
       "      <td>0.001998</td>\n",
       "      <td>0.000000</td>\n",
       "      <td>8.960093</td>\n",
       "      <td>0.000000</td>\n",
       "      <td>...</td>\n",
       "      <td>1.000000</td>\n",
       "      <td>1.000000</td>\n",
       "      <td>1.000000</td>\n",
       "      <td>1.000000</td>\n",
       "      <td>1.000000</td>\n",
       "      <td>0.000000</td>\n",
       "      <td>0.000000</td>\n",
       "      <td>-47000.000000</td>\n",
       "      <td>0.000000</td>\n",
       "      <td>-10600.000000</td>\n",
       "    </tr>\n",
       "    <tr>\n",
       "      <th>25%</th>\n",
       "      <td>2356.000000</td>\n",
       "      <td>1.000000</td>\n",
       "      <td>1.000000</td>\n",
       "      <td>2.356030e+07</td>\n",
       "      <td>0.000000</td>\n",
       "      <td>1.000000</td>\n",
       "      <td>0.341814</td>\n",
       "      <td>0.269286</td>\n",
       "      <td>1533.021553</td>\n",
       "      <td>1207.736094</td>\n",
       "      <td>...</td>\n",
       "      <td>1.000000</td>\n",
       "      <td>2.000000</td>\n",
       "      <td>3.000000</td>\n",
       "      <td>4.000000</td>\n",
       "      <td>2.000000</td>\n",
       "      <td>2448.000000</td>\n",
       "      <td>391.500000</td>\n",
       "      <td>1000.000000</td>\n",
       "      <td>0.000000</td>\n",
       "      <td>206.000000</td>\n",
       "    </tr>\n",
       "    <tr>\n",
       "      <th>50%</th>\n",
       "      <td>4535.000000</td>\n",
       "      <td>1.000000</td>\n",
       "      <td>1.000000</td>\n",
       "      <td>4.535010e+07</td>\n",
       "      <td>0.000000</td>\n",
       "      <td>2.000000</td>\n",
       "      <td>0.726304</td>\n",
       "      <td>0.704045</td>\n",
       "      <td>3257.436901</td>\n",
       "      <td>3157.609630</td>\n",
       "      <td>...</td>\n",
       "      <td>3.000000</td>\n",
       "      <td>3.000000</td>\n",
       "      <td>4.000000</td>\n",
       "      <td>4.000000</td>\n",
       "      <td>3.000000</td>\n",
       "      <td>3540.000000</td>\n",
       "      <td>1116.000000</td>\n",
       "      <td>2498.000000</td>\n",
       "      <td>0.000000</td>\n",
       "      <td>530.000000</td>\n",
       "    </tr>\n",
       "    <tr>\n",
       "      <th>75%</th>\n",
       "      <td>6616.000000</td>\n",
       "      <td>7.000000</td>\n",
       "      <td>1.000000</td>\n",
       "      <td>6.616010e+07</td>\n",
       "      <td>0.000000</td>\n",
       "      <td>2.000000</td>\n",
       "      <td>1.366071</td>\n",
       "      <td>1.390045</td>\n",
       "      <td>6126.762919</td>\n",
       "      <td>6234.287538</td>\n",
       "      <td>...</td>\n",
       "      <td>5.000000</td>\n",
       "      <td>5.000000</td>\n",
       "      <td>4.000000</td>\n",
       "      <td>5.000000</td>\n",
       "      <td>4.000000</td>\n",
       "      <td>5378.500000</td>\n",
       "      <td>2040.000000</td>\n",
       "      <td>4687.000000</td>\n",
       "      <td>0.000000</td>\n",
       "      <td>1295.000000</td>\n",
       "    </tr>\n",
       "    <tr>\n",
       "      <th>max</th>\n",
       "      <td>9800.000000</td>\n",
       "      <td>14.000000</td>\n",
       "      <td>9.000000</td>\n",
       "      <td>9.800070e+07</td>\n",
       "      <td>1.000000</td>\n",
       "      <td>7.000000</td>\n",
       "      <td>4.727006</td>\n",
       "      <td>5.790039</td>\n",
       "      <td>21200.393903</td>\n",
       "      <td>25968.049029</td>\n",
       "      <td>...</td>\n",
       "      <td>9.000000</td>\n",
       "      <td>99.000000</td>\n",
       "      <td>9.000000</td>\n",
       "      <td>9.000000</td>\n",
       "      <td>9.000000</td>\n",
       "      <td>22700.000000</td>\n",
       "      <td>11500.000000</td>\n",
       "      <td>170000.000000</td>\n",
       "      <td>3000.000000</td>\n",
       "      <td>22644.000000</td>\n",
       "    </tr>\n",
       "  </tbody>\n",
       "</table>\n",
       "<p>8 rows × 826 columns</p>\n",
       "</div>"
      ],
      "text/plain": [
       "             h14_id       h14_ind        h14_sn    h14_merkey         h_new  \\\n",
       "count  14418.000000  14418.000000  14418.000000  1.441800e+04  14418.000000   \n",
       "mean    4672.108406      3.121723      1.004855  4.672140e+07      0.201484   \n",
       "std     2792.998128      3.297963      0.143205  2.793014e+07      0.401123   \n",
       "min        2.000000      1.000000      1.000000  2.010100e+04      0.000000   \n",
       "25%     2356.000000      1.000000      1.000000  2.356030e+07      0.000000   \n",
       "50%     4535.000000      1.000000      1.000000  4.535010e+07      0.000000   \n",
       "75%     6616.000000      7.000000      1.000000  6.616010e+07      0.000000   \n",
       "max     9800.000000     14.000000      9.000000  9.800070e+07      1.000000   \n",
       "\n",
       "         h14_cobf       p14_wsc       p14_wsl       p14_wgc       p14_wgl  \\\n",
       "count  121.000000  11513.000000  11513.000000  11513.000000  11513.000000   \n",
       "mean     2.256198      1.000000      1.000000   4484.952219   4484.952541   \n",
       "std      1.675952      0.906021      1.016782   4063.459773   4560.218659   \n",
       "min      1.000000      0.001998      0.000000      8.960093      0.000000   \n",
       "25%      1.000000      0.341814      0.269286   1533.021553   1207.736094   \n",
       "50%      2.000000      0.726304      0.704045   3257.436901   3157.609630   \n",
       "75%      2.000000      1.366071      1.390045   6126.762919   6234.287538   \n",
       "max      7.000000      4.727006      5.790039  21200.393903  25968.049029   \n",
       "\n",
       "       ...      wc14_63      wc14_64    wc14_5aq4    wc14_5aq5    wc14_5aq6  \\\n",
       "count  ...  2027.000000  2027.000000  2027.000000  2027.000000  2027.000000   \n",
       "mean   ...     3.211643     3.743957     3.513567     4.100641     3.233350   \n",
       "std    ...     2.174768     3.138629     1.045929     0.937712     1.289456   \n",
       "min    ...     1.000000     1.000000     1.000000     1.000000     1.000000   \n",
       "25%    ...     1.000000     2.000000     3.000000     4.000000     2.000000   \n",
       "50%    ...     3.000000     3.000000     4.000000     4.000000     3.000000   \n",
       "75%    ...     5.000000     5.000000     4.000000     5.000000     4.000000   \n",
       "max    ...     9.000000    99.000000     9.000000     9.000000     9.000000   \n",
       "\n",
       "       h14_pers_income1  h14_pers_income2  h14_pers_income3  h14_pers_income4  \\\n",
       "count       2659.000000       3331.000000        989.000000      14418.000000   \n",
       "mean        4141.380594       1389.440408       3457.835187          2.038702   \n",
       "std         2583.755449       1211.910836       6619.516319         32.965477   \n",
       "min            0.000000          0.000000     -47000.000000          0.000000   \n",
       "25%         2448.000000        391.500000       1000.000000          0.000000   \n",
       "50%         3540.000000       1116.000000       2498.000000          0.000000   \n",
       "75%         5378.500000       2040.000000       4687.000000          0.000000   \n",
       "max        22700.000000      11500.000000     170000.000000       3000.000000   \n",
       "\n",
       "       h14_pers_income5  \n",
       "count        715.000000  \n",
       "mean        1183.292308  \n",
       "std         2147.418274  \n",
       "min       -10600.000000  \n",
       "25%          206.000000  \n",
       "50%          530.000000  \n",
       "75%         1295.000000  \n",
       "max        22644.000000  \n",
       "\n",
       "[8 rows x 826 columns]"
      ]
     },
     "execution_count": 4,
     "metadata": {},
     "output_type": "execute_result"
    }
   ],
   "source": [
    "welfare # 앞부분, 뒷부분 출력 \n",
    "welfare.shape # 행, 열 개수 출력\n",
    "welfare.info() # 변수 속성 출력\n",
    "welfare.describe() # 요약 통계량 출력 "
   ]
  },
  {
   "cell_type": "markdown",
   "id": "452f07f9",
   "metadata": {
    "hidden": true
   },
   "source": [
    "데이터를 보았을 때, 변수의 수가 많고 변수명이 코드로 되어있어 전체 구조를 파악하기 어렵다. 규모가 큰 데이터는 데이터 전체를 한 번에 파악하기보다 변수명을 쉬운 단어로 바꾼 다음 분석에 사용할 변수를 하나씩 살펴봐야 한다."
   ]
  },
  {
   "cell_type": "markdown",
   "id": "ccbd77b4",
   "metadata": {
    "hidden": true
   },
   "source": [
    "#### 변수명 바꾸기 \n",
    "규모가 큰 조사 자료는 데이터의 특징을 설명해 놓은 코드북을 함께 제공한다. 코드북에는 코드로 된 변수명과 값의 의미가 설명되어 있다. 코드북을 보면 데이터의 특징이 어떠한지 감을 잡을 수 있고, 분석에 어떤 변수를 활용할지, 분석 방향의 아이디어를 얻을 수 있다. "
   ]
  },
  {
   "cell_type": "code",
   "execution_count": 6,
   "id": "b54d8cec",
   "metadata": {
    "ExecuteTime": {
     "end_time": "2022-11-04T06:52:14.645897Z",
     "start_time": "2022-11-04T06:52:14.587771Z"
    },
    "hidden": true
   },
   "outputs": [],
   "source": [
    "# 코드북을 참고해서 분석에 사용할 변수 7개의 이름을 알아보기 쉬운 단어로 변경합니다.\n",
    "welfare = welfare.rename(\n",
    "            columns = {'h14_g3' : 'sex',\n",
    "                       'h14_g4' : 'birth',\n",
    "                       'h14_g10': 'marriage_type',\n",
    "                        'h14_g11' : 'religion',\n",
    "                       'p1402_8aq1' : 'income',\n",
    "                       'h14_eco9' : 'code_job',\n",
    "                       'h14_reg7' : 'code_region'})"
   ]
  },
  {
   "cell_type": "markdown",
   "id": "b2c906c4",
   "metadata": {
    "ExecuteTime": {
     "end_time": "2022-11-04T06:52:49.185735Z",
     "start_time": "2022-11-04T06:52:49.163733Z"
    },
    "hidden": true
   },
   "source": [
    "#### 데이터 분석 절차 살펴보기 \n",
    "앞에서 선정한 변수 7개를 이용해서 분석을 진행합니다. \n",
    "분석의 절차는 아래와 같습니다:\n",
    "\n",
    "* 1단계 : 변수 검토 및 전처리\n",
    "* 2단계 : 변수 간 관계 분석 "
   ]
  },
  {
   "cell_type": "markdown",
   "id": "2cd0665c",
   "metadata": {
    "heading_collapsed": true
   },
   "source": [
    "### 성별에 따른 월급 차이 -- 성별에 따라 월급이 다를까?"
   ]
  },
  {
   "cell_type": "markdown",
   "id": "2fa4df74",
   "metadata": {
    "hidden": true
   },
   "source": [
    "여성들이 예전에 비해 활발하게 사회 진출을 하고 있지만, 직장에서 받는 대우에는 여전히 차별이 있습니다. 데이터를 분석해 성별에 따라 월급 차이가 있는지 알아보겠습니다.먼저 성별과 월급 두 변수를 전처리한 다음 변수 간의 관계를 분석하겠습니다.  \n",
    "\n",
    "* 1단계 : 변수 검토 및 전처리 \n",
    "    * 성별\n",
    "    * 월급\n",
    "    \n",
    "* 2단계 : 변수 간 관계 분석 \n",
    "    * 성별 월급 평균표 만들기\n",
    "    * 그래프 만들기 "
   ]
  },
  {
   "cell_type": "markdown",
   "id": "4f698947",
   "metadata": {
    "hidden": true
   },
   "source": [
    "#### 변수 검토하기"
   ]
  },
  {
   "cell_type": "code",
   "execution_count": 11,
   "id": "d66f7eb5",
   "metadata": {
    "ExecuteTime": {
     "end_time": "2022-11-04T06:57:06.516415Z",
     "start_time": "2022-11-04T06:57:06.497422Z"
    },
    "hidden": true
   },
   "outputs": [
    {
     "data": {
      "text/plain": [
       "dtype('float64')"
      ]
     },
     "execution_count": 11,
     "metadata": {},
     "output_type": "execute_result"
    }
   ],
   "source": [
    "welfare['sex'].dtypes #변수 타입 출력 "
   ]
  },
  {
   "cell_type": "code",
   "execution_count": 12,
   "id": "a58fd2ac",
   "metadata": {
    "ExecuteTime": {
     "end_time": "2022-11-04T06:57:19.409060Z",
     "start_time": "2022-11-04T06:57:19.393058Z"
    },
    "hidden": true
   },
   "outputs": [
    {
     "data": {
      "text/plain": [
       "2.0    7913\n",
       "1.0    6505\n",
       "Name: sex, dtype: int64"
      ]
     },
     "execution_count": 12,
     "metadata": {},
     "output_type": "execute_result"
    }
   ],
   "source": [
    "welfare['sex'].value_counts() # 빈도 구하기 "
   ]
  },
  {
   "cell_type": "markdown",
   "id": "bce10718",
   "metadata": {
    "hidden": true
   },
   "source": [
    "#### 전처리 하기 \n",
    "\n",
    "* 성별 변수의 값이 1이면 남자, 2면 여자를 의미합니다. \n",
    "* 모른다고 답하거나 응답하지 않으면 9로 입력되어 있습니다. \n",
    "\n",
    "이 정보를 바탕으로 이상치가 있는지 검토하고, 분석할 때 제거하기 편하도록 NaN을 부여해 결측 처리하겠습니다. 값이 9인 경우도 성별을 알 수 없어 분석에서 제외해야 하므로 결측 처리합니다. "
   ]
  },
  {
   "cell_type": "code",
   "execution_count": 13,
   "id": "e8a3a5b9",
   "metadata": {
    "ExecuteTime": {
     "end_time": "2022-11-04T06:58:54.586637Z",
     "start_time": "2022-11-04T06:58:54.569648Z"
    },
    "hidden": true
   },
   "outputs": [
    {
     "data": {
      "text/plain": [
       "2.0    7913\n",
       "1.0    6505\n",
       "Name: sex, dtype: int64"
      ]
     },
     "execution_count": 13,
     "metadata": {},
     "output_type": "execute_result"
    }
   ],
   "source": [
    "# 이상치 확인\n",
    "welfare['sex'].value_counts() ## 이상치가 없음을 확인 "
   ]
  },
  {
   "cell_type": "code",
   "execution_count": 14,
   "id": "4401d5ce",
   "metadata": {
    "ExecuteTime": {
     "end_time": "2022-11-04T06:59:46.835488Z",
     "start_time": "2022-11-04T06:59:46.756887Z"
    },
    "hidden": true
   },
   "outputs": [
    {
     "data": {
      "text/plain": [
       "0"
      ]
     },
     "execution_count": 14,
     "metadata": {},
     "output_type": "execute_result"
    }
   ],
   "source": [
    "# 만약 이상치가 있다면?\n",
    "\n",
    "# 이상치 결측 처리 \n",
    "welfare['sex'] = np.where(welfare['sex'] == 9, np.nan, welfare['sex'])\n",
    "# 결측치 확인\n",
    "welfare['sex'].isna().sum()"
   ]
  },
  {
   "cell_type": "code",
   "execution_count": 15,
   "id": "bdbd9653",
   "metadata": {
    "ExecuteTime": {
     "end_time": "2022-11-04T07:03:52.886015Z",
     "start_time": "2022-11-04T07:03:52.848779Z"
    },
    "hidden": true
   },
   "outputs": [
    {
     "data": {
      "text/plain": [
       "female    7913\n",
       "male      6505\n",
       "Name: sex, dtype: int64"
      ]
     },
     "execution_count": 15,
     "metadata": {},
     "output_type": "execute_result"
    }
   ],
   "source": [
    "# 성별 항목 이름 부여 \n",
    "welfare['sex'] = np.where(welfare['sex'] == 1, 'male', 'female')\n",
    "\n",
    "# 빈도 구하기\n",
    "welfare['sex'].value_counts()"
   ]
  },
  {
   "cell_type": "code",
   "execution_count": 17,
   "id": "9cd83907",
   "metadata": {
    "ExecuteTime": {
     "end_time": "2022-11-04T07:04:31.665845Z",
     "start_time": "2022-11-04T07:04:31.485778Z"
    },
    "hidden": true
   },
   "outputs": [
    {
     "data": {
      "text/plain": [
       "<AxesSubplot:xlabel='sex', ylabel='count'>"
      ]
     },
     "execution_count": 17,
     "metadata": {},
     "output_type": "execute_result"
    },
    {
     "data": {
      "image/png": "[encoded data removed]",
      "text/plain": [
       "<Figure size 432x288 with 1 Axes>"
      ]
     },
     "metadata": {
      "needs_background": "light"
     },
     "output_type": "display_data"
    }
   ],
   "source": [
    "# 빈도 막대 그래프 구하기 \n",
    "sns.countplot(data = welfare, x = 'sex')"
   ]
  },
  {
   "cell_type": "markdown",
   "id": "14003efb",
   "metadata": {
    "hidden": true
   },
   "source": [
    "#### 월급 변수 검토 및 전처리하기 "
   ]
  },
  {
   "cell_type": "markdown",
   "id": "e3a09c20",
   "metadata": {
    "hidden": true
   },
   "source": [
    "##### 변수 검토하기 \n",
    "월급은 '일한 달의 월 평균 임금'을 의미하며 1만 원 단위로 기록되어 있습니다.\n",
    "\n",
    "성별은 범주 변수이므로 df.value_counts()를 이용해 범주별 빈도를 확인하면 특징을 파악할 수 있습니다. 하지만 월급은 연속 변수이므로 df.value_counts()를 이용하면 너무 많은 항목이 출력되어 알아보기 어렵습니다. 연속 변수는 df.describe()로 요약 통계량을 확인해야 특징을 파악할 수 있습니다."
   ]
  },
  {
   "cell_type": "code",
   "execution_count": 19,
   "id": "0ac3b689",
   "metadata": {
    "ExecuteTime": {
     "end_time": "2022-11-04T07:09:21.055278Z",
     "start_time": "2022-11-04T07:09:21.036457Z"
    },
    "hidden": true
   },
   "outputs": [
    {
     "data": {
      "text/plain": [
       "count    4534.000000\n",
       "mean      268.455007\n",
       "std       198.021206\n",
       "min         0.000000\n",
       "25%       150.000000\n",
       "50%       220.000000\n",
       "75%       345.750000\n",
       "max      1892.000000\n",
       "Name: income, dtype: float64"
      ]
     },
     "execution_count": 19,
     "metadata": {},
     "output_type": "execute_result"
    }
   ],
   "source": [
    "welfare['income'].describe() # 요약 통계량 구하기"
   ]
  },
  {
   "cell_type": "markdown",
   "id": "05b4b893",
   "metadata": {
    "hidden": true
   },
   "source": [
    "출력 결과를 보면 imcome은 0 ~ 1,892만 원의 값을 지닙니다. 150~345만원에 가장 많이 분포하고 있고 평균은 268만 원, 중앙값은 평균보다 작은 220만원으로 전반적으로 분포가 낮은 값 쪽으로 치우쳐 있습니다. \n",
    "\n",
    "이번에는 sns.histplot()으로 히스토그램을 만들어 분포를 확인하겠습니다. "
   ]
  },
  {
   "cell_type": "code",
   "execution_count": 21,
   "id": "186b9e7e",
   "metadata": {
    "ExecuteTime": {
     "end_time": "2022-11-04T07:11:23.934475Z",
     "start_time": "2022-11-04T07:11:23.715732Z"
    },
    "hidden": true
   },
   "outputs": [
    {
     "data": {
      "text/plain": [
       "<AxesSubplot:xlabel='income', ylabel='Count'>"
      ]
     },
     "execution_count": 21,
     "metadata": {},
     "output_type": "execute_result"
    },
    {
     "data": {
      "image/png": "[encoded data removed]",
      "text/plain": [
       "<Figure size 432x288 with 1 Axes>"
      ]
     },
     "metadata": {
      "needs_background": "light"
     },
     "output_type": "display_data"
    }
   ],
   "source": [
    "sns.histplot(data = welfare, x = 'income') # 히스토그램"
   ]
  },
  {
   "cell_type": "markdown",
   "id": "8dbd9194",
   "metadata": {
    "hidden": true
   },
   "source": [
    "##### 전처리 하기 \n",
    "코드북을 보면 '모름/무응답'은 9999로 코딩되어 있습니다. 이 정보를 바탕으로 변수를 전처리 하겠습니다. "
   ]
  },
  {
   "cell_type": "code",
   "execution_count": 22,
   "id": "0c4e8f3f",
   "metadata": {
    "ExecuteTime": {
     "end_time": "2022-11-04T07:12:43.736765Z",
     "start_time": "2022-11-04T07:12:43.728652Z"
    },
    "hidden": true
   },
   "outputs": [
    {
     "data": {
      "text/plain": [
       "count    4534.000000\n",
       "mean      268.455007\n",
       "std       198.021206\n",
       "min         0.000000\n",
       "25%       150.000000\n",
       "50%       220.000000\n",
       "75%       345.750000\n",
       "max      1892.000000\n",
       "Name: income, dtype: float64"
      ]
     },
     "execution_count": 22,
     "metadata": {},
     "output_type": "execute_result"
    }
   ],
   "source": [
    "welfare['income'].describe() # 이상치 확인 "
   ]
  },
  {
   "cell_type": "code",
   "execution_count": 23,
   "id": "b5dee110",
   "metadata": {
    "ExecuteTime": {
     "end_time": "2022-11-04T07:12:52.037439Z",
     "start_time": "2022-11-04T07:12:52.023878Z"
    },
    "hidden": true
   },
   "outputs": [
    {
     "data": {
      "text/plain": [
       "9884"
      ]
     },
     "execution_count": 23,
     "metadata": {},
     "output_type": "execute_result"
    }
   ],
   "source": [
    "welfare['income'].isna().sum()"
   ]
  },
  {
   "cell_type": "markdown",
   "id": "57f5c282",
   "metadata": {
    "hidden": true
   },
   "source": [
    "이상치가 9,884개 존재하는 것을 파악했습니다. 직업이 없어서 월급을 받지 않는 응답자가 있기 때문에 데이터에 결측치가 있는 것입니다. 따라서 월급 변수를 이용해 분석할 때는 먼저 결측치를 제거해야 합니다."
   ]
  },
  {
   "cell_type": "code",
   "execution_count": 25,
   "id": "426c0e0d",
   "metadata": {
    "ExecuteTime": {
     "end_time": "2022-11-04T07:14:42.252927Z",
     "start_time": "2022-11-04T07:14:42.240922Z"
    },
    "hidden": true
   },
   "outputs": [
    {
     "data": {
      "text/plain": [
       "9884"
      ]
     },
     "execution_count": 25,
     "metadata": {},
     "output_type": "execute_result"
    }
   ],
   "source": [
    "# 이상치 결측 처리 \n",
    "welfare['income'] = np.where(welfare['income'] == 9999, np.nan, welfare['income'])\n",
    "\n",
    "# 결측치 확인\n",
    "welfare['income'].isna().sum()"
   ]
  },
  {
   "cell_type": "markdown",
   "id": "1baa8d4f",
   "metadata": {
    "hidden": true
   },
   "source": [
    "#### 성별에 따른 월급 차이 분석하기 "
   ]
  },
  {
   "cell_type": "markdown",
   "id": "0b86f3d0",
   "metadata": {
    "hidden": true
   },
   "source": [
    "##### 성별 월급 평균표 만들기 "
   ]
  },
  {
   "cell_type": "code",
   "execution_count": 34,
   "id": "8fc6fc0c",
   "metadata": {
    "ExecuteTime": {
     "end_time": "2022-11-04T07:17:41.013813Z",
     "start_time": "2022-11-04T07:17:40.972265Z"
    },
    "hidden": true
   },
   "outputs": [
    {
     "data": {
      "text/html": [
       "<div>\n",
       "<style scoped>\n",
       "    .dataframe tbody tr th:only-of-type {\n",
       "        vertical-align: middle;\n",
       "    }\n",
       "\n",
       "    .dataframe tbody tr th {\n",
       "        vertical-align: top;\n",
       "    }\n",
       "\n",
       "    .dataframe thead th {\n",
       "        text-align: right;\n",
       "    }\n",
       "</style>\n",
       "<table border=\"1\" class=\"dataframe\">\n",
       "  <thead>\n",
       "    <tr style=\"text-align: right;\">\n",
       "      <th></th>\n",
       "      <th>sex</th>\n",
       "      <th>mean_income</th>\n",
       "    </tr>\n",
       "  </thead>\n",
       "  <tbody>\n",
       "    <tr>\n",
       "      <th>0</th>\n",
       "      <td>female</td>\n",
       "      <td>186.293096</td>\n",
       "    </tr>\n",
       "    <tr>\n",
       "      <th>1</th>\n",
       "      <td>male</td>\n",
       "      <td>349.037571</td>\n",
       "    </tr>\n",
       "  </tbody>\n",
       "</table>\n",
       "</div>"
      ],
      "text/plain": [
       "      sex  mean_income\n",
       "0  female   186.293096\n",
       "1    male   349.037571"
      ]
     },
     "execution_count": 34,
     "metadata": {},
     "output_type": "execute_result"
    }
   ],
   "source": [
    "# 성별 월급 평균표 만들기\n",
    "sex_income = welfare.dropna(subset = ['income'])\\\n",
    "            .groupby('sex', as_index = False)\\\n",
    "            .agg(mean_income = ('income','mean'))\n",
    "\n",
    "sex_income"
   ]
  },
  {
   "cell_type": "markdown",
   "id": "2b8321a3",
   "metadata": {
    "ExecuteTime": {
     "end_time": "2022-11-04T07:17:43.550822Z",
     "start_time": "2022-11-04T07:17:43.536119Z"
    },
    "hidden": true
   },
   "source": [
    "출력 결과를 보면 월급 평균이 남자는 약 349만원, 여자는 약 186만원으로 남성이 여성보다 163만원 더 많습니다. "
   ]
  },
  {
   "cell_type": "markdown",
   "id": "a64f898f",
   "metadata": {
    "hidden": true
   },
   "source": [
    "##### 그래프 만들기 "
   ]
  },
  {
   "cell_type": "code",
   "execution_count": 36,
   "id": "7db7994d",
   "metadata": {
    "ExecuteTime": {
     "end_time": "2022-11-04T07:18:54.062633Z",
     "start_time": "2022-11-04T07:18:53.943595Z"
    },
    "hidden": true
   },
   "outputs": [
    {
     "data": {
      "text/plain": [
       "<AxesSubplot:xlabel='sex', ylabel='mean_income'>"
      ]
     },
     "execution_count": 36,
     "metadata": {},
     "output_type": "execute_result"
    },
    {
     "data": {
      "image/png": "[encoded data removed]",
      "text/plain": [
       "<Figure size 432x288 with 1 Axes>"
      ]
     },
     "metadata": {
      "needs_background": "light"
     },
     "output_type": "display_data"
    }
   ],
   "source": [
    "sns.barplot(data = sex_income, x = 'sex', y = 'mean_income')"
   ]
  },
  {
   "cell_type": "markdown",
   "id": "27974d7c",
   "metadata": {
    "heading_collapsed": true
   },
   "source": [
    "### 나이와 월급의 관계 -- 몇 살 때 월급을 가장 많이 받을까?"
   ]
  },
  {
   "cell_type": "markdown",
   "id": "efc4a1ca",
   "metadata": {
    "hidden": true
   },
   "source": [
    "데이터를 분석해 나이에 따라 월급이 얼마나 다른지 알아보겠습니다.\n",
    "\n",
    "나이 변수를 검토하고 전처리한 다음 나이와 월급의 관계를 분석하겠습니다. 월급 변수의 전처리는 앞에서 완료했으니 생략하겠습니다.\n",
    "\n",
    "* 1단계 : 변수 검토 및 전처리 \n",
    "    * 나이\n",
    "    * 월급\n",
    "    \n",
    "* 2단계 : 변수 간 관계 분석\n",
    "    * 나이에 따른 월급 평균표 만들기\n",
    "    * 그래프 만들기 "
   ]
  },
  {
   "cell_type": "markdown",
   "id": "0a88b567",
   "metadata": {
    "hidden": true
   },
   "source": [
    "#### 나이 변수 검토 및 전처리하기 "
   ]
  },
  {
   "cell_type": "markdown",
   "id": "e72344c9",
   "metadata": {
    "hidden": true
   },
   "source": [
    "##### 변수 검토하기\n",
    "\n",
    "태어난 연도를 이용해서 나이 변수를 만들어야 합니다. 먼저 태어난 연도 변수를 검토한 다음 나이 변수를 만들겠습니다."
   ]
  },
  {
   "cell_type": "code",
   "execution_count": 37,
   "id": "c6acb71e",
   "metadata": {
    "ExecuteTime": {
     "end_time": "2022-11-04T07:22:05.730833Z",
     "start_time": "2022-11-04T07:22:05.710828Z"
    },
    "hidden": true
   },
   "outputs": [
    {
     "data": {
      "text/plain": [
       "count    14418.000000\n",
       "mean      1969.280205\n",
       "std         24.402250\n",
       "min       1907.000000\n",
       "25%       1948.000000\n",
       "50%       1968.000000\n",
       "75%       1990.000000\n",
       "max       2018.000000\n",
       "Name: birth, dtype: float64"
      ]
     },
     "execution_count": 37,
     "metadata": {},
     "output_type": "execute_result"
    }
   ],
   "source": [
    "welfare['birth'].describe()"
   ]
  },
  {
   "cell_type": "code",
   "execution_count": 38,
   "id": "194f4f7f",
   "metadata": {
    "ExecuteTime": {
     "end_time": "2022-11-04T07:22:25.383593Z",
     "start_time": "2022-11-04T07:22:25.197540Z"
    },
    "hidden": true
   },
   "outputs": [
    {
     "data": {
      "text/plain": [
       "<AxesSubplot:xlabel='birth', ylabel='Count'>"
      ]
     },
     "execution_count": 38,
     "metadata": {},
     "output_type": "execute_result"
    },
    {
     "data": {
      "image/png": "[encoded data removed]",
      "text/plain": [
       "<Figure size 432x288 with 1 Axes>"
      ]
     },
     "metadata": {
      "needs_background": "light"
     },
     "output_type": "display_data"
    }
   ],
   "source": [
    "sns.histplot(data = welfare, x = 'birth')"
   ]
  },
  {
   "cell_type": "markdown",
   "id": "0566b0e3",
   "metadata": {
    "hidden": true
   },
   "source": [
    "##### 전처리 하기 \n",
    "'모름/무응답'일 경우 9999로 코딩되어 있습니다. 이를 바탕으로 전처리 작업을 진행합니다."
   ]
  },
  {
   "cell_type": "code",
   "execution_count": 39,
   "id": "b800b3f4",
   "metadata": {
    "ExecuteTime": {
     "end_time": "2022-11-04T07:23:12.577265Z",
     "start_time": "2022-11-04T07:23:12.561274Z"
    },
    "hidden": true
   },
   "outputs": [
    {
     "data": {
      "text/plain": [
       "count    14418.000000\n",
       "mean      1969.280205\n",
       "std         24.402250\n",
       "min       1907.000000\n",
       "25%       1948.000000\n",
       "50%       1968.000000\n",
       "75%       1990.000000\n",
       "max       2018.000000\n",
       "Name: birth, dtype: float64"
      ]
     },
     "execution_count": 39,
     "metadata": {},
     "output_type": "execute_result"
    }
   ],
   "source": [
    "welfare['birth'].describe()"
   ]
  },
  {
   "cell_type": "code",
   "execution_count": 40,
   "id": "3086b1f5",
   "metadata": {
    "ExecuteTime": {
     "end_time": "2022-11-04T07:23:23.324271Z",
     "start_time": "2022-11-04T07:23:23.315270Z"
    },
    "hidden": true
   },
   "outputs": [
    {
     "data": {
      "text/plain": [
       "0"
      ]
     },
     "execution_count": 40,
     "metadata": {},
     "output_type": "execute_result"
    }
   ],
   "source": [
    "welfare['birth'].isna().sum()"
   ]
  },
  {
   "cell_type": "code",
   "execution_count": 41,
   "id": "eb360c5e",
   "metadata": {
    "ExecuteTime": {
     "end_time": "2022-11-04T07:23:55.142175Z",
     "start_time": "2022-11-04T07:23:55.122172Z"
    },
    "hidden": true
   },
   "outputs": [
    {
     "data": {
      "text/plain": [
       "0"
      ]
     },
     "execution_count": 41,
     "metadata": {},
     "output_type": "execute_result"
    }
   ],
   "source": [
    "# 이상치 결측 처리\n",
    "welfare['birth'] = np.where(welfare['birth'] == 9999, np.nan, welfare['birth'])\n",
    "\n",
    "# 결측치 확인 \n",
    "welfare['birth'].isna().sum()"
   ]
  },
  {
   "cell_type": "markdown",
   "id": "d12cbd40",
   "metadata": {
    "hidden": true
   },
   "source": [
    "##### 파생변수 만들기 - 나이 \n",
    "2019년에 조사가 진행되었으니 2019에서 태어난 연도를 뺀 다음 1을 더해 나이를 구하겠습니다. "
   ]
  },
  {
   "cell_type": "code",
   "execution_count": 42,
   "id": "bbc9fb32",
   "metadata": {
    "ExecuteTime": {
     "end_time": "2022-11-04T07:31:49.042067Z",
     "start_time": "2022-11-04T07:31:49.010502Z"
    },
    "hidden": true
   },
   "outputs": [
    {
     "data": {
      "text/plain": [
       "count    14418.000000\n",
       "mean        50.719795\n",
       "std         24.402250\n",
       "min          2.000000\n",
       "25%         30.000000\n",
       "50%         52.000000\n",
       "75%         72.000000\n",
       "max        113.000000\n",
       "Name: age, dtype: float64"
      ]
     },
     "execution_count": 42,
     "metadata": {},
     "output_type": "execute_result"
    }
   ],
   "source": [
    "welfare = welfare.assign(age = 2019 - welfare['birth'] + 1 ) # 나이 변수 만들기\n",
    "welfare['age'].describe()"
   ]
  },
  {
   "cell_type": "code",
   "execution_count": 43,
   "id": "d3012d26",
   "metadata": {
    "ExecuteTime": {
     "end_time": "2022-11-04T07:33:22.604251Z",
     "start_time": "2022-11-04T07:33:22.439662Z"
    },
    "hidden": true
   },
   "outputs": [
    {
     "data": {
      "text/plain": [
       "<AxesSubplot:xlabel='age', ylabel='Count'>"
      ]
     },
     "execution_count": 43,
     "metadata": {},
     "output_type": "execute_result"
    },
    {
     "data": {
      "image/png": "[encoded data removed]",
      "text/plain": [
       "<Figure size 432x288 with 1 Axes>"
      ]
     },
     "metadata": {
      "needs_background": "light"
     },
     "output_type": "display_data"
    }
   ],
   "source": [
    "sns.histplot(data = welfare, x = 'age')"
   ]
  },
  {
   "cell_type": "markdown",
   "id": "30d3da7f",
   "metadata": {
    "hidden": true
   },
   "source": [
    "##### 나이와 월급 관계 분석하기 "
   ]
  },
  {
   "cell_type": "code",
   "execution_count": 45,
   "id": "44fb280f",
   "metadata": {
    "ExecuteTime": {
     "end_time": "2022-11-04T07:35:18.563097Z",
     "start_time": "2022-11-04T07:35:18.524071Z"
    },
    "hidden": true
   },
   "outputs": [
    {
     "data": {
      "text/html": [
       "<div>\n",
       "<style scoped>\n",
       "    .dataframe tbody tr th:only-of-type {\n",
       "        vertical-align: middle;\n",
       "    }\n",
       "\n",
       "    .dataframe tbody tr th {\n",
       "        vertical-align: top;\n",
       "    }\n",
       "\n",
       "    .dataframe thead th {\n",
       "        text-align: right;\n",
       "    }\n",
       "</style>\n",
       "<table border=\"1\" class=\"dataframe\">\n",
       "  <thead>\n",
       "    <tr style=\"text-align: right;\">\n",
       "      <th></th>\n",
       "      <th>mean_income</th>\n",
       "    </tr>\n",
       "    <tr>\n",
       "      <th>age</th>\n",
       "      <th></th>\n",
       "    </tr>\n",
       "  </thead>\n",
       "  <tbody>\n",
       "    <tr>\n",
       "      <th>19.0</th>\n",
       "      <td>162.000000</td>\n",
       "    </tr>\n",
       "    <tr>\n",
       "      <th>20.0</th>\n",
       "      <td>121.333333</td>\n",
       "    </tr>\n",
       "    <tr>\n",
       "      <th>21.0</th>\n",
       "      <td>136.400000</td>\n",
       "    </tr>\n",
       "    <tr>\n",
       "      <th>22.0</th>\n",
       "      <td>123.666667</td>\n",
       "    </tr>\n",
       "    <tr>\n",
       "      <th>23.0</th>\n",
       "      <td>179.676471</td>\n",
       "    </tr>\n",
       "  </tbody>\n",
       "</table>\n",
       "</div>"
      ],
      "text/plain": [
       "      mean_income\n",
       "age              \n",
       "19.0   162.000000\n",
       "20.0   121.333333\n",
       "21.0   136.400000\n",
       "22.0   123.666667\n",
       "23.0   179.676471"
      ]
     },
     "execution_count": 45,
     "metadata": {},
     "output_type": "execute_result"
    }
   ],
   "source": [
    "# 나이에 따른 월급 평균표 \n",
    "age_income = welfare.dropna(subset = ['income'])\\\n",
    "            .groupby('age')\\\n",
    "            .agg(mean_income = ('income','mean'))\n",
    "age_income.head()"
   ]
  },
  {
   "cell_type": "code",
   "execution_count": 46,
   "id": "b82ed620",
   "metadata": {
    "ExecuteTime": {
     "end_time": "2022-11-04T07:35:36.707025Z",
     "start_time": "2022-11-04T07:35:36.537249Z"
    },
    "hidden": true
   },
   "outputs": [
    {
     "data": {
      "text/plain": [
       "<AxesSubplot:xlabel='age', ylabel='mean_income'>"
      ]
     },
     "execution_count": 46,
     "metadata": {},
     "output_type": "execute_result"
    },
    {
     "data": {
      "image/png": "[encoded data removed]",
      "text/plain": [
       "<Figure size 432x288 with 1 Axes>"
      ]
     },
     "metadata": {
      "needs_background": "light"
     },
     "output_type": "display_data"
    }
   ],
   "source": [
    "# 그래프 만들기\n",
    "\n",
    "sns.lineplot(data = age_income, x = 'age', y = 'mean_income')"
   ]
  },
  {
   "cell_type": "markdown",
   "id": "ad088c48",
   "metadata": {
    "hidden": true
   },
   "source": [
    "20대 초반에 월급을 150만원 가량 받고 이후 지속해서 증가하는 추세를 보입니다. 40대에 350만 원가량으로 가장 많이 받고 지속해서 감소하다가 60대에는 20대보다 낮은 월급을 받습니다."
   ]
  },
  {
   "cell_type": "markdown",
   "id": "17a27ada",
   "metadata": {
    "heading_collapsed": true
   },
   "source": [
    "### 연령대에 따른 월급 차이 -- 어떤 연령대의 월급이 가장 많을까? "
   ]
  },
  {
   "cell_type": "markdown",
   "id": "b13a7b5f",
   "metadata": {
    "hidden": true
   },
   "source": [
    "#### 연령대 변수 검토 및 전처리하기 "
   ]
  },
  {
   "cell_type": "markdown",
   "id": "1b3012ec",
   "metadata": {
    "hidden": true
   },
   "source": [
    "##### 파생변수 만들기 - 연령대 \n",
    "\n",
    "* 초년층 : 30세 미만\n",
    "* 중년층 : 30~59세 \n",
    "* 노년층 : 60세 이상 "
   ]
  },
  {
   "cell_type": "code",
   "execution_count": 48,
   "id": "861ed7a6",
   "metadata": {
    "ExecuteTime": {
     "end_time": "2022-11-04T07:37:36.786687Z",
     "start_time": "2022-11-04T07:37:36.767702Z"
    },
    "hidden": true
   },
   "outputs": [
    {
     "data": {
      "text/plain": [
       "count    14418.000000\n",
       "mean        50.719795\n",
       "std         24.402250\n",
       "min          2.000000\n",
       "25%         30.000000\n",
       "50%         52.000000\n",
       "75%         72.000000\n",
       "max        113.000000\n",
       "Name: age, dtype: float64"
      ]
     },
     "execution_count": 48,
     "metadata": {},
     "output_type": "execute_result"
    }
   ],
   "source": [
    "# 나이 변수 살펴보기\n",
    "welfare['age'].describe()"
   ]
  },
  {
   "cell_type": "code",
   "execution_count": 49,
   "id": "97593c3f",
   "metadata": {
    "ExecuteTime": {
     "end_time": "2022-11-04T07:39:18.260271Z",
     "start_time": "2022-11-04T07:39:18.229262Z"
    },
    "hidden": true
   },
   "outputs": [
    {
     "data": {
      "text/plain": [
       "old       5955\n",
       "middle    4963\n",
       "young     3500\n",
       "Name: ageg, dtype: int64"
      ]
     },
     "execution_count": 49,
     "metadata": {},
     "output_type": "execute_result"
    }
   ],
   "source": [
    "# 연령대 변수 만들기 \n",
    "welfare = welfare.assign(ageg = np.where(welfare['age'] < 30, 'young',\n",
    "                                np.where(welfare['age'] <= 59, 'middle',\n",
    "                                                                'old')))\n",
    "\n",
    "# 빈도 구하기\n",
    "welfare['ageg'].value_counts()"
   ]
  },
  {
   "cell_type": "code",
   "execution_count": 79,
   "id": "6feec981",
   "metadata": {
    "ExecuteTime": {
     "end_time": "2022-11-04T08:10:18.849634Z",
     "start_time": "2022-11-04T08:10:18.733595Z"
    },
    "hidden": true
   },
   "outputs": [
    {
     "data": {
      "text/plain": [
       "<AxesSubplot:xlabel='ageg', ylabel='count'>"
      ]
     },
     "execution_count": 79,
     "metadata": {},
     "output_type": "execute_result"
    },
    {
     "data": {
      "image/png": "[encoded data removed]",
      "text/plain": [
       "<Figure size 432x288 with 1 Axes>"
      ]
     },
     "metadata": {
      "needs_background": "light"
     },
     "output_type": "display_data"
    }
   ],
   "source": [
    "# 빈도 막대 그래프 그리기\n",
    "sns.countplot(data = welfare, \n",
    "            x = 'ageg', \n",
    "            palette = sns.color_palette(\"pastel\"),\n",
    "            order = ['young','middle','old'])"
   ]
  },
  {
   "cell_type": "markdown",
   "id": "21347989",
   "metadata": {
    "hidden": true
   },
   "source": [
    "##### 연령대에 따른 월급 차이 분석하기 "
   ]
  },
  {
   "cell_type": "code",
   "execution_count": 76,
   "id": "3fdd2f7d",
   "metadata": {
    "ExecuteTime": {
     "end_time": "2022-11-04T08:09:03.107966Z",
     "start_time": "2022-11-04T08:09:03.059949Z"
    },
    "hidden": true
   },
   "outputs": [
    {
     "data": {
      "text/html": [
       "<div>\n",
       "<style scoped>\n",
       "    .dataframe tbody tr th:only-of-type {\n",
       "        vertical-align: middle;\n",
       "    }\n",
       "\n",
       "    .dataframe tbody tr th {\n",
       "        vertical-align: top;\n",
       "    }\n",
       "\n",
       "    .dataframe thead th {\n",
       "        text-align: right;\n",
       "    }\n",
       "</style>\n",
       "<table border=\"1\" class=\"dataframe\">\n",
       "  <thead>\n",
       "    <tr style=\"text-align: right;\">\n",
       "      <th></th>\n",
       "      <th>ageg</th>\n",
       "      <th>mean_income</th>\n",
       "    </tr>\n",
       "  </thead>\n",
       "  <tbody>\n",
       "    <tr>\n",
       "      <th>0</th>\n",
       "      <td>middle</td>\n",
       "      <td>329.157157</td>\n",
       "    </tr>\n",
       "    <tr>\n",
       "      <th>1</th>\n",
       "      <td>old</td>\n",
       "      <td>140.129003</td>\n",
       "    </tr>\n",
       "    <tr>\n",
       "      <th>2</th>\n",
       "      <td>young</td>\n",
       "      <td>195.663424</td>\n",
       "    </tr>\n",
       "  </tbody>\n",
       "</table>\n",
       "</div>"
      ],
      "text/plain": [
       "     ageg  mean_income\n",
       "0  middle   329.157157\n",
       "1     old   140.129003\n",
       "2   young   195.663424"
      ]
     },
     "execution_count": 76,
     "metadata": {},
     "output_type": "execute_result"
    }
   ],
   "source": [
    "# 연령대별 월급 평균표 만들기 \n",
    "ageg_income = welfare.dropna(subset = ['income'])\\\n",
    "            .groupby('ageg',as_index = False)\\\n",
    "            .agg(mean_income = ('income','mean'))\n",
    "\n",
    "ageg_income"
   ]
  },
  {
   "cell_type": "code",
   "execution_count": 78,
   "id": "8e6a42d7",
   "metadata": {
    "ExecuteTime": {
     "end_time": "2022-11-04T08:09:59.839549Z",
     "start_time": "2022-11-04T08:09:59.724166Z"
    },
    "hidden": true
   },
   "outputs": [
    {
     "data": {
      "text/plain": [
       "<AxesSubplot:xlabel='ageg', ylabel='mean_income'>"
      ]
     },
     "execution_count": 78,
     "metadata": {},
     "output_type": "execute_result"
    },
    {
     "data": {
      "image/png": "[encoded data removed]",
      "text/plain": [
       "<Figure size 432x288 with 1 Axes>"
      ]
     },
     "metadata": {
      "needs_background": "light"
     },
     "output_type": "display_data"
    }
   ],
   "source": [
    "# 막대 그래프 만들기\n",
    "sns.barplot(data = ageg_income, \n",
    "            x = 'ageg',\n",
    "            y = 'mean_income',\n",
    "            palette = sns.color_palette(\"pastel\"),\n",
    "            order = ['young','middle','old']\n",
    "           )"
   ]
  },
  {
   "cell_type": "markdown",
   "id": "ec25ed0e",
   "metadata": {
    "hidden": true
   },
   "source": [
    "중년층이 330만 원 정도로 가장 많은 월급을 받습니다. 노년층의 월급은 약 140만원으로, 초년층이 받는 195만원 보다 적습니다. "
   ]
  },
  {
   "cell_type": "markdown",
   "id": "11414205",
   "metadata": {
    "heading_collapsed": true
   },
   "source": [
    "### 연령대 및 성별 월급 차이 -- 성별 월급 차이는 연령대별로 다를까?"
   ]
  },
  {
   "cell_type": "markdown",
   "id": "0dfa700f",
   "metadata": {
    "hidden": true
   },
   "source": [
    "성별 월급 차이는 연령대에 따라 다른 양상을 보일 수 있습니다. 이에 성별 월급 차이가 연령대에 따라 어떻게 다른지 분석해보겠습니다. "
   ]
  },
  {
   "cell_type": "markdown",
   "id": "8b4de61e",
   "metadata": {
    "hidden": true
   },
   "source": [
    "#### 연령대 및 성별 월급 차이 분석하기 "
   ]
  },
  {
   "cell_type": "markdown",
   "id": "44d19b03",
   "metadata": {
    "hidden": true
   },
   "source": [
    "##### 연령대 및 성별 월급 평균표 만들기 "
   ]
  },
  {
   "cell_type": "code",
   "execution_count": 80,
   "id": "145c8d5b",
   "metadata": {
    "ExecuteTime": {
     "end_time": "2022-11-04T08:13:13.630334Z",
     "start_time": "2022-11-04T08:13:13.588242Z"
    },
    "hidden": true
   },
   "outputs": [
    {
     "data": {
      "text/html": [
       "<div>\n",
       "<style scoped>\n",
       "    .dataframe tbody tr th:only-of-type {\n",
       "        vertical-align: middle;\n",
       "    }\n",
       "\n",
       "    .dataframe tbody tr th {\n",
       "        vertical-align: top;\n",
       "    }\n",
       "\n",
       "    .dataframe thead th {\n",
       "        text-align: right;\n",
       "    }\n",
       "</style>\n",
       "<table border=\"1\" class=\"dataframe\">\n",
       "  <thead>\n",
       "    <tr style=\"text-align: right;\">\n",
       "      <th></th>\n",
       "      <th>ageg</th>\n",
       "      <th>sex</th>\n",
       "      <th>mean_income</th>\n",
       "    </tr>\n",
       "  </thead>\n",
       "  <tbody>\n",
       "    <tr>\n",
       "      <th>0</th>\n",
       "      <td>middle</td>\n",
       "      <td>female</td>\n",
       "      <td>230.481735</td>\n",
       "    </tr>\n",
       "    <tr>\n",
       "      <th>1</th>\n",
       "      <td>middle</td>\n",
       "      <td>male</td>\n",
       "      <td>409.541228</td>\n",
       "    </tr>\n",
       "    <tr>\n",
       "      <th>2</th>\n",
       "      <td>old</td>\n",
       "      <td>female</td>\n",
       "      <td>90.228896</td>\n",
       "    </tr>\n",
       "    <tr>\n",
       "      <th>3</th>\n",
       "      <td>old</td>\n",
       "      <td>male</td>\n",
       "      <td>204.570231</td>\n",
       "    </tr>\n",
       "    <tr>\n",
       "      <th>4</th>\n",
       "      <td>young</td>\n",
       "      <td>female</td>\n",
       "      <td>189.822222</td>\n",
       "    </tr>\n",
       "    <tr>\n",
       "      <th>5</th>\n",
       "      <td>young</td>\n",
       "      <td>male</td>\n",
       "      <td>204.909548</td>\n",
       "    </tr>\n",
       "  </tbody>\n",
       "</table>\n",
       "</div>"
      ],
      "text/plain": [
       "     ageg     sex  mean_income\n",
       "0  middle  female   230.481735\n",
       "1  middle    male   409.541228\n",
       "2     old  female    90.228896\n",
       "3     old    male   204.570231\n",
       "4   young  female   189.822222\n",
       "5   young    male   204.909548"
      ]
     },
     "execution_count": 80,
     "metadata": {},
     "output_type": "execute_result"
    }
   ],
   "source": [
    "# 연령대 및 성별 평균표 만들기\n",
    "sex_income =\\\n",
    "            welfare.dropna(subset = ['income'])\\\n",
    "            .groupby(['ageg','sex'], as_index = False)\\\n",
    "            .agg(mean_income = ('income','mean'))\n",
    "\n",
    "sex_income"
   ]
  },
  {
   "cell_type": "code",
   "execution_count": 81,
   "id": "60651ae2",
   "metadata": {
    "ExecuteTime": {
     "end_time": "2022-11-04T08:13:59.744765Z",
     "start_time": "2022-11-04T08:13:59.561699Z"
    },
    "hidden": true
   },
   "outputs": [
    {
     "data": {
      "text/plain": [
       "<AxesSubplot:xlabel='ageg', ylabel='mean_income'>"
      ]
     },
     "execution_count": 81,
     "metadata": {},
     "output_type": "execute_result"
    },
    {
     "data": {
      "image/png": "[encoded data removed]",
      "text/plain": [
       "<Figure size 432x288 with 1 Axes>"
      ]
     },
     "metadata": {
      "needs_background": "light"
     },
     "output_type": "display_data"
    }
   ],
   "source": [
    "# 그래프 만들기\n",
    "## hue : 막대 색깔이 성별에 따라 다르도록 그룹 차트 만들기 \n",
    "sns.barplot(data = sex_income, x = 'ageg', y = 'mean_income',\n",
    "            hue = 'sex', order = ['young','middle','old'])"
   ]
  },
  {
   "cell_type": "markdown",
   "id": "27f9e9cb",
   "metadata": {
    "hidden": true
   },
   "source": [
    "초년에는 성별에 따른 월급 차이가 크지 않다가 중년에 크게 벌어져 179만원 가량 더 많습니다. 노년에는 차이가 줄어들지만 여전히 남성이 114만 원가량 많습니다.\n",
    "\n",
    "앞 절에서 연령대별 월급을 분석할 때 노년층이 초년층보다 월급을 적게 받는 것으로 나타났습니다. 그런데 연령대와 성별로 나눈 이번 분석 결과를 보면 노년층이 초년층보다 월급을 적게 받는 현상은 여성에게만 나타납니다. 남성은 노년층과 초년층의 월급이 비슷합니다. 또한 중년층이 초년층보다 월급을 더 많이 받는 현상도 남성에게서 나타나고, 여성은 차이가 크지 않습니다."
   ]
  },
  {
   "cell_type": "markdown",
   "id": "4b6f5dc3",
   "metadata": {
    "hidden": true
   },
   "source": [
    "##### 나이 및 성별 월급 차이 분석하기"
   ]
  },
  {
   "cell_type": "code",
   "execution_count": 82,
   "id": "dd205873",
   "metadata": {
    "ExecuteTime": {
     "end_time": "2022-11-04T08:17:33.465639Z",
     "start_time": "2022-11-04T08:17:33.430627Z"
    },
    "hidden": true
   },
   "outputs": [
    {
     "data": {
      "text/html": [
       "<div>\n",
       "<style scoped>\n",
       "    .dataframe tbody tr th:only-of-type {\n",
       "        vertical-align: middle;\n",
       "    }\n",
       "\n",
       "    .dataframe tbody tr th {\n",
       "        vertical-align: top;\n",
       "    }\n",
       "\n",
       "    .dataframe thead th {\n",
       "        text-align: right;\n",
       "    }\n",
       "</style>\n",
       "<table border=\"1\" class=\"dataframe\">\n",
       "  <thead>\n",
       "    <tr style=\"text-align: right;\">\n",
       "      <th></th>\n",
       "      <th>age</th>\n",
       "      <th>sex</th>\n",
       "      <th>mean_income</th>\n",
       "    </tr>\n",
       "  </thead>\n",
       "  <tbody>\n",
       "    <tr>\n",
       "      <th>0</th>\n",
       "      <td>19.0</td>\n",
       "      <td>male</td>\n",
       "      <td>162.000000</td>\n",
       "    </tr>\n",
       "    <tr>\n",
       "      <th>1</th>\n",
       "      <td>20.0</td>\n",
       "      <td>female</td>\n",
       "      <td>87.666667</td>\n",
       "    </tr>\n",
       "    <tr>\n",
       "      <th>2</th>\n",
       "      <td>20.0</td>\n",
       "      <td>male</td>\n",
       "      <td>155.000000</td>\n",
       "    </tr>\n",
       "    <tr>\n",
       "      <th>3</th>\n",
       "      <td>21.0</td>\n",
       "      <td>female</td>\n",
       "      <td>124.000000</td>\n",
       "    </tr>\n",
       "    <tr>\n",
       "      <th>4</th>\n",
       "      <td>21.0</td>\n",
       "      <td>male</td>\n",
       "      <td>186.000000</td>\n",
       "    </tr>\n",
       "  </tbody>\n",
       "</table>\n",
       "</div>"
      ],
      "text/plain": [
       "    age     sex  mean_income\n",
       "0  19.0    male   162.000000\n",
       "1  20.0  female    87.666667\n",
       "2  20.0    male   155.000000\n",
       "3  21.0  female   124.000000\n",
       "4  21.0    male   186.000000"
      ]
     },
     "execution_count": 82,
     "metadata": {},
     "output_type": "execute_result"
    }
   ],
   "source": [
    "sex_age = welfare.dropna(subset = ['income'])\\\n",
    "                .groupby(['age','sex'], as_index = False)\\\n",
    "                .agg(mean_income = ('income','mean'))\n",
    "\n",
    "sex_age.head()"
   ]
  },
  {
   "cell_type": "code",
   "execution_count": 83,
   "id": "010c5686",
   "metadata": {
    "ExecuteTime": {
     "end_time": "2022-11-04T08:18:04.136886Z",
     "start_time": "2022-11-04T08:18:03.937845Z"
    },
    "hidden": true
   },
   "outputs": [
    {
     "data": {
      "text/plain": [
       "<AxesSubplot:xlabel='age', ylabel='mean_income'>"
      ]
     },
     "execution_count": 83,
     "metadata": {},
     "output_type": "execute_result"
    },
    {
     "data": {
      "image/png": "[encoded data removed]",
      "text/plain": [
       "<Figure size 432x288 with 1 Axes>"
      ]
     },
     "metadata": {
      "needs_background": "light"
     },
     "output_type": "display_data"
    }
   ],
   "source": [
    "# 선 그래프 만들기\n",
    "sns.lineplot(data = sex_age, x = 'age', y = 'mean_income', hue = 'sex')"
   ]
  },
  {
   "cell_type": "markdown",
   "id": "72bd6cd1",
   "metadata": {
    "hidden": true
   },
   "source": [
    "출력된 그래프를 보면 남성의 월급은 50세 전후까지 증가하다가 급격하게 감소하는 반면, 여성은 30대 초반까지 약간 증가하다가 이후로는 완만하게 감소합니다. 성별 월급 격차는 30대 중반부터 벌어지다가 50대에 가장 크게 벌어지고, 이후로 점점 줄어들어 80세가 되면 비슷한 수준이 됩니다. "
   ]
  },
  {
   "cell_type": "markdown",
   "id": "894f83df",
   "metadata": {
    "heading_collapsed": true
   },
   "source": [
    "### 직업별 월급 차이 -- 어떤 직업이 월급을 가장 많이 받을까?"
   ]
  },
  {
   "cell_type": "markdown",
   "id": "70c3f164",
   "metadata": {
    "ExecuteTime": {
     "end_time": "2022-11-04T08:19:44.187710Z",
     "start_time": "2022-11-04T08:19:44.171713Z"
    },
    "hidden": true
   },
   "source": [
    "#### 직업 변수 검토 및 전처리하기"
   ]
  },
  {
   "cell_type": "markdown",
   "id": "557b8c09",
   "metadata": {
    "hidden": true
   },
   "source": [
    "##### 변수 검토하기 "
   ]
  },
  {
   "cell_type": "code",
   "execution_count": 85,
   "id": "f66172b2",
   "metadata": {
    "ExecuteTime": {
     "end_time": "2022-11-04T08:20:08.774461Z",
     "start_time": "2022-11-04T08:20:08.765448Z"
    },
    "hidden": true
   },
   "outputs": [
    {
     "data": {
      "text/plain": [
       "611.0     962\n",
       "941.0     391\n",
       "521.0     354\n",
       "312.0     275\n",
       "873.0     236\n",
       "         ... \n",
       "122.0       2\n",
       "1009.0      2\n",
       "423.0       1\n",
       "872.0       1\n",
       "861.0       1\n",
       "Name: code_job, Length: 150, dtype: int64"
      ]
     },
     "execution_count": 85,
     "metadata": {},
     "output_type": "execute_result"
    }
   ],
   "source": [
    "welfare['code_job'].value_counts()"
   ]
  },
  {
   "cell_type": "markdown",
   "id": "a51a3ab2",
   "metadata": {
    "hidden": true
   },
   "source": [
    "##### 전처리하기 "
   ]
  },
  {
   "cell_type": "code",
   "execution_count": 86,
   "id": "b3c519ad",
   "metadata": {
    "ExecuteTime": {
     "end_time": "2022-11-04T08:21:31.345980Z",
     "start_time": "2022-11-04T08:21:30.402574Z"
    },
    "hidden": true
   },
   "outputs": [
    {
     "data": {
      "text/html": [
       "<div>\n",
       "<style scoped>\n",
       "    .dataframe tbody tr th:only-of-type {\n",
       "        vertical-align: middle;\n",
       "    }\n",
       "\n",
       "    .dataframe tbody tr th {\n",
       "        vertical-align: top;\n",
       "    }\n",
       "\n",
       "    .dataframe thead th {\n",
       "        text-align: right;\n",
       "    }\n",
       "</style>\n",
       "<table border=\"1\" class=\"dataframe\">\n",
       "  <thead>\n",
       "    <tr style=\"text-align: right;\">\n",
       "      <th></th>\n",
       "      <th>code_job</th>\n",
       "      <th>job</th>\n",
       "    </tr>\n",
       "  </thead>\n",
       "  <tbody>\n",
       "    <tr>\n",
       "      <th>0</th>\n",
       "      <td>111</td>\n",
       "      <td>의회 의원∙고위 공무원 및 공공단체 임원</td>\n",
       "    </tr>\n",
       "    <tr>\n",
       "      <th>1</th>\n",
       "      <td>112</td>\n",
       "      <td>기업 고위 임원</td>\n",
       "    </tr>\n",
       "    <tr>\n",
       "      <th>2</th>\n",
       "      <td>121</td>\n",
       "      <td>행정 및 경영 지원 관리자</td>\n",
       "    </tr>\n",
       "    <tr>\n",
       "      <th>3</th>\n",
       "      <td>122</td>\n",
       "      <td>마케팅 및 광고∙홍보 관리자</td>\n",
       "    </tr>\n",
       "    <tr>\n",
       "      <th>4</th>\n",
       "      <td>131</td>\n",
       "      <td>연구∙교육 및 법률 관련 관리자</td>\n",
       "    </tr>\n",
       "  </tbody>\n",
       "</table>\n",
       "</div>"
      ],
      "text/plain": [
       "   code_job                     job\n",
       "0       111  의회 의원∙고위 공무원 및 공공단체 임원\n",
       "1       112                기업 고위 임원\n",
       "2       121          행정 및 경영 지원 관리자\n",
       "3       122         마케팅 및 광고∙홍보 관리자\n",
       "4       131       연구∙교육 및 법률 관련 관리자"
      ]
     },
     "execution_count": 86,
     "metadata": {},
     "output_type": "execute_result"
    }
   ],
   "source": [
    "list_job = pd.read_excel('c:/data/Koweps_Codebook_2019.xlsx', sheet_name = '직종코드')\n",
    "list_job.head()"
   ]
  },
  {
   "cell_type": "code",
   "execution_count": 87,
   "id": "93b82eb2",
   "metadata": {
    "ExecuteTime": {
     "end_time": "2022-11-04T08:21:46.472606Z",
     "start_time": "2022-11-04T08:21:46.466601Z"
    },
    "hidden": true
   },
   "outputs": [
    {
     "data": {
      "text/plain": [
       "(156, 2)"
      ]
     },
     "execution_count": 87,
     "metadata": {},
     "output_type": "execute_result"
    }
   ],
   "source": [
    "list_job.shape"
   ]
  },
  {
   "cell_type": "code",
   "execution_count": 88,
   "id": "96cc98b2",
   "metadata": {
    "ExecuteTime": {
     "end_time": "2022-11-04T08:22:18.541594Z",
     "start_time": "2022-11-04T08:22:18.219521Z"
    },
    "hidden": true
   },
   "outputs": [],
   "source": [
    "# welfare에 list_job 결합하기\n",
    "welfare = welfare.merge(list_job, how = 'left', on = 'code_job')"
   ]
  },
  {
   "cell_type": "code",
   "execution_count": 89,
   "id": "1533a8cc",
   "metadata": {
    "ExecuteTime": {
     "end_time": "2022-11-04T08:22:50.342432Z",
     "start_time": "2022-11-04T08:22:50.244394Z"
    },
    "hidden": true
   },
   "outputs": [
    {
     "data": {
      "text/html": [
       "<div>\n",
       "<style scoped>\n",
       "    .dataframe tbody tr th:only-of-type {\n",
       "        vertical-align: middle;\n",
       "    }\n",
       "\n",
       "    .dataframe tbody tr th {\n",
       "        vertical-align: top;\n",
       "    }\n",
       "\n",
       "    .dataframe thead th {\n",
       "        text-align: right;\n",
       "    }\n",
       "</style>\n",
       "<table border=\"1\" class=\"dataframe\">\n",
       "  <thead>\n",
       "    <tr style=\"text-align: right;\">\n",
       "      <th></th>\n",
       "      <th>code_job</th>\n",
       "      <th>job</th>\n",
       "    </tr>\n",
       "  </thead>\n",
       "  <tbody>\n",
       "    <tr>\n",
       "      <th>2</th>\n",
       "      <td>762.0</td>\n",
       "      <td>전기공</td>\n",
       "    </tr>\n",
       "    <tr>\n",
       "      <th>3</th>\n",
       "      <td>855.0</td>\n",
       "      <td>금속기계 부품 조립원</td>\n",
       "    </tr>\n",
       "    <tr>\n",
       "      <th>7</th>\n",
       "      <td>941.0</td>\n",
       "      <td>청소원 및 환경미화원</td>\n",
       "    </tr>\n",
       "    <tr>\n",
       "      <th>8</th>\n",
       "      <td>999.0</td>\n",
       "      <td>기타 서비스 관련 단순 종사자</td>\n",
       "    </tr>\n",
       "    <tr>\n",
       "      <th>14</th>\n",
       "      <td>312.0</td>\n",
       "      <td>경영 관련 사무원</td>\n",
       "    </tr>\n",
       "  </tbody>\n",
       "</table>\n",
       "</div>"
      ],
      "text/plain": [
       "    code_job               job\n",
       "2      762.0               전기공\n",
       "3      855.0       금속기계 부품 조립원\n",
       "7      941.0       청소원 및 환경미화원\n",
       "8      999.0  기타 서비스 관련 단순 종사자\n",
       "14     312.0         경영 관련 사무원"
      ]
     },
     "execution_count": 89,
     "metadata": {},
     "output_type": "execute_result"
    }
   ],
   "source": [
    "# code_job 결측치 제거하고 code_job,job 출력 \n",
    "welfare.dropna(subset = ['code_job'])[['code_job','job']].head()"
   ]
  },
  {
   "cell_type": "markdown",
   "id": "fbcf8b89",
   "metadata": {
    "hidden": true
   },
   "source": [
    "#### 직업별 월급 차이 분석하기 "
   ]
  },
  {
   "cell_type": "markdown",
   "id": "74c9ac3f",
   "metadata": {
    "hidden": true
   },
   "source": [
    "##### 직업별 월급 평균표 만들기`"
   ]
  },
  {
   "cell_type": "code",
   "execution_count": 90,
   "id": "9cb9e1e6",
   "metadata": {
    "ExecuteTime": {
     "end_time": "2022-11-04T08:43:49.349436Z",
     "start_time": "2022-11-04T08:43:49.298436Z"
    },
    "hidden": true
   },
   "outputs": [
    {
     "data": {
      "text/html": [
       "<div>\n",
       "<style scoped>\n",
       "    .dataframe tbody tr th:only-of-type {\n",
       "        vertical-align: middle;\n",
       "    }\n",
       "\n",
       "    .dataframe tbody tr th {\n",
       "        vertical-align: top;\n",
       "    }\n",
       "\n",
       "    .dataframe thead th {\n",
       "        text-align: right;\n",
       "    }\n",
       "</style>\n",
       "<table border=\"1\" class=\"dataframe\">\n",
       "  <thead>\n",
       "    <tr style=\"text-align: right;\">\n",
       "      <th></th>\n",
       "      <th>job</th>\n",
       "      <th>mean_income</th>\n",
       "    </tr>\n",
       "  </thead>\n",
       "  <tbody>\n",
       "    <tr>\n",
       "      <th>0</th>\n",
       "      <td>가사 및 육아 도우미</td>\n",
       "      <td>92.455882</td>\n",
       "    </tr>\n",
       "    <tr>\n",
       "      <th>1</th>\n",
       "      <td>간호사</td>\n",
       "      <td>265.219178</td>\n",
       "    </tr>\n",
       "    <tr>\n",
       "      <th>2</th>\n",
       "      <td>감정∙기술영업및중개관련종사자</td>\n",
       "      <td>391.000000</td>\n",
       "    </tr>\n",
       "    <tr>\n",
       "      <th>3</th>\n",
       "      <td>건물 관리원 및 검표원</td>\n",
       "      <td>168.375000</td>\n",
       "    </tr>\n",
       "    <tr>\n",
       "      <th>4</th>\n",
       "      <td>건설 및 광업 단순 종사자</td>\n",
       "      <td>261.975000</td>\n",
       "    </tr>\n",
       "  </tbody>\n",
       "</table>\n",
       "</div>"
      ],
      "text/plain": [
       "                job  mean_income\n",
       "0       가사 및 육아 도우미    92.455882\n",
       "1               간호사   265.219178\n",
       "2  감정∙기술영업및중개관련종사자    391.000000\n",
       "3      건물 관리원 및 검표원   168.375000\n",
       "4    건설 및 광업 단순 종사자   261.975000"
      ]
     },
     "execution_count": 90,
     "metadata": {},
     "output_type": "execute_result"
    }
   ],
   "source": [
    "job_income = welfare.dropna(subset = ['job','income'])\\\n",
    "            .groupby('job', as_index = False)\\\n",
    "            .agg(mean_income = ('income','mean'))\n",
    "job_income.head()"
   ]
  },
  {
   "cell_type": "markdown",
   "id": "8aa00797",
   "metadata": {
    "hidden": true
   },
   "source": [
    "##### 그래프 만들기"
   ]
  },
  {
   "cell_type": "code",
   "execution_count": 91,
   "id": "bab3c7d2",
   "metadata": {
    "ExecuteTime": {
     "end_time": "2022-11-04T08:44:57.014685Z",
     "start_time": "2022-11-04T08:44:57.006690Z"
    },
    "hidden": true
   },
   "outputs": [
    {
     "data": {
      "text/html": [
       "<div>\n",
       "<style scoped>\n",
       "    .dataframe tbody tr th:only-of-type {\n",
       "        vertical-align: middle;\n",
       "    }\n",
       "\n",
       "    .dataframe tbody tr th {\n",
       "        vertical-align: top;\n",
       "    }\n",
       "\n",
       "    .dataframe thead th {\n",
       "        text-align: right;\n",
       "    }\n",
       "</style>\n",
       "<table border=\"1\" class=\"dataframe\">\n",
       "  <thead>\n",
       "    <tr style=\"text-align: right;\">\n",
       "      <th></th>\n",
       "      <th>job</th>\n",
       "      <th>mean_income</th>\n",
       "    </tr>\n",
       "  </thead>\n",
       "  <tbody>\n",
       "    <tr>\n",
       "      <th>98</th>\n",
       "      <td>의료 진료 전문가</td>\n",
       "      <td>781.000000</td>\n",
       "    </tr>\n",
       "    <tr>\n",
       "      <th>60</th>\n",
       "      <td>법률 전문가</td>\n",
       "      <td>776.333333</td>\n",
       "    </tr>\n",
       "    <tr>\n",
       "      <th>140</th>\n",
       "      <td>행정 및 경영 지원 관리자</td>\n",
       "      <td>771.833333</td>\n",
       "    </tr>\n",
       "    <tr>\n",
       "      <th>63</th>\n",
       "      <td>보험 및 금융 관리자</td>\n",
       "      <td>734.750000</td>\n",
       "    </tr>\n",
       "    <tr>\n",
       "      <th>110</th>\n",
       "      <td>재활용 처리 및 소각로 조작원</td>\n",
       "      <td>688.000000</td>\n",
       "    </tr>\n",
       "    <tr>\n",
       "      <th>131</th>\n",
       "      <td>컴퓨터 하드웨어 및 통신공학 전문가</td>\n",
       "      <td>679.444444</td>\n",
       "    </tr>\n",
       "    <tr>\n",
       "      <th>24</th>\n",
       "      <td>기계∙로봇공학 기술자 및 시험원</td>\n",
       "      <td>669.166667</td>\n",
       "    </tr>\n",
       "    <tr>\n",
       "      <th>6</th>\n",
       "      <td>건설∙전기 및 생산 관련 관리자</td>\n",
       "      <td>603.083333</td>\n",
       "    </tr>\n",
       "    <tr>\n",
       "      <th>120</th>\n",
       "      <td>제관원 및 판금원</td>\n",
       "      <td>597.000000</td>\n",
       "    </tr>\n",
       "    <tr>\n",
       "      <th>100</th>\n",
       "      <td>의회 의원∙고위 공무원 및 공공단체 임원</td>\n",
       "      <td>580.500000</td>\n",
       "    </tr>\n",
       "  </tbody>\n",
       "</table>\n",
       "</div>"
      ],
      "text/plain": [
       "                        job  mean_income\n",
       "98                의료 진료 전문가   781.000000\n",
       "60                   법률 전문가   776.333333\n",
       "140          행정 및 경영 지원 관리자   771.833333\n",
       "63              보험 및 금융 관리자   734.750000\n",
       "110        재활용 처리 및 소각로 조작원   688.000000\n",
       "131     컴퓨터 하드웨어 및 통신공학 전문가   679.444444\n",
       "24        기계∙로봇공학 기술자 및 시험원   669.166667\n",
       "6         건설∙전기 및 생산 관련 관리자   603.083333\n",
       "120               제관원 및 판금원   597.000000\n",
       "100  의회 의원∙고위 공무원 및 공공단체 임원   580.500000"
      ]
     },
     "execution_count": 91,
     "metadata": {},
     "output_type": "execute_result"
    }
   ],
   "source": [
    "# 월급이 많은 직업 \n",
    "# 상위 10위 추출 \n",
    "\n",
    "top10 = job_income.sort_values('mean_income',ascending=False).head(10)\n",
    "top10"
   ]
  },
  {
   "cell_type": "code",
   "execution_count": 92,
   "id": "09a541f2",
   "metadata": {
    "ExecuteTime": {
     "end_time": "2022-11-04T08:45:29.246653Z",
     "start_time": "2022-11-04T08:45:29.235661Z"
    },
    "hidden": true
   },
   "outputs": [],
   "source": [
    "# 맑은 고딕 폰트 설정 \n",
    "import matplotlib.pyplot as plt \n",
    "plt.rcParams.update({'font.family' : 'Malgun Gothic'})"
   ]
  },
  {
   "cell_type": "code",
   "execution_count": 93,
   "id": "37e4a9ad",
   "metadata": {
    "ExecuteTime": {
     "end_time": "2022-11-04T08:45:56.959650Z",
     "start_time": "2022-11-04T08:45:56.434520Z"
    },
    "hidden": true
   },
   "outputs": [
    {
     "data": {
      "text/plain": [
       "<AxesSubplot:xlabel='mean_income', ylabel='job'>"
      ]
     },
     "execution_count": 93,
     "metadata": {},
     "output_type": "execute_result"
    },
    {
     "data": {
      "image/png": "[encoded data removed]",
      "text/plain": [
       "<Figure size 432x288 with 1 Axes>"
      ]
     },
     "metadata": {
      "needs_background": "light"
     },
     "output_type": "display_data"
    }
   ],
   "source": [
    "# 막대그래프 만들기\n",
    "sns.barplot(data = top10, y = 'job', x = 'mean_income')"
   ]
  },
  {
   "cell_type": "code",
   "execution_count": 94,
   "id": "76090468",
   "metadata": {
    "ExecuteTime": {
     "end_time": "2022-11-04T08:46:58.637131Z",
     "start_time": "2022-11-04T08:46:58.626984Z"
    },
    "hidden": true
   },
   "outputs": [
    {
     "data": {
      "text/html": [
       "<div>\n",
       "<style scoped>\n",
       "    .dataframe tbody tr th:only-of-type {\n",
       "        vertical-align: middle;\n",
       "    }\n",
       "\n",
       "    .dataframe tbody tr th {\n",
       "        vertical-align: top;\n",
       "    }\n",
       "\n",
       "    .dataframe thead th {\n",
       "        text-align: right;\n",
       "    }\n",
       "</style>\n",
       "<table border=\"1\" class=\"dataframe\">\n",
       "  <thead>\n",
       "    <tr style=\"text-align: right;\">\n",
       "      <th></th>\n",
       "      <th>job</th>\n",
       "      <th>mean_income</th>\n",
       "    </tr>\n",
       "  </thead>\n",
       "  <tbody>\n",
       "    <tr>\n",
       "      <th>33</th>\n",
       "      <td>기타 돌봄∙보건 및 개인 생활 서비스 종사자</td>\n",
       "      <td>73.964286</td>\n",
       "    </tr>\n",
       "    <tr>\n",
       "      <th>34</th>\n",
       "      <td>기타 서비스 관련 단순 종사자</td>\n",
       "      <td>77.789474</td>\n",
       "    </tr>\n",
       "    <tr>\n",
       "      <th>128</th>\n",
       "      <td>청소원 및 환경미화원</td>\n",
       "      <td>88.461756</td>\n",
       "    </tr>\n",
       "    <tr>\n",
       "      <th>0</th>\n",
       "      <td>가사 및 육아 도우미</td>\n",
       "      <td>92.455882</td>\n",
       "    </tr>\n",
       "    <tr>\n",
       "      <th>43</th>\n",
       "      <td>돌봄 및 보건 서비스 종사자</td>\n",
       "      <td>117.162338</td>\n",
       "    </tr>\n",
       "    <tr>\n",
       "      <th>97</th>\n",
       "      <td>음식 관련 단순 종사자</td>\n",
       "      <td>118.187500</td>\n",
       "    </tr>\n",
       "    <tr>\n",
       "      <th>39</th>\n",
       "      <td>농림∙어업 관련 단순 종사자</td>\n",
       "      <td>122.625000</td>\n",
       "    </tr>\n",
       "    <tr>\n",
       "      <th>139</th>\n",
       "      <td>학예사∙사서 및 기록물 관리사</td>\n",
       "      <td>140.000000</td>\n",
       "    </tr>\n",
       "    <tr>\n",
       "      <th>126</th>\n",
       "      <td>채굴 및 토목 관련 기능 종사자</td>\n",
       "      <td>140.000000</td>\n",
       "    </tr>\n",
       "    <tr>\n",
       "      <th>135</th>\n",
       "      <td>판매 관련 단순 종사자</td>\n",
       "      <td>140.909091</td>\n",
       "    </tr>\n",
       "  </tbody>\n",
       "</table>\n",
       "</div>"
      ],
      "text/plain": [
       "                          job  mean_income\n",
       "33   기타 돌봄∙보건 및 개인 생활 서비스 종사자    73.964286\n",
       "34           기타 서비스 관련 단순 종사자    77.789474\n",
       "128               청소원 및 환경미화원    88.461756\n",
       "0                 가사 및 육아 도우미    92.455882\n",
       "43            돌봄 및 보건 서비스 종사자   117.162338\n",
       "97               음식 관련 단순 종사자   118.187500\n",
       "39            농림∙어업 관련 단순 종사자   122.625000\n",
       "139          학예사∙사서 및 기록물 관리사   140.000000\n",
       "126         채굴 및 토목 관련 기능 종사자   140.000000\n",
       "135              판매 관련 단순 종사자   140.909091"
      ]
     },
     "execution_count": 94,
     "metadata": {},
     "output_type": "execute_result"
    }
   ],
   "source": [
    "# 월급이 적은 직업\n",
    "# 하위 10위 추출 \n",
    "\n",
    "bottom10 = job_income.sort_values('mean_income',ascending=True).head(10)\n",
    "bottom10"
   ]
  },
  {
   "cell_type": "code",
   "execution_count": 97,
   "id": "94bd4845",
   "metadata": {
    "ExecuteTime": {
     "end_time": "2022-11-04T08:47:52.348074Z",
     "start_time": "2022-11-04T08:47:52.153466Z"
    },
    "hidden": true
   },
   "outputs": [
    {
     "data": {
      "text/plain": [
       "[(0.0, 800.0)]"
      ]
     },
     "execution_count": 97,
     "metadata": {},
     "output_type": "execute_result"
    },
    {
     "data": {
      "image/png": "[encoded data removed]",
      "text/plain": [
       "<Figure size 432x288 with 1 Axes>"
      ]
     },
     "metadata": {
      "needs_background": "light"
     },
     "output_type": "display_data"
    }
   ],
   "source": [
    "# 막대그래프 만들기\n",
    "sns.barplot(data = bottom10, y = 'job', x = 'mean_income')\\\n",
    "    .set(xlim=(0,800))"
   ]
  },
  {
   "cell_type": "code",
   "execution_count": 101,
   "id": "952320aa",
   "metadata": {
    "ExecuteTime": {
     "end_time": "2022-11-04T08:49:40.816597Z",
     "start_time": "2022-11-04T08:49:40.518853Z"
    },
    "hidden": true
   },
   "outputs": [
    {
     "data": {
      "text/plain": [
       "<AxesSubplot:xlabel='mean_income', ylabel='job'>"
      ]
     },
     "execution_count": 101,
     "metadata": {},
     "output_type": "execute_result"
    },
    {
     "data": {
      "image/png": "[encoded data removed]",
      "text/plain": [
       "<Figure size 432x288 with 1 Axes>"
      ]
     },
     "metadata": {
      "needs_background": "light"
     },
     "output_type": "display_data"
    }
   ],
   "source": [
    "# 합쳐서 함께 봐보기 \n",
    "x = pd.concat([top10,bottom10]).sort_values('mean_income',ascending=False)\n",
    "\n",
    "sns.barplot(data = x, x = 'mean_income', y = 'job')"
   ]
  },
  {
   "cell_type": "code",
   "execution_count": 117,
   "id": "23a3fbd9",
   "metadata": {
    "ExecuteTime": {
     "end_time": "2022-11-04T08:55:18.801653Z",
     "start_time": "2022-11-04T08:55:18.448621Z"
    },
    "hidden": true
   },
   "outputs": [
    {
     "ename": "AttributeError",
     "evalue": "'AxesSubplot' object has no property 'ax'",
     "output_type": "error",
     "traceback": [
      "\u001b[1;31m---------------------------------------------------------------------------\u001b[0m",
      "\u001b[1;31mAttributeError\u001b[0m                            Traceback (most recent call last)",
      "\u001b[1;32m<ipython-input-117-826b4df20cda>\u001b[0m in \u001b[0;36m<module>\u001b[1;34m\u001b[0m\n\u001b[0;32m      1\u001b[0m \u001b[0mfig\u001b[0m\u001b[1;33m,\u001b[0m \u001b[0max\u001b[0m \u001b[1;33m=\u001b[0m \u001b[0mplt\u001b[0m\u001b[1;33m.\u001b[0m\u001b[0msubplots\u001b[0m\u001b[1;33m(\u001b[0m\u001b[0mnrows\u001b[0m \u001b[1;33m=\u001b[0m \u001b[1;36m2\u001b[0m\u001b[1;33m)\u001b[0m\u001b[1;33m\u001b[0m\u001b[1;33m\u001b[0m\u001b[0m\n\u001b[0;32m      2\u001b[0m \u001b[0msns\u001b[0m\u001b[1;33m.\u001b[0m\u001b[0mbarplot\u001b[0m\u001b[1;33m(\u001b[0m\u001b[0mdata\u001b[0m \u001b[1;33m=\u001b[0m \u001b[0mtop10\u001b[0m\u001b[1;33m,\u001b[0m \u001b[0my\u001b[0m \u001b[1;33m=\u001b[0m \u001b[1;34m'job'\u001b[0m\u001b[1;33m,\u001b[0m \u001b[0mx\u001b[0m \u001b[1;33m=\u001b[0m \u001b[1;34m'mean_income'\u001b[0m\u001b[1;33m,\u001b[0m \u001b[0max\u001b[0m \u001b[1;33m=\u001b[0m \u001b[0max\u001b[0m\u001b[1;33m[\u001b[0m\u001b[1;36m0\u001b[0m\u001b[1;33m]\u001b[0m\u001b[1;33m)\u001b[0m\u001b[1;33m\u001b[0m\u001b[1;33m\u001b[0m\u001b[0m\n\u001b[1;32m----> 3\u001b[1;33m \u001b[0msns\u001b[0m\u001b[1;33m.\u001b[0m\u001b[0mbarplot\u001b[0m\u001b[1;33m(\u001b[0m\u001b[0mdata\u001b[0m \u001b[1;33m=\u001b[0m \u001b[0mbottom10\u001b[0m\u001b[1;33m,\u001b[0m \u001b[0my\u001b[0m \u001b[1;33m=\u001b[0m \u001b[1;34m'job'\u001b[0m\u001b[1;33m,\u001b[0m \u001b[0mx\u001b[0m \u001b[1;33m=\u001b[0m \u001b[1;34m'mean_income'\u001b[0m\u001b[1;33m)\u001b[0m\u001b[0;31m\\\u001b[0m\u001b[1;33m\u001b[0m\u001b[1;33m\u001b[0m\u001b[0m\n\u001b[0m\u001b[0;32m      4\u001b[0m     \u001b[1;33m.\u001b[0m\u001b[0mset\u001b[0m\u001b[1;33m(\u001b[0m\u001b[0mxlim\u001b[0m\u001b[1;33m=\u001b[0m\u001b[1;33m(\u001b[0m\u001b[1;36m0\u001b[0m\u001b[1;33m,\u001b[0m\u001b[1;36m800\u001b[0m\u001b[1;33m)\u001b[0m\u001b[1;33m,\u001b[0m \u001b[0max\u001b[0m\u001b[1;33m=\u001b[0m\u001b[0max\u001b[0m\u001b[1;33m[\u001b[0m\u001b[1;36m1\u001b[0m\u001b[1;33m]\u001b[0m\u001b[1;33m)\u001b[0m\u001b[1;33m\u001b[0m\u001b[1;33m\u001b[0m\u001b[0m\n",
      "\u001b[1;32m~\\anaconda3\\lib\\site-packages\\matplotlib\\artist.py\u001b[0m in \u001b[0;36mset\u001b[1;34m(self, **kwargs)\u001b[0m\n\u001b[0;32m   1111\u001b[0m         \u001b[1;32mif\u001b[0m \u001b[0mmove_color_to_start\u001b[0m\u001b[1;33m:\u001b[0m\u001b[1;33m\u001b[0m\u001b[1;33m\u001b[0m\u001b[0m\n\u001b[0;32m   1112\u001b[0m             \u001b[0mkwargs\u001b[0m \u001b[1;33m=\u001b[0m \u001b[1;33m{\u001b[0m\u001b[1;34m\"color\"\u001b[0m\u001b[1;33m:\u001b[0m \u001b[0mkwargs\u001b[0m\u001b[1;33m.\u001b[0m\u001b[0mpop\u001b[0m\u001b[1;33m(\u001b[0m\u001b[1;34m\"color\"\u001b[0m\u001b[1;33m)\u001b[0m\u001b[1;33m,\u001b[0m \u001b[1;33m**\u001b[0m\u001b[0mkwargs\u001b[0m\u001b[1;33m}\u001b[0m\u001b[1;33m\u001b[0m\u001b[1;33m\u001b[0m\u001b[0m\n\u001b[1;32m-> 1113\u001b[1;33m         \u001b[1;32mreturn\u001b[0m \u001b[0mself\u001b[0m\u001b[1;33m.\u001b[0m\u001b[0mupdate\u001b[0m\u001b[1;33m(\u001b[0m\u001b[0mkwargs\u001b[0m\u001b[1;33m)\u001b[0m\u001b[1;33m\u001b[0m\u001b[1;33m\u001b[0m\u001b[0m\n\u001b[0m\u001b[0;32m   1114\u001b[0m \u001b[1;33m\u001b[0m\u001b[0m\n\u001b[0;32m   1115\u001b[0m     \u001b[1;32mdef\u001b[0m \u001b[0mfindobj\u001b[0m\u001b[1;33m(\u001b[0m\u001b[0mself\u001b[0m\u001b[1;33m,\u001b[0m \u001b[0mmatch\u001b[0m\u001b[1;33m=\u001b[0m\u001b[1;32mNone\u001b[0m\u001b[1;33m,\u001b[0m \u001b[0minclude_self\u001b[0m\u001b[1;33m=\u001b[0m\u001b[1;32mTrue\u001b[0m\u001b[1;33m)\u001b[0m\u001b[1;33m:\u001b[0m\u001b[1;33m\u001b[0m\u001b[1;33m\u001b[0m\u001b[0m\n",
      "\u001b[1;32m~\\anaconda3\\lib\\site-packages\\matplotlib\\artist.py\u001b[0m in \u001b[0;36mupdate\u001b[1;34m(self, props)\u001b[0m\n\u001b[0;32m    994\u001b[0m                     \u001b[0mfunc\u001b[0m \u001b[1;33m=\u001b[0m \u001b[0mgetattr\u001b[0m\u001b[1;33m(\u001b[0m\u001b[0mself\u001b[0m\u001b[1;33m,\u001b[0m \u001b[1;34mf\"set_{k}\"\u001b[0m\u001b[1;33m,\u001b[0m \u001b[1;32mNone\u001b[0m\u001b[1;33m)\u001b[0m\u001b[1;33m\u001b[0m\u001b[1;33m\u001b[0m\u001b[0m\n\u001b[0;32m    995\u001b[0m                     \u001b[1;32mif\u001b[0m \u001b[1;32mnot\u001b[0m \u001b[0mcallable\u001b[0m\u001b[1;33m(\u001b[0m\u001b[0mfunc\u001b[0m\u001b[1;33m)\u001b[0m\u001b[1;33m:\u001b[0m\u001b[1;33m\u001b[0m\u001b[1;33m\u001b[0m\u001b[0m\n\u001b[1;32m--> 996\u001b[1;33m                         raise AttributeError(f\"{type(self).__name__!r} object \"\n\u001b[0m\u001b[0;32m    997\u001b[0m                                              f\"has no property {k!r}\")\n\u001b[0;32m    998\u001b[0m                     \u001b[0mret\u001b[0m\u001b[1;33m.\u001b[0m\u001b[0mappend\u001b[0m\u001b[1;33m(\u001b[0m\u001b[0mfunc\u001b[0m\u001b[1;33m(\u001b[0m\u001b[0mv\u001b[0m\u001b[1;33m)\u001b[0m\u001b[1;33m)\u001b[0m\u001b[1;33m\u001b[0m\u001b[1;33m\u001b[0m\u001b[0m\n",
      "\u001b[1;31mAttributeError\u001b[0m: 'AxesSubplot' object has no property 'ax'"
     ]
    },
    {
     "data": {
      "image/png": "[encoded data removed]",
      "text/plain": [
       "<Figure size 432x288 with 2 Axes>"
      ]
     },
     "metadata": {
      "needs_background": "light"
     },
     "output_type": "display_data"
    }
   ],
   "source": [
    "fig, ax = plt.subplots(nrows = 2)\n",
    "sns.barplot(data = top10, y = 'job', x = 'mean_income', ax = ax[0])\n",
    "sns.barplot(data = bottom10, y = 'job', x = 'mean_income')\\\n",
    "    .set(xlim=(0,800), ax=ax[1])"
   ]
  },
  {
   "cell_type": "markdown",
   "id": "54e07e1b",
   "metadata": {
    "heading_collapsed": true
   },
   "source": [
    "### 성별 직업 빈도 -- 성별로 어떤 직업이 가장 많을까?"
   ]
  },
  {
   "cell_type": "markdown",
   "id": "3b81a647",
   "metadata": {
    "hidden": true
   },
   "source": [
    "#### 성별 직업 빈도 분석하기 "
   ]
  },
  {
   "cell_type": "markdown",
   "id": "cc4cc985",
   "metadata": {
    "hidden": true
   },
   "source": [
    "##### 성별 직업 빈도표 만들기"
   ]
  },
  {
   "cell_type": "code",
   "execution_count": 119,
   "id": "9b88d314",
   "metadata": {
    "ExecuteTime": {
     "end_time": "2022-11-04T09:00:51.737003Z",
     "start_time": "2022-11-04T09:00:51.639759Z"
    },
    "hidden": true
   },
   "outputs": [
    {
     "data": {
      "text/html": [
       "<div>\n",
       "<style scoped>\n",
       "    .dataframe tbody tr th:only-of-type {\n",
       "        vertical-align: middle;\n",
       "    }\n",
       "\n",
       "    .dataframe tbody tr th {\n",
       "        vertical-align: top;\n",
       "    }\n",
       "\n",
       "    .dataframe thead th {\n",
       "        text-align: right;\n",
       "    }\n",
       "</style>\n",
       "<table border=\"1\" class=\"dataframe\">\n",
       "  <thead>\n",
       "    <tr style=\"text-align: right;\">\n",
       "      <th></th>\n",
       "      <th>job</th>\n",
       "      <th>n</th>\n",
       "    </tr>\n",
       "  </thead>\n",
       "  <tbody>\n",
       "    <tr>\n",
       "      <th>107</th>\n",
       "      <td>작물 재배 종사자</td>\n",
       "      <td>486</td>\n",
       "    </tr>\n",
       "    <tr>\n",
       "      <th>104</th>\n",
       "      <td>자동차 운전원</td>\n",
       "      <td>230</td>\n",
       "    </tr>\n",
       "    <tr>\n",
       "      <th>11</th>\n",
       "      <td>경영 관련 사무원</td>\n",
       "      <td>216</td>\n",
       "    </tr>\n",
       "    <tr>\n",
       "      <th>46</th>\n",
       "      <td>매장 판매 종사자</td>\n",
       "      <td>142</td>\n",
       "    </tr>\n",
       "    <tr>\n",
       "      <th>89</th>\n",
       "      <td>영업 종사자</td>\n",
       "      <td>113</td>\n",
       "    </tr>\n",
       "    <tr>\n",
       "      <th>127</th>\n",
       "      <td>청소원 및 환경미화원</td>\n",
       "      <td>109</td>\n",
       "    </tr>\n",
       "    <tr>\n",
       "      <th>4</th>\n",
       "      <td>건설 및 광업 단순 종사자</td>\n",
       "      <td>96</td>\n",
       "    </tr>\n",
       "    <tr>\n",
       "      <th>120</th>\n",
       "      <td>제조 관련 단순 종사자</td>\n",
       "      <td>80</td>\n",
       "    </tr>\n",
       "    <tr>\n",
       "      <th>3</th>\n",
       "      <td>건물 관리원 및 검표원</td>\n",
       "      <td>79</td>\n",
       "    </tr>\n",
       "    <tr>\n",
       "      <th>141</th>\n",
       "      <td>행정 사무원</td>\n",
       "      <td>74</td>\n",
       "    </tr>\n",
       "  </tbody>\n",
       "</table>\n",
       "</div>"
      ],
      "text/plain": [
       "                job    n\n",
       "107       작물 재배 종사자  486\n",
       "104         자동차 운전원  230\n",
       "11        경영 관련 사무원  216\n",
       "46        매장 판매 종사자  142\n",
       "89           영업 종사자  113\n",
       "127     청소원 및 환경미화원  109\n",
       "4    건설 및 광업 단순 종사자   96\n",
       "120    제조 관련 단순 종사자   80\n",
       "3      건물 관리원 및 검표원   79\n",
       "141          행정 사무원   74"
      ]
     },
     "execution_count": 119,
     "metadata": {},
     "output_type": "execute_result"
    }
   ],
   "source": [
    "# 남성 직업 빈도 상위 10개 추출 \n",
    "job_male = welfare.dropna(subset = ['job'])\\\n",
    "                    .query('sex == \"male\"')\\\n",
    "                    .groupby('job',as_index = False)\\\n",
    "                    .agg(n = ('job','count'))\\\n",
    "                    .sort_values('n',ascending=False)\\\n",
    "                    .head(10)\n",
    "job_male"
   ]
  },
  {
   "cell_type": "code",
   "execution_count": 121,
   "id": "59738cdd",
   "metadata": {
    "ExecuteTime": {
     "end_time": "2022-11-04T09:34:51.150077Z",
     "start_time": "2022-11-04T09:34:51.058050Z"
    },
    "hidden": true
   },
   "outputs": [
    {
     "data": {
      "text/html": [
       "<div>\n",
       "<style scoped>\n",
       "    .dataframe tbody tr th:only-of-type {\n",
       "        vertical-align: middle;\n",
       "    }\n",
       "\n",
       "    .dataframe tbody tr th {\n",
       "        vertical-align: top;\n",
       "    }\n",
       "\n",
       "    .dataframe thead th {\n",
       "        text-align: right;\n",
       "    }\n",
       "</style>\n",
       "<table border=\"1\" class=\"dataframe\">\n",
       "  <thead>\n",
       "    <tr style=\"text-align: right;\">\n",
       "      <th></th>\n",
       "      <th>job</th>\n",
       "      <th>n</th>\n",
       "    </tr>\n",
       "  </thead>\n",
       "  <tbody>\n",
       "    <tr>\n",
       "      <th>83</th>\n",
       "      <td>작물 재배 종사자</td>\n",
       "      <td>476</td>\n",
       "    </tr>\n",
       "    <tr>\n",
       "      <th>91</th>\n",
       "      <td>청소원 및 환경미화원</td>\n",
       "      <td>282</td>\n",
       "    </tr>\n",
       "    <tr>\n",
       "      <th>33</th>\n",
       "      <td>매장 판매 종사자</td>\n",
       "      <td>212</td>\n",
       "    </tr>\n",
       "    <tr>\n",
       "      <th>106</th>\n",
       "      <td>회계 및 경리 사무원</td>\n",
       "      <td>163</td>\n",
       "    </tr>\n",
       "    <tr>\n",
       "      <th>31</th>\n",
       "      <td>돌봄 및 보건 서비스 종사자</td>\n",
       "      <td>155</td>\n",
       "    </tr>\n",
       "    <tr>\n",
       "      <th>87</th>\n",
       "      <td>제조 관련 단순 종사자</td>\n",
       "      <td>148</td>\n",
       "    </tr>\n",
       "    <tr>\n",
       "      <th>73</th>\n",
       "      <td>음식 관련 단순 종사자</td>\n",
       "      <td>126</td>\n",
       "    </tr>\n",
       "    <tr>\n",
       "      <th>58</th>\n",
       "      <td>식음료 서비스 종사자</td>\n",
       "      <td>117</td>\n",
       "    </tr>\n",
       "    <tr>\n",
       "      <th>88</th>\n",
       "      <td>조리사</td>\n",
       "      <td>114</td>\n",
       "    </tr>\n",
       "    <tr>\n",
       "      <th>24</th>\n",
       "      <td>기타 서비스 관련 단순 종사자</td>\n",
       "      <td>97</td>\n",
       "    </tr>\n",
       "  </tbody>\n",
       "</table>\n",
       "</div>"
      ],
      "text/plain": [
       "                  job    n\n",
       "83          작물 재배 종사자  476\n",
       "91        청소원 및 환경미화원  282\n",
       "33          매장 판매 종사자  212\n",
       "106       회계 및 경리 사무원  163\n",
       "31    돌봄 및 보건 서비스 종사자  155\n",
       "87       제조 관련 단순 종사자  148\n",
       "73       음식 관련 단순 종사자  126\n",
       "58        식음료 서비스 종사자  117\n",
       "88                조리사  114\n",
       "24   기타 서비스 관련 단순 종사자   97"
      ]
     },
     "execution_count": 121,
     "metadata": {},
     "output_type": "execute_result"
    }
   ],
   "source": [
    "# 여성 직업 빈도 상위 10개 추출 \n",
    "job_female = welfare.dropna(subset = ['job'])\\\n",
    "                    .query('sex == \"female\"')\\\n",
    "                    .groupby('job',as_index=False)\\\n",
    "                    .agg(n = ('job','count'))\\\n",
    "                    .sort_values('n',ascending = False)\\\n",
    "                    .head(10)\n",
    "\n",
    "job_female"
   ]
  },
  {
   "cell_type": "markdown",
   "id": "d7070e76",
   "metadata": {
    "hidden": true
   },
   "source": [
    "##### 그래프 만들기 "
   ]
  },
  {
   "cell_type": "markdown",
   "id": "c21ccbeb",
   "metadata": {
    "hidden": true
   },
   "source": [
    "앞서 만든 직업 빈도표를 이용해 그래프를 만듭니다. \n",
    "두 그래프를 비교하기 위해 x 축의 범위를 0~500으로 통일합니다."
   ]
  },
  {
   "cell_type": "code",
   "execution_count": 122,
   "id": "9a2222cd",
   "metadata": {
    "ExecuteTime": {
     "end_time": "2022-11-04T09:36:11.666892Z",
     "start_time": "2022-11-04T09:36:11.351344Z"
    },
    "hidden": true
   },
   "outputs": [
    {
     "data": {
      "text/plain": [
       "[(0.0, 500.0)]"
      ]
     },
     "execution_count": 122,
     "metadata": {},
     "output_type": "execute_result"
    },
    {
     "data": {
      "image/png": "[encoded data removed]",
      "text/plain": [
       "<Figure size 432x288 with 1 Axes>"
      ]
     },
     "metadata": {
      "needs_background": "light"
     },
     "output_type": "display_data"
    }
   ],
   "source": [
    "# 남성 직업 빈도 막대\n",
    "sns.barplot(data = job_male, y = 'job', x = 'n').set(xlim = (0,500))"
   ]
  },
  {
   "cell_type": "code",
   "execution_count": 123,
   "id": "6d37ff3c",
   "metadata": {
    "ExecuteTime": {
     "end_time": "2022-11-04T09:36:41.222391Z",
     "start_time": "2022-11-04T09:36:40.889207Z"
    },
    "hidden": true
   },
   "outputs": [
    {
     "data": {
      "text/plain": [
       "[(0.0, 500.0)]"
      ]
     },
     "execution_count": 123,
     "metadata": {},
     "output_type": "execute_result"
    },
    {
     "data": {
      "image/png": "[encoded data removed]",
      "text/plain": [
       "<Figure size 432x288 with 1 Axes>"
      ]
     },
     "metadata": {
      "needs_background": "light"
     },
     "output_type": "display_data"
    }
   ],
   "source": [
    "# 여성 직업 빈도 막대\n",
    "sns.barplot(data = job_female, y = 'job', x = 'n').set(xlim = (0,500))"
   ]
  },
  {
   "cell_type": "markdown",
   "id": "0804f41a",
   "metadata": {
    "ExecuteTime": {
     "end_time": "2022-11-04T09:43:53.930732Z",
     "start_time": "2022-11-04T09:43:53.914713Z"
    }
   },
   "source": [
    "### 종교 유무에 따른 이혼율 -- 종교가 있으면 이혼을 덜 할까?"
   ]
  },
  {
   "cell_type": "markdown",
   "id": "783af144",
   "metadata": {},
   "source": [
    "#### 종교 변수 검토 및 전처리하기 "
   ]
  },
  {
   "cell_type": "markdown",
   "id": "f8a7bd08",
   "metadata": {},
   "source": [
    "##### 변수 검토하기 "
   ]
  },
  {
   "cell_type": "code",
   "execution_count": 141,
   "id": "7374a482",
   "metadata": {
    "ExecuteTime": {
     "end_time": "2022-11-04T09:46:42.734760Z",
     "start_time": "2022-11-04T09:46:42.723748Z"
    }
   },
   "outputs": [
    {
     "data": {
      "text/plain": [
       "2.0    7815\n",
       "1.0    6603\n",
       "Name: religion, dtype: int64"
      ]
     },
     "execution_count": 141,
     "metadata": {},
     "output_type": "execute_result"
    }
   ],
   "source": [
    "welfare['religion'].value_counts()"
   ]
  },
  {
   "cell_type": "markdown",
   "id": "63d2e357",
   "metadata": {},
   "source": [
    "##### 전처리 \n",
    "* 1 : 종교 있음\n",
    "* 2 : 종교 없음 \n",
    "* 9 : 모름/무응답 "
   ]
  },
  {
   "cell_type": "code",
   "execution_count": 142,
   "id": "389b7c80",
   "metadata": {
    "ExecuteTime": {
     "end_time": "2022-11-04T09:47:58.062788Z",
     "start_time": "2022-11-04T09:47:57.987766Z"
    }
   },
   "outputs": [
    {
     "data": {
      "text/plain": [
       "no     7815\n",
       "yes    6603\n",
       "Name: religion, dtype: int64"
      ]
     },
     "execution_count": 142,
     "metadata": {},
     "output_type": "execute_result"
    }
   ],
   "source": [
    "# 종교 유무 이름 부여 \n",
    "welfare['religion'] = np.where(welfare['religion'] == 1, 'yes', 'no')\n",
    "\n",
    "# 빈도 구하기 \n",
    "welfare['religion'].value_counts()"
   ]
  },
  {
   "cell_type": "code",
   "execution_count": 143,
   "id": "1b1a73b9",
   "metadata": {
    "ExecuteTime": {
     "end_time": "2022-11-04T09:48:24.842950Z",
     "start_time": "2022-11-04T09:48:24.590878Z"
    }
   },
   "outputs": [
    {
     "data": {
      "text/plain": [
       "<AxesSubplot:xlabel='religion', ylabel='count'>"
      ]
     },
     "execution_count": 143,
     "metadata": {},
     "output_type": "execute_result"
    },
    {
     "data": {
      "image/png": "[encoded data removed]",
      "text/plain": [
       "<Figure size 432x288 with 1 Axes>"
      ]
     },
     "metadata": {
      "needs_background": "light"
     },
     "output_type": "display_data"
    }
   ],
   "source": [
    "# 막대그래프 만들기\n",
    "sns.countplot(data = welfare, x = 'religion')"
   ]
  },
  {
   "cell_type": "markdown",
   "id": "2c430b47",
   "metadata": {},
   "source": [
    "#### 혼인 상태 변수 검톤 및 전처리하기"
   ]
  },
  {
   "cell_type": "markdown",
   "id": "9e254d21",
   "metadata": {},
   "source": [
    "##### 변수 검토하기 "
   ]
  },
  {
   "cell_type": "code",
   "execution_count": 144,
   "id": "3f2193fb",
   "metadata": {
    "ExecuteTime": {
     "end_time": "2022-11-04T14:47:21.161192Z",
     "start_time": "2022-11-04T14:47:21.141200Z"
    }
   },
   "outputs": [
    {
     "data": {
      "text/plain": [
       "1.0    7190\n",
       "5.0    2357\n",
       "0.0    2121\n",
       "2.0    1954\n",
       "3.0     689\n",
       "4.0      78\n",
       "6.0      29\n",
       "Name: marriage_type, dtype: int64"
      ]
     },
     "execution_count": 144,
     "metadata": {},
     "output_type": "execute_result"
    }
   ],
   "source": [
    "welfare['marriage_type'].value_counts()"
   ]
  },
  {
   "cell_type": "markdown",
   "id": "a73d5623",
   "metadata": {},
   "source": [
    "##### 파생변수 만들기 - 이혼여부 \n",
    "\n",
    "* 0 : 비해당(18세 미만)\n",
    "* 1 : 유배우 \n",
    "* 2 : 사별 \n",
    "* 3 : 이혼\n",
    "* 4 : 별거\n",
    "* 5 : 미혼(18세 이상, 미혼모 포함)\n",
    "* 6 : 기타(사망 등)"
   ]
  },
  {
   "cell_type": "code",
   "execution_count": 145,
   "id": "d2d823f2",
   "metadata": {
    "ExecuteTime": {
     "end_time": "2022-11-04T14:49:54.242332Z",
     "start_time": "2022-11-04T14:49:54.231345Z"
    },
    "code_folding": []
   },
   "outputs": [],
   "source": [
    "# 이혼 여부 변수 만들기 \n",
    "welfare['marriage'] = np.where(welfare['marriage_type'] == 1, 'marriage',\n",
    "                        np.where(welfare['marriage_type'] == 3, 'divorce',\n",
    "                                                                'etc'))"
   ]
  },
  {
   "cell_type": "code",
   "execution_count": 146,
   "id": "8f9708a5",
   "metadata": {
    "ExecuteTime": {
     "end_time": "2022-11-04T14:50:43.601602Z",
     "start_time": "2022-11-04T14:50:43.575599Z"
    }
   },
   "outputs": [
    {
     "data": {
      "text/html": [
       "<div>\n",
       "<style scoped>\n",
       "    .dataframe tbody tr th:only-of-type {\n",
       "        vertical-align: middle;\n",
       "    }\n",
       "\n",
       "    .dataframe tbody tr th {\n",
       "        vertical-align: top;\n",
       "    }\n",
       "\n",
       "    .dataframe thead th {\n",
       "        text-align: right;\n",
       "    }\n",
       "</style>\n",
       "<table border=\"1\" class=\"dataframe\">\n",
       "  <thead>\n",
       "    <tr style=\"text-align: right;\">\n",
       "      <th></th>\n",
       "      <th>marriage</th>\n",
       "      <th>n</th>\n",
       "    </tr>\n",
       "  </thead>\n",
       "  <tbody>\n",
       "    <tr>\n",
       "      <th>0</th>\n",
       "      <td>divorce</td>\n",
       "      <td>689</td>\n",
       "    </tr>\n",
       "    <tr>\n",
       "      <th>1</th>\n",
       "      <td>etc</td>\n",
       "      <td>6539</td>\n",
       "    </tr>\n",
       "    <tr>\n",
       "      <th>2</th>\n",
       "      <td>marriage</td>\n",
       "      <td>7190</td>\n",
       "    </tr>\n",
       "  </tbody>\n",
       "</table>\n",
       "</div>"
      ],
      "text/plain": [
       "   marriage     n\n",
       "0   divorce   689\n",
       "1       etc  6539\n",
       "2  marriage  7190"
      ]
     },
     "execution_count": 146,
     "metadata": {},
     "output_type": "execute_result"
    }
   ],
   "source": [
    "# 이혼 여부별 빈도 \n",
    "n_divorce = welfare.groupby('marriage', as_index = False)\\\n",
    "                    .agg(n=('marriage','count'))\n",
    "\n",
    "n_divorce"
   ]
  },
  {
   "cell_type": "code",
   "execution_count": 147,
   "id": "63eb235e",
   "metadata": {
    "ExecuteTime": {
     "end_time": "2022-11-04T14:51:09.871284Z",
     "start_time": "2022-11-04T14:51:09.662223Z"
    }
   },
   "outputs": [
    {
     "data": {
      "text/plain": [
       "<AxesSubplot:xlabel='marriage', ylabel='n'>"
      ]
     },
     "execution_count": 147,
     "metadata": {},
     "output_type": "execute_result"
    },
    {
     "data": {
      "image/png": "[encoded data removed]",
      "text/plain": [
       "<Figure size 432x288 with 1 Axes>"
      ]
     },
     "metadata": {
      "needs_background": "light"
     },
     "output_type": "display_data"
    }
   ],
   "source": [
    "# 막대 그래프 만들기\n",
    "sns.barplot(data = n_divorce, x = 'marriage', y = 'n')"
   ]
  },
  {
   "cell_type": "markdown",
   "id": "dd8474db",
   "metadata": {},
   "source": [
    "어디에도 속하지 않은 'etc'로 분류된 사람이 6,539명입니다. 이들은 분석 대상이 아니기 때문이 이후 작업에서 제외하겠습니다."
   ]
  },
  {
   "cell_type": "code",
   "execution_count": null,
   "id": "70e75c6d",
   "metadata": {},
   "outputs": [],
   "source": []
  },
  {
   "cell_type": "code",
   "execution_count": null,
   "id": "5c1e3d09",
   "metadata": {},
   "outputs": [],
   "source": []
  },
  {
   "cell_type": "code",
   "execution_count": null,
   "id": "32671488",
   "metadata": {},
   "outputs": [],
   "source": []
  },
  {
   "cell_type": "code",
   "execution_count": null,
   "id": "93df199c",
   "metadata": {},
   "outputs": [],
   "source": []
  },
  {
   "cell_type": "code",
   "execution_count": null,
   "id": "e1a23142",
   "metadata": {},
   "outputs": [],
   "source": []
  },
  {
   "cell_type": "code",
   "execution_count": null,
   "id": "e7a3ee36",
   "metadata": {},
   "outputs": [],
   "source": []
  },
  {
   "cell_type": "code",
   "execution_count": null,
   "id": "a342600d",
   "metadata": {},
   "outputs": [],
   "source": []
  },
  {
   "cell_type": "code",
   "execution_count": null,
   "id": "a3fcab8f",
   "metadata": {},
   "outputs": [],
   "source": []
  },
  {
   "cell_type": "code",
   "execution_count": null,
   "id": "c5317a69",
   "metadata": {},
   "outputs": [],
   "source": []
  },
  {
   "cell_type": "code",
   "execution_count": null,
   "id": "bd50a58f",
   "metadata": {},
   "outputs": [],
   "source": []
  }
 ],
 "metadata": {
  "hide_input": false,
  "kernelspec": {
   "display_name": "Python 3",
   "language": "python",
   "name": "python3"
  },
  "language_info": {
   "codemirror_mode": {
    "name": "ipython",
    "version": 3
   },
   "file_extension": ".py",
   "mimetype": "text/x-python",
   "name": "python",
   "nbconvert_exporter": "python",
   "pygments_lexer": "ipython3",
   "version": "3.8.8"
  },
  "toc": {
   "base_numbering": 1,
   "nav_menu": {},
   "number_sections": true,
   "sideBar": true,
   "skip_h1_title": false,
   "title_cell": "Table of Contents",
   "title_sidebar": "Contents",
   "toc_cell": false,
   "toc_position": {},
   "toc_section_display": true,
   "toc_window_display": false
  },
  "varInspector": {
   "cols": {
    "lenName": 16,
    "lenType": 16,
    "lenVar": 40
   },
   "kernels_config": {
    "python": {
     "delete_cmd_postfix": "",
     "delete_cmd_prefix": "del ",
     "library": "var_list.py",
     "varRefreshCmd": "print(var_dic_list())"
    },
    "r": {
     "delete_cmd_postfix": ") ",
     "delete_cmd_prefix": "rm(",
     "library": "var_list.r",
     "varRefreshCmd": "cat(var_dic_list()) "
    }
   },
   "types_to_exclude": [
    "module",
    "function",
    "builtin_function_or_method",
    "instance",
    "_Feature"
   ],
   "window_display": false
  }
 },
 "nbformat": 4,
 "nbformat_minor": 5
}
